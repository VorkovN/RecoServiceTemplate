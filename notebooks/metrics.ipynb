{
 "cells": [
  {
   "cell_type": "code",
   "execution_count": 69,
   "id": "initial_id",
   "metadata": {
    "collapsed": true,
    "ExecuteTime": {
     "end_time": "2023-11-25T12:49:35.970121133Z",
     "start_time": "2023-11-25T12:49:35.927922294Z"
    }
   },
   "outputs": [],
   "source": [
    "import numpy as np\n",
    "import pandas as pd\n",
    "from tqdm.auto import tqdm\n",
    "\n",
    "from rectools.models import RandomModel, PopularModel\n",
    "from rectools.dataset import Interactions, Dataset\n",
    "from rectools.model_selection import TimeRangeSplitter\n",
    "from rectools import Columns\n",
    "from rectools.metrics import (\n",
    "    Precision,\n",
    "    Accuracy,\n",
    "    MAP,\n",
    "    MRR, \n",
    "    NDCG,\n",
    "    calc_metrics,\n",
    ")\n",
    "from rectools.models import ImplicitItemKNNWrapperModel"
   ]
  },
  {
   "cell_type": "raw",
   "source": [
    "Скачиваем датасет"
   ],
   "metadata": {
    "collapsed": false
   },
   "id": "237834018da127a0"
  },
  {
   "cell_type": "code",
   "execution_count": 70,
   "outputs": [],
   "source": [
    "import requests\n",
    "\n",
    "# url = 'https://github.com/irsafilo/KION_DATASET/raw/f69775be31fa5779907cf0a92ddedb70037fb5ae/data_original.zip'\n",
    "# req = requests.get(url, stream=True)\n",
    "# \n",
    "# with open('kion.zip', 'wb') as fd:\n",
    "#     total_size_in_bytes = int(req.headers.get('Content-Length', 0))\n",
    "#     progress_bar = tqdm(desc='kion dataset download', total=total_size_in_bytes, unit='iB', unit_scale=True)\n",
    "#     for chunk in req.iter_content(chunk_size=2 ** 20):\n",
    "#         progress_bar.update(len(chunk))\n",
    "#         fd.write(chunk)\n",
    "#         \n",
    "# import zipfile as zf\n",
    "# \n",
    "# files = zf.ZipFile('kion.zip','r')\n",
    "# files.extractall()\n",
    "# files.close()"
   ],
   "metadata": {
    "collapsed": false,
    "ExecuteTime": {
     "end_time": "2023-11-25T12:49:37.303409409Z",
     "start_time": "2023-11-25T12:49:37.299136647Z"
    }
   },
   "id": "fb4387af4e75d0d2"
  },
  {
   "cell_type": "raw",
   "source": [
    "Читаем датасеты"
   ],
   "metadata": {
    "collapsed": false
   },
   "id": "e25cd8417898e4e"
  },
  {
   "cell_type": "code",
   "execution_count": 99,
   "outputs": [],
   "source": [
    "interactions = pd.read_csv('data_original/interactions.csv')\n",
    "interactions.rename(\n",
    "    columns={\n",
    "        'last_watch_dt': Columns.Datetime,\n",
    "        'total_dur': Columns.Weight\n",
    "    }, \n",
    "    inplace=True) \n",
    "interactions = Interactions(interactions)\n",
    "\n",
    "selected_columns = ['item_id', 'title', 'release_year', 'genres', 'countries']\n",
    "item_data = pd.read_csv('data_original/items.csv', usecols=selected_columns)"
   ],
   "metadata": {
    "collapsed": false,
    "ExecuteTime": {
     "end_time": "2023-11-25T13:09:52.000464169Z",
     "start_time": "2023-11-25T13:09:50.010581623Z"
    }
   },
   "id": "c969d390e0485ca0"
  },
  {
   "cell_type": "raw",
   "source": [
    "Анализируем датасеты"
   ],
   "metadata": {
    "collapsed": false
   },
   "id": "3ab152691a104454"
  },
  {
   "cell_type": "code",
   "execution_count": 76,
   "outputs": [
    {
     "data": {
      "text/plain": "       item_id                 title  release_year  \\\n0        10711        Поговори с ней        2002.0   \n1         2508           Голые перцы        2014.0   \n2        10716      Тактическая сила        2011.0   \n3         7868                45 лет        2015.0   \n4        16268  Все решает мгновение        1978.0   \n...        ...                   ...           ...   \n15958     6443         Полярный круг        2018.0   \n15959     2367               Надежда        2020.0   \n15960    10632                Сговор        2017.0   \n15961     4538          Среди камней        2019.0   \n15962     3206                  Гоша        2019.0   \n\n                                                 genres            countries  \n0               драмы, зарубежные, детективы, мелодрамы              Испания  \n1                      зарубежные, приключения, комедии                  США  \n2      криминал, зарубежные, триллеры, боевики, комедии               Канада  \n3                          драмы, зарубежные, мелодрамы       Великобритания  \n4                    драмы, спорт, советские, мелодрамы                 СССР  \n...                                                 ...                  ...  \n15958                         драмы, триллеры, криминал  Финляндия, Германия  \n15959                                    драмы, боевики               Россия  \n15960                         драмы, триллеры, криминал               Россия  \n15961                            драмы, спорт, криминал               Россия  \n15962                                           комедии               Россия  \n\n[15963 rows x 5 columns]",
      "text/html": "<div>\n<style scoped>\n    .dataframe tbody tr th:only-of-type {\n        vertical-align: middle;\n    }\n\n    .dataframe tbody tr th {\n        vertical-align: top;\n    }\n\n    .dataframe thead th {\n        text-align: right;\n    }\n</style>\n<table border=\"1\" class=\"dataframe\">\n  <thead>\n    <tr style=\"text-align: right;\">\n      <th></th>\n      <th>item_id</th>\n      <th>title</th>\n      <th>release_year</th>\n      <th>genres</th>\n      <th>countries</th>\n    </tr>\n  </thead>\n  <tbody>\n    <tr>\n      <th>0</th>\n      <td>10711</td>\n      <td>Поговори с ней</td>\n      <td>2002.0</td>\n      <td>драмы, зарубежные, детективы, мелодрамы</td>\n      <td>Испания</td>\n    </tr>\n    <tr>\n      <th>1</th>\n      <td>2508</td>\n      <td>Голые перцы</td>\n      <td>2014.0</td>\n      <td>зарубежные, приключения, комедии</td>\n      <td>США</td>\n    </tr>\n    <tr>\n      <th>2</th>\n      <td>10716</td>\n      <td>Тактическая сила</td>\n      <td>2011.0</td>\n      <td>криминал, зарубежные, триллеры, боевики, комедии</td>\n      <td>Канада</td>\n    </tr>\n    <tr>\n      <th>3</th>\n      <td>7868</td>\n      <td>45 лет</td>\n      <td>2015.0</td>\n      <td>драмы, зарубежные, мелодрамы</td>\n      <td>Великобритания</td>\n    </tr>\n    <tr>\n      <th>4</th>\n      <td>16268</td>\n      <td>Все решает мгновение</td>\n      <td>1978.0</td>\n      <td>драмы, спорт, советские, мелодрамы</td>\n      <td>СССР</td>\n    </tr>\n    <tr>\n      <th>...</th>\n      <td>...</td>\n      <td>...</td>\n      <td>...</td>\n      <td>...</td>\n      <td>...</td>\n    </tr>\n    <tr>\n      <th>15958</th>\n      <td>6443</td>\n      <td>Полярный круг</td>\n      <td>2018.0</td>\n      <td>драмы, триллеры, криминал</td>\n      <td>Финляндия, Германия</td>\n    </tr>\n    <tr>\n      <th>15959</th>\n      <td>2367</td>\n      <td>Надежда</td>\n      <td>2020.0</td>\n      <td>драмы, боевики</td>\n      <td>Россия</td>\n    </tr>\n    <tr>\n      <th>15960</th>\n      <td>10632</td>\n      <td>Сговор</td>\n      <td>2017.0</td>\n      <td>драмы, триллеры, криминал</td>\n      <td>Россия</td>\n    </tr>\n    <tr>\n      <th>15961</th>\n      <td>4538</td>\n      <td>Среди камней</td>\n      <td>2019.0</td>\n      <td>драмы, спорт, криминал</td>\n      <td>Россия</td>\n    </tr>\n    <tr>\n      <th>15962</th>\n      <td>3206</td>\n      <td>Гоша</td>\n      <td>2019.0</td>\n      <td>комедии</td>\n      <td>Россия</td>\n    </tr>\n  </tbody>\n</table>\n<p>15963 rows × 5 columns</p>\n</div>"
     },
     "execution_count": 76,
     "metadata": {},
     "output_type": "execute_result"
    }
   ],
   "source": [
    "item_data"
   ],
   "metadata": {
    "collapsed": false,
    "ExecuteTime": {
     "end_time": "2023-11-25T12:54:42.451785353Z",
     "start_time": "2023-11-25T12:54:42.447349962Z"
    }
   },
   "id": "ee05981655336610"
  },
  {
   "cell_type": "code",
   "execution_count": 77,
   "outputs": [
    {
     "data": {
      "text/plain": "         user_id  item_id   datetime   weight  watched_pct\n0         176549     9506 2021-05-11   4250.0         72.0\n1         699317     1659 2021-05-29   8317.0        100.0\n2         656683     7107 2021-05-09     10.0          0.0\n3         864613     7638 2021-07-05  14483.0        100.0\n4         964868     9506 2021-04-30   6725.0        100.0\n5476246   648596    12225 2021-08-13     76.0          0.0\n5476247   546862     9673 2021-04-13   2308.0         49.0\n5476248   697262    15297 2021-08-20  18307.0         63.0\n5476249   384202    16197 2021-04-19   6203.0        100.0\n5476250   319709     4436 2021-08-15   3921.0         45.0",
      "text/html": "<div>\n<style scoped>\n    .dataframe tbody tr th:only-of-type {\n        vertical-align: middle;\n    }\n\n    .dataframe tbody tr th {\n        vertical-align: top;\n    }\n\n    .dataframe thead th {\n        text-align: right;\n    }\n</style>\n<table border=\"1\" class=\"dataframe\">\n  <thead>\n    <tr style=\"text-align: right;\">\n      <th></th>\n      <th>user_id</th>\n      <th>item_id</th>\n      <th>datetime</th>\n      <th>weight</th>\n      <th>watched_pct</th>\n    </tr>\n  </thead>\n  <tbody>\n    <tr>\n      <th>0</th>\n      <td>176549</td>\n      <td>9506</td>\n      <td>2021-05-11</td>\n      <td>4250.0</td>\n      <td>72.0</td>\n    </tr>\n    <tr>\n      <th>1</th>\n      <td>699317</td>\n      <td>1659</td>\n      <td>2021-05-29</td>\n      <td>8317.0</td>\n      <td>100.0</td>\n    </tr>\n    <tr>\n      <th>2</th>\n      <td>656683</td>\n      <td>7107</td>\n      <td>2021-05-09</td>\n      <td>10.0</td>\n      <td>0.0</td>\n    </tr>\n    <tr>\n      <th>3</th>\n      <td>864613</td>\n      <td>7638</td>\n      <td>2021-07-05</td>\n      <td>14483.0</td>\n      <td>100.0</td>\n    </tr>\n    <tr>\n      <th>4</th>\n      <td>964868</td>\n      <td>9506</td>\n      <td>2021-04-30</td>\n      <td>6725.0</td>\n      <td>100.0</td>\n    </tr>\n    <tr>\n      <th>5476246</th>\n      <td>648596</td>\n      <td>12225</td>\n      <td>2021-08-13</td>\n      <td>76.0</td>\n      <td>0.0</td>\n    </tr>\n    <tr>\n      <th>5476247</th>\n      <td>546862</td>\n      <td>9673</td>\n      <td>2021-04-13</td>\n      <td>2308.0</td>\n      <td>49.0</td>\n    </tr>\n    <tr>\n      <th>5476248</th>\n      <td>697262</td>\n      <td>15297</td>\n      <td>2021-08-20</td>\n      <td>18307.0</td>\n      <td>63.0</td>\n    </tr>\n    <tr>\n      <th>5476249</th>\n      <td>384202</td>\n      <td>16197</td>\n      <td>2021-04-19</td>\n      <td>6203.0</td>\n      <td>100.0</td>\n    </tr>\n    <tr>\n      <th>5476250</th>\n      <td>319709</td>\n      <td>4436</td>\n      <td>2021-08-15</td>\n      <td>3921.0</td>\n      <td>45.0</td>\n    </tr>\n  </tbody>\n</table>\n</div>"
     },
     "execution_count": 77,
     "metadata": {},
     "output_type": "execute_result"
    }
   ],
   "source": [
    "pd.concat([interactions.df.head(), interactions.df.tail()])"
   ],
   "metadata": {
    "collapsed": false,
    "ExecuteTime": {
     "end_time": "2023-11-25T12:54:56.149035047Z",
     "start_time": "2023-11-25T12:54:56.144426046Z"
    }
   },
   "id": "f80367f95ac06f65"
  },
  {
   "cell_type": "code",
   "execution_count": 78,
   "outputs": [
    {
     "name": "stdout",
     "output_type": "stream",
     "text": [
      "<class 'pandas.core.frame.DataFrame'>\n",
      "RangeIndex: 5476251 entries, 0 to 5476250\n",
      "Data columns (total 5 columns):\n",
      " #   Column       Dtype         \n",
      "---  ------       -----         \n",
      " 0   user_id      int64         \n",
      " 1   item_id      int64         \n",
      " 2   datetime     datetime64[ns]\n",
      " 3   weight       float64       \n",
      " 4   watched_pct  float64       \n",
      "dtypes: datetime64[ns](1), float64(2), int64(2)\n",
      "memory usage: 208.9 MB\n"
     ]
    }
   ],
   "source": [
    "interactions.df.info(memory_usage='deep')"
   ],
   "metadata": {
    "collapsed": false,
    "ExecuteTime": {
     "end_time": "2023-11-25T12:54:58.025083385Z",
     "start_time": "2023-11-25T12:54:58.018589848Z"
    }
   },
   "id": "bc6729f9403ca778"
  },
  {
   "cell_type": "raw",
   "source": [
    "1.1 Словарь с инициализированными моделями"
   ],
   "metadata": {
    "collapsed": false
   },
   "id": "859e0ba190c14772"
  },
  {
   "cell_type": "code",
   "execution_count": 79,
   "outputs": [],
   "source": [
    "models = {\n",
    "    \"random\": RandomModel(random_state=42),\n",
    "    \"popular\": PopularModel(),\n",
    "    \"most_raited\": PopularModel(popularity=\"sum_weight\")\n",
    "}"
   ],
   "metadata": {
    "collapsed": false,
    "ExecuteTime": {
     "end_time": "2023-11-25T12:55:00.897135585Z",
     "start_time": "2023-11-25T12:55:00.881754614Z"
    }
   },
   "id": "8e939d51fd70eb0d"
  },
  {
   "cell_type": "raw",
   "source": [
    "1.2 Словарь с инициализированными метриками"
   ],
   "metadata": {
    "collapsed": false
   },
   "id": "9af2e81016a75f0e"
  },
  {
   "cell_type": "code",
   "execution_count": 84,
   "outputs": [],
   "source": [
    "metrics = {\n",
    "    \"precision@10\": Precision(k=10),\n",
    "    \"accuracy@10\": Accuracy(k=10),\n",
    "    \"map@10\": MAP(k=10),\n",
    "    \"mrr@10\": MRR(k=10),\n",
    "    \"ndcg@10\": NDCG(k=10),\n",
    "    \"precision@5\": Precision(k=5),\n",
    "    \"accuracy@5\": Accuracy(k=5),\n",
    "    \"map@5\": MAP(k=5),\n",
    "    \"mrr@5\": MRR(k=5),\n",
    "    \"ndcg@5\": NDCG(k=5),\n",
    "    \"precision@1\": Precision(k=1),\n",
    "    \"accuracy@1\": Accuracy(k=1),\n",
    "    \"map@1\": MAP(k=1),\n",
    "    \"mrr@1\": MRR(k=1),\n",
    "    \"ndcg@1\": NDCG(k=1),\n",
    "}"
   ],
   "metadata": {
    "collapsed": false,
    "ExecuteTime": {
     "end_time": "2023-11-25T13:00:35.098140772Z",
     "start_time": "2023-11-25T13:00:35.050600676Z"
    }
   },
   "id": "5082608c85e92594"
  },
  {
   "cell_type": "raw",
   "source": [
    "1.3 Инициализированный Splitter для кросс-валидации"
   ],
   "metadata": {
    "collapsed": false
   },
   "id": "11a5d91fe456b25f"
  },
  {
   "cell_type": "code",
   "execution_count": 85,
   "outputs": [],
   "source": [
    "n_splits = 3\n",
    "\n",
    "splitter = TimeRangeSplitter(\n",
    "    test_size=\"14D\",\n",
    "    n_splits=n_splits,\n",
    "    filter_already_seen=True,\n",
    "    filter_cold_items=True,\n",
    "    filter_cold_users=True,\n",
    ")"
   ],
   "metadata": {
    "collapsed": false,
    "ExecuteTime": {
     "end_time": "2023-11-25T13:00:39.784271419Z",
     "start_time": "2023-11-25T13:00:39.769378905Z"
    }
   },
   "id": "16337d7ea9a6582d"
  },
  {
   "cell_type": "markdown",
   "source": [
    "Расчёт метрик:"
   ],
   "metadata": {
    "collapsed": false
   },
   "id": "a3badc32244a7e32"
  },
  {
   "cell_type": "code",
   "execution_count": 86,
   "outputs": [],
   "source": [
    "def get_metrics(models, metrics, splitter, k):\n",
    "    \n",
    "    splitter.get_test_fold_borders(interactions)\n",
    "    \n",
    "    results = []\n",
    "    \n",
    "    fold_iterator = splitter.split(interactions, collect_fold_stats=True)\n",
    "    \n",
    "    for train_ids, test_ids, fold_info in tqdm((fold_iterator), total=splitter.n_splits):\n",
    "        print(f\"\\n==================== Fold {fold_info['i_split']}\")\n",
    "        print(fold_info)\n",
    "    \n",
    "        df_train = interactions.df.iloc[train_ids]\n",
    "        dataset = Dataset.construct(df_train)\n",
    "    \n",
    "        df_test = interactions.df.iloc[test_ids][Columns.UserItem]\n",
    "        test_users = np.unique(df_test[Columns.User])\n",
    "    \n",
    "        catalog = df_train[Columns.Item].unique()\n",
    "    \n",
    "        for model_name, model in models.items():\n",
    "            \n",
    "            model.fit(dataset)\n",
    "            recos = model.recommend(\n",
    "                users=test_users,\n",
    "                dataset=dataset,\n",
    "                k=k,\n",
    "                filter_viewed=True,\n",
    "            )\n",
    "            \n",
    "            metric_values = calc_metrics(\n",
    "                metrics,\n",
    "                reco=recos,\n",
    "                interactions=df_test,\n",
    "                prev_interactions=df_train,\n",
    "                catalog=catalog,\n",
    "            )\n",
    "            \n",
    "            res = {\"fold\": fold_info[\"i_split\"], \"model\": model_name}\n",
    "            res.update(metric_values)\n",
    "            results.append(res)\n",
    "            \n",
    "    return results"
   ],
   "metadata": {
    "collapsed": false,
    "ExecuteTime": {
     "end_time": "2023-11-25T13:00:42.009267049Z",
     "start_time": "2023-11-25T13:00:41.964201717Z"
    }
   },
   "id": "994092239f4995c6"
  },
  {
   "cell_type": "raw",
   "source": [
    "Визуальный анализ"
   ],
   "metadata": {
    "collapsed": false
   },
   "id": "a93719c74d05c6f6"
  },
  {
   "cell_type": "code",
   "execution_count": 125,
   "outputs": [],
   "source": [
    "def visual_analys(model, interactions, user_ids, item_data):\n",
    "    \n",
    "    dataset = Dataset.construct(interactions.df)\n",
    "\n",
    "    recos = model.recommend(\n",
    "    users=user_ids,\n",
    "    dataset=dataset,\n",
    "    k=10,\n",
    "    filter_viewed=True,\n",
    "    )\n",
    "    \n",
    "    recos = pd.merge(recos, item_data, on='item_id', how='left')\n",
    "    \n",
    "    print(recos.to_string(index=False, max_colwidth=40))"
   ],
   "metadata": {
    "collapsed": false,
    "ExecuteTime": {
     "end_time": "2023-11-25T13:21:09.331396430Z",
     "start_time": "2023-11-25T13:21:09.312531263Z"
    }
   },
   "id": "b27435d3591455e6"
  },
  {
   "cell_type": "code",
   "execution_count": 88,
   "outputs": [
    {
     "data": {
      "text/plain": "  0%|          | 0/3 [00:00<?, ?it/s]",
      "application/vnd.jupyter.widget-view+json": {
       "version_major": 2,
       "version_minor": 0,
       "model_id": "00acee171e8046c88b214a38d08c0813"
      }
     },
     "metadata": {},
     "output_type": "display_data"
    },
    {
     "name": "stdout",
     "output_type": "stream",
     "text": [
      "\n",
      "==================== Fold 0\n",
      "{'i_split': 0, 'start': Timestamp('2021-07-12 00:00:00', freq='14D'), 'end': Timestamp('2021-07-26 00:00:00', freq='14D'), 'train': 3239125, 'train_users': 646423, 'train_items': 14730, 'test': 398993, 'test_users': 122488, 'test_items': 7394}\n",
      "\n",
      "==================== Fold 1\n",
      "{'i_split': 1, 'start': Timestamp('2021-07-26 00:00:00', freq='14D'), 'end': Timestamp('2021-08-09 00:00:00', freq='14D'), 'train': 3892558, 'train_users': 742256, 'train_items': 15085, 'test': 458757, 'test_users': 135624, 'test_items': 7711}\n",
      "\n",
      "==================== Fold 2\n",
      "{'i_split': 2, 'start': Timestamp('2021-08-09 00:00:00', freq='14D'), 'end': Timestamp('2021-08-23 00:00:00', freq='14D'), 'train': 4649162, 'train_users': 850489, 'train_items': 15415, 'test': 521381, 'test_users': 151629, 'test_items': 7705}\n"
     ]
    },
    {
     "data": {
      "text/plain": "[{'fold': 0,\n  'model': 'random',\n  'precision@10': 0.0002122656913330285,\n  'accuracy@10': 0.9991002607268723,\n  'precision@5': 0.00019757037424074193,\n  'accuracy@5': 0.9994395499590455,\n  'precision@1': 0.00022042975638429888,\n  'accuracy@1': 0.9997110004108969,\n  'ndcg@10': 0.0002118380318504049,\n  'ndcg@5': 0.0002033616926661086,\n  'ndcg@1': 0.00022042975638429888,\n  'mrr@10': 0.0006196298594329424,\n  'mrr@5': 0.00047324363747197,\n  'mrr@1': 0.00022042975638429888,\n  'map@10': 0.00020768850263758139,\n  'map@5': 0.00015775375404269358,\n  'map@1': 8.110722007185333e-05},\n {'fold': 0,\n  'model': 'popular',\n  'precision@10': 0.051507086408464506,\n  'accuracy@10': 0.999169907462401,\n  'precision@5': 0.07838808699627721,\n  'accuracy@5': 0.9994926324550552,\n  'precision@1': 0.10307948533733917,\n  'accuracy@1': 0.999724966338335,\n  'ndcg@10': 0.06400819383624766,\n  'ndcg@5': 0.085028346947154,\n  'ndcg@1': 0.10307948533733917,\n  'mrr@10': 0.19365305820693288,\n  'mrr@5': 0.18407082054296472,\n  'mrr@1': 0.10307948533733917,\n  'map@10': 0.11326444476593032,\n  'map@5': 0.10413759543062957,\n  'map@1': 0.05142055194528405},\n {'fold': 0,\n  'model': 'most_raited',\n  'precision@10': 0.046551498922343414,\n  'accuracy@10': 0.9991631788982652,\n  'precision@5': 0.06861733394291687,\n  'accuracy@5': 0.9994859992214817,\n  'precision@1': 0.10530827509633597,\n  'accuracy@1': 0.9997252689574468,\n  'ndcg@10': 0.058867821694556836,\n  'ndcg@5': 0.07722382049611477,\n  'ndcg@1': 0.10530827509633597,\n  'mrr@10': 0.18369621954544557,\n  'mrr@5': 0.17288360220320903,\n  'mrr@1': 0.10530827509633597,\n  'map@10': 0.10596850944508993,\n  'map@5': 0.09712919280707863,\n  'map@1': 0.052669836102452544},\n {'fold': 1,\n  'model': 'random',\n  'precision@10': 0.0002248864507756739,\n  'accuracy@10': 0.9991131543053547,\n  'precision@5': 0.0002433197664130243,\n  'accuracy@5': 0.9994444725333061,\n  'precision@1': 0.0002949330501976051,\n  'accuracy@1': 0.9997095144072496,\n  'ndcg@10': 0.0002371253293601586,\n  'ndcg@5': 0.0002536101280740027,\n  'ndcg@1': 0.0002949330501976051,\n  'mrr@10': 0.0007286104486821175,\n  'mrr@5': 0.0005950274287736684,\n  'mrr@1': 0.0002949330501976051,\n  'map@10': 0.00020603416730503418,\n  'map@5': 0.00016405825874280124,\n  'map@1': 7.417421756336752e-05},\n {'fold': 1,\n  'model': 'popular',\n  'precision@10': 0.04492788886922668,\n  'accuracy@10': 0.9991724224557277,\n  'precision@5': 0.06827257712499264,\n  'accuracy@5': 0.9994895698202528,\n  'precision@1': 0.09947354450539728,\n  'accuracy@1': 0.9997226637093982,\n  'ndcg@10': 0.05667444745652203,\n  'ndcg@5': 0.07535247891755921,\n  'ndcg@1': 0.09947354450539728,\n  'mrr@10': 0.17524007784359935,\n  'mrr@5': 0.16678033877976364,\n  'mrr@1': 0.09947354450539728,\n  'map@10': 0.09635200183331795,\n  'map@5': 0.08899487624297873,\n  'map@1': 0.048336218571435906},\n {'fold': 1,\n  'model': 'most_raited',\n  'precision@10': 0.040429422521087714,\n  'accuracy@10': 0.9991664582974933,\n  'precision@5': 0.051343420043650105,\n  'accuracy@5': 0.999478347309758,\n  'precision@1': 0.0991638648026898,\n  'accuracy@1': 0.999722622651433,\n  'ndcg@10': 0.050791484705590924,\n  'ndcg@5': 0.061925627684772215,\n  'ndcg@1': 0.0991638648026898,\n  'mrr@10': 0.1610917268704607,\n  'mrr@5': 0.14722062466820032,\n  'mrr@1': 0.0991638648026898,\n  'map@10': 0.08744441983820507,\n  'map@5': 0.07742139735804936,\n  'map@1': 0.04858011831550191},\n {'fold': 2,\n  'model': 'random',\n  'precision@10': 0.000227529034683339,\n  'accuracy@10': 0.999128512467908,\n  'precision@5': 0.0002334645747185565,\n  'accuracy@5': 0.9994527281062505,\n  'precision@1': 0.0002242315124415514,\n  'accuracy@1': 0.9997120932581989,\n  'ndcg@10': 0.0002260823272009614,\n  'ndcg@5': 0.00022835793824942533,\n  'ndcg@1': 0.0002242315124415514,\n  'mrr@10': 0.0006577326844228292,\n  'mrr@5': 0.0005141936349027341,\n  'mrr@1': 0.0002242315124415514,\n  'map@10': 0.00018236135146640903,\n  'map@5': 0.00014040193374378814,\n  'map@1': 5.418761166339882e-05},\n {'fold': 2,\n  'model': 'popular',\n  'precision@10': 0.04145776863264942,\n  'accuracy@10': 0.9991820061294041,\n  'precision@5': 0.06435576307962197,\n  'accuracy@5': 0.9994943254455337,\n  'precision@1': 0.08907926583964809,\n  'accuracy@1': 0.9997236216440991,\n  'ndcg@10': 0.05209116513886224,\n  'ndcg@5': 0.07010600138865315,\n  'ndcg@1': 0.08907926583964809,\n  'mrr@10': 0.16126601876112195,\n  'mrr@5': 0.1539651605783414,\n  'mrr@1': 0.08907926583964809,\n  'map@10': 0.08602920619615015,\n  'map@5': 0.07990621621633891,\n  'map@1': 0.04180046651766873},\n {'fold': 2,\n  'model': 'most_raited',\n  'precision@10': 0.03790106114265741,\n  'accuracy@10': 0.9991773915235138,\n  'precision@5': 0.04915946158056837,\n  'accuracy@5': 0.9994844673193588,\n  'precision@1': 0.08993662162251284,\n  'accuracy@1': 0.9997237328806589,\n  'ndcg@10': 0.047483431719176496,\n  'ndcg@5': 0.05842020822288894,\n  'ndcg@1': 0.08993662162251284,\n  'mrr@10': 0.15044685351997933,\n  'mrr@5': 0.13755020477613117,\n  'mrr@1': 0.08993662162251284,\n  'map@10': 0.0795020721009161,\n  'map@5': 0.07042854118754276,\n  'map@1': 0.04251056785793777}]"
     },
     "execution_count": 88,
     "metadata": {},
     "output_type": "execute_result"
    }
   ],
   "source": [
    "results = get_metrics(models, metrics, splitter, k=10)\n",
    "results"
   ],
   "metadata": {
    "collapsed": false,
    "ExecuteTime": {
     "end_time": "2023-11-25T13:01:57.046954497Z",
     "start_time": "2023-11-25T13:01:11.091781628Z"
    }
   },
   "id": "ad03c149c6784d5b"
  },
  {
   "cell_type": "code",
   "execution_count": 127,
   "outputs": [
    {
     "name": "stdout",
     "output_type": "stream",
     "text": [
      "\n",
      "model \"random\":\n",
      " user_id  item_id  score  rank                                    title  release_year                                   genres                          countries\n",
      "  666262     7419     10     1                              Ода радости        2019.0                                  комедии                                США\n",
      "  666262     9109      9     2                          Последняя битва        2017.0                           драмы, военные                     Великобритания\n",
      "  666262    13917      8     3                              Преисподняя        2016.0      драмы, детективы, триллеры, вестерн                         Нидерланды\n",
      "  666262    13332      7     4                                Лихорадка        2003.0                                    ужасы                                США\n",
      "  666262     1331      6     5                                 Вечность        2016.0                                    драмы                   Франция, Бельгия\n",
      "  666262    15448      5     6                                    Леший        1997.0            триллеры, криминал, детективы                                США\n",
      "  666262     1123      4     7                                   Богема        2005.0                драмы, мюзиклы, мелодрамы                                США\n",
      "  666262     9933      3     8                                   Шедевр        2018.0                           драмы, комедии                 Аргентина, Испания\n",
      "  666262     3287      2     9 Единоборства для детей (3-6 лет) Школ...        2020.0          единоборства, фитнес, для детей                             Россия\n",
      "  666262     8478      1    10          Американский пирог: Все в сборе        2012.0                                  комедии                                США\n",
      "  672861     1483     10     1                        Джек: Путь смерти        2009.0  боевики, зарубежные, триллеры, криминал                     Великобритания\n",
      "  672861    11062      9     2                                   Фиаско        2015.0                                  комедии                                США\n",
      "  672861    12863      8     3                   Песня Любви (субтитры)        2020.0                         драмы, мелодрамы                        США, Канада\n",
      "  672861    15487      7     4                                   Палата        2010.0              зарубежные, триллеры, ужасы                                США\n",
      "  672861     1818      6     5        Перспектива (с тифлокомментарием)        2018.0  фантастика, драмы, зарубежные, триллеры                        Канада, США\n",
      "  672861    14809      5     6                                 Красотка        1990.0                       мелодрамы, комедии                                США\n",
      "  672861     8207      4     7      Смешарики.Легенда о золотом драконе        2015.0         мультфильм, приключения, комедии                             Россия\n",
      "  672861     8799      3     8                    Тихоокеанский рубеж 2        2018.0         боевики, фантастика, приключения Великобритания, Китай, Япония, США\n",
      "  672861    14725      2     9                            Расти-механик        2016.0                      семейное, для детей                             Канада\n",
      "  672861    11960      1    10               Учим математику с Ам Нямом        2021.0    русские, для детей, развитие, сериалы                             Россия\n",
      "  955527    11405     10     1 Леопард, великолепная способность к а...        2020.0                           документальное                            Франция\n",
      "  955527    14305      9     2                        Творение Господне        2005.0             драмы, биография, фильмы hbo                                США\n",
      "  955527     7720      8     3                        Мусульмане как мы        2019.0                           документальное                     Великобритания\n",
      "  955527     1212      7     4                    Проклятие ведьмы снов        2018.0 зарубежные, фантастика, триллеры, бое...                                США\n",
      "  955527     8485      6     5                 Искусство путешествовать        2008.0                  зарубежные, приключения                                США\n",
      "  955527    12234      5     6                                  Мозаика        2018.0                         драмы, детективы                                США\n",
      "  955527    12862      4     7                            Мороз по коже        2016.0                                мелодрамы                             Россия\n",
      "  955527     6604      3     8                          Класс коррекции        2014.0                                    драмы                             Россия\n",
      "  955527     5291      2     9                         Договор молчания        2020.0                      триллеры, детективы                        Канада, США\n",
      "  955527     6538      1    10                       Третья волна зомби        2018.0     фантастика, зарубежные, драмы, ужасы                           Ирландия\n",
      "\n",
      "model \"popular\":\n",
      " user_id  item_id    score  rank                   title  release_year                                   genres           countries\n",
      "  666262    15297 175949.0     1         Клиника счастья        2021.0                         драмы, мелодрамы              Россия\n",
      "  666262    10152 168500.0     2                  Гамбит        2012.0                        криминал, комедии                 США\n",
      "  666262     3043 108966.0     3      Княжна из хрущёвки        2012.0                       мелодрамы, комедии              Россия\n",
      "  666262     3190 107640.0     4 Ещё одна из рода Болейн        2008.0                         драмы, мелодрамы Великобритания, США\n",
      "  666262    15423  80649.0     5       Легенда о Нараяме        1983.0                                    драмы              Япония\n",
      "  666262     3017  64809.0     6                Затмение        2017.0                     фэнтези, приключения              Россия\n",
      "  666262     2293  63183.0     7           Шалом, папик!        2020.0                                  комедии         США, Канада\n",
      "  666262     9851  51416.0     8             Коматозники        2017.0 детективы, драмы, триллеры, фантастик...                 США\n",
      "  666262    14817  40663.0     9      Больше, чем друзья        2020.0                                мелодрамы    Республика Корея\n",
      "  666262      657  37847.0    10                Защитник        2015.0               драмы, триллеры, детективы                 США\n",
      "  672861    15297 175949.0     1         Клиника счастья        2021.0                         драмы, мелодрамы              Россия\n",
      "  672861    10152 168500.0     2                  Гамбит        2012.0                        криминал, комедии                 США\n",
      "  672861     3043 108966.0     3      Княжна из хрущёвки        2012.0                       мелодрамы, комедии              Россия\n",
      "  672861     3190 107640.0     4 Ещё одна из рода Болейн        2008.0                         драмы, мелодрамы Великобритания, США\n",
      "  672861    15423  80649.0     5       Легенда о Нараяме        1983.0                                    драмы              Япония\n",
      "  672861     3017  64809.0     6                Затмение        2017.0                     фэнтези, приключения              Россия\n",
      "  672861     2293  63183.0     7           Шалом, папик!        2020.0                                  комедии         США, Канада\n",
      "  672861     9851  51416.0     8             Коматозники        2017.0 детективы, драмы, триллеры, фантастик...                 США\n",
      "  672861    14817  40663.0     9      Больше, чем друзья        2020.0                                мелодрамы    Республика Корея\n",
      "  672861      657  37847.0    10                Защитник        2015.0               драмы, триллеры, детективы                 США\n",
      "  955527    15297 175949.0     1         Клиника счастья        2021.0                         драмы, мелодрамы              Россия\n",
      "  955527    10152 168500.0     2                  Гамбит        2012.0                        криминал, комедии                 США\n",
      "  955527     3043 108966.0     3      Княжна из хрущёвки        2012.0                       мелодрамы, комедии              Россия\n",
      "  955527     3190 107640.0     4 Ещё одна из рода Болейн        2008.0                         драмы, мелодрамы Великобритания, США\n",
      "  955527    15423  80649.0     5       Легенда о Нараяме        1983.0                                    драмы              Япония\n",
      "  955527     3017  64809.0     6                Затмение        2017.0                     фэнтези, приключения              Россия\n",
      "  955527     2293  63183.0     7           Шалом, папик!        2020.0                                  комедии         США, Канада\n",
      "  955527     9851  51416.0     8             Коматозники        2017.0 детективы, драмы, триллеры, фантастик...                 США\n",
      "  955527    14817  40663.0     9      Больше, чем друзья        2020.0                                мелодрамы    Республика Корея\n",
      "  955527      657  37847.0    10                Защитник        2015.0               драмы, триллеры, детективы                 США\n",
      "\n",
      "model \"most_raited\":\n",
      " user_id  item_id        score  rank                   title  release_year                                   genres           countries\n",
      "  666262    15297 5027084885.0     1         Клиника счастья        2021.0                         драмы, мелодрамы              Россия\n",
      "  666262    10152 4050422671.0     2                  Гамбит        2012.0                        криминал, комедии                 США\n",
      "  666262    15423  886968193.0     3       Легенда о Нараяме        1983.0                                    драмы              Япония\n",
      "  666262     3043  753676133.0     4      Княжна из хрущёвки        2012.0                       мелодрамы, комедии              Россия\n",
      "  666262      512  734390883.0     5          Рядовой Чээрин        2020.0                                  военные              Россия\n",
      "  666262     3182  730548401.0     6  Ральф против Интернета        2018.0 мультфильм, приключения, фантастика, ...                 США\n",
      "  666262     3190  669721604.0     7 Ещё одна из рода Болейн        2008.0                         драмы, мелодрамы Великобритания, США\n",
      "  666262     1819  591557273.0     8    Непосредственно Каха        2020.0                                  комедии              Россия\n",
      "  666262     8437  475823068.0     9          Капитан Марвел        2019.0                      боевики, фантастика      США, Австралия\n",
      "  666262     3017  392296433.0    10                Затмение        2017.0                     фэнтези, приключения              Россия\n",
      "  672861    15297 5027084885.0     1         Клиника счастья        2021.0                         драмы, мелодрамы              Россия\n",
      "  672861    10152 4050422671.0     2                  Гамбит        2012.0                        криминал, комедии                 США\n",
      "  672861    15423  886968193.0     3       Легенда о Нараяме        1983.0                                    драмы              Япония\n",
      "  672861     3043  753676133.0     4      Княжна из хрущёвки        2012.0                       мелодрамы, комедии              Россия\n",
      "  672861      512  734390883.0     5          Рядовой Чээрин        2020.0                                  военные              Россия\n",
      "  672861     3182  730548401.0     6  Ральф против Интернета        2018.0 мультфильм, приключения, фантастика, ...                 США\n",
      "  672861     3190  669721604.0     7 Ещё одна из рода Болейн        2008.0                         драмы, мелодрамы Великобритания, США\n",
      "  672861     1819  591557273.0     8    Непосредственно Каха        2020.0                                  комедии              Россия\n",
      "  672861     8437  475823068.0     9          Капитан Марвел        2019.0                      боевики, фантастика      США, Австралия\n",
      "  672861     3017  392296433.0    10                Затмение        2017.0                     фэнтези, приключения              Россия\n",
      "  955527    15297 5027084885.0     1         Клиника счастья        2021.0                         драмы, мелодрамы              Россия\n",
      "  955527    10152 4050422671.0     2                  Гамбит        2012.0                        криминал, комедии                 США\n",
      "  955527    15423  886968193.0     3       Легенда о Нараяме        1983.0                                    драмы              Япония\n",
      "  955527     3043  753676133.0     4      Княжна из хрущёвки        2012.0                       мелодрамы, комедии              Россия\n",
      "  955527      512  734390883.0     5          Рядовой Чээрин        2020.0                                  военные              Россия\n",
      "  955527     3182  730548401.0     6  Ральф против Интернета        2018.0 мультфильм, приключения, фантастика, ...                 США\n",
      "  955527     3190  669721604.0     7 Ещё одна из рода Болейн        2008.0                         драмы, мелодрамы Великобритания, США\n",
      "  955527     1819  591557273.0     8    Непосредственно Каха        2020.0                                  комедии              Россия\n",
      "  955527     8437  475823068.0     9          Капитан Марвел        2019.0                      боевики, фантастика      США, Австралия\n",
      "  955527     3017  392296433.0    10                Затмение        2017.0                     фэнтези, приключения              Россия\n"
     ]
    }
   ],
   "source": [
    "user_ids = [666262, 672861, 955527]\n",
    "for model_name, model in models.items():\n",
    "    print(f'\\nmodel \"{model_name}\":')\n",
    "    visual_analys(model, interactions, user_ids, item_data)"
   ],
   "metadata": {
    "collapsed": false,
    "ExecuteTime": {
     "end_time": "2023-11-25T13:22:00.094567965Z",
     "start_time": "2023-11-25T13:21:57.931216119Z"
    }
   },
   "id": "5c50dc11e9c9135f"
  },
  {
   "cell_type": "raw",
   "source": [
    "Результат оборачиваем в pandas DataFrame и усредняем по фолдам"
   ],
   "metadata": {
    "collapsed": false
   },
   "id": "f1bc624b99dd63e6"
  },
  {
   "cell_type": "code",
   "execution_count": 128,
   "outputs": [
    {
     "data": {
      "text/plain": "           precision@10           accuracy@10           precision@5            \\\n                   mean       std        mean       std        mean       std   \nmodel                                                                           \nrandom       0.000222    0.000008   0.999114   0.000014   0.000225   0.000024   \npopular      0.045964    0.005104   0.999175   0.000006   0.070339   0.007241   \nmost_ra...   0.041627    0.004448   0.999169   0.000007   0.056373   0.010660   \n\n           accuracy@5           precision@1            ...     mrr@5  \\\n                 mean       std        mean       std  ...      mean   \nmodel                                                  ...             \nrandom       0.999446  0.000007   0.000247   0.000042  ...  0.000527   \npopular      0.999492  0.000002   0.097211   0.007269  ...  0.168272   \nmost_ra...   0.999483  0.000004   0.098136   0.007737  ...  0.152551   \n\n                         mrr@1              map@10               map@5  \\\n                 std      mean       std      mean       std      mean   \nmodel                                                                    \nrandom      0.000062  0.000247  0.000042  0.000199  0.000014  0.000154   \npopular     0.015108  0.097211  0.007269  0.098549  0.013750  0.091013   \nmost_ra...  0.018260  0.098136  0.007737  0.090972  0.013581  0.081660   \n\n                         map@1            \n                 std      mean       std  \nmodel                                     \nrandom      0.000012  0.000070  0.000014  \npopular     0.012241  0.047186  0.004912  \nmost_ra...  0.013846  0.047920  0.005112  \n\n[3 rows x 30 columns]",
      "text/html": "<div>\n<style scoped>\n    .dataframe tbody tr th:only-of-type {\n        vertical-align: middle;\n    }\n\n    .dataframe tbody tr th {\n        vertical-align: top;\n    }\n\n    .dataframe thead tr th {\n        text-align: left;\n    }\n\n    .dataframe thead tr:last-of-type th {\n        text-align: right;\n    }\n</style>\n<table border=\"1\" class=\"dataframe\">\n  <thead>\n    <tr>\n      <th></th>\n      <th colspan=\"2\" halign=\"left\">precision@10</th>\n      <th colspan=\"2\" halign=\"left\">accuracy@10</th>\n      <th colspan=\"2\" halign=\"left\">precision@5</th>\n      <th colspan=\"2\" halign=\"left\">accuracy@5</th>\n      <th colspan=\"2\" halign=\"left\">precision@1</th>\n      <th>...</th>\n      <th colspan=\"2\" halign=\"left\">mrr@5</th>\n      <th colspan=\"2\" halign=\"left\">mrr@1</th>\n      <th colspan=\"2\" halign=\"left\">map@10</th>\n      <th colspan=\"2\" halign=\"left\">map@5</th>\n      <th colspan=\"2\" halign=\"left\">map@1</th>\n    </tr>\n    <tr>\n      <th></th>\n      <th>mean</th>\n      <th>std</th>\n      <th>mean</th>\n      <th>std</th>\n      <th>mean</th>\n      <th>std</th>\n      <th>mean</th>\n      <th>std</th>\n      <th>mean</th>\n      <th>std</th>\n      <th>...</th>\n      <th>mean</th>\n      <th>std</th>\n      <th>mean</th>\n      <th>std</th>\n      <th>mean</th>\n      <th>std</th>\n      <th>mean</th>\n      <th>std</th>\n      <th>mean</th>\n      <th>std</th>\n    </tr>\n    <tr>\n      <th>model</th>\n      <th></th>\n      <th></th>\n      <th></th>\n      <th></th>\n      <th></th>\n      <th></th>\n      <th></th>\n      <th></th>\n      <th></th>\n      <th></th>\n      <th></th>\n      <th></th>\n      <th></th>\n      <th></th>\n      <th></th>\n      <th></th>\n      <th></th>\n      <th></th>\n      <th></th>\n      <th></th>\n      <th></th>\n    </tr>\n  </thead>\n  <tbody>\n    <tr>\n      <th>random</th>\n      <td>0.000222</td>\n      <td>0.000008</td>\n      <td>0.999114</td>\n      <td>0.000014</td>\n      <td>0.000225</td>\n      <td>0.000024</td>\n      <td>0.999446</td>\n      <td>0.000007</td>\n      <td>0.000247</td>\n      <td>0.000042</td>\n      <td>...</td>\n      <td>0.000527</td>\n      <td>0.000062</td>\n      <td>0.000247</td>\n      <td>0.000042</td>\n      <td>0.000199</td>\n      <td>0.000014</td>\n      <td>0.000154</td>\n      <td>0.000012</td>\n      <td>0.000070</td>\n      <td>0.000014</td>\n    </tr>\n    <tr>\n      <th>popular</th>\n      <td>0.045964</td>\n      <td>0.005104</td>\n      <td>0.999175</td>\n      <td>0.000006</td>\n      <td>0.070339</td>\n      <td>0.007241</td>\n      <td>0.999492</td>\n      <td>0.000002</td>\n      <td>0.097211</td>\n      <td>0.007269</td>\n      <td>...</td>\n      <td>0.168272</td>\n      <td>0.015108</td>\n      <td>0.097211</td>\n      <td>0.007269</td>\n      <td>0.098549</td>\n      <td>0.013750</td>\n      <td>0.091013</td>\n      <td>0.012241</td>\n      <td>0.047186</td>\n      <td>0.004912</td>\n    </tr>\n    <tr>\n      <th>most_raited</th>\n      <td>0.041627</td>\n      <td>0.004448</td>\n      <td>0.999169</td>\n      <td>0.000007</td>\n      <td>0.056373</td>\n      <td>0.010660</td>\n      <td>0.999483</td>\n      <td>0.000004</td>\n      <td>0.098136</td>\n      <td>0.007737</td>\n      <td>...</td>\n      <td>0.152551</td>\n      <td>0.018260</td>\n      <td>0.098136</td>\n      <td>0.007737</td>\n      <td>0.090972</td>\n      <td>0.013581</td>\n      <td>0.081660</td>\n      <td>0.013846</td>\n      <td>0.047920</td>\n      <td>0.005112</td>\n    </tr>\n  </tbody>\n</table>\n<p>3 rows × 30 columns</p>\n</div>"
     },
     "execution_count": 128,
     "metadata": {},
     "output_type": "execute_result"
    }
   ],
   "source": [
    "pivot_results = pd.DataFrame(results).drop(columns=\"fold\").groupby([\"model\"], sort=False).agg([\"mean\", \"std\"])\n",
    "pivot_results"
   ],
   "metadata": {
    "collapsed": false,
    "ExecuteTime": {
     "end_time": "2023-11-25T13:22:43.211968946Z",
     "start_time": "2023-11-25T13:22:43.193304796Z"
    }
   },
   "id": "6b4915c2adcf542"
  },
  {
   "cell_type": "code",
   "execution_count": 37,
   "outputs": [],
   "source": [
    "pivot_results.to_csv(\"../artifacts/first_reco_result.csv\")"
   ],
   "metadata": {
    "collapsed": false,
    "ExecuteTime": {
     "end_time": "2023-11-25T08:38:45.034087481Z",
     "start_time": "2023-11-25T08:38:45.021303678Z"
    }
   },
   "id": "56282b31d0817bd3"
  }
 ],
 "metadata": {
  "kernelspec": {
   "display_name": "Python 3",
   "language": "python",
   "name": "python3"
  },
  "language_info": {
   "codemirror_mode": {
    "name": "ipython",
    "version": 2
   },
   "file_extension": ".py",
   "mimetype": "text/x-python",
   "name": "python",
   "nbconvert_exporter": "python",
   "pygments_lexer": "ipython2",
   "version": "2.7.6"
  }
 },
 "nbformat": 4,
 "nbformat_minor": 5
}
