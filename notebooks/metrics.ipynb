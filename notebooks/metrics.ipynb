{
 "cells": [
  {
   "cell_type": "code",
   "execution_count": 86,
   "id": "initial_id",
   "metadata": {
    "collapsed": true,
    "ExecuteTime": {
     "end_time": "2023-11-26T18:32:11.893446618Z",
     "start_time": "2023-11-26T18:32:11.713374090Z"
    }
   },
   "outputs": [],
   "source": [
    "import pickle\n",
    "import numpy as np\n",
    "import pandas as pd\n",
    "from tqdm.auto import tqdm\n",
    "\n",
    "from rectools.models import RandomModel, PopularModel\n",
    "from rectools.dataset import Interactions, Dataset\n",
    "from rectools.model_selection import TimeRangeSplitter\n",
    "from rectools import Columns\n",
    "from rectools.metrics import (\n",
    "    Precision,\n",
    "    Accuracy,\n",
    "    MAP,\n",
    "    MRR, \n",
    "    NDCG,\n",
    "    calc_metrics,\n",
    ")\n",
    "from rectools.models import ImplicitItemKNNWrapperModel"
   ]
  },
  {
   "cell_type": "raw",
   "source": [
    "Скачиваем датасет"
   ],
   "metadata": {
    "collapsed": false
   },
   "id": "237834018da127a0"
  },
  {
   "cell_type": "code",
   "execution_count": 87,
   "outputs": [],
   "source": [
    "interactions = pd.read_csv(\"../artifacts/interactions.csv\")\n",
    "interactions.rename(columns={'last_watch_dt': Columns.Datetime, 'total_dur': Columns.Weight}, inplace=True)\n",
    "dataset = Dataset.construct(interactions)\n",
    "\n",
    "# Выбираем самое популярное\n",
    "items_ids_all = interactions.groupby(Columns.Item)[Columns.User].nunique().reset_index(name='unique_users_count')\n",
    "popular_items = items_ids_all.sort_values(by='unique_users_count', ascending=False).head(10)[Columns.Item]\n",
    "\n",
    "# Запоминаем отсутствующих юзеров\n",
    "cold_users = set(range(1100000)).difference(set(interactions[Columns.User]))\n",
    "\n",
    "# Сохраняем список горячих юзеров\n",
    "user_ids_all = interactions.groupby(Columns.User)[Columns.Item].nunique().reset_index(name='unique_items_count')\n",
    "hot_users = user_ids_all[user_ids_all['unique_items_count'] > 12][Columns.User]\n",
    "print(f\"Hot users cout: {hot_users.shape[0]}\")\n",
    "\n",
    "# Десереализуем холодную модель\n",
    "with open(\"../artifacts/first_experiment_popular.pkl\", \"rb\") as file:\n",
    "    warm_model = pickle.load(file)\n",
    "\n",
    "# Десереализуем горячую модель\n",
    "with open(\"../artifacts/task3_cropped12_experiment_tfidf_userknn.pkl\", \"rb\") as file:\n",
    "    hot_model = pickle.load(file)\n",
    "\n",
    "# df_hot = interactions[interactions[Columns.User].isin(hot_users)][Columns.User]\n",
    "\n",
    "df_hot = pd.DataFrame({Columns.User: interactions[interactions[Columns.User].isin(hot_users)][Columns.User]})\n",
    "recos_hot = hot_model.predict(df_hot)\n",
    "df_warm = interactions[~interactions[Columns.User].isin(df_hot[Columns.User])].drop_duplicates(subset=Columns.User)\n",
    "\n",
    "# df_warm = set(df_hot[Columns.User]).difference(set(interactions[Columns.User])\n",
    "recos_warm = warm_model.recommend(\n",
    "    users=df_warm[Columns.User],\n",
    "    dataset=dataset,\n",
    "    k=10,\n",
    "    filter_viewed=True,\n",
    ")\n",
    "recos_cold = popular_items    "
   ],
   "metadata": {
    "collapsed": false,
    "ExecuteTime": {
     "start_time": "2023-11-26T18:32:11.739024539Z"
    }
   },
   "id": "fb4387af4e75d0d2"
  },
  {
   "cell_type": "raw",
   "source": [
    "Читаем датасеты"
   ],
   "metadata": {
    "collapsed": false
   },
   "id": "e25cd8417898e4e"
  },
  {
   "cell_type": "code",
   "execution_count": 88,
   "outputs": [],
   "source": [
    "interactions_df = pd.read_csv('../artifacts/interactions.csv')\n",
    "interactions_df.rename(\n",
    "    columns={\n",
    "        'last_watch_dt': Columns.Datetime,\n",
    "        'total_dur': Columns.Weight\n",
    "    }, \n",
    "    inplace=True) \n",
    "# Мы хотим учитывать юзеров с 1 или двумя просмотрами, так как этого недостаточно чтобы говорить о пользователях хоть что-нибудь\n",
    "user_ids_all = interactions_df.groupby(Columns.User)[Columns.Item].nunique().reset_index(name='unique_items_count')\n",
    "hot_users = user_ids_all[user_ids_all['unique_items_count'] > 10][Columns.User]\n",
    "interactions_df_hot_users = interactions_df[interactions_df[Columns.User].isin(hot_users)]\n",
    "interactions = Interactions(interactions_df)\n",
    "\n",
    "selected_columns = [Columns.Item, 'title', 'release_year', 'genres', 'countries']\n",
    "item_data = pd.read_csv('../artifacts/items.csv', usecols=selected_columns)"
   ],
   "metadata": {
    "collapsed": false,
    "ExecuteTime": {
     "end_time": "2023-11-26T18:32:16.811997776Z",
     "start_time": "2023-11-26T18:32:11.739529599Z"
    }
   },
   "id": "c969d390e0485ca0"
  },
  {
   "cell_type": "raw",
   "source": [
    "Анализируем датасеты"
   ],
   "metadata": {
    "collapsed": false
   },
   "id": "3ab152691a104454"
  },
  {
   "cell_type": "code",
   "execution_count": 89,
   "outputs": [
    {
     "data": {
      "text/plain": "       item_id                 title  release_year  \\\n0        10711        Поговори с ней        2002.0   \n1         2508           Голые перцы        2014.0   \n2        10716      Тактическая сила        2011.0   \n3         7868                45 лет        2015.0   \n4        16268  Все решает мгновение        1978.0   \n...        ...                   ...           ...   \n15958     6443         Полярный круг        2018.0   \n15959     2367               Надежда        2020.0   \n15960    10632                Сговор        2017.0   \n15961     4538          Среди камней        2019.0   \n15962     3206                  Гоша        2019.0   \n\n                                                 genres            countries  \n0               драмы, зарубежные, детективы, мелодрамы              Испания  \n1                      зарубежные, приключения, комедии                  США  \n2      криминал, зарубежные, триллеры, боевики, комедии               Канада  \n3                          драмы, зарубежные, мелодрамы       Великобритания  \n4                    драмы, спорт, советские, мелодрамы                 СССР  \n...                                                 ...                  ...  \n15958                         драмы, триллеры, криминал  Финляндия, Германия  \n15959                                    драмы, боевики               Россия  \n15960                         драмы, триллеры, криминал               Россия  \n15961                            драмы, спорт, криминал               Россия  \n15962                                           комедии               Россия  \n\n[15963 rows x 5 columns]",
      "text/html": "<div>\n<style scoped>\n    .dataframe tbody tr th:only-of-type {\n        vertical-align: middle;\n    }\n\n    .dataframe tbody tr th {\n        vertical-align: top;\n    }\n\n    .dataframe thead th {\n        text-align: right;\n    }\n</style>\n<table border=\"1\" class=\"dataframe\">\n  <thead>\n    <tr style=\"text-align: right;\">\n      <th></th>\n      <th>item_id</th>\n      <th>title</th>\n      <th>release_year</th>\n      <th>genres</th>\n      <th>countries</th>\n    </tr>\n  </thead>\n  <tbody>\n    <tr>\n      <th>0</th>\n      <td>10711</td>\n      <td>Поговори с ней</td>\n      <td>2002.0</td>\n      <td>драмы, зарубежные, детективы, мелодрамы</td>\n      <td>Испания</td>\n    </tr>\n    <tr>\n      <th>1</th>\n      <td>2508</td>\n      <td>Голые перцы</td>\n      <td>2014.0</td>\n      <td>зарубежные, приключения, комедии</td>\n      <td>США</td>\n    </tr>\n    <tr>\n      <th>2</th>\n      <td>10716</td>\n      <td>Тактическая сила</td>\n      <td>2011.0</td>\n      <td>криминал, зарубежные, триллеры, боевики, комедии</td>\n      <td>Канада</td>\n    </tr>\n    <tr>\n      <th>3</th>\n      <td>7868</td>\n      <td>45 лет</td>\n      <td>2015.0</td>\n      <td>драмы, зарубежные, мелодрамы</td>\n      <td>Великобритания</td>\n    </tr>\n    <tr>\n      <th>4</th>\n      <td>16268</td>\n      <td>Все решает мгновение</td>\n      <td>1978.0</td>\n      <td>драмы, спорт, советские, мелодрамы</td>\n      <td>СССР</td>\n    </tr>\n    <tr>\n      <th>...</th>\n      <td>...</td>\n      <td>...</td>\n      <td>...</td>\n      <td>...</td>\n      <td>...</td>\n    </tr>\n    <tr>\n      <th>15958</th>\n      <td>6443</td>\n      <td>Полярный круг</td>\n      <td>2018.0</td>\n      <td>драмы, триллеры, криминал</td>\n      <td>Финляндия, Германия</td>\n    </tr>\n    <tr>\n      <th>15959</th>\n      <td>2367</td>\n      <td>Надежда</td>\n      <td>2020.0</td>\n      <td>драмы, боевики</td>\n      <td>Россия</td>\n    </tr>\n    <tr>\n      <th>15960</th>\n      <td>10632</td>\n      <td>Сговор</td>\n      <td>2017.0</td>\n      <td>драмы, триллеры, криминал</td>\n      <td>Россия</td>\n    </tr>\n    <tr>\n      <th>15961</th>\n      <td>4538</td>\n      <td>Среди камней</td>\n      <td>2019.0</td>\n      <td>драмы, спорт, криминал</td>\n      <td>Россия</td>\n    </tr>\n    <tr>\n      <th>15962</th>\n      <td>3206</td>\n      <td>Гоша</td>\n      <td>2019.0</td>\n      <td>комедии</td>\n      <td>Россия</td>\n    </tr>\n  </tbody>\n</table>\n<p>15963 rows × 5 columns</p>\n</div>"
     },
     "execution_count": 89,
     "metadata": {},
     "output_type": "execute_result"
    }
   ],
   "source": [
    "item_data"
   ],
   "metadata": {
    "collapsed": false,
    "ExecuteTime": {
     "start_time": "2023-11-26T18:32:16.849752205Z"
    }
   },
   "id": "ee05981655336610"
  },
  {
   "cell_type": "code",
   "execution_count": 90,
   "outputs": [
    {
     "data": {
      "text/plain": "         user_id  item_id   datetime   weight  watched_pct\n0         176549     9506 2021-05-11   4250.0         72.0\n1         699317     1659 2021-05-29   8317.0        100.0\n2         656683     7107 2021-05-09     10.0          0.0\n3         864613     7638 2021-07-05  14483.0        100.0\n4         964868     9506 2021-04-30   6725.0        100.0\n5476246   648596    12225 2021-08-13     76.0          0.0\n5476247   546862     9673 2021-04-13   2308.0         49.0\n5476248   697262    15297 2021-08-20  18307.0         63.0\n5476249   384202    16197 2021-04-19   6203.0        100.0\n5476250   319709     4436 2021-08-15   3921.0         45.0",
      "text/html": "<div>\n<style scoped>\n    .dataframe tbody tr th:only-of-type {\n        vertical-align: middle;\n    }\n\n    .dataframe tbody tr th {\n        vertical-align: top;\n    }\n\n    .dataframe thead th {\n        text-align: right;\n    }\n</style>\n<table border=\"1\" class=\"dataframe\">\n  <thead>\n    <tr style=\"text-align: right;\">\n      <th></th>\n      <th>user_id</th>\n      <th>item_id</th>\n      <th>datetime</th>\n      <th>weight</th>\n      <th>watched_pct</th>\n    </tr>\n  </thead>\n  <tbody>\n    <tr>\n      <th>0</th>\n      <td>176549</td>\n      <td>9506</td>\n      <td>2021-05-11</td>\n      <td>4250.0</td>\n      <td>72.0</td>\n    </tr>\n    <tr>\n      <th>1</th>\n      <td>699317</td>\n      <td>1659</td>\n      <td>2021-05-29</td>\n      <td>8317.0</td>\n      <td>100.0</td>\n    </tr>\n    <tr>\n      <th>2</th>\n      <td>656683</td>\n      <td>7107</td>\n      <td>2021-05-09</td>\n      <td>10.0</td>\n      <td>0.0</td>\n    </tr>\n    <tr>\n      <th>3</th>\n      <td>864613</td>\n      <td>7638</td>\n      <td>2021-07-05</td>\n      <td>14483.0</td>\n      <td>100.0</td>\n    </tr>\n    <tr>\n      <th>4</th>\n      <td>964868</td>\n      <td>9506</td>\n      <td>2021-04-30</td>\n      <td>6725.0</td>\n      <td>100.0</td>\n    </tr>\n    <tr>\n      <th>5476246</th>\n      <td>648596</td>\n      <td>12225</td>\n      <td>2021-08-13</td>\n      <td>76.0</td>\n      <td>0.0</td>\n    </tr>\n    <tr>\n      <th>5476247</th>\n      <td>546862</td>\n      <td>9673</td>\n      <td>2021-04-13</td>\n      <td>2308.0</td>\n      <td>49.0</td>\n    </tr>\n    <tr>\n      <th>5476248</th>\n      <td>697262</td>\n      <td>15297</td>\n      <td>2021-08-20</td>\n      <td>18307.0</td>\n      <td>63.0</td>\n    </tr>\n    <tr>\n      <th>5476249</th>\n      <td>384202</td>\n      <td>16197</td>\n      <td>2021-04-19</td>\n      <td>6203.0</td>\n      <td>100.0</td>\n    </tr>\n    <tr>\n      <th>5476250</th>\n      <td>319709</td>\n      <td>4436</td>\n      <td>2021-08-15</td>\n      <td>3921.0</td>\n      <td>45.0</td>\n    </tr>\n  </tbody>\n</table>\n</div>"
     },
     "execution_count": 90,
     "metadata": {},
     "output_type": "execute_result"
    }
   ],
   "source": [
    "pd.concat([interactions.df.head(), interactions.df.tail()])"
   ],
   "metadata": {
    "collapsed": false,
    "ExecuteTime": {
     "start_time": "2023-11-26T18:32:16.850019303Z"
    }
   },
   "id": "f80367f95ac06f65"
  },
  {
   "cell_type": "code",
   "execution_count": 91,
   "outputs": [
    {
     "name": "stdout",
     "output_type": "stream",
     "text": [
      "<class 'pandas.core.frame.DataFrame'>\n",
      "RangeIndex: 5476251 entries, 0 to 5476250\n",
      "Data columns (total 5 columns):\n",
      " #   Column       Dtype         \n",
      "---  ------       -----         \n",
      " 0   user_id      int64         \n",
      " 1   item_id      int64         \n",
      " 2   datetime     datetime64[ns]\n",
      " 3   weight       float64       \n",
      " 4   watched_pct  float64       \n",
      "dtypes: datetime64[ns](1), float64(2), int64(2)\n",
      "memory usage: 208.9 MB\n"
     ]
    }
   ],
   "source": [
    "interactions.df.info(memory_usage='deep')"
   ],
   "metadata": {
    "collapsed": false,
    "ExecuteTime": {
     "end_time": "2023-11-26T18:32:16.861891303Z",
     "start_time": "2023-11-26T18:32:16.850252166Z"
    }
   },
   "id": "bc6729f9403ca778"
  },
  {
   "cell_type": "raw",
   "source": [
    "1.1 Словарь с инициализированными моделями"
   ],
   "metadata": {
    "collapsed": false
   },
   "id": "859e0ba190c14772"
  },
  {
   "cell_type": "code",
   "execution_count": 92,
   "outputs": [],
   "source": [
    "models = {\n",
    "    # \"random\": RandomModel(random_state=42),\n",
    "    \"popular\": PopularModel(),\n",
    "    # \"most_raited\": PopularModel(popularity=\"sum_weight\")\n",
    "}"
   ],
   "metadata": {
    "collapsed": false,
    "ExecuteTime": {
     "end_time": "2023-11-26T18:32:16.861977534Z",
     "start_time": "2023-11-26T18:32:16.850349488Z"
    }
   },
   "id": "8e939d51fd70eb0d"
  },
  {
   "cell_type": "raw",
   "source": [
    "1.2 Словарь с инициализированными метриками"
   ],
   "metadata": {
    "collapsed": false
   },
   "id": "9af2e81016a75f0e"
  },
  {
   "cell_type": "code",
   "execution_count": 93,
   "outputs": [],
   "source": [
    "metrics = {\n",
    "    # \"precision@10\": Precision(k=10),\n",
    "    \"accuracy@10\": Accuracy(k=10),\n",
    "    # \"map@10\": MAP(k=10),\n",
    "    # \"mrr@10\": MRR(k=10),\n",
    "    # \"ndcg@10\": NDCG(k=10),\n",
    "    # \"precision@5\": Precision(k=5),\n",
    "    # \"accuracy@5\": Accuracy(k=5),\n",
    "    # \"map@5\": MAP(k=5),\n",
    "    # \"mrr@5\": MRR(k=5),\n",
    "    # \"ndcg@5\": NDCG(k=5),\n",
    "    # \"precision@1\": Precision(k=1),\n",
    "    # \"accuracy@1\": Accuracy(k=1),\n",
    "    # \"map@1\": MAP(k=1),\n",
    "    # \"mrr@1\": MRR(k=1),\n",
    "    # \"ndcg@1\": NDCG(k=1),\n",
    "}"
   ],
   "metadata": {
    "collapsed": false,
    "ExecuteTime": {
     "end_time": "2023-11-26T18:32:16.862043306Z",
     "start_time": "2023-11-26T18:32:16.850433534Z"
    }
   },
   "id": "5082608c85e92594"
  },
  {
   "cell_type": "raw",
   "source": [
    "1.3 Инициализированный Splitter для кросс-валидации"
   ],
   "metadata": {
    "collapsed": false
   },
   "id": "11a5d91fe456b25f"
  },
  {
   "cell_type": "code",
   "execution_count": 94,
   "outputs": [],
   "source": [
    "n_splits = 3\n",
    "\n",
    "splitter = TimeRangeSplitter(\n",
    "    test_size=\"14D\",\n",
    "    n_splits=n_splits,\n",
    "    filter_already_seen=True,\n",
    "    filter_cold_items=True,\n",
    "    filter_cold_users=False,\n",
    ")"
   ],
   "metadata": {
    "collapsed": false,
    "ExecuteTime": {
     "end_time": "2023-11-26T18:32:16.862115040Z",
     "start_time": "2023-11-26T18:32:16.850496481Z"
    }
   },
   "id": "16337d7ea9a6582d"
  },
  {
   "cell_type": "markdown",
   "source": [
    "Расчёт метрик:"
   ],
   "metadata": {
    "collapsed": false
   },
   "id": "a3badc32244a7e32"
  },
  {
   "cell_type": "code",
   "execution_count": 95,
   "outputs": [],
   "source": [
    "def get_metrics(models, metrics, splitter, k):\n",
    "    \n",
    "    splitter.get_test_fold_borders(interactions)\n",
    "    \n",
    "    results = []\n",
    "    \n",
    "    fold_iterator = splitter.split(interactions, collect_fold_stats=True)\n",
    "    \n",
    "    for train_ids, test_ids, fold_info in tqdm((fold_iterator), total=splitter.n_splits):\n",
    "        print(f\"\\n==================== Fold {fold_info['i_split']}\")\n",
    "        print(fold_info)\n",
    "        \n",
    "        dataset = Dataset.construct(interactions.df)\n",
    "    \n",
    "        df_train = interactions.df.iloc[train_ids]\n",
    "        dataset_train = Dataset.construct(df_train)\n",
    "    \n",
    "        df_test = interactions.df.iloc[test_ids][Columns.UserItem]\n",
    "        test_users = np.unique(df_test[Columns.User])\n",
    "    \n",
    "        catalog = interactions.df[Columns.Item].unique()\n",
    "    \n",
    "        for model_name, model in models.items():\n",
    "            \n",
    "            model.fit(dataset_train)\n",
    "            recos = model.recommend(\n",
    "                users=test_users,\n",
    "                dataset=dataset,\n",
    "                k=k,\n",
    "                filter_viewed=True,\n",
    "            )\n",
    "            \n",
    "            metric_values = calc_metrics(\n",
    "                metrics,\n",
    "                reco=recos,\n",
    "                interactions=df_test,\n",
    "                prev_interactions=df_train,\n",
    "                catalog=catalog,\n",
    "            )\n",
    "            \n",
    "            res = {\"fold\": fold_info[\"i_split\"], \"model\": model_name}\n",
    "            res.update(metric_values)\n",
    "            results.append(res)\n",
    "            \n",
    "    return results"
   ],
   "metadata": {
    "collapsed": false,
    "ExecuteTime": {
     "end_time": "2023-11-26T18:32:16.862180912Z",
     "start_time": "2023-11-26T18:32:16.850553247Z"
    }
   },
   "id": "994092239f4995c6"
  },
  {
   "cell_type": "raw",
   "source": [
    "Визуальный анализ"
   ],
   "metadata": {
    "collapsed": false
   },
   "id": "a93719c74d05c6f6"
  },
  {
   "cell_type": "code",
   "execution_count": 96,
   "outputs": [],
   "source": [
    "def visual_analys(model, interactions, user_ids, item_data):\n",
    "    \n",
    "    dataset = Dataset.construct(interactions.df)\n",
    "    recos = model.recommend(\n",
    "    users=user_ids,\n",
    "    dataset=dataset,\n",
    "    k=10,\n",
    "    filter_viewed=True,\n",
    "    )\n",
    "    \n",
    "    recos = pd.merge(recos, item_data, on=Columns.Item, how='left')\n",
    "    \n",
    "    print(recos.to_string(index=False, max_colwidth=40))"
   ],
   "metadata": {
    "collapsed": false,
    "ExecuteTime": {
     "end_time": "2023-11-26T18:32:16.960809437Z",
     "start_time": "2023-11-26T18:32:16.897862411Z"
    }
   },
   "id": "b27435d3591455e6"
  },
  {
   "cell_type": "code",
   "execution_count": 97,
   "outputs": [
    {
     "data": {
      "text/plain": "  0%|          | 0/3 [00:00<?, ?it/s]",
      "application/vnd.jupyter.widget-view+json": {
       "version_major": 2,
       "version_minor": 0,
       "model_id": "555756060fe84f29904d00264014a52d"
      }
     },
     "metadata": {},
     "output_type": "display_data"
    },
    {
     "name": "stdout",
     "output_type": "stream",
     "text": [
      "\n",
      "==================== Fold 0\n",
      "{'i_split': 0, 'start': Timestamp('2021-07-12 00:00:00', freq='14D'), 'end': Timestamp('2021-07-26 00:00:00', freq='14D'), 'train': 3239125, 'train_users': 646423, 'train_items': 14730, 'test': 637836, 'test_users': 216920, 'test_items': 7851}\n",
      "\n",
      "==================== Fold 1\n",
      "{'i_split': 1, 'start': Timestamp('2021-07-26 00:00:00', freq='14D'), 'end': Timestamp('2021-08-09 00:00:00', freq='14D'), 'train': 3892558, 'train_users': 742256, 'train_items': 15085, 'test': 726066, 'test_users': 241149, 'test_items': 8191}\n",
      "\n",
      "==================== Fold 2\n",
      "{'i_split': 2, 'start': Timestamp('2021-08-09 00:00:00', freq='14D'), 'end': Timestamp('2021-08-23 00:00:00', freq='14D'), 'train': 4649162, 'train_users': 850489, 'train_items': 15415, 'test': 787191, 'test_users': 257877, 'test_items': 8115}\n"
     ]
    },
    {
     "data": {
      "text/plain": "[{'fold': 0, 'model': 'popular', 'accuracy@10': 0.9991760842715209},\n {'fold': 1, 'model': 'popular', 'accuracy@10': 0.9991715993565945},\n {'fold': 2, 'model': 'popular', 'accuracy@10': 0.9991689428748076}]"
     },
     "execution_count": 97,
     "metadata": {},
     "output_type": "execute_result"
    }
   ],
   "source": [
    "results = get_metrics(models, metrics, splitter, k=10)\n",
    "results"
   ],
   "metadata": {
    "collapsed": false,
    "ExecuteTime": {
     "end_time": "2023-11-26T18:32:56.814719545Z",
     "start_time": "2023-11-26T18:32:16.898024954Z"
    }
   },
   "id": "ad03c149c6784d5b"
  },
  {
   "cell_type": "code",
   "execution_count": 98,
   "outputs": [
    {
     "name": "stdout",
     "output_type": "stream",
     "text": [
      "\n",
      "model \"popular\":\n",
      " user_id  item_id    score  rank                   title  release_year                                   genres           countries\n",
      "  666262    15297 175949.0     1         Клиника счастья        2021.0                         драмы, мелодрамы              Россия\n",
      "  666262    10152 168500.0     2                  Гамбит        2012.0                        криминал, комедии                 США\n",
      "  666262     3043 108966.0     3      Княжна из хрущёвки        2012.0                       мелодрамы, комедии              Россия\n",
      "  666262     3190 107640.0     4 Ещё одна из рода Болейн        2008.0                         драмы, мелодрамы Великобритания, США\n",
      "  666262    15423  80649.0     5       Легенда о Нараяме        1983.0                                    драмы              Япония\n",
      "  666262     3017  64809.0     6                Затмение        2017.0                     фэнтези, приключения              Россия\n",
      "  666262     2293  63183.0     7           Шалом, папик!        2020.0                                  комедии         США, Канада\n",
      "  666262     9851  51416.0     8             Коматозники        2017.0 детективы, драмы, триллеры, фантастик...                 США\n",
      "  666262    14817  40663.0     9      Больше, чем друзья        2020.0                                мелодрамы    Республика Корея\n",
      "  666262      657  37847.0    10                Защитник        2015.0               драмы, триллеры, детективы                 США\n",
      "  672861    15297 175949.0     1         Клиника счастья        2021.0                         драмы, мелодрамы              Россия\n",
      "  672861    10152 168500.0     2                  Гамбит        2012.0                        криминал, комедии                 США\n",
      "  672861     3043 108966.0     3      Княжна из хрущёвки        2012.0                       мелодрамы, комедии              Россия\n",
      "  672861     3190 107640.0     4 Ещё одна из рода Болейн        2008.0                         драмы, мелодрамы Великобритания, США\n",
      "  672861    15423  80649.0     5       Легенда о Нараяме        1983.0                                    драмы              Япония\n",
      "  672861     3017  64809.0     6                Затмение        2017.0                     фэнтези, приключения              Россия\n",
      "  672861     2293  63183.0     7           Шалом, папик!        2020.0                                  комедии         США, Канада\n",
      "  672861     9851  51416.0     8             Коматозники        2017.0 детективы, драмы, триллеры, фантастик...                 США\n",
      "  672861    14817  40663.0     9      Больше, чем друзья        2020.0                                мелодрамы    Республика Корея\n",
      "  672861      657  37847.0    10                Защитник        2015.0               драмы, триллеры, детективы                 США\n",
      "  955527    15297 175949.0     1         Клиника счастья        2021.0                         драмы, мелодрамы              Россия\n",
      "  955527    10152 168500.0     2                  Гамбит        2012.0                        криминал, комедии                 США\n",
      "  955527     3043 108966.0     3      Княжна из хрущёвки        2012.0                       мелодрамы, комедии              Россия\n",
      "  955527     3190 107640.0     4 Ещё одна из рода Болейн        2008.0                         драмы, мелодрамы Великобритания, США\n",
      "  955527    15423  80649.0     5       Легенда о Нараяме        1983.0                                    драмы              Япония\n",
      "  955527     3017  64809.0     6                Затмение        2017.0                     фэнтези, приключения              Россия\n",
      "  955527     2293  63183.0     7           Шалом, папик!        2020.0                                  комедии         США, Канада\n",
      "  955527     9851  51416.0     8             Коматозники        2017.0 детективы, драмы, триллеры, фантастик...                 США\n",
      "  955527    14817  40663.0     9      Больше, чем друзья        2020.0                                мелодрамы    Республика Корея\n",
      "  955527      657  37847.0    10                Защитник        2015.0               драмы, триллеры, детективы                 США\n"
     ]
    }
   ],
   "source": [
    "user_ids = [666262, 672861, 955527]\n",
    "for model_name, model in models.items():\n",
    "    print(f'\\nmodel \"{model_name}\":')\n",
    "    visual_analys(model, interactions, user_ids, item_data)"
   ],
   "metadata": {
    "collapsed": false,
    "ExecuteTime": {
     "end_time": "2023-11-26T18:32:57.487240807Z",
     "start_time": "2023-11-26T18:32:56.817458186Z"
    }
   },
   "id": "5c50dc11e9c9135f"
  },
  {
   "cell_type": "raw",
   "source": [
    "Результат оборачиваем в pandas DataFrame и усредняем по фолдам"
   ],
   "metadata": {
    "collapsed": false
   },
   "id": "f1bc624b99dd63e6"
  },
  {
   "cell_type": "code",
   "execution_count": 99,
   "outputs": [
    {
     "data": {
      "text/plain": "        accuracy@10          \n               mean       std\nmodel                        \npopular    0.999172  0.000004",
      "text/html": "<div>\n<style scoped>\n    .dataframe tbody tr th:only-of-type {\n        vertical-align: middle;\n    }\n\n    .dataframe tbody tr th {\n        vertical-align: top;\n    }\n\n    .dataframe thead tr th {\n        text-align: left;\n    }\n\n    .dataframe thead tr:last-of-type th {\n        text-align: right;\n    }\n</style>\n<table border=\"1\" class=\"dataframe\">\n  <thead>\n    <tr>\n      <th></th>\n      <th colspan=\"2\" halign=\"left\">accuracy@10</th>\n    </tr>\n    <tr>\n      <th></th>\n      <th>mean</th>\n      <th>std</th>\n    </tr>\n    <tr>\n      <th>model</th>\n      <th></th>\n      <th></th>\n    </tr>\n  </thead>\n  <tbody>\n    <tr>\n      <th>popular</th>\n      <td>0.999172</td>\n      <td>0.000004</td>\n    </tr>\n  </tbody>\n</table>\n</div>"
     },
     "execution_count": 99,
     "metadata": {},
     "output_type": "execute_result"
    }
   ],
   "source": [
    "pivot_results = pd.DataFrame(results).drop(columns=\"fold\").groupby([\"model\"], sort=False).agg([\"mean\", \"std\"])\n",
    "pivot_results"
   ],
   "metadata": {
    "collapsed": false,
    "ExecuteTime": {
     "end_time": "2023-11-26T18:32:57.501757501Z",
     "start_time": "2023-11-26T18:32:57.492743535Z"
    }
   },
   "id": "6b4915c2adcf542"
  },
  {
   "cell_type": "code",
   "execution_count": 100,
   "outputs": [],
   "source": [
    "pivot_results.to_csv(\"../artifacts/first_reco_result.csv\")"
   ],
   "metadata": {
    "collapsed": false,
    "ExecuteTime": {
     "end_time": "2023-11-26T18:32:57.517503386Z",
     "start_time": "2023-11-26T18:32:57.499018401Z"
    }
   },
   "id": "56282b31d0817bd3"
  },
  {
   "cell_type": "code",
   "execution_count": 101,
   "outputs": [],
   "source": [
    "for model_name, model in models.items():\n",
    "    with open(f\"../artifacts/first_experiment_{model_name}.pkl\", \"wb\") as file:\n",
    "        pickle.dump(model, file)"
   ],
   "metadata": {
    "collapsed": false,
    "ExecuteTime": {
     "end_time": "2023-11-26T18:32:57.531978322Z",
     "start_time": "2023-11-26T18:32:57.505168373Z"
    }
   },
   "id": "f3574d5932304765"
  },
  {
   "cell_type": "code",
   "execution_count": 102,
   "outputs": [
    {
     "ename": "NameError",
     "evalue": "name 'dataset' is not defined",
     "output_type": "error",
     "traceback": [
      "\u001B[0;31m---------------------------------------------------------------------------\u001B[0m",
      "\u001B[0;31mNameError\u001B[0m                                 Traceback (most recent call last)",
      "Cell \u001B[0;32mIn[102], line 8\u001B[0m\n\u001B[1;32m      3\u001B[0m     model \u001B[38;5;241m=\u001B[39m pickle\u001B[38;5;241m.\u001B[39mload(file)\n\u001B[1;32m      5\u001B[0m \u001B[38;5;66;03m# The model has now been deserialized, next is to make use of it as you normally would.\u001B[39;00m\n\u001B[1;32m      6\u001B[0m recos \u001B[38;5;241m=\u001B[39m model\u001B[38;5;241m.\u001B[39mrecommend(\n\u001B[1;32m      7\u001B[0m     users\u001B[38;5;241m=\u001B[39muser_ids,\n\u001B[0;32m----> 8\u001B[0m     dataset\u001B[38;5;241m=\u001B[39m\u001B[43mdataset\u001B[49m,\n\u001B[1;32m      9\u001B[0m     k\u001B[38;5;241m=\u001B[39m\u001B[38;5;241m10\u001B[39m,\n\u001B[1;32m     10\u001B[0m     filter_viewed\u001B[38;5;241m=\u001B[39m\u001B[38;5;28;01mTrue\u001B[39;00m,\n\u001B[1;32m     11\u001B[0m )\n",
      "\u001B[0;31mNameError\u001B[0m: name 'dataset' is not defined"
     ]
    }
   ],
   "source": [
    "# Opening saved model\n",
    "with open(\"../artifacts/first_experiment_most_raited.pkl\", \"rb\") as file:\n",
    "    model = pickle.load(file)\n",
    "\n",
    "# The model has now been deserialized, next is to make use of it as you normally would.\n",
    "recos = model.recommend(\n",
    "    users=user_ids,\n",
    "    dataset=dataset,\n",
    "    k=10,\n",
    "    filter_viewed=True,\n",
    ")\n",
    "    "
   ],
   "metadata": {
    "collapsed": false,
    "ExecuteTime": {
     "end_time": "2023-11-26T18:32:57.534026055Z",
     "start_time": "2023-11-26T18:32:57.509004447Z"
    }
   },
   "id": "acfab88a5c1c734d"
  },
  {
   "cell_type": "code",
   "execution_count": null,
   "outputs": [],
   "source": [
    "recos"
   ],
   "metadata": {
    "collapsed": false,
    "ExecuteTime": {
     "start_time": "2023-11-26T18:32:57.565698378Z"
    }
   },
   "id": "77afedf5c993096e"
  },
  {
   "cell_type": "code",
   "execution_count": null,
   "outputs": [],
   "source": [
    "interactions_df = pd.read_csv('../artifacts/interactions.csv')\n",
    "users = pd.read_csv('../artifacts/users.csv')\n",
    "items = pd.read_csv('../artifacts/items.csv')\n",
    "\n",
    "interactions_df.rename(columns={'last_watch_dt': Columns.Datetime,\n",
    "                                'total_dur': Columns.Weight}, inplace=True) \n",
    "\n",
    "# Мы хотим учитывать юзеров с 1 или двумя просмотрами, так как этого недостаточно чтобы говорить о пользователях хоть что-нибудь\n",
    "user_ids_all = interactions_df.groupby(Columns.User)[Columns.Item].nunique().reset_index(name='unique_items_count')\n",
    "hot_users = user_ids_all[user_ids_all['unique_items_count'] > 10][Columns.User]\n",
    "interactions_df_hot_users = interactions_df[interactions_df[Columns.User].isin(hot_users)]\n",
    "interactions_df_hot_users"
   ],
   "metadata": {
    "collapsed": false,
    "ExecuteTime": {
     "start_time": "2023-11-26T18:32:57.565770933Z"
    }
   },
   "id": "4e45fcbba5c3fa54"
  },
  {
   "cell_type": "code",
   "execution_count": null,
   "outputs": [],
   "source": [],
   "metadata": {
    "collapsed": false,
    "ExecuteTime": {
     "end_time": "2023-11-26T18:32:57.626348436Z",
     "start_time": "2023-11-26T18:32:57.565788345Z"
    }
   },
   "id": "cff1225abff41ca6"
  }
 ],
 "metadata": {
  "kernelspec": {
   "display_name": "Python 3",
   "language": "python",
   "name": "python3"
  },
  "language_info": {
   "codemirror_mode": {
    "name": "ipython",
    "version": 2
   },
   "file_extension": ".py",
   "mimetype": "text/x-python",
   "name": "python",
   "nbconvert_exporter": "python",
   "pygments_lexer": "ipython2",
   "version": "2.7.6"
  }
 },
 "nbformat": 4,
 "nbformat_minor": 5
}
