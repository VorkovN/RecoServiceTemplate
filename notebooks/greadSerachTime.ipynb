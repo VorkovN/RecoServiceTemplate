{
 "cells": [
  {
   "cell_type": "code",
   "execution_count": 1,
   "id": "initial_id",
   "metadata": {
    "collapsed": true,
    "ExecuteTime": {
     "end_time": "2023-12-05T13:15:00.960945388Z",
     "start_time": "2023-12-05T13:15:00.717036928Z"
    }
   },
   "outputs": [],
   "source": [
    "import pickle\n",
    "import numpy as np\n",
    "import pandas as pd\n",
    "from rectools.dataset import Interactions, Dataset\n",
    "from rectools.model_selection import TimeRangeSplitter\n",
    "from rectools.metrics import MAP, MeanInvUserFreq, calc_metrics\n",
    "\n",
    "from implicit.als import AlternatingLeastSquares\n",
    "\n",
    "from rectools.metrics import Precision, Recall, MAP, calc_metrics\n",
    "from rectools import Columns\n",
    "from rectools.dataset import Dataset\n",
    "from rectools.models import ImplicitALSWrapperModel, LightFMWrapperModel\n",
    "from tqdm import tqdm\n",
    "\n",
    "from lightfm import LightFM"
   ]
  },
  {
   "cell_type": "code",
   "execution_count": 2,
   "outputs": [
    {
     "data": {
      "text/plain": "         user_id  item_id last_watch_dt  total_dur  watched_pct\n0         176549     9506    2021-05-11       4250         72.0\n1         699317     1659    2021-05-29       8317        100.0\n2         656683     7107    2021-05-09         10          0.0\n3         864613     7638    2021-07-05      14483        100.0\n4         964868     9506    2021-04-30       6725        100.0\n...          ...      ...           ...        ...          ...\n5476244   438585     7829    2021-08-02       6804        100.0\n5476245   786732     4880    2021-05-12        753          0.0\n5476247   546862     9673    2021-04-13       2308         49.0\n5476249   384202    16197    2021-04-19       6203        100.0\n5476250   319709     4436    2021-08-15       3921         45.0\n\n[4167144 rows x 5 columns]",
      "text/html": "<div>\n<style scoped>\n    .dataframe tbody tr th:only-of-type {\n        vertical-align: middle;\n    }\n\n    .dataframe tbody tr th {\n        vertical-align: top;\n    }\n\n    .dataframe thead th {\n        text-align: right;\n    }\n</style>\n<table border=\"1\" class=\"dataframe\">\n  <thead>\n    <tr style=\"text-align: right;\">\n      <th></th>\n      <th>user_id</th>\n      <th>item_id</th>\n      <th>last_watch_dt</th>\n      <th>total_dur</th>\n      <th>watched_pct</th>\n    </tr>\n  </thead>\n  <tbody>\n    <tr>\n      <th>0</th>\n      <td>176549</td>\n      <td>9506</td>\n      <td>2021-05-11</td>\n      <td>4250</td>\n      <td>72.0</td>\n    </tr>\n    <tr>\n      <th>1</th>\n      <td>699317</td>\n      <td>1659</td>\n      <td>2021-05-29</td>\n      <td>8317</td>\n      <td>100.0</td>\n    </tr>\n    <tr>\n      <th>2</th>\n      <td>656683</td>\n      <td>7107</td>\n      <td>2021-05-09</td>\n      <td>10</td>\n      <td>0.0</td>\n    </tr>\n    <tr>\n      <th>3</th>\n      <td>864613</td>\n      <td>7638</td>\n      <td>2021-07-05</td>\n      <td>14483</td>\n      <td>100.0</td>\n    </tr>\n    <tr>\n      <th>4</th>\n      <td>964868</td>\n      <td>9506</td>\n      <td>2021-04-30</td>\n      <td>6725</td>\n      <td>100.0</td>\n    </tr>\n    <tr>\n      <th>...</th>\n      <td>...</td>\n      <td>...</td>\n      <td>...</td>\n      <td>...</td>\n      <td>...</td>\n    </tr>\n    <tr>\n      <th>5476244</th>\n      <td>438585</td>\n      <td>7829</td>\n      <td>2021-08-02</td>\n      <td>6804</td>\n      <td>100.0</td>\n    </tr>\n    <tr>\n      <th>5476245</th>\n      <td>786732</td>\n      <td>4880</td>\n      <td>2021-05-12</td>\n      <td>753</td>\n      <td>0.0</td>\n    </tr>\n    <tr>\n      <th>5476247</th>\n      <td>546862</td>\n      <td>9673</td>\n      <td>2021-04-13</td>\n      <td>2308</td>\n      <td>49.0</td>\n    </tr>\n    <tr>\n      <th>5476249</th>\n      <td>384202</td>\n      <td>16197</td>\n      <td>2021-04-19</td>\n      <td>6203</td>\n      <td>100.0</td>\n    </tr>\n    <tr>\n      <th>5476250</th>\n      <td>319709</td>\n      <td>4436</td>\n      <td>2021-08-15</td>\n      <td>3921</td>\n      <td>45.0</td>\n    </tr>\n  </tbody>\n</table>\n<p>4167144 rows × 5 columns</p>\n</div>"
     },
     "execution_count": 2,
     "metadata": {},
     "output_type": "execute_result"
    }
   ],
   "source": [
    "interactions_df = pd.read_csv('../artifacts/data_original/interactions.csv')\n",
    "users = pd.read_csv('../artifacts/data_original/users.csv')\n",
    "items = pd.read_csv('../artifacts/data_original/items.csv')\n",
    "\n",
    "Columns.Datetime = 'last_watch_dt'\n",
    "Columns.Weight = 'watched_pct'\n",
    "user_ids_all = interactions_df.groupby(Columns.User)[Columns.Item].nunique().reset_index(name='unique_items_count')\n",
    "hot_users = user_ids_all[user_ids_all['unique_items_count'] > 1][Columns.User]\n",
    "interactions_df_hot_users = interactions_df[interactions_df[Columns.User].isin(hot_users)]\n",
    "\n",
    "\n",
    "users = users[users[Columns.User].isin(interactions_df_hot_users[Columns.User])]\n",
    "interactions_df_hot_users = interactions_df_hot_users[interactions_df_hot_users[Columns.User].isin(users[Columns.User])]\n",
    "items = items[items[Columns.Item].isin(interactions_df_hot_users[Columns.Item])]\n",
    "\n",
    "interactions = interactions_df_hot_users   \n",
    "catalog = interactions[Columns.Item].unique()\n",
    "interactions"
   ],
   "metadata": {
    "collapsed": false,
    "ExecuteTime": {
     "end_time": "2023-12-05T13:15:04.555022316Z",
     "start_time": "2023-12-05T13:15:00.963158395Z"
    }
   },
   "id": "243031044b35d68a"
  },
  {
   "cell_type": "code",
   "execution_count": 3,
   "outputs": [
    {
     "name": "stdout",
     "output_type": "stream",
     "text": [
      "train: (3806591, 5)\n",
      "test: (360553, 5)\n",
      "train: (2938674, 5)\n",
      "test: (268625, 5)\n"
     ]
    }
   ],
   "source": [
    "interactions[Columns.Datetime] = pd.to_datetime(interactions[Columns.Datetime], format='%Y-%m-%d')\n",
    "max_date = interactions[Columns.Datetime].max()\n",
    "\n",
    "train = interactions[interactions[Columns.Datetime] < max_date - pd.Timedelta(days=7)].copy()\n",
    "test = interactions[interactions[Columns.Datetime] >= max_date - pd.Timedelta(days=7)].copy()\n",
    "\n",
    "print(f\"train: {train.shape}\")\n",
    "print(f\"test: {test.shape}\")\n",
    "\n",
    "train.drop(train.query(\"total_dur < 300\").index, inplace=True)\n",
    "cold_users = set(test[Columns.User]) - set(train[Columns.User])\n",
    "test.drop(test[test[Columns.User].isin(cold_users)].index, inplace=True)\n",
    "\n",
    "print(f\"train: {train.shape}\")\n",
    "print(f\"test: {test.shape}\")"
   ],
   "metadata": {
    "collapsed": false,
    "ExecuteTime": {
     "end_time": "2023-12-05T13:15:05.808502723Z",
     "start_time": "2023-12-05T13:15:04.630321729Z"
    }
   },
   "id": "9fac74849b9140ea"
  },
  {
   "cell_type": "code",
   "execution_count": 5,
   "outputs": [],
   "source": [
    "interactions = Interactions(interactions)"
   ],
   "metadata": {
    "collapsed": false,
    "ExecuteTime": {
     "end_time": "2023-12-05T13:15:05.845023739Z",
     "start_time": "2023-12-05T13:15:05.814625088Z"
    }
   },
   "id": "a9532ea00b035dc7"
  },
  {
   "cell_type": "code",
   "execution_count": 6,
   "outputs": [
    {
     "data": {
      "text/plain": "[(Timestamp('2021-08-09 00:00:00', freq='14D'),\n  Timestamp('2021-08-23 00:00:00', freq='14D'))]"
     },
     "execution_count": 6,
     "metadata": {},
     "output_type": "execute_result"
    }
   ],
   "source": [
    "N_SPLITS = 1\n",
    "TEST_SIZE = '14D'\n",
    "\n",
    "cv = TimeRangeSplitter(\n",
    "    test_size=TEST_SIZE,\n",
    "    n_splits=N_SPLITS,\n",
    "    filter_already_seen=True,\n",
    "    filter_cold_items=True,\n",
    "    filter_cold_users=False,\n",
    ")\n",
    "cv.get_test_fold_borders(interactions)"
   ],
   "metadata": {
    "collapsed": false,
    "ExecuteTime": {
     "end_time": "2023-12-05T13:15:05.845450905Z",
     "start_time": "2023-12-05T13:15:05.835610017Z"
    }
   },
   "id": "ed60ede1ed59409e"
  },
  {
   "cell_type": "code",
   "execution_count": 7,
   "outputs": [
    {
     "name": "stderr",
     "output_type": "stream",
     "text": [
      "/home/vorkov/Workspace/RecoServiceTemplate/venv/lib/python3.10/site-packages/implicit/cpu/als.py:95: RuntimeWarning: OpenBLAS is configured to use 16 threads. It is highly recommended to disable its internal threadpool by setting the environment variable 'OPENBLAS_NUM_THREADS=1' or by calling 'threadpoolctl.threadpool_limits(1, \"blas\")'. Having OpenBLAS use a threadpool can lead to severe performance issues here.\n",
      "  check_blas_config()\n"
     ]
    }
   ],
   "source": [
    "K_RECOS = 10\n",
    "RANDOM_STATE = 42\n",
    "NUM_THREADS = 16\n",
    "N_FACTORS = (32,)\n",
    "N_EPOCHS = 1 # Lightfm\n",
    "USER_ALPHA = 0 # Lightfm\n",
    "ITEM_ALPHA = 0 # Lightfm\n",
    "LEARNING_RATE = 0.005 # Lightfm\n",
    "\n",
    "metrics = {\n",
    "    'map@10': MAP(k=10),\n",
    "    'novelty': MeanInvUserFreq(k=10)\n",
    "}\n",
    "\n",
    "models = {}\n",
    "\n",
    "implicit_models = {\n",
    "    'ALS': AlternatingLeastSquares,\n",
    "}\n",
    "for implicit_name, implicit_model in implicit_models.items():\n",
    "    for is_fitting_features in (True, False):\n",
    "        for n_factors in N_FACTORS:\n",
    "            models[f\"{implicit_name}_{n_factors}_{is_fitting_features}\"] = (\n",
    "                ImplicitALSWrapperModel(\n",
    "                    model=implicit_model(\n",
    "                        factors=n_factors, \n",
    "                        random_state=RANDOM_STATE, \n",
    "                        num_threads=NUM_THREADS,\n",
    "                    ),\n",
    "                    fit_features_together=is_fitting_features,\n",
    "                )\n",
    "            )\n",
    "\n",
    "lightfm_losses = ('logistic', 'bpr', 'warp')\n",
    "\n",
    "for loss in lightfm_losses:\n",
    "    for n_factors in N_FACTORS:\n",
    "        models[f\"LightFM_{loss}_{n_factors}\"] = LightFMWrapperModel(\n",
    "            LightFM(\n",
    "                no_components=n_factors, \n",
    "                loss=loss, \n",
    "                random_state=RANDOM_STATE,\n",
    "                learning_rate=LEARNING_RATE,\n",
    "                user_alpha=USER_ALPHA,\n",
    "                item_alpha=ITEM_ALPHA,\n",
    "            ),\n",
    "            epochs=N_EPOCHS,\n",
    "            num_threads=NUM_THREADS,\n",
    "        )"
   ],
   "metadata": {
    "collapsed": false,
    "ExecuteTime": {
     "end_time": "2023-12-05T13:15:05.889363695Z",
     "start_time": "2023-12-05T13:15:05.845650718Z"
    }
   },
   "id": "12057eb3eb2c9ea3"
  },
  {
   "cell_type": "code",
   "execution_count": 8,
   "outputs": [
    {
     "data": {
      "text/plain": "        id value feature\n0   973171     М     sex\n1   962099     М     sex\n3   721985     Ж     sex\n4   704055     Ж     sex\n5  1037719     М     sex",
      "text/html": "<div>\n<style scoped>\n    .dataframe tbody tr th:only-of-type {\n        vertical-align: middle;\n    }\n\n    .dataframe tbody tr th {\n        vertical-align: top;\n    }\n\n    .dataframe thead th {\n        text-align: right;\n    }\n</style>\n<table border=\"1\" class=\"dataframe\">\n  <thead>\n    <tr style=\"text-align: right;\">\n      <th></th>\n      <th>id</th>\n      <th>value</th>\n      <th>feature</th>\n    </tr>\n  </thead>\n  <tbody>\n    <tr>\n      <th>0</th>\n      <td>973171</td>\n      <td>М</td>\n      <td>sex</td>\n    </tr>\n    <tr>\n      <th>1</th>\n      <td>962099</td>\n      <td>М</td>\n      <td>sex</td>\n    </tr>\n    <tr>\n      <th>3</th>\n      <td>721985</td>\n      <td>Ж</td>\n      <td>sex</td>\n    </tr>\n    <tr>\n      <th>4</th>\n      <td>704055</td>\n      <td>Ж</td>\n      <td>sex</td>\n    </tr>\n    <tr>\n      <th>5</th>\n      <td>1037719</td>\n      <td>М</td>\n      <td>sex</td>\n    </tr>\n  </tbody>\n</table>\n</div>"
     },
     "execution_count": 8,
     "metadata": {},
     "output_type": "execute_result"
    }
   ],
   "source": [
    "user_features_frames = []\n",
    "for feature in [\"sex\", \"age\", \"income\"]:\n",
    "    feature_frame = users.reindex(columns=[Columns.User, feature])\n",
    "    feature_frame.columns = [\"id\", \"value\"]\n",
    "    feature_frame[\"feature\"] = feature\n",
    "    user_features_frames.append(feature_frame)\n",
    "user_features = pd.concat(user_features_frames)\n",
    "user_features.head()"
   ],
   "metadata": {
    "collapsed": false,
    "ExecuteTime": {
     "end_time": "2023-12-05T13:15:05.889777617Z",
     "start_time": "2023-12-05T13:15:05.889156899Z"
    }
   },
   "id": "7314cd296c89e9a6"
  },
  {
   "cell_type": "code",
   "execution_count": 9,
   "outputs": [
    {
     "data": {
      "text/plain": "        user_id         age        income  sex  kids_flg\n0        973171   age_25_34  income_60_90    М         1\n1        962099   age_18_24  income_20_40    М         0\n3        721985   age_45_54  income_20_40    Ж         0\n4        704055   age_35_44  income_60_90    Ж         0\n5       1037719   age_45_54  income_60_90    М         0\n...         ...         ...           ...  ...       ...\n840179   848247   age_18_24  income_20_40    Ж         0\n840182   374327   age_35_44  income_20_40    М         1\n840188   312839  age_65_inf  income_60_90    Ж         0\n840190   393868   age_25_34  income_20_40    М         0\n840194   251008         NaN           NaN  NaN         0\n\n[486955 rows x 5 columns]",
      "text/html": "<div>\n<style scoped>\n    .dataframe tbody tr th:only-of-type {\n        vertical-align: middle;\n    }\n\n    .dataframe tbody tr th {\n        vertical-align: top;\n    }\n\n    .dataframe thead th {\n        text-align: right;\n    }\n</style>\n<table border=\"1\" class=\"dataframe\">\n  <thead>\n    <tr style=\"text-align: right;\">\n      <th></th>\n      <th>user_id</th>\n      <th>age</th>\n      <th>income</th>\n      <th>sex</th>\n      <th>kids_flg</th>\n    </tr>\n  </thead>\n  <tbody>\n    <tr>\n      <th>0</th>\n      <td>973171</td>\n      <td>age_25_34</td>\n      <td>income_60_90</td>\n      <td>М</td>\n      <td>1</td>\n    </tr>\n    <tr>\n      <th>1</th>\n      <td>962099</td>\n      <td>age_18_24</td>\n      <td>income_20_40</td>\n      <td>М</td>\n      <td>0</td>\n    </tr>\n    <tr>\n      <th>3</th>\n      <td>721985</td>\n      <td>age_45_54</td>\n      <td>income_20_40</td>\n      <td>Ж</td>\n      <td>0</td>\n    </tr>\n    <tr>\n      <th>4</th>\n      <td>704055</td>\n      <td>age_35_44</td>\n      <td>income_60_90</td>\n      <td>Ж</td>\n      <td>0</td>\n    </tr>\n    <tr>\n      <th>5</th>\n      <td>1037719</td>\n      <td>age_45_54</td>\n      <td>income_60_90</td>\n      <td>М</td>\n      <td>0</td>\n    </tr>\n    <tr>\n      <th>...</th>\n      <td>...</td>\n      <td>...</td>\n      <td>...</td>\n      <td>...</td>\n      <td>...</td>\n    </tr>\n    <tr>\n      <th>840179</th>\n      <td>848247</td>\n      <td>age_18_24</td>\n      <td>income_20_40</td>\n      <td>Ж</td>\n      <td>0</td>\n    </tr>\n    <tr>\n      <th>840182</th>\n      <td>374327</td>\n      <td>age_35_44</td>\n      <td>income_20_40</td>\n      <td>М</td>\n      <td>1</td>\n    </tr>\n    <tr>\n      <th>840188</th>\n      <td>312839</td>\n      <td>age_65_inf</td>\n      <td>income_60_90</td>\n      <td>Ж</td>\n      <td>0</td>\n    </tr>\n    <tr>\n      <th>840190</th>\n      <td>393868</td>\n      <td>age_25_34</td>\n      <td>income_20_40</td>\n      <td>М</td>\n      <td>0</td>\n    </tr>\n    <tr>\n      <th>840194</th>\n      <td>251008</td>\n      <td>NaN</td>\n      <td>NaN</td>\n      <td>NaN</td>\n      <td>0</td>\n    </tr>\n  </tbody>\n</table>\n<p>486955 rows × 5 columns</p>\n</div>"
     },
     "execution_count": 9,
     "metadata": {},
     "output_type": "execute_result"
    }
   ],
   "source": [
    "users"
   ],
   "metadata": {
    "collapsed": false,
    "ExecuteTime": {
     "end_time": "2023-12-05T13:15:05.891205810Z",
     "start_time": "2023-12-05T13:15:05.889271132Z"
    }
   },
   "id": "ee79334494177fb5"
  },
  {
   "cell_type": "code",
   "execution_count": 10,
   "outputs": [],
   "source": [
    "items[\"genre\"] = items[\"genres\"].str.lower().str.replace(\", \", \",\", regex=False).str.split(\",\")\n",
    "genre_feature = items[[\"item_id\", \"genre\"]].explode(\"genre\")\n",
    "genre_feature.columns = [\"id\", \"value\"]\n",
    "genre_feature[\"feature\"] = \"genre\"\n",
    "genre_feature.head()\n",
    "\n",
    "content_feature = items.reindex(columns=[Columns.Item, \"content_type\"])\n",
    "content_feature.columns = [\"id\", \"value\"]\n",
    "content_feature[\"feature\"] = \"content_type\"\n",
    "\n",
    "item_features = pd.concat((genre_feature, content_feature))"
   ],
   "metadata": {
    "collapsed": false,
    "ExecuteTime": {
     "end_time": "2023-12-05T13:15:05.980410841Z",
     "start_time": "2023-12-05T13:15:05.933327529Z"
    }
   },
   "id": "7b5d9e3f7eb2e273"
  },
  {
   "cell_type": "code",
   "execution_count": 11,
   "outputs": [
    {
     "name": "stdout",
     "output_type": "stream",
     "text": [
      "CPU times: user 525 ms, sys: 23.9 ms, total: 549 ms\n",
      "Wall time: 550 ms\n"
     ]
    }
   ],
   "source": [
    "%%time\n",
    "dataset = Dataset.construct(\n",
    "    interactions_df=interactions_df_hot_users,\n",
    "    user_features_df=user_features,\n",
    "    cat_user_features=[\"sex\", \"age\", \"income\"],\n",
    "    item_features_df=item_features,\n",
    "    cat_item_features=[\"genre\", \"content_type\"],\n",
    ")"
   ],
   "metadata": {
    "collapsed": false,
    "ExecuteTime": {
     "end_time": "2023-12-05T13:15:06.467893405Z",
     "start_time": "2023-12-05T13:15:05.933553661Z"
    }
   },
   "id": "99e17cf251fc268e"
  },
  {
   "cell_type": "code",
   "execution_count": 12,
   "outputs": [
    {
     "name": "stdout",
     "output_type": "stream",
     "text": [
      "Fitting model ALS_32_True...\n"
     ]
    },
    {
     "name": "stderr",
     "output_type": "stream",
     "text": [
      "/home/vorkov/Workspace/RecoServiceTemplate/venv/lib/python3.10/site-packages/rectools/dataset/features.py:420: UserWarning: Converting sparse features to dense array may cause MemoryError\n",
      "  warnings.warn(\"Converting sparse features to dense array may cause MemoryError\")\n"
     ]
    },
    {
     "name": "stdout",
     "output_type": "stream",
     "text": [
      "        user_id  item_id  score  rank\n",
      "0        200197     8437    NaN     1\n",
      "1        200197    12173    NaN     2\n",
      "2        200197     7571    NaN     3\n",
      "3        200197     1449    NaN     4\n",
      "4        200197      693    NaN     5\n",
      "...         ...      ...    ...   ...\n",
      "920345   442859      354    NaN     6\n",
      "920346   442859     7638    NaN     7\n",
      "920347   442859     7107    NaN     8\n",
      "920348   442859     1659    NaN     9\n",
      "920349   442859     9506    NaN    10\n",
      "\n",
      "[920350 rows x 4 columns]\n",
      "Fitting model ALS_32_False...\n"
     ]
    },
    {
     "ename": "ModelFitError",
     "evalue": "NaN encountered in factors",
     "output_type": "error",
     "traceback": [
      "\u001B[0;31m---------------------------------------------------------------------------\u001B[0m",
      "\u001B[0;31mModelFitError\u001B[0m                             Traceback (most recent call last)",
      "File \u001B[0;32m<timed exec>:17\u001B[0m\n",
      "File \u001B[0;32m~/Workspace/RecoServiceTemplate/venv/lib/python3.10/site-packages/rectools/models/base.py:55\u001B[0m, in \u001B[0;36mModelBase.fit\u001B[0;34m(self, dataset, *args, **kwargs)\u001B[0m\n\u001B[1;32m     42\u001B[0m \u001B[38;5;28;01mdef\u001B[39;00m \u001B[38;5;21mfit\u001B[39m(\u001B[38;5;28mself\u001B[39m: T, dataset: Dataset, \u001B[38;5;241m*\u001B[39margs: tp\u001B[38;5;241m.\u001B[39mAny, \u001B[38;5;241m*\u001B[39m\u001B[38;5;241m*\u001B[39mkwargs: tp\u001B[38;5;241m.\u001B[39mAny) \u001B[38;5;241m-\u001B[39m\u001B[38;5;241m>\u001B[39m T:\n\u001B[1;32m     43\u001B[0m \u001B[38;5;250m    \u001B[39m\u001B[38;5;124;03m\"\"\"\u001B[39;00m\n\u001B[1;32m     44\u001B[0m \u001B[38;5;124;03m    Fit model.\u001B[39;00m\n\u001B[1;32m     45\u001B[0m \n\u001B[0;32m   (...)\u001B[0m\n\u001B[1;32m     53\u001B[0m \u001B[38;5;124;03m    self\u001B[39;00m\n\u001B[1;32m     54\u001B[0m \u001B[38;5;124;03m    \"\"\"\u001B[39;00m\n\u001B[0;32m---> 55\u001B[0m     \u001B[38;5;28;43mself\u001B[39;49m\u001B[38;5;241;43m.\u001B[39;49m\u001B[43m_fit\u001B[49m\u001B[43m(\u001B[49m\u001B[43mdataset\u001B[49m\u001B[43m,\u001B[49m\u001B[43m \u001B[49m\u001B[38;5;241;43m*\u001B[39;49m\u001B[43margs\u001B[49m\u001B[43m,\u001B[49m\u001B[43m \u001B[49m\u001B[38;5;241;43m*\u001B[39;49m\u001B[38;5;241;43m*\u001B[39;49m\u001B[43mkwargs\u001B[49m\u001B[43m)\u001B[49m\n\u001B[1;32m     56\u001B[0m     \u001B[38;5;28mself\u001B[39m\u001B[38;5;241m.\u001B[39mis_fitted \u001B[38;5;241m=\u001B[39m \u001B[38;5;28;01mTrue\u001B[39;00m\n\u001B[1;32m     57\u001B[0m     \u001B[38;5;28;01mreturn\u001B[39;00m \u001B[38;5;28mself\u001B[39m\n",
      "File \u001B[0;32m~/Workspace/RecoServiceTemplate/venv/lib/python3.10/site-packages/rectools/models/implicit_als.py:81\u001B[0m, in \u001B[0;36mImplicitALSWrapperModel._fit\u001B[0;34m(self, dataset)\u001B[0m\n\u001B[1;32m     73\u001B[0m     fit_als_with_features_together_inplace(\n\u001B[1;32m     74\u001B[0m         \u001B[38;5;28mself\u001B[39m\u001B[38;5;241m.\u001B[39mmodel,\n\u001B[1;32m     75\u001B[0m         ui_csr,\n\u001B[0;32m   (...)\u001B[0m\n\u001B[1;32m     78\u001B[0m         \u001B[38;5;28mself\u001B[39m\u001B[38;5;241m.\u001B[39mverbose,\n\u001B[1;32m     79\u001B[0m     )\n\u001B[1;32m     80\u001B[0m \u001B[38;5;28;01melse\u001B[39;00m:\n\u001B[0;32m---> 81\u001B[0m     \u001B[43mfit_als_with_features_separately_inplace\u001B[49m\u001B[43m(\u001B[49m\n\u001B[1;32m     82\u001B[0m \u001B[43m        \u001B[49m\u001B[38;5;28;43mself\u001B[39;49m\u001B[38;5;241;43m.\u001B[39;49m\u001B[43mmodel\u001B[49m\u001B[43m,\u001B[49m\n\u001B[1;32m     83\u001B[0m \u001B[43m        \u001B[49m\u001B[43mui_csr\u001B[49m\u001B[43m,\u001B[49m\n\u001B[1;32m     84\u001B[0m \u001B[43m        \u001B[49m\u001B[43mdataset\u001B[49m\u001B[38;5;241;43m.\u001B[39;49m\u001B[43muser_features\u001B[49m\u001B[43m,\u001B[49m\n\u001B[1;32m     85\u001B[0m \u001B[43m        \u001B[49m\u001B[43mdataset\u001B[49m\u001B[38;5;241;43m.\u001B[39;49m\u001B[43mitem_features\u001B[49m\u001B[43m,\u001B[49m\n\u001B[1;32m     86\u001B[0m \u001B[43m        \u001B[49m\u001B[38;5;28;43mself\u001B[39;49m\u001B[38;5;241;43m.\u001B[39;49m\u001B[43mverbose\u001B[49m\u001B[43m,\u001B[49m\n\u001B[1;32m     87\u001B[0m \u001B[43m    \u001B[49m\u001B[43m)\u001B[49m\n",
      "File \u001B[0;32m~/Workspace/RecoServiceTemplate/venv/lib/python3.10/site-packages/rectools/models/implicit_als.py:172\u001B[0m, in \u001B[0;36mfit_als_with_features_separately_inplace\u001B[0;34m(model, ui_csr, user_features, item_features, verbose)\u001B[0m\n\u001B[1;32m    155\u001B[0m \u001B[38;5;250m\u001B[39m\u001B[38;5;124;03m\"\"\"\u001B[39;00m\n\u001B[1;32m    156\u001B[0m \u001B[38;5;124;03mFit ALS model with explicit features, explicit features fit separately from latent.\u001B[39;00m\n\u001B[1;32m    157\u001B[0m \n\u001B[0;32m   (...)\u001B[0m\n\u001B[1;32m    169\u001B[0m \u001B[38;5;124;03m     Whether to print output.\u001B[39;00m\n\u001B[1;32m    170\u001B[0m \u001B[38;5;124;03m\"\"\"\u001B[39;00m\n\u001B[1;32m    171\u001B[0m iu_csr \u001B[38;5;241m=\u001B[39m ui_csr\u001B[38;5;241m.\u001B[39mT\u001B[38;5;241m.\u001B[39mtocsr(copy\u001B[38;5;241m=\u001B[39m\u001B[38;5;28;01mFalse\u001B[39;00m)\n\u001B[0;32m--> 172\u001B[0m \u001B[43mmodel\u001B[49m\u001B[38;5;241;43m.\u001B[39;49m\u001B[43mfit\u001B[49m\u001B[43m(\u001B[49m\u001B[43mui_csr\u001B[49m\u001B[43m,\u001B[49m\u001B[43m \u001B[49m\u001B[43mshow_progress\u001B[49m\u001B[38;5;241;43m=\u001B[39;49m\u001B[43mverbose\u001B[49m\u001B[43m \u001B[49m\u001B[38;5;241;43m>\u001B[39;49m\u001B[43m \u001B[49m\u001B[38;5;241;43m0\u001B[39;49m\u001B[43m)\u001B[49m\n\u001B[1;32m    174\u001B[0m user_factors_chunks \u001B[38;5;241m=\u001B[39m [get_users_vectors(model)]\n\u001B[1;32m    175\u001B[0m item_factors_chunks \u001B[38;5;241m=\u001B[39m [get_items_vectors(model)]\n",
      "File \u001B[0;32m~/Workspace/RecoServiceTemplate/venv/lib/python3.10/site-packages/implicit/cpu/als.py:201\u001B[0m, in \u001B[0;36mAlternatingLeastSquares.fit\u001B[0;34m(self, user_items, show_progress, callback)\u001B[0m\n\u001B[1;32m    198\u001B[0m \u001B[38;5;28;01mif\u001B[39;00m \u001B[38;5;28mself\u001B[39m\u001B[38;5;241m.\u001B[39mcalculate_training_loss:\n\u001B[1;32m    199\u001B[0m     log\u001B[38;5;241m.\u001B[39minfo(\u001B[38;5;124m\"\u001B[39m\u001B[38;5;124mFinal training loss \u001B[39m\u001B[38;5;132;01m%.4f\u001B[39;00m\u001B[38;5;124m\"\u001B[39m, loss)\n\u001B[0;32m--> 201\u001B[0m \u001B[38;5;28;43mself\u001B[39;49m\u001B[38;5;241;43m.\u001B[39;49m\u001B[43m_check_fit_errors\u001B[49m\u001B[43m(\u001B[49m\u001B[43m)\u001B[49m\n",
      "File \u001B[0;32m~/Workspace/RecoServiceTemplate/venv/lib/python3.10/site-packages/implicit/cpu/matrix_factorization_base.py:252\u001B[0m, in \u001B[0;36mMatrixFactorizationBase._check_fit_errors\u001B[0;34m(self)\u001B[0m\n\u001B[1;32m    250\u001B[0m is_nan \u001B[38;5;241m|\u001B[39m\u001B[38;5;241m=\u001B[39m np\u001B[38;5;241m.\u001B[39many(np\u001B[38;5;241m.\u001B[39misnan(\u001B[38;5;28mself\u001B[39m\u001B[38;5;241m.\u001B[39mitem_factors), axis\u001B[38;5;241m=\u001B[39m\u001B[38;5;28;01mNone\u001B[39;00m)\n\u001B[1;32m    251\u001B[0m \u001B[38;5;28;01mif\u001B[39;00m is_nan:\n\u001B[0;32m--> 252\u001B[0m     \u001B[38;5;28;01mraise\u001B[39;00m ModelFitError(\u001B[38;5;124m\"\u001B[39m\u001B[38;5;124mNaN encountered in factors\u001B[39m\u001B[38;5;124m\"\u001B[39m)\n",
      "\u001B[0;31mModelFitError\u001B[0m: NaN encountered in factors"
     ]
    }
   ],
   "source": [
    "%%time\n",
    "    \n",
    "cv.get_test_fold_borders(interactions)\n",
    "\n",
    "results = []\n",
    "\n",
    "\n",
    "TEST_USERS = test[Columns.User].unique()\n",
    "\n",
    "\n",
    "# df_train = interactions.df.iloc[train_ids]\n",
    "# df_test = interactions.df.iloc[test_ids][Columns.UserItem]\n",
    "# test_users = np.unique(df_test[Columns.User])\n",
    "\n",
    "for model_name, model in models.items():\n",
    "    print(f\"Fitting model {model_name}...\")\n",
    "    model_quality = {'model': model_name}\n",
    "\n",
    "    model.fit(dataset)\n",
    "    recos = model.recommend(\n",
    "        users=TEST_USERS,\n",
    "        dataset=dataset,\n",
    "        k=K_RECOS,\n",
    "        filter_viewed=True,\n",
    "    )\n",
    "    print(recos)\n",
    "    metric_values = calc_metrics(\n",
    "            metrics,\n",
    "            reco=recos,\n",
    "            interactions=test,\n",
    "            prev_interactions=interactions.df,\n",
    "            catalog=catalog,\n",
    "        )\n",
    "    model_quality.update(metric_values)\n",
    "    results.append(model_quality)\n"
   ],
   "metadata": {
    "collapsed": false,
    "ExecuteTime": {
     "end_time": "2023-12-05T13:17:36.853240844Z",
     "start_time": "2023-12-05T13:15:06.469602893Z"
    }
   },
   "id": "f6b2779cbda61cf6"
  },
  {
   "cell_type": "code",
   "execution_count": 16,
   "outputs": [
    {
     "data": {
      "text/plain": "array([200197,  73446,  10010, ..., 436503, 623792, 442859])"
     },
     "execution_count": 16,
     "metadata": {},
     "output_type": "execute_result"
    }
   ],
   "source": [
    "TEST_USERS"
   ],
   "metadata": {
    "collapsed": false,
    "ExecuteTime": {
     "end_time": "2023-12-05T13:46:38.536936608Z",
     "start_time": "2023-12-05T13:46:38.484247068Z"
    }
   },
   "id": "a6efc65061df1f74"
  },
  {
   "cell_type": "code",
   "execution_count": 13,
   "outputs": [],
   "source": [
    "df_quality = pd.DataFrame(results).T\n",
    "df_quality.columns = df_quality.iloc[0]\n",
    "df_quality.drop('model', inplace=True)"
   ],
   "metadata": {
    "collapsed": false,
    "ExecuteTime": {
     "end_time": "2023-12-05T13:17:36.872541652Z",
     "start_time": "2023-12-05T13:17:36.841143638Z"
    }
   },
   "id": "7d69b5444342e31"
  },
  {
   "cell_type": "code",
   "execution_count": 14,
   "outputs": [
    {
     "data": {
      "text/plain": "model   ALS_32_True\nmap@10     0.003796\nnovelty    7.773237",
      "text/html": "<div>\n<style scoped>\n    .dataframe tbody tr th:only-of-type {\n        vertical-align: middle;\n    }\n\n    .dataframe tbody tr th {\n        vertical-align: top;\n    }\n\n    .dataframe thead th {\n        text-align: right;\n    }\n</style>\n<table border=\"1\" class=\"dataframe\">\n  <thead>\n    <tr style=\"text-align: right;\">\n      <th>model</th>\n      <th>ALS_32_True</th>\n    </tr>\n  </thead>\n  <tbody>\n    <tr>\n      <th>map@10</th>\n      <td>0.003796</td>\n    </tr>\n    <tr>\n      <th>novelty</th>\n      <td>7.773237</td>\n    </tr>\n  </tbody>\n</table>\n</div>"
     },
     "execution_count": 14,
     "metadata": {},
     "output_type": "execute_result"
    }
   ],
   "source": [
    "df_quality.style.highlight_max(color='lightgreen', axis=1).data"
   ],
   "metadata": {
    "collapsed": false,
    "ExecuteTime": {
     "end_time": "2023-12-05T13:17:36.872994306Z",
     "start_time": "2023-12-05T13:17:36.841260846Z"
    }
   },
   "id": "7d59f9c39b06aaaa"
  },
  {
   "cell_type": "code",
   "execution_count": 14,
   "outputs": [],
   "source": [],
   "metadata": {
    "collapsed": false,
    "ExecuteTime": {
     "end_time": "2023-12-05T13:17:36.873077501Z",
     "start_time": "2023-12-05T13:17:36.841317713Z"
    }
   },
   "id": "baa3c50c29aa58fb"
  }
 ],
 "metadata": {
  "kernelspec": {
   "display_name": "Python 3",
   "language": "python",
   "name": "python3"
  },
  "language_info": {
   "codemirror_mode": {
    "name": "ipython",
    "version": 2
   },
   "file_extension": ".py",
   "mimetype": "text/x-python",
   "name": "python",
   "nbconvert_exporter": "python",
   "pygments_lexer": "ipython2",
   "version": "2.7.6"
  }
 },
 "nbformat": 4,
 "nbformat_minor": 5
}
