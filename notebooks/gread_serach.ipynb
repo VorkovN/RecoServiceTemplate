{
 "cells": [
  {
   "cell_type": "code",
   "execution_count": 61,
   "id": "initial_id",
   "metadata": {
    "collapsed": true,
    "ExecuteTime": {
     "end_time": "2023-12-05T17:51:49.007407236Z",
     "start_time": "2023-12-05T17:51:48.823840063Z"
    }
   },
   "outputs": [],
   "source": [
    "import pickle\n",
    "import numpy as np\n",
    "import pandas as pd\n",
    "from implicit.bpr import BayesianPersonalizedRanking\n",
    "from rectools.dataset import Interactions, Dataset\n",
    "from rectools.model_selection import TimeRangeSplitter\n",
    "from rectools.metrics import MAP, MeanInvUserFreq, calc_metrics, MRR, NDCG\n",
    "\n",
    "from implicit.als import AlternatingLeastSquares\n",
    "\n",
    "from rectools.metrics import Precision, Recall, MAP, calc_metrics\n",
    "from rectools import Columns\n",
    "from rectools.dataset import Dataset\n",
    "from rectools.models import ImplicitALSWrapperModel, LightFMWrapperModel, PopularModel\n",
    "from tqdm import tqdm\n",
    "\n",
    "from lightfm import LightFM\n",
    "\n",
    "import optuna"
   ]
  },
  {
   "cell_type": "code",
   "execution_count": 51,
   "outputs": [
    {
     "data": {
      "text/plain": "         user_id  item_id   datetime  weight  watched_pct\n0         176549     9506 2021-05-11  4250.0         72.0\n1         699317     1659 2021-05-29  8317.0        100.0\n6        1016458      354 2021-08-14  1672.0         25.0\n14          5324     8437 2021-04-18  6598.0         92.0\n18        927973     9617 2021-06-19  8422.0        100.0\n...          ...      ...        ...     ...          ...\n5476213   706423     3384 2021-03-13  5937.0        100.0\n5476223   489587     6945 2021-05-18   229.0          4.0\n5476226   435089    13475 2021-07-06  4624.0         85.0\n5476239   610017     7107 2021-05-10  1133.0         75.0\n5476249   384202    16197 2021-04-19  6203.0        100.0\n\n[1612379 rows x 5 columns]",
      "text/html": "<div>\n<style scoped>\n    .dataframe tbody tr th:only-of-type {\n        vertical-align: middle;\n    }\n\n    .dataframe tbody tr th {\n        vertical-align: top;\n    }\n\n    .dataframe thead th {\n        text-align: right;\n    }\n</style>\n<table border=\"1\" class=\"dataframe\">\n  <thead>\n    <tr style=\"text-align: right;\">\n      <th></th>\n      <th>user_id</th>\n      <th>item_id</th>\n      <th>datetime</th>\n      <th>weight</th>\n      <th>watched_pct</th>\n    </tr>\n  </thead>\n  <tbody>\n    <tr>\n      <th>0</th>\n      <td>176549</td>\n      <td>9506</td>\n      <td>2021-05-11</td>\n      <td>4250.0</td>\n      <td>72.0</td>\n    </tr>\n    <tr>\n      <th>1</th>\n      <td>699317</td>\n      <td>1659</td>\n      <td>2021-05-29</td>\n      <td>8317.0</td>\n      <td>100.0</td>\n    </tr>\n    <tr>\n      <th>6</th>\n      <td>1016458</td>\n      <td>354</td>\n      <td>2021-08-14</td>\n      <td>1672.0</td>\n      <td>25.0</td>\n    </tr>\n    <tr>\n      <th>14</th>\n      <td>5324</td>\n      <td>8437</td>\n      <td>2021-04-18</td>\n      <td>6598.0</td>\n      <td>92.0</td>\n    </tr>\n    <tr>\n      <th>18</th>\n      <td>927973</td>\n      <td>9617</td>\n      <td>2021-06-19</td>\n      <td>8422.0</td>\n      <td>100.0</td>\n    </tr>\n    <tr>\n      <th>...</th>\n      <td>...</td>\n      <td>...</td>\n      <td>...</td>\n      <td>...</td>\n      <td>...</td>\n    </tr>\n    <tr>\n      <th>5476213</th>\n      <td>706423</td>\n      <td>3384</td>\n      <td>2021-03-13</td>\n      <td>5937.0</td>\n      <td>100.0</td>\n    </tr>\n    <tr>\n      <th>5476223</th>\n      <td>489587</td>\n      <td>6945</td>\n      <td>2021-05-18</td>\n      <td>229.0</td>\n      <td>4.0</td>\n    </tr>\n    <tr>\n      <th>5476226</th>\n      <td>435089</td>\n      <td>13475</td>\n      <td>2021-07-06</td>\n      <td>4624.0</td>\n      <td>85.0</td>\n    </tr>\n    <tr>\n      <th>5476239</th>\n      <td>610017</td>\n      <td>7107</td>\n      <td>2021-05-10</td>\n      <td>1133.0</td>\n      <td>75.0</td>\n    </tr>\n    <tr>\n      <th>5476249</th>\n      <td>384202</td>\n      <td>16197</td>\n      <td>2021-04-19</td>\n      <td>6203.0</td>\n      <td>100.0</td>\n    </tr>\n  </tbody>\n</table>\n<p>1612379 rows × 5 columns</p>\n</div>"
     },
     "execution_count": 51,
     "metadata": {},
     "output_type": "execute_result"
    }
   ],
   "source": [
    "interactions_df = pd.read_csv('../artifacts/data_original/interactions.csv')\n",
    "users = pd.read_csv('../artifacts/data_original/users.csv')\n",
    "items = pd.read_csv('../artifacts/data_original/items.csv')\n",
    "\n",
    "interactions_df.rename(columns={'last_watch_dt': Columns.Datetime,\n",
    "                                'total_dur': Columns.Weight}, inplace=True) \n",
    "\n",
    "# Мы хотим учитывать юзеров с 1 или двумя просмотрами, так как этого недостаточно чтобы говорить о пользователях хоть что-нибудь\n",
    "user_ids_all = interactions_df.groupby(Columns.User)[Columns.Item].nunique().reset_index(name='unique_items_count')\n",
    "hot_users = user_ids_all[user_ids_all['unique_items_count'] > 20][Columns.User]\n",
    "interactions_df_hot_users = interactions_df[interactions_df[Columns.User].isin(hot_users)]\n",
    "\n",
    "\n",
    "users = users[users[Columns.User].isin(interactions_df_hot_users[Columns.User])]\n",
    "interactions_df_hot_users = interactions_df_hot_users[interactions_df_hot_users[Columns.User].isin(users[Columns.User])]\n",
    "items = items[items[Columns.Item].isin(interactions_df_hot_users[Columns.Item])]\n",
    "\n",
    "interactions = Interactions(interactions_df_hot_users)   \n",
    "catalog = interactions.df[Columns.Item].unique()\n",
    "\n",
    "interactions.df"
   ],
   "metadata": {
    "collapsed": false,
    "ExecuteTime": {
     "end_time": "2023-12-05T17:49:57.156414494Z",
     "start_time": "2023-12-05T17:49:53.042791865Z"
    }
   },
   "id": "243031044b35d68a"
  },
  {
   "cell_type": "code",
   "execution_count": 54,
   "outputs": [
    {
     "data": {
      "text/plain": "[(Timestamp('2021-07-12 00:00:00', freq='14D'),\n  Timestamp('2021-07-26 00:00:00', freq='14D')),\n (Timestamp('2021-07-26 00:00:00', freq='14D'),\n  Timestamp('2021-08-09 00:00:00', freq='14D')),\n (Timestamp('2021-08-09 00:00:00', freq='14D'),\n  Timestamp('2021-08-23 00:00:00', freq='14D'))]"
     },
     "execution_count": 54,
     "metadata": {},
     "output_type": "execute_result"
    }
   ],
   "source": [
    "N_SPLITS = 3\n",
    "TEST_SIZE = '7D'\n",
    "\n",
    "cv = TimeRangeSplitter(\n",
    "    test_size=TEST_SIZE,\n",
    "    n_splits=N_SPLITS,\n",
    "    filter_already_seen=True,\n",
    "    filter_cold_items=True,\n",
    "    filter_cold_users=True,\n",
    ")\n",
    "cv.get_test_fold_borders(interactions)"
   ],
   "metadata": {
    "collapsed": false,
    "ExecuteTime": {
     "end_time": "2023-12-05T17:49:57.188931148Z",
     "start_time": "2023-12-05T17:49:57.164420314Z"
    }
   },
   "id": "ed60ede1ed59409e"
  },
  {
   "cell_type": "code",
   "execution_count": 72,
   "outputs": [
    {
     "name": "stderr",
     "output_type": "stream",
     "text": [
      "[I 2023-12-05 22:20:02,047] A new study created in memory with name: no-name-69deb420-c0a8-4eac-b044-e097748227c4\n",
      "[W 2023-12-05 22:20:02,050] Trial 0 failed with parameters: {'no_components': 8, 'learning_rate': 0.05} because of the following error: The value None could not be cast to float..\n",
      "[W 2023-12-05 22:20:02,050] Trial 0 failed with value None.\n",
      "[W 2023-12-05 22:20:02,050] Trial 1 failed with parameters: {'no_components': 4, 'learning_rate': 0.05} because of the following error: The value None could not be cast to float..\n",
      "[W 2023-12-05 22:20:02,051] Trial 1 failed with value None.\n",
      "[W 2023-12-05 22:20:02,051] Trial 2 failed with parameters: {'no_components': 4, 'learning_rate': 0.01} because of the following error: The value None could not be cast to float..\n",
      "[W 2023-12-05 22:20:02,051] Trial 2 failed with value None.\n",
      "[W 2023-12-05 22:20:02,052] Trial 3 failed with parameters: {'no_components': 8, 'learning_rate': 0.002} because of the following error: The value None could not be cast to float..\n",
      "[W 2023-12-05 22:20:02,052] Trial 3 failed with value None.\n",
      "[W 2023-12-05 22:20:02,052] Trial 4 failed with parameters: {'no_components': 16, 'learning_rate': 0.01} because of the following error: The value None could not be cast to float..\n",
      "[W 2023-12-05 22:20:02,053] Trial 4 failed with value None.\n",
      "[W 2023-12-05 22:20:02,053] Trial 5 failed with parameters: {'no_components': 4, 'learning_rate': 0.002} because of the following error: The value None could not be cast to float..\n",
      "[W 2023-12-05 22:20:02,053] Trial 5 failed with value None.\n",
      "[W 2023-12-05 22:20:02,053] Trial 6 failed with parameters: {'no_components': 16, 'learning_rate': 0.05} because of the following error: The value None could not be cast to float..\n",
      "[W 2023-12-05 22:20:02,054] Trial 6 failed with value None.\n",
      "[W 2023-12-05 22:20:02,054] Trial 7 failed with parameters: {'no_components': 16, 'learning_rate': 0.05} because of the following error: The value None could not be cast to float..\n",
      "[W 2023-12-05 22:20:02,054] Trial 7 failed with value None.\n",
      "[W 2023-12-05 22:20:02,055] Trial 8 failed with parameters: {'no_components': 16, 'learning_rate': 0.01} because of the following error: The value None could not be cast to float..\n",
      "[W 2023-12-05 22:20:02,055] Trial 8 failed with value None.\n",
      "[W 2023-12-05 22:20:02,055] Trial 9 failed with parameters: {'no_components': 4, 'learning_rate': 0.002} because of the following error: The value None could not be cast to float..\n",
      "[W 2023-12-05 22:20:02,057] Trial 9 failed with value None.\n",
      "[W 2023-12-05 22:20:02,058] Trial 10 failed with parameters: {'no_components': 8, 'learning_rate': 0.05} because of the following error: The value None could not be cast to float..\n",
      "[W 2023-12-05 22:20:02,058] Trial 10 failed with value None.\n",
      "[W 2023-12-05 22:20:02,059] Trial 11 failed with parameters: {'no_components': 4, 'learning_rate': 0.01} because of the following error: The value None could not be cast to float..\n",
      "[W 2023-12-05 22:20:02,060] Trial 11 failed with value None.\n",
      "[W 2023-12-05 22:20:02,060] Trial 12 failed with parameters: {'no_components': 16, 'learning_rate': 0.002} because of the following error: The value None could not be cast to float..\n",
      "[W 2023-12-05 22:20:02,061] Trial 12 failed with value None.\n",
      "[W 2023-12-05 22:20:02,062] Trial 13 failed with parameters: {'no_components': 16, 'learning_rate': 0.002} because of the following error: The value None could not be cast to float..\n",
      "[W 2023-12-05 22:20:02,062] Trial 13 failed with value None.\n",
      "[W 2023-12-05 22:20:02,063] Trial 14 failed with parameters: {'no_components': 8, 'learning_rate': 0.05} because of the following error: The value None could not be cast to float..\n",
      "[W 2023-12-05 22:20:02,064] Trial 14 failed with value None.\n",
      "[W 2023-12-05 22:20:02,065] Trial 15 failed with parameters: {'no_components': 4, 'learning_rate': 0.05} because of the following error: The value None could not be cast to float..\n",
      "[W 2023-12-05 22:20:02,066] Trial 15 failed with value None.\n",
      "[W 2023-12-05 22:20:02,067] Trial 16 failed with parameters: {'no_components': 16, 'learning_rate': 0.01} because of the following error: The value None could not be cast to float..\n",
      "[W 2023-12-05 22:20:02,067] Trial 16 failed with value None.\n",
      "[W 2023-12-05 22:20:02,068] Trial 17 failed with parameters: {'no_components': 8, 'learning_rate': 0.002} because of the following error: The value None could not be cast to float..\n",
      "[W 2023-12-05 22:20:02,069] Trial 17 failed with value None.\n",
      "[W 2023-12-05 22:20:02,070] Trial 18 failed with parameters: {'no_components': 16, 'learning_rate': 0.05} because of the following error: The value None could not be cast to float..\n",
      "[W 2023-12-05 22:20:02,071] Trial 18 failed with value None.\n",
      "[W 2023-12-05 22:20:02,072] Trial 19 failed with parameters: {'no_components': 8, 'learning_rate': 0.05} because of the following error: The value None could not be cast to float..\n",
      "[W 2023-12-05 22:20:02,072] Trial 19 failed with value None.\n"
     ]
    }
   ],
   "source": [
    "K_RECOS = 10\n",
    "RANDOM_STATE = 42\n",
    "NUM_THREADS = 8\n",
    "N_FACTORS = 8\n",
    "N_EPOCHS = 1 # Lightfm\n",
    "LEARNING_RATE = 0.001 # Lightfm\n",
    "\n",
    "metrics = {\n",
    "    \"precision@10\": Precision(k=10),\n",
    "    \"accuracy@10\": Recall(k=10),\n",
    "    \"map@10\": MAP(k=10),\n",
    "    \"mrr@10\": MRR(k=10),\n",
    "    \"ndcg@10\": NDCG(k=10),\n",
    "    \"precision@5\": Precision(k=5),\n",
    "    \"accuracy@5\": Recall(k=5),\n",
    "    \"map@5\": MAP(k=5),\n",
    "    \"mrr@5\": MRR(k=5),\n",
    "    \"ndcg@5\": NDCG(k=5),\n",
    "    \"precision@1\": Precision(k=1),\n",
    "    \"accuracy@1\": Recall(k=1),\n",
    "    \"map@1\": MAP(k=1),\n",
    "    \"mrr@1\": MRR(k=1),\n",
    "    \"ndcg@1\": NDCG(k=1),\n",
    "}\n",
    "\n",
    "models = {\n",
    "    \"popular\": PopularModel(),\n",
    "}\n",
    "\n",
    "models[\"ALS\"] = ImplicitALSWrapperModel(\n",
    "    model=AlternatingLeastSquares(\n",
    "        factors=N_FACTORS, \n",
    "        random_state=RANDOM_STATE, \n",
    "        num_threads=NUM_THREADS\n",
    "    )\n",
    ")\n",
    "        \n",
    "\n",
    "lightfm_losses = 'warp'\n",
    "models[f\"LightFM\"] = LightFMWrapperModel(\n",
    "    LightFM(\n",
    "        no_components=N_FACTORS, \n",
    "        loss=lightfm_losses, \n",
    "        random_state=RANDOM_STATE,\n",
    "    ),\n",
    "    epochs=N_EPOCHS,\n",
    "    num_threads=NUM_THREADS,\n",
    ")"
   ],
   "metadata": {
    "collapsed": false,
    "ExecuteTime": {
     "end_time": "2023-12-05T19:20:02.101752049Z",
     "start_time": "2023-12-05T19:20:02.049033411Z"
    }
   },
   "id": "12057eb3eb2c9ea3"
  },
  {
   "cell_type": "code",
   "execution_count": 84,
   "outputs": [],
   "source": [
    "# Разделяем на train и test\n",
    "interactions.df[Columns.Datetime] = pd.to_datetime(interactions.df[Columns.Datetime], format='%Y-%m-%d')\n",
    "max_date = interactions.df[Columns.Datetime].max()\n",
    "\n",
    "train = interactions.df[interactions.df[Columns.Datetime] < max_date - pd.Timedelta(days=7)].copy()\n",
    "test = interactions.df[interactions.df[Columns.Datetime] >= max_date - pd.Timedelta(days=7)].copy()\n",
    "train.drop(train.query(\"weight < 300\").index, inplace=True)\n",
    "cold_users = set(test[Columns.User]) - set(train[Columns.User])\n",
    "test.drop(test[test[Columns.User].isin(cold_users)].index, inplace=True)\n",
    "TEST_USERS = test[Columns.User].unique()\n",
    "\n",
    "users.fillna('Unknown', inplace=True)\n",
    "users = users.loc[users[Columns.User].isin(train[Columns.User])].copy()\n",
    "user_features_frames = []\n",
    "for feature in [\"sex\", \"age\", \"income\"]:\n",
    "    feature_frame = users.reindex(columns=[Columns.User, feature])\n",
    "    feature_frame.columns = [\"id\", \"value\"]\n",
    "    feature_frame[\"feature\"] = feature\n",
    "    user_features_frames.append(feature_frame)\n",
    "user_features = pd.concat(user_features_frames)\n",
    "user_features.head()\n",
    "\n",
    "items.fillna('Unknown', inplace=True)\n",
    "items = items.loc[items[Columns.Item].isin(train[Columns.Item])].copy()\n",
    "items[\"genre\"] = items[\"genres\"].str.lower().str.replace(\", \", \",\", regex=False).str.split(\",\")\n",
    "genre_feature = items[[\"item_id\", \"genre\"]].explode(\"genre\")\n",
    "genre_feature.columns = [\"id\", \"value\"]\n",
    "genre_feature[\"feature\"] = \"genre\"\n",
    "genre_feature.head()\n",
    "content_feature = items.reindex(columns=[Columns.Item, \"content_type\"])\n",
    "content_feature.columns = [\"id\", \"value\"]\n",
    "content_feature[\"feature\"] = \"content_type\"\n",
    "countries_feature = items.reindex(columns=[Columns.Item, \"countries\"])\n",
    "countries_feature.columns = [\"id\", \"value\"]\n",
    "countries_feature[\"feature\"] = \"countries\"\n",
    "item_features = pd.concat((genre_feature, content_feature, countries_feature))\n",
    "\n",
    "dataset = Dataset.construct(\n",
    "    interactions_df=train,\n",
    "    user_features_df=user_features,\n",
    "    cat_user_features=[\"sex\", \"age\", \"income\"],\n",
    "    item_features_df=item_features,\n",
    "    cat_item_features=[\"genre\", \"content_type\", \"countries\"],\n",
    ")"
   ],
   "metadata": {
    "collapsed": false,
    "ExecuteTime": {
     "end_time": "2023-12-05T20:17:59.835238774Z",
     "start_time": "2023-12-05T20:17:59.444418004Z"
    }
   },
   "id": "67c13fe87626c771"
  },
  {
   "cell_type": "code",
   "execution_count": 87,
   "outputs": [],
   "source": [
    "def ials_objective(trial):\n",
    "\n",
    "    factors = trial.suggest_categorical('factors', [4, 8, 16])\n",
    "    model = ImplicitALSWrapperModel(\n",
    "        model=AlternatingLeastSquares(\n",
    "            factors=factors,\n",
    "            random_state=42, \n",
    "            num_threads=8,\n",
    "        ),\n",
    "        fit_features_together=True,\n",
    "    )\n",
    "\n",
    "    model.fit(dataset)\n",
    "    recos = model.recommend(\n",
    "        users=TEST_USERS,\n",
    "        dataset=dataset,\n",
    "        k=10,\n",
    "        filter_viewed=True,\n",
    "    )\n",
    "\n",
    "    map10 = calc_metrics(metrics, recos, test, train)['map@10']\n",
    "    return map10"
   ],
   "metadata": {
    "collapsed": false,
    "ExecuteTime": {
     "end_time": "2023-12-05T20:22:39.380180212Z",
     "start_time": "2023-12-05T20:22:39.326902965Z"
    }
   },
   "id": "bea2907b0539ae49"
  },
  {
   "cell_type": "code",
   "execution_count": 88,
   "outputs": [
    {
     "name": "stderr",
     "output_type": "stream",
     "text": [
      "[I 2023-12-05 23:22:39,843] A new study created in memory with name: no-name-eef8171d-b40b-40b9-9edf-e888084de39a\n",
      "/home/vorkov/Workspace/RecoServiceTemplate/venv/lib/python3.10/site-packages/rectools/dataset/features.py:420: UserWarning: Converting sparse features to dense array may cause MemoryError\n",
      "  warnings.warn(\"Converting sparse features to dense array may cause MemoryError\")\n",
      "[I 2023-12-05 23:24:34,432] Trial 0 finished with value: 0.0072958207763013415 and parameters: {'factors': 8}. Best is trial 0 with value: 0.0072958207763013415.\n",
      "/home/vorkov/Workspace/RecoServiceTemplate/venv/lib/python3.10/site-packages/rectools/dataset/features.py:420: UserWarning: Converting sparse features to dense array may cause MemoryError\n",
      "  warnings.warn(\"Converting sparse features to dense array may cause MemoryError\")\n",
      "[I 2023-12-05 23:26:27,971] Trial 1 finished with value: 0.007247593935454447 and parameters: {'factors': 4}. Best is trial 0 with value: 0.0072958207763013415.\n",
      "/home/vorkov/Workspace/RecoServiceTemplate/venv/lib/python3.10/site-packages/rectools/dataset/features.py:420: UserWarning: Converting sparse features to dense array may cause MemoryError\n",
      "  warnings.warn(\"Converting sparse features to dense array may cause MemoryError\")\n",
      "[I 2023-12-05 23:28:23,215] Trial 2 finished with value: 0.0072958207763013415 and parameters: {'factors': 8}. Best is trial 0 with value: 0.0072958207763013415.\n",
      "/home/vorkov/Workspace/RecoServiceTemplate/venv/lib/python3.10/site-packages/rectools/dataset/features.py:420: UserWarning: Converting sparse features to dense array may cause MemoryError\n",
      "  warnings.warn(\"Converting sparse features to dense array may cause MemoryError\")\n",
      "[I 2023-12-05 23:30:18,119] Trial 3 finished with value: 0.0072958207763013415 and parameters: {'factors': 8}. Best is trial 0 with value: 0.0072958207763013415.\n",
      "/home/vorkov/Workspace/RecoServiceTemplate/venv/lib/python3.10/site-packages/rectools/dataset/features.py:420: UserWarning: Converting sparse features to dense array may cause MemoryError\n",
      "  warnings.warn(\"Converting sparse features to dense array may cause MemoryError\")\n",
      "[I 2023-12-05 23:32:12,198] Trial 4 finished with value: 0.00726333031524715 and parameters: {'factors': 16}. Best is trial 0 with value: 0.0072958207763013415.\n",
      "/home/vorkov/Workspace/RecoServiceTemplate/venv/lib/python3.10/site-packages/rectools/dataset/features.py:420: UserWarning: Converting sparse features to dense array may cause MemoryError\n",
      "  warnings.warn(\"Converting sparse features to dense array may cause MemoryError\")\n",
      "[I 2023-12-05 23:34:02,461] Trial 5 finished with value: 0.007247593935454447 and parameters: {'factors': 4}. Best is trial 0 with value: 0.0072958207763013415.\n",
      "/home/vorkov/Workspace/RecoServiceTemplate/venv/lib/python3.10/site-packages/rectools/dataset/features.py:420: UserWarning: Converting sparse features to dense array may cause MemoryError\n",
      "  warnings.warn(\"Converting sparse features to dense array may cause MemoryError\")\n",
      "[I 2023-12-05 23:35:57,062] Trial 6 finished with value: 0.0072958207763013415 and parameters: {'factors': 8}. Best is trial 0 with value: 0.0072958207763013415.\n",
      "/home/vorkov/Workspace/RecoServiceTemplate/venv/lib/python3.10/site-packages/rectools/dataset/features.py:420: UserWarning: Converting sparse features to dense array may cause MemoryError\n",
      "  warnings.warn(\"Converting sparse features to dense array may cause MemoryError\")\n",
      "[I 2023-12-05 23:37:48,834] Trial 7 finished with value: 0.007247593935454447 and parameters: {'factors': 4}. Best is trial 0 with value: 0.0072958207763013415.\n",
      "/home/vorkov/Workspace/RecoServiceTemplate/venv/lib/python3.10/site-packages/rectools/dataset/features.py:420: UserWarning: Converting sparse features to dense array may cause MemoryError\n",
      "  warnings.warn(\"Converting sparse features to dense array may cause MemoryError\")\n",
      "[I 2023-12-05 23:39:44,172] Trial 8 finished with value: 0.0072958207763013415 and parameters: {'factors': 8}. Best is trial 0 with value: 0.0072958207763013415.\n",
      "/home/vorkov/Workspace/RecoServiceTemplate/venv/lib/python3.10/site-packages/rectools/dataset/features.py:420: UserWarning: Converting sparse features to dense array may cause MemoryError\n",
      "  warnings.warn(\"Converting sparse features to dense array may cause MemoryError\")\n",
      "[I 2023-12-05 23:41:37,463] Trial 9 finished with value: 0.00726333031524715 and parameters: {'factors': 16}. Best is trial 0 with value: 0.0072958207763013415.\n"
     ]
    },
    {
     "data": {
      "text/plain": "{'factors': 8}"
     },
     "execution_count": 88,
     "metadata": {},
     "output_type": "execute_result"
    }
   ],
   "source": [
    "study = optuna.create_study(direction='maximize')\n",
    "study.optimize(ials_objective, n_trials=10)\n",
    "study.best_params"
   ],
   "metadata": {
    "collapsed": false,
    "ExecuteTime": {
     "end_time": "2023-12-05T20:41:37.511111888Z",
     "start_time": "2023-12-05T20:22:39.844670267Z"
    }
   },
   "id": "96c1b26dcc4dfa83"
  },
  {
   "cell_type": "code",
   "execution_count": 89,
   "outputs": [],
   "source": [
    "def lfm_objective(trial):\n",
    "\n",
    "    no_components = trial.suggest_categorical('no_components', [4, 8, 16])\n",
    "    learning_rate = trial.suggest_float('learning_rate', 0.005, 0.05, log=True)\n",
    "    rho = trial.suggest_float('rho', 0.9, 0.99, log=True)\n",
    "    epsilon = trial.suggest_float('epsilon', 1e-6, 1e-5, log=True)\n",
    "    \n",
    "    model = LightFMWrapperModel(\n",
    "        LightFM(\n",
    "            no_components=no_components,\n",
    "            learning_rate=learning_rate, \n",
    "            loss='warp',\n",
    "            rho=rho,\n",
    "            epsilon=epsilon,\n",
    "            user_alpha=0,\n",
    "            item_alpha=0,\n",
    "            random_state=42,\n",
    "        ),\n",
    "        epochs=1,\n",
    "        num_threads=8,\n",
    "    )\n",
    "    model.fit(dataset)\n",
    "    recos = model.recommend(\n",
    "        users=TEST_USERS,\n",
    "        dataset=dataset,\n",
    "        k=10,\n",
    "        filter_viewed=True,\n",
    "    )\n",
    "\n",
    "    map10 = calc_metrics(metrics, recos, test, train)['map@10']\n",
    "    return map10"
   ],
   "metadata": {
    "collapsed": false,
    "ExecuteTime": {
     "end_time": "2023-12-05T20:41:37.520702828Z",
     "start_time": "2023-12-05T20:41:37.506763840Z"
    }
   },
   "id": "d99951cacac6edbf"
  },
  {
   "cell_type": "code",
   "execution_count": 90,
   "outputs": [
    {
     "name": "stderr",
     "output_type": "stream",
     "text": [
      "[I 2023-12-05 23:41:37,474] A new study created in memory with name: no-name-234188b2-c773-4510-993d-b542f53cadc8\n",
      "[I 2023-12-05 23:41:39,897] Trial 0 finished with value: 0.034777984887692175 and parameters: {'no_components': 4, 'learning_rate': 0.010481176460137137, 'rho': 0.9861248015809704, 'epsilon': 6.32391713250286e-06}. Best is trial 0 with value: 0.034777984887692175.\n",
      "[I 2023-12-05 23:41:42,329] Trial 1 finished with value: 0.037011771696474766 and parameters: {'no_components': 4, 'learning_rate': 0.012757327436289807, 'rho': 0.9447918999506748, 'epsilon': 2.7932521343184393e-06}. Best is trial 1 with value: 0.037011771696474766.\n",
      "[I 2023-12-05 23:41:45,219] Trial 2 finished with value: 0.03782074408262104 and parameters: {'no_components': 16, 'learning_rate': 0.012534737273083126, 'rho': 0.9720554547981552, 'epsilon': 5.607595823796713e-06}. Best is trial 2 with value: 0.03782074408262104.\n",
      "[I 2023-12-05 23:41:48,040] Trial 3 finished with value: 0.03711725036836217 and parameters: {'no_components': 16, 'learning_rate': 0.02923190798201907, 'rho': 0.9376671687881806, 'epsilon': 2.4395664530220907e-06}. Best is trial 2 with value: 0.03782074408262104.\n",
      "[I 2023-12-05 23:41:50,817] Trial 4 finished with value: 0.03647877798822181 and parameters: {'no_components': 16, 'learning_rate': 0.04777211215937887, 'rho': 0.9785838148555249, 'epsilon': 1.1363351216876305e-06}. Best is trial 2 with value: 0.03782074408262104.\n",
      "[I 2023-12-05 23:41:53,230] Trial 5 finished with value: 0.03581781796130859 and parameters: {'no_components': 4, 'learning_rate': 0.008375140471617283, 'rho': 0.9729590384495138, 'epsilon': 1.1665762238848729e-06}. Best is trial 2 with value: 0.03782074408262104.\n",
      "[I 2023-12-05 23:41:55,791] Trial 6 finished with value: 0.03663621061735836 and parameters: {'no_components': 8, 'learning_rate': 0.021284915912736475, 'rho': 0.9131128652322121, 'epsilon': 2.1447558269622115e-06}. Best is trial 2 with value: 0.03782074408262104.\n",
      "[I 2023-12-05 23:41:58,690] Trial 7 finished with value: 0.03713469511877383 and parameters: {'no_components': 16, 'learning_rate': 0.02643831957374447, 'rho': 0.9203746267711967, 'epsilon': 4.076896996260667e-06}. Best is trial 2 with value: 0.03782074408262104.\n",
      "[I 2023-12-05 23:42:01,084] Trial 8 finished with value: 0.03595886002890995 and parameters: {'no_components': 4, 'learning_rate': 0.022232562452161306, 'rho': 0.988947989817921, 'epsilon': 2.236211979602028e-06}. Best is trial 2 with value: 0.03782074408262104.\n",
      "[I 2023-12-05 23:42:03,932] Trial 9 finished with value: 0.037297058355234954 and parameters: {'no_components': 16, 'learning_rate': 0.017530313401751214, 'rho': 0.9183056913507314, 'epsilon': 3.960749943211082e-06}. Best is trial 2 with value: 0.03782074408262104.\n"
     ]
    },
    {
     "data": {
      "text/plain": "{'no_components': 16,\n 'learning_rate': 0.012534737273083126,\n 'rho': 0.9720554547981552,\n 'epsilon': 5.607595823796713e-06}"
     },
     "execution_count": 90,
     "metadata": {},
     "output_type": "execute_result"
    }
   ],
   "source": [
    "study = optuna.create_study(direction='maximize')\n",
    "study.optimize(lfm_objective, n_trials=10)\n",
    "study.best_params"
   ],
   "metadata": {
    "collapsed": false,
    "ExecuteTime": {
     "end_time": "2023-12-05T20:42:03.939941573Z",
     "start_time": "2023-12-05T20:41:37.506931052Z"
    }
   },
   "id": "91dc3d70f205f9bc"
  }
 ],
 "metadata": {
  "kernelspec": {
   "display_name": "Python 3",
   "language": "python",
   "name": "python3"
  },
  "language_info": {
   "codemirror_mode": {
    "name": "ipython",
    "version": 2
   },
   "file_extension": ".py",
   "mimetype": "text/x-python",
   "name": "python",
   "nbconvert_exporter": "python",
   "pygments_lexer": "ipython2",
   "version": "2.7.6"
  }
 },
 "nbformat": 4,
 "nbformat_minor": 5
}
