{
 "cells": [
  {
   "cell_type": "code",
   "execution_count": 1,
   "id": "initial_id",
   "metadata": {
    "collapsed": true,
    "ExecuteTime": {
     "end_time": "2023-12-06T08:57:12.069381539Z",
     "start_time": "2023-12-06T08:57:11.458657413Z"
    }
   },
   "outputs": [],
   "source": [
    "import pickle\n",
    "import numpy as np\n",
    "import pandas as pd\n",
    "from implicit.bpr import BayesianPersonalizedRanking\n",
    "from rectools.dataset import Interactions, Dataset\n",
    "from rectools.model_selection import TimeRangeSplitter\n",
    "from rectools.metrics import MAP, MeanInvUserFreq, calc_metrics, MRR, NDCG\n",
    "\n",
    "from implicit.als import AlternatingLeastSquares\n",
    "\n",
    "from rectools.metrics import Precision, Recall, MAP, calc_metrics\n",
    "from rectools import Columns\n",
    "from rectools.dataset import Dataset\n",
    "from rectools.models import ImplicitALSWrapperModel, LightFMWrapperModel, PopularModel\n",
    "from tqdm import tqdm\n",
    "\n",
    "from lightfm import LightFM\n",
    "\n",
    "import optuna"
   ]
  },
  {
   "cell_type": "code",
   "execution_count": 2,
   "outputs": [
    {
     "data": {
      "text/plain": "         user_id  item_id   datetime  weight  watched_pct\n0         176549     9506 2021-05-11  4250.0         72.0\n1         699317     1659 2021-05-29  8317.0        100.0\n6        1016458      354 2021-08-14  1672.0         25.0\n14          5324     8437 2021-04-18  6598.0         92.0\n18        927973     9617 2021-06-19  8422.0        100.0\n...          ...      ...        ...     ...          ...\n5476213   706423     3384 2021-03-13  5937.0        100.0\n5476223   489587     6945 2021-05-18   229.0          4.0\n5476226   435089    13475 2021-07-06  4624.0         85.0\n5476239   610017     7107 2021-05-10  1133.0         75.0\n5476249   384202    16197 2021-04-19  6203.0        100.0\n\n[1612379 rows x 5 columns]",
      "text/html": "<div>\n<style scoped>\n    .dataframe tbody tr th:only-of-type {\n        vertical-align: middle;\n    }\n\n    .dataframe tbody tr th {\n        vertical-align: top;\n    }\n\n    .dataframe thead th {\n        text-align: right;\n    }\n</style>\n<table border=\"1\" class=\"dataframe\">\n  <thead>\n    <tr style=\"text-align: right;\">\n      <th></th>\n      <th>user_id</th>\n      <th>item_id</th>\n      <th>datetime</th>\n      <th>weight</th>\n      <th>watched_pct</th>\n    </tr>\n  </thead>\n  <tbody>\n    <tr>\n      <th>0</th>\n      <td>176549</td>\n      <td>9506</td>\n      <td>2021-05-11</td>\n      <td>4250.0</td>\n      <td>72.0</td>\n    </tr>\n    <tr>\n      <th>1</th>\n      <td>699317</td>\n      <td>1659</td>\n      <td>2021-05-29</td>\n      <td>8317.0</td>\n      <td>100.0</td>\n    </tr>\n    <tr>\n      <th>6</th>\n      <td>1016458</td>\n      <td>354</td>\n      <td>2021-08-14</td>\n      <td>1672.0</td>\n      <td>25.0</td>\n    </tr>\n    <tr>\n      <th>14</th>\n      <td>5324</td>\n      <td>8437</td>\n      <td>2021-04-18</td>\n      <td>6598.0</td>\n      <td>92.0</td>\n    </tr>\n    <tr>\n      <th>18</th>\n      <td>927973</td>\n      <td>9617</td>\n      <td>2021-06-19</td>\n      <td>8422.0</td>\n      <td>100.0</td>\n    </tr>\n    <tr>\n      <th>...</th>\n      <td>...</td>\n      <td>...</td>\n      <td>...</td>\n      <td>...</td>\n      <td>...</td>\n    </tr>\n    <tr>\n      <th>5476213</th>\n      <td>706423</td>\n      <td>3384</td>\n      <td>2021-03-13</td>\n      <td>5937.0</td>\n      <td>100.0</td>\n    </tr>\n    <tr>\n      <th>5476223</th>\n      <td>489587</td>\n      <td>6945</td>\n      <td>2021-05-18</td>\n      <td>229.0</td>\n      <td>4.0</td>\n    </tr>\n    <tr>\n      <th>5476226</th>\n      <td>435089</td>\n      <td>13475</td>\n      <td>2021-07-06</td>\n      <td>4624.0</td>\n      <td>85.0</td>\n    </tr>\n    <tr>\n      <th>5476239</th>\n      <td>610017</td>\n      <td>7107</td>\n      <td>2021-05-10</td>\n      <td>1133.0</td>\n      <td>75.0</td>\n    </tr>\n    <tr>\n      <th>5476249</th>\n      <td>384202</td>\n      <td>16197</td>\n      <td>2021-04-19</td>\n      <td>6203.0</td>\n      <td>100.0</td>\n    </tr>\n  </tbody>\n</table>\n<p>1612379 rows × 5 columns</p>\n</div>"
     },
     "execution_count": 2,
     "metadata": {},
     "output_type": "execute_result"
    }
   ],
   "source": [
    "interactions_df = pd.read_csv('../artifacts/data_original/interactions.csv')\n",
    "users = pd.read_csv('../artifacts/data_original/users.csv')\n",
    "items = pd.read_csv('../artifacts/data_original/items.csv')\n",
    "\n",
    "interactions_df.rename(columns={'last_watch_dt': Columns.Datetime,\n",
    "                                'total_dur': Columns.Weight}, inplace=True) \n",
    "\n",
    "# Мы хотим учитывать юзеров с 1 или двумя просмотрами, так как этого недостаточно чтобы говорить о пользователях хоть что-нибудь\n",
    "user_ids_all = interactions_df.groupby(Columns.User)[Columns.Item].nunique().reset_index(name='unique_items_count')\n",
    "hot_users = user_ids_all[user_ids_all['unique_items_count'] > 20][Columns.User]\n",
    "interactions_df_hot_users = interactions_df[interactions_df[Columns.User].isin(hot_users)]\n",
    "\n",
    "\n",
    "users = users[users[Columns.User].isin(interactions_df_hot_users[Columns.User])]\n",
    "interactions_df_hot_users = interactions_df_hot_users[interactions_df_hot_users[Columns.User].isin(users[Columns.User])]\n",
    "items = items[items[Columns.Item].isin(interactions_df_hot_users[Columns.Item])]\n",
    "\n",
    "interactions = Interactions(interactions_df_hot_users)   \n",
    "catalog = interactions.df[Columns.Item].unique()\n",
    "\n",
    "interactions.df"
   ],
   "metadata": {
    "collapsed": false,
    "ExecuteTime": {
     "end_time": "2023-12-06T08:57:18.432665703Z",
     "start_time": "2023-12-06T08:57:12.072076896Z"
    }
   },
   "id": "243031044b35d68a"
  },
  {
   "cell_type": "code",
   "execution_count": 3,
   "outputs": [
    {
     "data": {
      "text/plain": "0           176549\n1           699317\n6          1016458\n14            5324\n18          927973\n            ...   \n1760590     758542\n1769195     642856\n1864215    1095747\n1867878     565139\n2115112     283917\nName: user_id, Length: 41444, dtype: int64"
     },
     "execution_count": 3,
     "metadata": {},
     "output_type": "execute_result"
    }
   ],
   "source": [
    "interactions_df_hot_users[Columns.User].drop_duplicates()"
   ],
   "metadata": {
    "collapsed": false,
    "ExecuteTime": {
     "end_time": "2023-12-06T08:57:18.550925295Z",
     "start_time": "2023-12-06T08:57:18.433108151Z"
    }
   },
   "id": "2d25c2809a61b019"
  },
  {
   "cell_type": "code",
   "execution_count": 4,
   "outputs": [
    {
     "data": {
      "text/plain": "[(Timestamp('2021-04-05 00:00:00', freq='14D'),\n  Timestamp('2021-04-19 00:00:00', freq='14D')),\n (Timestamp('2021-04-19 00:00:00', freq='14D'),\n  Timestamp('2021-05-03 00:00:00', freq='14D')),\n (Timestamp('2021-05-03 00:00:00', freq='14D'),\n  Timestamp('2021-05-17 00:00:00', freq='14D')),\n (Timestamp('2021-05-17 00:00:00', freq='14D'),\n  Timestamp('2021-05-31 00:00:00', freq='14D')),\n (Timestamp('2021-05-31 00:00:00', freq='14D'),\n  Timestamp('2021-06-14 00:00:00', freq='14D')),\n (Timestamp('2021-06-14 00:00:00', freq='14D'),\n  Timestamp('2021-06-28 00:00:00', freq='14D')),\n (Timestamp('2021-06-28 00:00:00', freq='14D'),\n  Timestamp('2021-07-12 00:00:00', freq='14D')),\n (Timestamp('2021-07-12 00:00:00', freq='14D'),\n  Timestamp('2021-07-26 00:00:00', freq='14D')),\n (Timestamp('2021-07-26 00:00:00', freq='14D'),\n  Timestamp('2021-08-09 00:00:00', freq='14D')),\n (Timestamp('2021-08-09 00:00:00', freq='14D'),\n  Timestamp('2021-08-23 00:00:00', freq='14D'))]"
     },
     "execution_count": 4,
     "metadata": {},
     "output_type": "execute_result"
    }
   ],
   "source": [
    "N_SPLITS = 10\n",
    "TEST_SIZE = '14D'\n",
    "\n",
    "cv = TimeRangeSplitter(\n",
    "    test_size=TEST_SIZE,\n",
    "    n_splits=N_SPLITS,\n",
    "    filter_already_seen=True,\n",
    "    filter_cold_items=True,\n",
    "    filter_cold_users=False,\n",
    ")\n",
    "cv.get_test_fold_borders(interactions)"
   ],
   "metadata": {
    "collapsed": false,
    "ExecuteTime": {
     "end_time": "2023-12-06T08:57:18.574259529Z",
     "start_time": "2023-12-06T08:57:18.485102740Z"
    }
   },
   "id": "ed60ede1ed59409e"
  },
  {
   "cell_type": "code",
   "execution_count": 5,
   "outputs": [
    {
     "name": "stderr",
     "output_type": "stream",
     "text": [
      "/home/vorkov/Workspace/RecoServiceTemplate/venv/lib/python3.10/site-packages/implicit/cpu/als.py:95: RuntimeWarning: OpenBLAS is configured to use 16 threads. It is highly recommended to disable its internal threadpool by setting the environment variable 'OPENBLAS_NUM_THREADS=1' or by calling 'threadpoolctl.threadpool_limits(1, \"blas\")'. Having OpenBLAS use a threadpool can lead to severe performance issues here.\n",
      "  check_blas_config()\n"
     ]
    }
   ],
   "source": [
    "K_RECOS = 10\n",
    "RANDOM_STATE = 42\n",
    "NUM_THREADS = 8\n",
    "N_FACTORS = 8\n",
    "NO_COMPONENTS = 16\n",
    "N_EPOCHS = 10\n",
    "LEARNING_RATE = 0.012\n",
    "RHO = 0.972\n",
    "EPSILON = 5.6 * 1e-5\n",
    "\n",
    "metrics = {\n",
    "    \"precision@10\": Precision(k=10),\n",
    "    \"accuracy@10\": Recall(k=10),\n",
    "    \"map@10\": MAP(k=10),\n",
    "    \"mrr@10\": MRR(k=10),\n",
    "    \"ndcg@10\": NDCG(k=10),\n",
    "    \"precision@5\": Precision(k=5),\n",
    "    \"accuracy@5\": Recall(k=5),\n",
    "    \"map@5\": MAP(k=5),\n",
    "    \"mrr@5\": MRR(k=5),\n",
    "    \"ndcg@5\": NDCG(k=5),\n",
    "    \"precision@1\": Precision(k=1),\n",
    "    \"accuracy@1\": Recall(k=1),\n",
    "    \"map@1\": MAP(k=1),\n",
    "    \"mrr@1\": MRR(k=1),\n",
    "    \"ndcg@1\": NDCG(k=1),\n",
    "}\n",
    "\n",
    "models = {\n",
    "    \"popular\": PopularModel(),\n",
    "}\n",
    "\n",
    "models[\"ALS\"] = ImplicitALSWrapperModel(\n",
    "    model=AlternatingLeastSquares(\n",
    "        factors=N_FACTORS, \n",
    "        random_state=RANDOM_STATE, \n",
    "        num_threads=NUM_THREADS\n",
    "    )\n",
    ")\n",
    "        \n",
    "\n",
    "lightfm_losses = 'warp'\n",
    "models[f\"LightFM\"] = LightFMWrapperModel(\n",
    "    LightFM(\n",
    "        no_components=NO_COMPONENTS, \n",
    "        loss=lightfm_losses, \n",
    "        random_state=RANDOM_STATE,\n",
    "        learning_rate=LEARNING_RATE,\n",
    "        rho=RHO,\n",
    "        epsilon=EPSILON,\n",
    "    ),\n",
    "    epochs=N_EPOCHS,\n",
    "    num_threads=NUM_THREADS,\n",
    ")"
   ],
   "metadata": {
    "collapsed": false,
    "ExecuteTime": {
     "end_time": "2023-12-06T08:57:18.574379376Z",
     "start_time": "2023-12-06T08:57:18.530938532Z"
    }
   },
   "id": "12057eb3eb2c9ea3"
  },
  {
   "cell_type": "code",
   "execution_count": 6,
   "outputs": [
    {
     "data": {
      "text/plain": "         id value feature\n24   269408     Ж     sex\n27   384532     М     sex\n66   216495     М     sex\n81   515668     М     sex\n136  824452     М     sex",
      "text/html": "<div>\n<style scoped>\n    .dataframe tbody tr th:only-of-type {\n        vertical-align: middle;\n    }\n\n    .dataframe tbody tr th {\n        vertical-align: top;\n    }\n\n    .dataframe thead th {\n        text-align: right;\n    }\n</style>\n<table border=\"1\" class=\"dataframe\">\n  <thead>\n    <tr style=\"text-align: right;\">\n      <th></th>\n      <th>id</th>\n      <th>value</th>\n      <th>feature</th>\n    </tr>\n  </thead>\n  <tbody>\n    <tr>\n      <th>24</th>\n      <td>269408</td>\n      <td>Ж</td>\n      <td>sex</td>\n    </tr>\n    <tr>\n      <th>27</th>\n      <td>384532</td>\n      <td>М</td>\n      <td>sex</td>\n    </tr>\n    <tr>\n      <th>66</th>\n      <td>216495</td>\n      <td>М</td>\n      <td>sex</td>\n    </tr>\n    <tr>\n      <th>81</th>\n      <td>515668</td>\n      <td>М</td>\n      <td>sex</td>\n    </tr>\n    <tr>\n      <th>136</th>\n      <td>824452</td>\n      <td>М</td>\n      <td>sex</td>\n    </tr>\n  </tbody>\n</table>\n</div>"
     },
     "execution_count": 6,
     "metadata": {},
     "output_type": "execute_result"
    }
   ],
   "source": [
    "user_features_frames = []\n",
    "for feature in [\"sex\", \"age\", \"income\"]:\n",
    "    feature_frame = users.reindex(columns=[Columns.User, feature])\n",
    "    feature_frame.columns = [\"id\", \"value\"]\n",
    "    feature_frame[\"feature\"] = feature\n",
    "    user_features_frames.append(feature_frame)\n",
    "user_features = pd.concat(user_features_frames)\n",
    "user_features.head()"
   ],
   "metadata": {
    "collapsed": false,
    "ExecuteTime": {
     "end_time": "2023-12-06T08:57:18.574647624Z",
     "start_time": "2023-12-06T08:57:18.531224163Z"
    }
   },
   "id": "7314cd296c89e9a6"
  },
  {
   "cell_type": "code",
   "execution_count": 7,
   "outputs": [],
   "source": [
    "items[\"genre\"] = items[\"genres\"].str.lower().str.replace(\", \", \",\", regex=False).str.split(\",\")\n",
    "genre_feature = items[[\"item_id\", \"genre\"]].explode(\"genre\")\n",
    "genre_feature.columns = [\"id\", \"value\"]\n",
    "genre_feature[\"feature\"] = \"genre\"\n",
    "genre_feature.head()\n",
    "\n",
    "content_feature = items.reindex(columns=[Columns.Item, \"content_type\"])\n",
    "content_feature.columns = [\"id\", \"value\"]\n",
    "content_feature[\"feature\"] = \"content_type\"\n",
    "\n",
    "item_features = pd.concat((genre_feature, content_feature))"
   ],
   "metadata": {
    "collapsed": false,
    "ExecuteTime": {
     "end_time": "2023-12-06T08:57:18.649038089Z",
     "start_time": "2023-12-06T08:57:18.574731203Z"
    }
   },
   "id": "7b5d9e3f7eb2e273"
  },
  {
   "cell_type": "code",
   "execution_count": 15,
   "outputs": [
    {
     "data": {
      "text/plain": "          id       value       feature\n0      10711       драмы         genre\n0      10711  зарубежные         genre\n0      10711   детективы         genre\n0      10711   мелодрамы         genre\n1       2508  зарубежные         genre\n...      ...         ...           ...\n15958   6443      series  content_type\n15959   2367      series  content_type\n15960  10632      series  content_type\n15961   4538      series  content_type\n15962   3206      series  content_type\n\n[49108 rows x 3 columns]",
      "text/html": "<div>\n<style scoped>\n    .dataframe tbody tr th:only-of-type {\n        vertical-align: middle;\n    }\n\n    .dataframe tbody tr th {\n        vertical-align: top;\n    }\n\n    .dataframe thead th {\n        text-align: right;\n    }\n</style>\n<table border=\"1\" class=\"dataframe\">\n  <thead>\n    <tr style=\"text-align: right;\">\n      <th></th>\n      <th>id</th>\n      <th>value</th>\n      <th>feature</th>\n    </tr>\n  </thead>\n  <tbody>\n    <tr>\n      <th>0</th>\n      <td>10711</td>\n      <td>драмы</td>\n      <td>genre</td>\n    </tr>\n    <tr>\n      <th>0</th>\n      <td>10711</td>\n      <td>зарубежные</td>\n      <td>genre</td>\n    </tr>\n    <tr>\n      <th>0</th>\n      <td>10711</td>\n      <td>детективы</td>\n      <td>genre</td>\n    </tr>\n    <tr>\n      <th>0</th>\n      <td>10711</td>\n      <td>мелодрамы</td>\n      <td>genre</td>\n    </tr>\n    <tr>\n      <th>1</th>\n      <td>2508</td>\n      <td>зарубежные</td>\n      <td>genre</td>\n    </tr>\n    <tr>\n      <th>...</th>\n      <td>...</td>\n      <td>...</td>\n      <td>...</td>\n    </tr>\n    <tr>\n      <th>15958</th>\n      <td>6443</td>\n      <td>series</td>\n      <td>content_type</td>\n    </tr>\n    <tr>\n      <th>15959</th>\n      <td>2367</td>\n      <td>series</td>\n      <td>content_type</td>\n    </tr>\n    <tr>\n      <th>15960</th>\n      <td>10632</td>\n      <td>series</td>\n      <td>content_type</td>\n    </tr>\n    <tr>\n      <th>15961</th>\n      <td>4538</td>\n      <td>series</td>\n      <td>content_type</td>\n    </tr>\n    <tr>\n      <th>15962</th>\n      <td>3206</td>\n      <td>series</td>\n      <td>content_type</td>\n    </tr>\n  </tbody>\n</table>\n<p>49108 rows × 3 columns</p>\n</div>"
     },
     "execution_count": 15,
     "metadata": {},
     "output_type": "execute_result"
    }
   ],
   "source": [],
   "metadata": {
    "collapsed": false,
    "ExecuteTime": {
     "end_time": "2023-12-06T09:16:22.650196029Z",
     "start_time": "2023-12-06T09:16:22.637862386Z"
    }
   },
   "id": "1ddd2e54070b610c"
  },
  {
   "cell_type": "code",
   "execution_count": 16,
   "outputs": [
    {
     "name": "stderr",
     "output_type": "stream",
     "text": [
      "  0%|          | 0/10 [00:00<?, ?it/s]"
     ]
    },
    {
     "name": "stdout",
     "output_type": "stream",
     "text": [
      "Fitting model popular...\n",
      "Fitting model ALS...\n"
     ]
    },
    {
     "name": "stderr",
     "output_type": "stream",
     "text": [
      "/home/vorkov/Workspace/RecoServiceTemplate/venv/lib/python3.10/site-packages/rectools/dataset/features.py:420: UserWarning: Converting sparse features to dense array may cause MemoryError\n",
      "  warnings.warn(\"Converting sparse features to dense array may cause MemoryError\")\n"
     ]
    },
    {
     "data": {
      "text/plain": "  0%|          | 0/1 [00:00<?, ?it/s]",
      "application/vnd.jupyter.widget-view+json": {
       "version_major": 2,
       "version_minor": 0,
       "model_id": "d3f6f1ac468c476d8f1adec791e9299e"
      }
     },
     "metadata": {},
     "output_type": "display_data"
    },
    {
     "data": {
      "text/plain": "  0%|          | 0/1 [00:00<?, ?it/s]",
      "application/vnd.jupyter.widget-view+json": {
       "version_major": 2,
       "version_minor": 0,
       "model_id": "2f8bb16e6b2544d8853bfed365a16c08"
      }
     },
     "metadata": {},
     "output_type": "display_data"
    },
    {
     "name": "stdout",
     "output_type": "stream",
     "text": [
      "Fitting model LightFM...\n"
     ]
    },
    {
     "name": "stderr",
     "output_type": "stream",
     "text": [
      " 10%|█         | 1/10 [00:31<04:40, 31.14s/it]"
     ]
    },
    {
     "name": "stdout",
     "output_type": "stream",
     "text": [
      "Fitting model popular...\n",
      "Fitting model ALS...\n"
     ]
    },
    {
     "name": "stderr",
     "output_type": "stream",
     "text": [
      "/home/vorkov/Workspace/RecoServiceTemplate/venv/lib/python3.10/site-packages/rectools/dataset/features.py:420: UserWarning: Converting sparse features to dense array may cause MemoryError\n",
      "  warnings.warn(\"Converting sparse features to dense array may cause MemoryError\")\n"
     ]
    },
    {
     "data": {
      "text/plain": "  0%|          | 0/1 [00:00<?, ?it/s]",
      "application/vnd.jupyter.widget-view+json": {
       "version_major": 2,
       "version_minor": 0,
       "model_id": "d2a002ba272e4beea0b7306e1d61f822"
      }
     },
     "metadata": {},
     "output_type": "display_data"
    },
    {
     "data": {
      "text/plain": "  0%|          | 0/1 [00:00<?, ?it/s]",
      "application/vnd.jupyter.widget-view+json": {
       "version_major": 2,
       "version_minor": 0,
       "model_id": "51ce61b83c464b6d98b8763f11189a8d"
      }
     },
     "metadata": {},
     "output_type": "display_data"
    },
    {
     "name": "stdout",
     "output_type": "stream",
     "text": [
      "Fitting model LightFM...\n"
     ]
    },
    {
     "name": "stderr",
     "output_type": "stream",
     "text": [
      " 20%|██        | 2/10 [01:02<04:11, 31.40s/it]"
     ]
    },
    {
     "name": "stdout",
     "output_type": "stream",
     "text": [
      "Fitting model popular...\n",
      "Fitting model ALS...\n"
     ]
    },
    {
     "name": "stderr",
     "output_type": "stream",
     "text": [
      "/home/vorkov/Workspace/RecoServiceTemplate/venv/lib/python3.10/site-packages/rectools/dataset/features.py:420: UserWarning: Converting sparse features to dense array may cause MemoryError\n",
      "  warnings.warn(\"Converting sparse features to dense array may cause MemoryError\")\n"
     ]
    },
    {
     "data": {
      "text/plain": "  0%|          | 0/1 [00:00<?, ?it/s]",
      "application/vnd.jupyter.widget-view+json": {
       "version_major": 2,
       "version_minor": 0,
       "model_id": "8188c249e78c4693974f8450e810f36e"
      }
     },
     "metadata": {},
     "output_type": "display_data"
    },
    {
     "data": {
      "text/plain": "  0%|          | 0/1 [00:00<?, ?it/s]",
      "application/vnd.jupyter.widget-view+json": {
       "version_major": 2,
       "version_minor": 0,
       "model_id": "abcceac0d0e24479a9cb9eec6a233f8a"
      }
     },
     "metadata": {},
     "output_type": "display_data"
    },
    {
     "name": "stdout",
     "output_type": "stream",
     "text": [
      "Fitting model LightFM...\n"
     ]
    },
    {
     "name": "stderr",
     "output_type": "stream",
     "text": [
      " 30%|███       | 3/10 [01:34<03:40, 31.45s/it]"
     ]
    },
    {
     "name": "stdout",
     "output_type": "stream",
     "text": [
      "Fitting model popular...\n",
      "Fitting model ALS...\n"
     ]
    },
    {
     "name": "stderr",
     "output_type": "stream",
     "text": [
      "/home/vorkov/Workspace/RecoServiceTemplate/venv/lib/python3.10/site-packages/rectools/dataset/features.py:420: UserWarning: Converting sparse features to dense array may cause MemoryError\n",
      "  warnings.warn(\"Converting sparse features to dense array may cause MemoryError\")\n"
     ]
    },
    {
     "data": {
      "text/plain": "  0%|          | 0/1 [00:00<?, ?it/s]",
      "application/vnd.jupyter.widget-view+json": {
       "version_major": 2,
       "version_minor": 0,
       "model_id": "69a622336ddb4e93bbdaca50e34d971d"
      }
     },
     "metadata": {},
     "output_type": "display_data"
    },
    {
     "data": {
      "text/plain": "  0%|          | 0/1 [00:00<?, ?it/s]",
      "application/vnd.jupyter.widget-view+json": {
       "version_major": 2,
       "version_minor": 0,
       "model_id": "341c9d7fc2904e6890a24e352e2ebf1d"
      }
     },
     "metadata": {},
     "output_type": "display_data"
    },
    {
     "name": "stdout",
     "output_type": "stream",
     "text": [
      "Fitting model LightFM...\n"
     ]
    },
    {
     "name": "stderr",
     "output_type": "stream",
     "text": [
      " 40%|████      | 4/10 [02:04<03:05, 30.96s/it]"
     ]
    },
    {
     "name": "stdout",
     "output_type": "stream",
     "text": [
      "Fitting model popular...\n",
      "Fitting model ALS...\n"
     ]
    },
    {
     "name": "stderr",
     "output_type": "stream",
     "text": [
      "/home/vorkov/Workspace/RecoServiceTemplate/venv/lib/python3.10/site-packages/rectools/dataset/features.py:420: UserWarning: Converting sparse features to dense array may cause MemoryError\n",
      "  warnings.warn(\"Converting sparse features to dense array may cause MemoryError\")\n"
     ]
    },
    {
     "data": {
      "text/plain": "  0%|          | 0/1 [00:00<?, ?it/s]",
      "application/vnd.jupyter.widget-view+json": {
       "version_major": 2,
       "version_minor": 0,
       "model_id": "584779076baf464c9c2a316165430f17"
      }
     },
     "metadata": {},
     "output_type": "display_data"
    },
    {
     "data": {
      "text/plain": "  0%|          | 0/1 [00:00<?, ?it/s]",
      "application/vnd.jupyter.widget-view+json": {
       "version_major": 2,
       "version_minor": 0,
       "model_id": "b9ee408c5f1347f2aabec3e204574aab"
      }
     },
     "metadata": {},
     "output_type": "display_data"
    },
    {
     "name": "stdout",
     "output_type": "stream",
     "text": [
      "Fitting model LightFM...\n"
     ]
    },
    {
     "name": "stderr",
     "output_type": "stream",
     "text": [
      " 50%|█████     | 5/10 [02:33<02:31, 30.23s/it]"
     ]
    },
    {
     "name": "stdout",
     "output_type": "stream",
     "text": [
      "Fitting model popular...\n",
      "Fitting model ALS...\n"
     ]
    },
    {
     "name": "stderr",
     "output_type": "stream",
     "text": [
      "/home/vorkov/Workspace/RecoServiceTemplate/venv/lib/python3.10/site-packages/rectools/dataset/features.py:420: UserWarning: Converting sparse features to dense array may cause MemoryError\n",
      "  warnings.warn(\"Converting sparse features to dense array may cause MemoryError\")\n"
     ]
    },
    {
     "data": {
      "text/plain": "  0%|          | 0/1 [00:00<?, ?it/s]",
      "application/vnd.jupyter.widget-view+json": {
       "version_major": 2,
       "version_minor": 0,
       "model_id": "dca30d1ad9b04c1d8d1bd44e922e4fa3"
      }
     },
     "metadata": {},
     "output_type": "display_data"
    },
    {
     "data": {
      "text/plain": "  0%|          | 0/1 [00:00<?, ?it/s]",
      "application/vnd.jupyter.widget-view+json": {
       "version_major": 2,
       "version_minor": 0,
       "model_id": "20a85ea5ad364636af92ea2fa667cdf3"
      }
     },
     "metadata": {},
     "output_type": "display_data"
    },
    {
     "name": "stdout",
     "output_type": "stream",
     "text": [
      "Fitting model LightFM...\n"
     ]
    },
    {
     "name": "stderr",
     "output_type": "stream",
     "text": [
      " 60%|██████    | 6/10 [03:02<01:59, 29.97s/it]"
     ]
    },
    {
     "name": "stdout",
     "output_type": "stream",
     "text": [
      "Fitting model popular...\n",
      "Fitting model ALS...\n"
     ]
    },
    {
     "name": "stderr",
     "output_type": "stream",
     "text": [
      "/home/vorkov/Workspace/RecoServiceTemplate/venv/lib/python3.10/site-packages/rectools/dataset/features.py:420: UserWarning: Converting sparse features to dense array may cause MemoryError\n",
      "  warnings.warn(\"Converting sparse features to dense array may cause MemoryError\")\n"
     ]
    },
    {
     "data": {
      "text/plain": "  0%|          | 0/1 [00:00<?, ?it/s]",
      "application/vnd.jupyter.widget-view+json": {
       "version_major": 2,
       "version_minor": 0,
       "model_id": "980a6a45e90a4066a400705c8d782472"
      }
     },
     "metadata": {},
     "output_type": "display_data"
    },
    {
     "data": {
      "text/plain": "  0%|          | 0/1 [00:00<?, ?it/s]",
      "application/vnd.jupyter.widget-view+json": {
       "version_major": 2,
       "version_minor": 0,
       "model_id": "c72fc46c5ab54f61879f16bf8a4c6ff8"
      }
     },
     "metadata": {},
     "output_type": "display_data"
    },
    {
     "name": "stdout",
     "output_type": "stream",
     "text": [
      "Fitting model LightFM...\n"
     ]
    },
    {
     "name": "stderr",
     "output_type": "stream",
     "text": [
      " 70%|███████   | 7/10 [03:32<01:29, 29.86s/it]"
     ]
    },
    {
     "name": "stdout",
     "output_type": "stream",
     "text": [
      "Fitting model popular...\n",
      "Fitting model ALS...\n"
     ]
    },
    {
     "name": "stderr",
     "output_type": "stream",
     "text": [
      "/home/vorkov/Workspace/RecoServiceTemplate/venv/lib/python3.10/site-packages/rectools/dataset/features.py:420: UserWarning: Converting sparse features to dense array may cause MemoryError\n",
      "  warnings.warn(\"Converting sparse features to dense array may cause MemoryError\")\n"
     ]
    },
    {
     "data": {
      "text/plain": "  0%|          | 0/1 [00:00<?, ?it/s]",
      "application/vnd.jupyter.widget-view+json": {
       "version_major": 2,
       "version_minor": 0,
       "model_id": "1ac64a08ffd8440ea328e70ab7a4cdb7"
      }
     },
     "metadata": {},
     "output_type": "display_data"
    },
    {
     "data": {
      "text/plain": "  0%|          | 0/1 [00:00<?, ?it/s]",
      "application/vnd.jupyter.widget-view+json": {
       "version_major": 2,
       "version_minor": 0,
       "model_id": "420943afb598470e865df8901af9f9fb"
      }
     },
     "metadata": {},
     "output_type": "display_data"
    },
    {
     "name": "stdout",
     "output_type": "stream",
     "text": [
      "Fitting model LightFM...\n"
     ]
    },
    {
     "name": "stderr",
     "output_type": "stream",
     "text": [
      " 80%|████████  | 8/10 [04:03<01:00, 30.15s/it]"
     ]
    },
    {
     "name": "stdout",
     "output_type": "stream",
     "text": [
      "Fitting model popular...\n",
      "Fitting model ALS...\n"
     ]
    },
    {
     "name": "stderr",
     "output_type": "stream",
     "text": [
      "/home/vorkov/Workspace/RecoServiceTemplate/venv/lib/python3.10/site-packages/rectools/dataset/features.py:420: UserWarning: Converting sparse features to dense array may cause MemoryError\n",
      "  warnings.warn(\"Converting sparse features to dense array may cause MemoryError\")\n"
     ]
    },
    {
     "data": {
      "text/plain": "  0%|          | 0/1 [00:00<?, ?it/s]",
      "application/vnd.jupyter.widget-view+json": {
       "version_major": 2,
       "version_minor": 0,
       "model_id": "70de64bdcb7f4ef980060ef0ba4e8d68"
      }
     },
     "metadata": {},
     "output_type": "display_data"
    },
    {
     "data": {
      "text/plain": "  0%|          | 0/1 [00:00<?, ?it/s]",
      "application/vnd.jupyter.widget-view+json": {
       "version_major": 2,
       "version_minor": 0,
       "model_id": "43b7ce62aca5426ca88ba37830f3bfb3"
      }
     },
     "metadata": {},
     "output_type": "display_data"
    },
    {
     "name": "stdout",
     "output_type": "stream",
     "text": [
      "Fitting model LightFM...\n"
     ]
    },
    {
     "name": "stderr",
     "output_type": "stream",
     "text": [
      " 90%|█████████ | 9/10 [04:32<00:29, 29.97s/it]"
     ]
    },
    {
     "name": "stdout",
     "output_type": "stream",
     "text": [
      "Fitting model popular...\n",
      "Fitting model ALS...\n"
     ]
    },
    {
     "name": "stderr",
     "output_type": "stream",
     "text": [
      "/home/vorkov/Workspace/RecoServiceTemplate/venv/lib/python3.10/site-packages/rectools/dataset/features.py:420: UserWarning: Converting sparse features to dense array may cause MemoryError\n",
      "  warnings.warn(\"Converting sparse features to dense array may cause MemoryError\")\n"
     ]
    },
    {
     "data": {
      "text/plain": "  0%|          | 0/1 [00:00<?, ?it/s]",
      "application/vnd.jupyter.widget-view+json": {
       "version_major": 2,
       "version_minor": 0,
       "model_id": "b7b21ec7059a47d0a0b35a13f8d02888"
      }
     },
     "metadata": {},
     "output_type": "display_data"
    },
    {
     "data": {
      "text/plain": "  0%|          | 0/1 [00:00<?, ?it/s]",
      "application/vnd.jupyter.widget-view+json": {
       "version_major": 2,
       "version_minor": 0,
       "model_id": "6d5b8c0a298d42a0b28fad90b12db8d1"
      }
     },
     "metadata": {},
     "output_type": "display_data"
    },
    {
     "name": "stdout",
     "output_type": "stream",
     "text": [
      "Fitting model LightFM...\n"
     ]
    },
    {
     "name": "stderr",
     "output_type": "stream",
     "text": [
      "100%|██████████| 10/10 [05:03<00:00, 30.34s/it]"
     ]
    },
    {
     "name": "stdout",
     "output_type": "stream",
     "text": [
      "CPU times: user 30min 1s, sys: 13min 31s, total: 43min 33s\n",
      "Wall time: 5min 3s\n"
     ]
    },
    {
     "name": "stderr",
     "output_type": "stream",
     "text": [
      "\n"
     ]
    },
    {
     "data": {
      "text/plain": "[{'fold': 0,\n  'model': 'popular',\n  'precision@10': 0.0,\n  'accuracy@10': 0.0,\n  'precision@5': 0.0,\n  'accuracy@5': 0.0,\n  'precision@1': 0.0,\n  'accuracy@1': 0.0,\n  'ndcg@10': 0.0,\n  'ndcg@5': 0.0,\n  'ndcg@1': 0.0,\n  'mrr@10': 0.0,\n  'mrr@5': 0.0,\n  'mrr@1': 0.0,\n  'map@10': 0.0,\n  'map@5': 0.0,\n  'map@1': 0.0},\n {'fold': 0,\n  'model': 'ALS',\n  'precision@10': 0.0,\n  'accuracy@10': 0.0,\n  'precision@5': 0.0,\n  'accuracy@5': 0.0,\n  'precision@1': 0.0,\n  'accuracy@1': 0.0,\n  'ndcg@10': 0.0,\n  'ndcg@5': 0.0,\n  'ndcg@1': 0.0,\n  'mrr@10': 0.0,\n  'mrr@5': 0.0,\n  'mrr@1': 0.0,\n  'map@10': 0.0,\n  'map@5': 0.0,\n  'map@1': 0.0},\n {'fold': 0,\n  'model': 'LightFM',\n  'precision@10': 0.0,\n  'accuracy@10': 0.0,\n  'precision@5': 0.0,\n  'accuracy@5': 0.0,\n  'precision@1': 0.0,\n  'accuracy@1': 0.0,\n  'ndcg@10': 0.0,\n  'ndcg@5': 0.0,\n  'ndcg@1': 0.0,\n  'mrr@10': 0.0,\n  'mrr@5': 0.0,\n  'mrr@1': 0.0,\n  'map@10': 0.0,\n  'map@5': 0.0,\n  'map@1': 0.0},\n {'fold': 1,\n  'model': 'popular',\n  'precision@10': 0.0,\n  'accuracy@10': 0.0,\n  'precision@5': 0.0,\n  'accuracy@5': 0.0,\n  'precision@1': 0.0,\n  'accuracy@1': 0.0,\n  'ndcg@10': 0.0,\n  'ndcg@5': 0.0,\n  'ndcg@1': 0.0,\n  'mrr@10': 0.0,\n  'mrr@5': 0.0,\n  'mrr@1': 0.0,\n  'map@10': 0.0,\n  'map@5': 0.0,\n  'map@1': 0.0},\n {'fold': 1,\n  'model': 'ALS',\n  'precision@10': 0.0,\n  'accuracy@10': 0.0,\n  'precision@5': 0.0,\n  'accuracy@5': 0.0,\n  'precision@1': 0.0,\n  'accuracy@1': 0.0,\n  'ndcg@10': 0.0,\n  'ndcg@5': 0.0,\n  'ndcg@1': 0.0,\n  'mrr@10': 0.0,\n  'mrr@5': 0.0,\n  'mrr@1': 0.0,\n  'map@10': 0.0,\n  'map@5': 0.0,\n  'map@1': 0.0},\n {'fold': 1,\n  'model': 'LightFM',\n  'precision@10': 0.0,\n  'accuracy@10': 0.0,\n  'precision@5': 0.0,\n  'accuracy@5': 0.0,\n  'precision@1': 0.0,\n  'accuracy@1': 0.0,\n  'ndcg@10': 0.0,\n  'ndcg@5': 0.0,\n  'ndcg@1': 0.0,\n  'mrr@10': 0.0,\n  'mrr@5': 0.0,\n  'mrr@1': 0.0,\n  'map@10': 0.0,\n  'map@5': 0.0,\n  'map@1': 0.0},\n {'fold': 2,\n  'model': 'popular',\n  'precision@10': 0.0,\n  'accuracy@10': 0.0,\n  'precision@5': 0.0,\n  'accuracy@5': 0.0,\n  'precision@1': 0.0,\n  'accuracy@1': 0.0,\n  'ndcg@10': 0.0,\n  'ndcg@5': 0.0,\n  'ndcg@1': 0.0,\n  'mrr@10': 0.0,\n  'mrr@5': 0.0,\n  'mrr@1': 0.0,\n  'map@10': 0.0,\n  'map@5': 0.0,\n  'map@1': 0.0},\n {'fold': 2,\n  'model': 'ALS',\n  'precision@10': 0.0,\n  'accuracy@10': 0.0,\n  'precision@5': 0.0,\n  'accuracy@5': 0.0,\n  'precision@1': 0.0,\n  'accuracy@1': 0.0,\n  'ndcg@10': 0.0,\n  'ndcg@5': 0.0,\n  'ndcg@1': 0.0,\n  'mrr@10': 0.0,\n  'mrr@5': 0.0,\n  'mrr@1': 0.0,\n  'map@10': 0.0,\n  'map@5': 0.0,\n  'map@1': 0.0},\n {'fold': 2,\n  'model': 'LightFM',\n  'precision@10': 0.0,\n  'accuracy@10': 0.0,\n  'precision@5': 0.0,\n  'accuracy@5': 0.0,\n  'precision@1': 0.0,\n  'accuracy@1': 0.0,\n  'ndcg@10': 0.0,\n  'ndcg@5': 0.0,\n  'ndcg@1': 0.0,\n  'mrr@10': 0.0,\n  'mrr@5': 0.0,\n  'mrr@1': 0.0,\n  'map@10': 0.0,\n  'map@5': 0.0,\n  'map@1': 0.0},\n {'fold': 3,\n  'model': 'popular',\n  'precision@10': 0.0,\n  'accuracy@10': 0.0,\n  'precision@5': 0.0,\n  'accuracy@5': 0.0,\n  'precision@1': 0.0,\n  'accuracy@1': 0.0,\n  'ndcg@10': 0.0,\n  'ndcg@5': 0.0,\n  'ndcg@1': 0.0,\n  'mrr@10': 0.0,\n  'mrr@5': 0.0,\n  'mrr@1': 0.0,\n  'map@10': 0.0,\n  'map@5': 0.0,\n  'map@1': 0.0},\n {'fold': 3,\n  'model': 'ALS',\n  'precision@10': 0.0,\n  'accuracy@10': 0.0,\n  'precision@5': 0.0,\n  'accuracy@5': 0.0,\n  'precision@1': 0.0,\n  'accuracy@1': 0.0,\n  'ndcg@10': 0.0,\n  'ndcg@5': 0.0,\n  'ndcg@1': 0.0,\n  'mrr@10': 0.0,\n  'mrr@5': 0.0,\n  'mrr@1': 0.0,\n  'map@10': 0.0,\n  'map@5': 0.0,\n  'map@1': 0.0},\n {'fold': 3,\n  'model': 'LightFM',\n  'precision@10': 0.0,\n  'accuracy@10': 0.0,\n  'precision@5': 0.0,\n  'accuracy@5': 0.0,\n  'precision@1': 0.0,\n  'accuracy@1': 0.0,\n  'ndcg@10': 0.0,\n  'ndcg@5': 0.0,\n  'ndcg@1': 0.0,\n  'mrr@10': 0.0,\n  'mrr@5': 0.0,\n  'mrr@1': 0.0,\n  'map@10': 0.0,\n  'map@5': 0.0,\n  'map@1': 0.0},\n {'fold': 4,\n  'model': 'popular',\n  'precision@10': 0.0,\n  'accuracy@10': 0.0,\n  'precision@5': 0.0,\n  'accuracy@5': 0.0,\n  'precision@1': 0.0,\n  'accuracy@1': 0.0,\n  'ndcg@10': 0.0,\n  'ndcg@5': 0.0,\n  'ndcg@1': 0.0,\n  'mrr@10': 0.0,\n  'mrr@5': 0.0,\n  'mrr@1': 0.0,\n  'map@10': 0.0,\n  'map@5': 0.0,\n  'map@1': 0.0},\n {'fold': 4,\n  'model': 'ALS',\n  'precision@10': 0.0,\n  'accuracy@10': 0.0,\n  'precision@5': 0.0,\n  'accuracy@5': 0.0,\n  'precision@1': 0.0,\n  'accuracy@1': 0.0,\n  'ndcg@10': 0.0,\n  'ndcg@5': 0.0,\n  'ndcg@1': 0.0,\n  'mrr@10': 0.0,\n  'mrr@5': 0.0,\n  'mrr@1': 0.0,\n  'map@10': 0.0,\n  'map@5': 0.0,\n  'map@1': 0.0},\n {'fold': 4,\n  'model': 'LightFM',\n  'precision@10': 0.0,\n  'accuracy@10': 0.0,\n  'precision@5': 0.0,\n  'accuracy@5': 0.0,\n  'precision@1': 0.0,\n  'accuracy@1': 0.0,\n  'ndcg@10': 0.0,\n  'ndcg@5': 0.0,\n  'ndcg@1': 0.0,\n  'mrr@10': 0.0,\n  'mrr@5': 0.0,\n  'mrr@1': 0.0,\n  'map@10': 0.0,\n  'map@5': 0.0,\n  'map@1': 0.0},\n {'fold': 5,\n  'model': 'popular',\n  'precision@10': 0.0,\n  'accuracy@10': 0.0,\n  'precision@5': 0.0,\n  'accuracy@5': 0.0,\n  'precision@1': 0.0,\n  'accuracy@1': 0.0,\n  'ndcg@10': 0.0,\n  'ndcg@5': 0.0,\n  'ndcg@1': 0.0,\n  'mrr@10': 0.0,\n  'mrr@5': 0.0,\n  'mrr@1': 0.0,\n  'map@10': 0.0,\n  'map@5': 0.0,\n  'map@1': 0.0},\n {'fold': 5,\n  'model': 'ALS',\n  'precision@10': 0.0,\n  'accuracy@10': 0.0,\n  'precision@5': 0.0,\n  'accuracy@5': 0.0,\n  'precision@1': 0.0,\n  'accuracy@1': 0.0,\n  'ndcg@10': 0.0,\n  'ndcg@5': 0.0,\n  'ndcg@1': 0.0,\n  'mrr@10': 0.0,\n  'mrr@5': 0.0,\n  'mrr@1': 0.0,\n  'map@10': 0.0,\n  'map@5': 0.0,\n  'map@1': 0.0},\n {'fold': 5,\n  'model': 'LightFM',\n  'precision@10': 0.0,\n  'accuracy@10': 0.0,\n  'precision@5': 0.0,\n  'accuracy@5': 0.0,\n  'precision@1': 0.0,\n  'accuracy@1': 0.0,\n  'ndcg@10': 0.0,\n  'ndcg@5': 0.0,\n  'ndcg@1': 0.0,\n  'mrr@10': 0.0,\n  'mrr@5': 0.0,\n  'mrr@1': 0.0,\n  'map@10': 0.0,\n  'map@5': 0.0,\n  'map@1': 0.0},\n {'fold': 6,\n  'model': 'popular',\n  'precision@10': 0.0,\n  'accuracy@10': 0.0,\n  'precision@5': 0.0,\n  'accuracy@5': 0.0,\n  'precision@1': 0.0,\n  'accuracy@1': 0.0,\n  'ndcg@10': 0.0,\n  'ndcg@5': 0.0,\n  'ndcg@1': 0.0,\n  'mrr@10': 0.0,\n  'mrr@5': 0.0,\n  'mrr@1': 0.0,\n  'map@10': 0.0,\n  'map@5': 0.0,\n  'map@1': 0.0},\n {'fold': 6,\n  'model': 'ALS',\n  'precision@10': 0.0,\n  'accuracy@10': 0.0,\n  'precision@5': 0.0,\n  'accuracy@5': 0.0,\n  'precision@1': 0.0,\n  'accuracy@1': 0.0,\n  'ndcg@10': 0.0,\n  'ndcg@5': 0.0,\n  'ndcg@1': 0.0,\n  'mrr@10': 0.0,\n  'mrr@5': 0.0,\n  'mrr@1': 0.0,\n  'map@10': 0.0,\n  'map@5': 0.0,\n  'map@1': 0.0},\n {'fold': 6,\n  'model': 'LightFM',\n  'precision@10': 0.0,\n  'accuracy@10': 0.0,\n  'precision@5': 0.0,\n  'accuracy@5': 0.0,\n  'precision@1': 0.0,\n  'accuracy@1': 0.0,\n  'ndcg@10': 0.0,\n  'ndcg@5': 0.0,\n  'ndcg@1': 0.0,\n  'mrr@10': 0.0,\n  'mrr@5': 0.0,\n  'mrr@1': 0.0,\n  'map@10': 0.0,\n  'map@5': 0.0,\n  'map@1': 0.0},\n {'fold': 7,\n  'model': 'popular',\n  'precision@10': 0.0,\n  'accuracy@10': 0.0,\n  'precision@5': 0.0,\n  'accuracy@5': 0.0,\n  'precision@1': 0.0,\n  'accuracy@1': 0.0,\n  'ndcg@10': 0.0,\n  'ndcg@5': 0.0,\n  'ndcg@1': 0.0,\n  'mrr@10': 0.0,\n  'mrr@5': 0.0,\n  'mrr@1': 0.0,\n  'map@10': 0.0,\n  'map@5': 0.0,\n  'map@1': 0.0},\n {'fold': 7,\n  'model': 'ALS',\n  'precision@10': 0.0,\n  'accuracy@10': 0.0,\n  'precision@5': 0.0,\n  'accuracy@5': 0.0,\n  'precision@1': 0.0,\n  'accuracy@1': 0.0,\n  'ndcg@10': 0.0,\n  'ndcg@5': 0.0,\n  'ndcg@1': 0.0,\n  'mrr@10': 0.0,\n  'mrr@5': 0.0,\n  'mrr@1': 0.0,\n  'map@10': 0.0,\n  'map@5': 0.0,\n  'map@1': 0.0},\n {'fold': 7,\n  'model': 'LightFM',\n  'precision@10': 0.0,\n  'accuracy@10': 0.0,\n  'precision@5': 0.0,\n  'accuracy@5': 0.0,\n  'precision@1': 0.0,\n  'accuracy@1': 0.0,\n  'ndcg@10': 0.0,\n  'ndcg@5': 0.0,\n  'ndcg@1': 0.0,\n  'mrr@10': 0.0,\n  'mrr@5': 0.0,\n  'mrr@1': 0.0,\n  'map@10': 0.0,\n  'map@5': 0.0,\n  'map@1': 0.0},\n {'fold': 8,\n  'model': 'popular',\n  'precision@10': 0.0,\n  'accuracy@10': 0.0,\n  'precision@5': 0.0,\n  'accuracy@5': 0.0,\n  'precision@1': 0.0,\n  'accuracy@1': 0.0,\n  'ndcg@10': 0.0,\n  'ndcg@5': 0.0,\n  'ndcg@1': 0.0,\n  'mrr@10': 0.0,\n  'mrr@5': 0.0,\n  'mrr@1': 0.0,\n  'map@10': 0.0,\n  'map@5': 0.0,\n  'map@1': 0.0},\n {'fold': 8,\n  'model': 'ALS',\n  'precision@10': 0.0,\n  'accuracy@10': 0.0,\n  'precision@5': 0.0,\n  'accuracy@5': 0.0,\n  'precision@1': 0.0,\n  'accuracy@1': 0.0,\n  'ndcg@10': 0.0,\n  'ndcg@5': 0.0,\n  'ndcg@1': 0.0,\n  'mrr@10': 0.0,\n  'mrr@5': 0.0,\n  'mrr@1': 0.0,\n  'map@10': 0.0,\n  'map@5': 0.0,\n  'map@1': 0.0},\n {'fold': 8,\n  'model': 'LightFM',\n  'precision@10': 0.0,\n  'accuracy@10': 0.0,\n  'precision@5': 0.0,\n  'accuracy@5': 0.0,\n  'precision@1': 0.0,\n  'accuracy@1': 0.0,\n  'ndcg@10': 0.0,\n  'ndcg@5': 0.0,\n  'ndcg@1': 0.0,\n  'mrr@10': 0.0,\n  'mrr@5': 0.0,\n  'mrr@1': 0.0,\n  'map@10': 0.0,\n  'map@5': 0.0,\n  'map@1': 0.0},\n {'fold': 9,\n  'model': 'popular',\n  'precision@10': 0.0,\n  'accuracy@10': 0.0,\n  'precision@5': 0.0,\n  'accuracy@5': 0.0,\n  'precision@1': 0.0,\n  'accuracy@1': 0.0,\n  'ndcg@10': 0.0,\n  'ndcg@5': 0.0,\n  'ndcg@1': 0.0,\n  'mrr@10': 0.0,\n  'mrr@5': 0.0,\n  'mrr@1': 0.0,\n  'map@10': 0.0,\n  'map@5': 0.0,\n  'map@1': 0.0},\n {'fold': 9,\n  'model': 'ALS',\n  'precision@10': 0.0,\n  'accuracy@10': 0.0,\n  'precision@5': 0.0,\n  'accuracy@5': 0.0,\n  'precision@1': 0.0,\n  'accuracy@1': 0.0,\n  'ndcg@10': 0.0,\n  'ndcg@5': 0.0,\n  'ndcg@1': 0.0,\n  'mrr@10': 0.0,\n  'mrr@5': 0.0,\n  'mrr@1': 0.0,\n  'map@10': 0.0,\n  'map@5': 0.0,\n  'map@1': 0.0},\n {'fold': 9,\n  'model': 'LightFM',\n  'precision@10': 0.0,\n  'accuracy@10': 0.0,\n  'precision@5': 0.0,\n  'accuracy@5': 0.0,\n  'precision@1': 0.0,\n  'accuracy@1': 0.0,\n  'ndcg@10': 0.0,\n  'ndcg@5': 0.0,\n  'ndcg@1': 0.0,\n  'mrr@10': 0.0,\n  'mrr@5': 0.0,\n  'mrr@1': 0.0,\n  'map@10': 0.0,\n  'map@5': 0.0,\n  'map@1': 0.0}]"
     },
     "execution_count": 16,
     "metadata": {},
     "output_type": "execute_result"
    }
   ],
   "source": [
    "%%time\n",
    "    \n",
    "cv.get_test_fold_borders(interactions)\n",
    "\n",
    "results = []\n",
    "\n",
    "fold_iterator = cv.split(interactions, collect_fold_stats=True)\n",
    "\n",
    "for train_ids, test_ids, fold_info in tqdm((fold_iterator), total=cv.n_splits):\n",
    "    df_train = interactions.df.iloc[train_ids]\n",
    "    df_test = interactions.df[Columns.UserItem]\n",
    "    test_users = np.unique(df_test[Columns.User])\n",
    "    \n",
    "    catalog = interactions.df[Columns.Item].unique()\n",
    "    \n",
    "    user_features_train = user_features[user_features[\"id\"].isin(interactions.df[Columns.User])]\n",
    "    item_features_train = item_features[item_features[\"id\"].isin(interactions.df[Columns.Item])]    \n",
    "\n",
    "    dataset = Dataset.construct(\n",
    "        interactions_df=interactions.df,\n",
    "        user_features_df=user_features,\n",
    "        cat_user_features=[\"sex\", \"age\", \"income\"],\n",
    "        item_features_df=item_features,\n",
    "        cat_item_features=[\"genre\", \"content_type\"],\n",
    "    )\n",
    "\n",
    "    for model_name, model in models.items():\n",
    "        print(f\"Fitting model {model_name}...\")\n",
    "    \n",
    "        model.fit(dataset)\n",
    "        recos = model.recommend(\n",
    "            users=test_users,\n",
    "            dataset=dataset,\n",
    "            k=K_RECOS,\n",
    "            filter_viewed=True,\n",
    "        )\n",
    "        metric_values = calc_metrics(\n",
    "                metrics,\n",
    "                reco=recos,\n",
    "                interactions=interactions.df,\n",
    "                prev_interactions=interactions.df,\n",
    "                catalog=catalog,\n",
    "            )\n",
    "        \n",
    "        res = {\"fold\": fold_info[\"i_split\"], \"model\": model_name}\n",
    "        res.update(metric_values)\n",
    "        results.append(res)\n",
    "results"
   ],
   "metadata": {
    "collapsed": false,
    "ExecuteTime": {
     "end_time": "2023-12-06T09:22:05.540123355Z",
     "start_time": "2023-12-06T09:17:02.138939495Z"
    }
   },
   "id": "f6b2779cbda61cf6"
  },
  {
   "cell_type": "code",
   "execution_count": 17,
   "outputs": [
    {
     "data": {
      "text/plain": "        precision@10      accuracy@10      precision@5      accuracy@5       \\\n                mean  std        mean  std        mean  std       mean  std   \nmodel                                                                         \npopular          0.0  0.0         0.0  0.0         0.0  0.0        0.0  0.0   \nALS              0.0  0.0         0.0  0.0         0.0  0.0        0.0  0.0   \nLightFM          0.0  0.0         0.0  0.0         0.0  0.0        0.0  0.0   \n\n        precision@1       ... mrr@5      mrr@1      map@10      map@5       \\\n               mean  std  ...  mean  std  mean  std   mean  std  mean  std   \nmodel                     ...                                                \npopular         0.0  0.0  ...   0.0  0.0   0.0  0.0    0.0  0.0   0.0  0.0   \nALS             0.0  0.0  ...   0.0  0.0   0.0  0.0    0.0  0.0   0.0  0.0   \nLightFM         0.0  0.0  ...   0.0  0.0   0.0  0.0    0.0  0.0   0.0  0.0   \n\n        map@1       \n         mean  std  \nmodel               \npopular   0.0  0.0  \nALS       0.0  0.0  \nLightFM   0.0  0.0  \n\n[3 rows x 30 columns]",
      "text/html": "<div>\n<style scoped>\n    .dataframe tbody tr th:only-of-type {\n        vertical-align: middle;\n    }\n\n    .dataframe tbody tr th {\n        vertical-align: top;\n    }\n\n    .dataframe thead tr th {\n        text-align: left;\n    }\n\n    .dataframe thead tr:last-of-type th {\n        text-align: right;\n    }\n</style>\n<table border=\"1\" class=\"dataframe\">\n  <thead>\n    <tr>\n      <th></th>\n      <th colspan=\"2\" halign=\"left\">precision@10</th>\n      <th colspan=\"2\" halign=\"left\">accuracy@10</th>\n      <th colspan=\"2\" halign=\"left\">precision@5</th>\n      <th colspan=\"2\" halign=\"left\">accuracy@5</th>\n      <th colspan=\"2\" halign=\"left\">precision@1</th>\n      <th>...</th>\n      <th colspan=\"2\" halign=\"left\">mrr@5</th>\n      <th colspan=\"2\" halign=\"left\">mrr@1</th>\n      <th colspan=\"2\" halign=\"left\">map@10</th>\n      <th colspan=\"2\" halign=\"left\">map@5</th>\n      <th colspan=\"2\" halign=\"left\">map@1</th>\n    </tr>\n    <tr>\n      <th></th>\n      <th>mean</th>\n      <th>std</th>\n      <th>mean</th>\n      <th>std</th>\n      <th>mean</th>\n      <th>std</th>\n      <th>mean</th>\n      <th>std</th>\n      <th>mean</th>\n      <th>std</th>\n      <th>...</th>\n      <th>mean</th>\n      <th>std</th>\n      <th>mean</th>\n      <th>std</th>\n      <th>mean</th>\n      <th>std</th>\n      <th>mean</th>\n      <th>std</th>\n      <th>mean</th>\n      <th>std</th>\n    </tr>\n    <tr>\n      <th>model</th>\n      <th></th>\n      <th></th>\n      <th></th>\n      <th></th>\n      <th></th>\n      <th></th>\n      <th></th>\n      <th></th>\n      <th></th>\n      <th></th>\n      <th></th>\n      <th></th>\n      <th></th>\n      <th></th>\n      <th></th>\n      <th></th>\n      <th></th>\n      <th></th>\n      <th></th>\n      <th></th>\n      <th></th>\n    </tr>\n  </thead>\n  <tbody>\n    <tr>\n      <th>popular</th>\n      <td>0.0</td>\n      <td>0.0</td>\n      <td>0.0</td>\n      <td>0.0</td>\n      <td>0.0</td>\n      <td>0.0</td>\n      <td>0.0</td>\n      <td>0.0</td>\n      <td>0.0</td>\n      <td>0.0</td>\n      <td>...</td>\n      <td>0.0</td>\n      <td>0.0</td>\n      <td>0.0</td>\n      <td>0.0</td>\n      <td>0.0</td>\n      <td>0.0</td>\n      <td>0.0</td>\n      <td>0.0</td>\n      <td>0.0</td>\n      <td>0.0</td>\n    </tr>\n    <tr>\n      <th>ALS</th>\n      <td>0.0</td>\n      <td>0.0</td>\n      <td>0.0</td>\n      <td>0.0</td>\n      <td>0.0</td>\n      <td>0.0</td>\n      <td>0.0</td>\n      <td>0.0</td>\n      <td>0.0</td>\n      <td>0.0</td>\n      <td>...</td>\n      <td>0.0</td>\n      <td>0.0</td>\n      <td>0.0</td>\n      <td>0.0</td>\n      <td>0.0</td>\n      <td>0.0</td>\n      <td>0.0</td>\n      <td>0.0</td>\n      <td>0.0</td>\n      <td>0.0</td>\n    </tr>\n    <tr>\n      <th>LightFM</th>\n      <td>0.0</td>\n      <td>0.0</td>\n      <td>0.0</td>\n      <td>0.0</td>\n      <td>0.0</td>\n      <td>0.0</td>\n      <td>0.0</td>\n      <td>0.0</td>\n      <td>0.0</td>\n      <td>0.0</td>\n      <td>...</td>\n      <td>0.0</td>\n      <td>0.0</td>\n      <td>0.0</td>\n      <td>0.0</td>\n      <td>0.0</td>\n      <td>0.0</td>\n      <td>0.0</td>\n      <td>0.0</td>\n      <td>0.0</td>\n      <td>0.0</td>\n    </tr>\n  </tbody>\n</table>\n<p>3 rows × 30 columns</p>\n</div>"
     },
     "execution_count": 17,
     "metadata": {},
     "output_type": "execute_result"
    }
   ],
   "source": [
    "pivot_results = pd.DataFrame(results).drop(columns=\"fold\").groupby([\"model\"], sort=False).agg([\"mean\", \"std\"])\n",
    "pivot_results"
   ],
   "metadata": {
    "collapsed": false,
    "ExecuteTime": {
     "end_time": "2023-12-06T09:25:12.527390605Z",
     "start_time": "2023-12-06T09:25:12.484848435Z"
    }
   },
   "id": "7d69b5444342e31"
  },
  {
   "cell_type": "code",
   "execution_count": 18,
   "outputs": [],
   "source": [
    "for model_name, model in models.items():\n",
    "    with open(f\"../artifacts/task4_cropped20_experiment_{model_name}.pkl\", \"wb\") as file:\n",
    "        pickle.dump(model, file)"
   ],
   "metadata": {
    "collapsed": false,
    "ExecuteTime": {
     "end_time": "2023-12-06T09:25:13.035903286Z",
     "start_time": "2023-12-06T09:25:12.976166341Z"
    }
   },
   "id": "15037519ce87b8e5"
  },
  {
   "cell_type": "code",
   "execution_count": 19,
   "outputs": [
    {
     "data": {
      "text/plain": "         precision@10  accuracy@10  map@10  mrr@10  ndcg@10  precision@5  \\\nmodel                                                                      \nALS               0.0          0.0     0.0     0.0      0.0          0.0   \nLightFM           0.0          0.0     0.0     0.0      0.0          0.0   \npopular           0.0          0.0     0.0     0.0      0.0          0.0   \n\n         accuracy@5  map@5  mrr@5  ndcg@5  precision@1  accuracy@1  map@1  \\\nmodel                                                                       \nALS             0.0    0.0    0.0     0.0          0.0         0.0    0.0   \nLightFM         0.0    0.0    0.0     0.0          0.0         0.0    0.0   \npopular         0.0    0.0    0.0     0.0          0.0         0.0    0.0   \n\n         mrr@1  ndcg@1  \nmodel                   \nALS        0.0     0.0  \nLightFM    0.0     0.0  \npopular    0.0     0.0  ",
      "text/html": "<div>\n<style scoped>\n    .dataframe tbody tr th:only-of-type {\n        vertical-align: middle;\n    }\n\n    .dataframe tbody tr th {\n        vertical-align: top;\n    }\n\n    .dataframe thead th {\n        text-align: right;\n    }\n</style>\n<table border=\"1\" class=\"dataframe\">\n  <thead>\n    <tr style=\"text-align: right;\">\n      <th></th>\n      <th>precision@10</th>\n      <th>accuracy@10</th>\n      <th>map@10</th>\n      <th>mrr@10</th>\n      <th>ndcg@10</th>\n      <th>precision@5</th>\n      <th>accuracy@5</th>\n      <th>map@5</th>\n      <th>mrr@5</th>\n      <th>ndcg@5</th>\n      <th>precision@1</th>\n      <th>accuracy@1</th>\n      <th>map@1</th>\n      <th>mrr@1</th>\n      <th>ndcg@1</th>\n    </tr>\n    <tr>\n      <th>model</th>\n      <th></th>\n      <th></th>\n      <th></th>\n      <th></th>\n      <th></th>\n      <th></th>\n      <th></th>\n      <th></th>\n      <th></th>\n      <th></th>\n      <th></th>\n      <th></th>\n      <th></th>\n      <th></th>\n      <th></th>\n    </tr>\n  </thead>\n  <tbody>\n    <tr>\n      <th>ALS</th>\n      <td>0.0</td>\n      <td>0.0</td>\n      <td>0.0</td>\n      <td>0.0</td>\n      <td>0.0</td>\n      <td>0.0</td>\n      <td>0.0</td>\n      <td>0.0</td>\n      <td>0.0</td>\n      <td>0.0</td>\n      <td>0.0</td>\n      <td>0.0</td>\n      <td>0.0</td>\n      <td>0.0</td>\n      <td>0.0</td>\n    </tr>\n    <tr>\n      <th>LightFM</th>\n      <td>0.0</td>\n      <td>0.0</td>\n      <td>0.0</td>\n      <td>0.0</td>\n      <td>0.0</td>\n      <td>0.0</td>\n      <td>0.0</td>\n      <td>0.0</td>\n      <td>0.0</td>\n      <td>0.0</td>\n      <td>0.0</td>\n      <td>0.0</td>\n      <td>0.0</td>\n      <td>0.0</td>\n      <td>0.0</td>\n    </tr>\n    <tr>\n      <th>popular</th>\n      <td>0.0</td>\n      <td>0.0</td>\n      <td>0.0</td>\n      <td>0.0</td>\n      <td>0.0</td>\n      <td>0.0</td>\n      <td>0.0</td>\n      <td>0.0</td>\n      <td>0.0</td>\n      <td>0.0</td>\n      <td>0.0</td>\n      <td>0.0</td>\n      <td>0.0</td>\n      <td>0.0</td>\n      <td>0.0</td>\n    </tr>\n  </tbody>\n</table>\n</div>"
     },
     "execution_count": 19,
     "metadata": {},
     "output_type": "execute_result"
    }
   ],
   "source": [
    "with open(\"../artifacts/task4_cropped20_experiment_LightFM.pkl\", \"rb\") as file:\n",
    "    model_1 = pickle.load(file)\n",
    "\n",
    "dataset = Dataset.construct(\n",
    "        interactions_df=interactions.df,\n",
    "        user_features_df=user_features,\n",
    "        cat_user_features=[\"sex\", \"age\", \"income\"],\n",
    "        item_features_df=item_features,\n",
    "        cat_item_features=[\"genre\", \"content_type\"],\n",
    ")\n",
    "\n",
    "recos = model.recommend(\n",
    "    users=[3721],\n",
    "    dataset=dataset,\n",
    "    k=K_RECOS,\n",
    "    filter_viewed=True,\n",
    ")\n",
    "    \n",
    "metric_values = calc_metrics(\n",
    "    metrics,\n",
    "    reco=recos,\n",
    "    interactions=df_test,\n",
    "    prev_interactions=interactions_df_hot_users,\n",
    "    catalog=catalog,\n",
    ")\n",
    "\n",
    "df_metrics = pd.DataFrame(results)\n",
    "\n",
    "df_metrics.groupby('model').mean()[metrics.keys()]"
   ],
   "metadata": {
    "collapsed": false,
    "ExecuteTime": {
     "end_time": "2023-12-06T09:25:14.675722663Z",
     "start_time": "2023-12-06T09:25:13.728514513Z"
    }
   },
   "id": "c381db289204f271"
  },
  {
   "cell_type": "code",
   "execution_count": 12,
   "outputs": [
    {
     "ename": "SyntaxError",
     "evalue": "invalid syntax (2763135365.py, line 1)",
     "output_type": "error",
     "traceback": [
      "\u001B[0;36m  Cell \u001B[0;32mIn[12], line 1\u001B[0;36m\u001B[0m\n\u001B[0;31m    interactions_df_hot_users[]\u001B[0m\n\u001B[0m                              ^\u001B[0m\n\u001B[0;31mSyntaxError\u001B[0m\u001B[0;31m:\u001B[0m invalid syntax\n"
     ]
    }
   ],
   "source": [
    "interactions_df_hot_users[]"
   ],
   "metadata": {
    "collapsed": false,
    "ExecuteTime": {
     "end_time": "2023-12-06T09:00:16.729544890Z",
     "start_time": "2023-12-06T09:00:16.614673886Z"
    }
   },
   "id": "f6ff716e5e8ce9b"
  },
  {
   "cell_type": "code",
   "execution_count": null,
   "outputs": [],
   "source": [
    "df_train"
   ],
   "metadata": {
    "collapsed": false,
    "ExecuteTime": {
     "start_time": "2023-12-06T09:00:16.659160753Z"
    }
   },
   "id": "e17d93069f3ebfd"
  },
  {
   "cell_type": "code",
   "execution_count": null,
   "outputs": [],
   "source": [],
   "metadata": {
    "collapsed": false,
    "ExecuteTime": {
     "start_time": "2023-12-06T09:00:16.659298733Z"
    }
   },
   "id": "c55453cec8086f5a"
  },
  {
   "cell_type": "code",
   "execution_count": null,
   "outputs": [],
   "source": [
    "test = interactions.df.iloc[test_ids][Columns.UserItem]\n",
    "test"
   ],
   "metadata": {
    "collapsed": false,
    "ExecuteTime": {
     "start_time": "2023-12-06T09:00:16.659370619Z"
    }
   },
   "id": "b30db5ea13e067f3"
  },
  {
   "cell_type": "code",
   "execution_count": null,
   "outputs": [],
   "source": [
    "aaa = test[test['user_id'].isin([299])]\n",
    "aaa"
   ],
   "metadata": {
    "collapsed": false,
    "ExecuteTime": {
     "start_time": "2023-12-06T09:00:16.659411716Z"
    }
   },
   "id": "4e280e111d02fe6"
  },
  {
   "cell_type": "code",
   "execution_count": null,
   "outputs": [],
   "source": [],
   "metadata": {
    "collapsed": false,
    "ExecuteTime": {
     "start_time": "2023-12-06T09:00:16.659441452Z"
    }
   },
   "id": "d2671664fc0cbefc"
  }
 ],
 "metadata": {
  "kernelspec": {
   "display_name": "Python 3",
   "language": "python",
   "name": "python3"
  },
  "language_info": {
   "codemirror_mode": {
    "name": "ipython",
    "version": 2
   },
   "file_extension": ".py",
   "mimetype": "text/x-python",
   "name": "python",
   "nbconvert_exporter": "python",
   "pygments_lexer": "ipython2",
   "version": "2.7.6"
  }
 },
 "nbformat": 4,
 "nbformat_minor": 5
}
