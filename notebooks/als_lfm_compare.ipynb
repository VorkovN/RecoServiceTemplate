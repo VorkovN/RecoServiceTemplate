{
 "cells": [
  {
   "cell_type": "code",
   "execution_count": 59,
   "id": "initial_id",
   "metadata": {
    "collapsed": true,
    "ExecuteTime": {
     "end_time": "2023-12-06T11:03:54.989638938Z",
     "start_time": "2023-12-06T11:03:54.929161764Z"
    }
   },
   "outputs": [],
   "source": [
    "import pickle\n",
    "import numpy as np\n",
    "import pandas as pd\n",
    "from implicit.bpr import BayesianPersonalizedRanking\n",
    "from rectools.dataset import Interactions, Dataset\n",
    "from rectools.model_selection import TimeRangeSplitter\n",
    "from rectools.metrics import MAP, MeanInvUserFreq, calc_metrics, MRR, NDCG\n",
    "\n",
    "from implicit.als import AlternatingLeastSquares\n",
    "\n",
    "from rectools.metrics import Precision, Recall, MAP, calc_metrics\n",
    "from rectools import Columns\n",
    "from rectools.dataset import Dataset\n",
    "from rectools.models import ImplicitALSWrapperModel, LightFMWrapperModel, PopularModel\n",
    "from tqdm import tqdm\n",
    "\n",
    "from lightfm import LightFM\n",
    "\n",
    "import optuna"
   ]
  },
  {
   "cell_type": "code",
   "execution_count": 60,
   "outputs": [
    {
     "data": {
      "text/plain": "         user_id  item_id   datetime  weight  watched_pct\n0         176549     9506 2021-05-11  4250.0         72.0\n1         699317     1659 2021-05-29  8317.0        100.0\n6        1016458      354 2021-08-14  1672.0         25.0\n14          5324     8437 2021-04-18  6598.0         92.0\n18        927973     9617 2021-06-19  8422.0        100.0\n...          ...      ...        ...     ...          ...\n5476213   706423     3384 2021-03-13  5937.0        100.0\n5476223   489587     6945 2021-05-18   229.0          4.0\n5476226   435089    13475 2021-07-06  4624.0         85.0\n5476239   610017     7107 2021-05-10  1133.0         75.0\n5476249   384202    16197 2021-04-19  6203.0        100.0\n\n[1612379 rows x 5 columns]",
      "text/html": "<div>\n<style scoped>\n    .dataframe tbody tr th:only-of-type {\n        vertical-align: middle;\n    }\n\n    .dataframe tbody tr th {\n        vertical-align: top;\n    }\n\n    .dataframe thead th {\n        text-align: right;\n    }\n</style>\n<table border=\"1\" class=\"dataframe\">\n  <thead>\n    <tr style=\"text-align: right;\">\n      <th></th>\n      <th>user_id</th>\n      <th>item_id</th>\n      <th>datetime</th>\n      <th>weight</th>\n      <th>watched_pct</th>\n    </tr>\n  </thead>\n  <tbody>\n    <tr>\n      <th>0</th>\n      <td>176549</td>\n      <td>9506</td>\n      <td>2021-05-11</td>\n      <td>4250.0</td>\n      <td>72.0</td>\n    </tr>\n    <tr>\n      <th>1</th>\n      <td>699317</td>\n      <td>1659</td>\n      <td>2021-05-29</td>\n      <td>8317.0</td>\n      <td>100.0</td>\n    </tr>\n    <tr>\n      <th>6</th>\n      <td>1016458</td>\n      <td>354</td>\n      <td>2021-08-14</td>\n      <td>1672.0</td>\n      <td>25.0</td>\n    </tr>\n    <tr>\n      <th>14</th>\n      <td>5324</td>\n      <td>8437</td>\n      <td>2021-04-18</td>\n      <td>6598.0</td>\n      <td>92.0</td>\n    </tr>\n    <tr>\n      <th>18</th>\n      <td>927973</td>\n      <td>9617</td>\n      <td>2021-06-19</td>\n      <td>8422.0</td>\n      <td>100.0</td>\n    </tr>\n    <tr>\n      <th>...</th>\n      <td>...</td>\n      <td>...</td>\n      <td>...</td>\n      <td>...</td>\n      <td>...</td>\n    </tr>\n    <tr>\n      <th>5476213</th>\n      <td>706423</td>\n      <td>3384</td>\n      <td>2021-03-13</td>\n      <td>5937.0</td>\n      <td>100.0</td>\n    </tr>\n    <tr>\n      <th>5476223</th>\n      <td>489587</td>\n      <td>6945</td>\n      <td>2021-05-18</td>\n      <td>229.0</td>\n      <td>4.0</td>\n    </tr>\n    <tr>\n      <th>5476226</th>\n      <td>435089</td>\n      <td>13475</td>\n      <td>2021-07-06</td>\n      <td>4624.0</td>\n      <td>85.0</td>\n    </tr>\n    <tr>\n      <th>5476239</th>\n      <td>610017</td>\n      <td>7107</td>\n      <td>2021-05-10</td>\n      <td>1133.0</td>\n      <td>75.0</td>\n    </tr>\n    <tr>\n      <th>5476249</th>\n      <td>384202</td>\n      <td>16197</td>\n      <td>2021-04-19</td>\n      <td>6203.0</td>\n      <td>100.0</td>\n    </tr>\n  </tbody>\n</table>\n<p>1612379 rows × 5 columns</p>\n</div>"
     },
     "execution_count": 60,
     "metadata": {},
     "output_type": "execute_result"
    }
   ],
   "source": [
    "interactions_df = pd.read_csv('../artifacts/data_original/interactions.csv')\n",
    "users = pd.read_csv('../artifacts/data_original/users.csv')\n",
    "items = pd.read_csv('../artifacts/data_original/items.csv')\n",
    "\n",
    "interactions_df.rename(columns={'last_watch_dt': Columns.Datetime,\n",
    "                                'total_dur': Columns.Weight}, inplace=True) \n",
    "\n",
    "# Мы хотим учитывать юзеров с 1 или двумя просмотрами, так как этого недостаточно чтобы говорить о пользователях хоть что-нибудь\n",
    "user_ids_all = interactions_df.groupby(Columns.User)[Columns.Item].nunique().reset_index(name='unique_items_count')\n",
    "hot_users = user_ids_all[user_ids_all['unique_items_count'] > 20][Columns.User]\n",
    "interactions_df_hot_users = interactions_df[interactions_df[Columns.User].isin(hot_users)]\n",
    "\n",
    "\n",
    "users = users[users[Columns.User].isin(interactions_df_hot_users[Columns.User])]\n",
    "interactions_df_hot_users = interactions_df_hot_users[interactions_df_hot_users[Columns.User].isin(users[Columns.User])]\n",
    "items = items[items[Columns.Item].isin(interactions_df_hot_users[Columns.Item])]\n",
    "\n",
    "interactions = Interactions(interactions_df_hot_users)   \n",
    "catalog = interactions.df[Columns.Item].unique()\n",
    "\n",
    "interactions.df"
   ],
   "metadata": {
    "collapsed": false,
    "ExecuteTime": {
     "end_time": "2023-12-06T11:03:59.230897025Z",
     "start_time": "2023-12-06T11:03:54.970758902Z"
    }
   },
   "id": "243031044b35d68a"
  },
  {
   "cell_type": "code",
   "execution_count": 68,
   "outputs": [
    {
     "data": {
      "text/plain": "[(Timestamp('2021-07-12 00:00:00', freq='14D'),\n  Timestamp('2021-07-26 00:00:00', freq='14D')),\n (Timestamp('2021-07-26 00:00:00', freq='14D'),\n  Timestamp('2021-08-09 00:00:00', freq='14D')),\n (Timestamp('2021-08-09 00:00:00', freq='14D'),\n  Timestamp('2021-08-23 00:00:00', freq='14D'))]"
     },
     "execution_count": 68,
     "metadata": {},
     "output_type": "execute_result"
    }
   ],
   "source": [
    "N_SPLITS = 3\n",
    "TEST_SIZE = '14D'\n",
    "\n",
    "cv = TimeRangeSplitter(\n",
    "    test_size=TEST_SIZE,\n",
    "    n_splits=N_SPLITS,\n",
    "    filter_already_seen=True,\n",
    "    filter_cold_items=True,\n",
    "    filter_cold_users=False,\n",
    ")\n",
    "cv.get_test_fold_borders(interactions)"
   ],
   "metadata": {
    "collapsed": false,
    "ExecuteTime": {
     "end_time": "2023-12-06T11:05:02.641346060Z",
     "start_time": "2023-12-06T11:05:02.624730420Z"
    }
   },
   "id": "ed60ede1ed59409e"
  },
  {
   "cell_type": "code",
   "execution_count": 62,
   "outputs": [],
   "source": [
    "K_RECOS = 10\n",
    "RANDOM_STATE = 42\n",
    "NUM_THREADS = 8\n",
    "N_FACTORS = 8\n",
    "NO_COMPONENTS = 16\n",
    "N_EPOCHS = 10\n",
    "LEARNING_RATE = 0.012\n",
    "RHO = 0.972\n",
    "EPSILON = 5.6 * 1e-5\n",
    "\n",
    "metrics = {\n",
    "    \"precision@10\": Precision(k=10),\n",
    "    \"accuracy@10\": Recall(k=10),\n",
    "    \"map@10\": MAP(k=10),\n",
    "    \"mrr@10\": MRR(k=10),\n",
    "    \"ndcg@10\": NDCG(k=10),\n",
    "    \"precision@5\": Precision(k=5),\n",
    "    \"accuracy@5\": Recall(k=5),\n",
    "    \"map@5\": MAP(k=5),\n",
    "    \"mrr@5\": MRR(k=5),\n",
    "    \"ndcg@5\": NDCG(k=5),\n",
    "    \"precision@1\": Precision(k=1),\n",
    "    \"accuracy@1\": Recall(k=1),\n",
    "    \"map@1\": MAP(k=1),\n",
    "    \"mrr@1\": MRR(k=1),\n",
    "    \"ndcg@1\": NDCG(k=1),\n",
    "}\n",
    "\n",
    "models = {\n",
    "    \"popular\": PopularModel(),\n",
    "}\n",
    "\n",
    "models[\"ALS\"] = ImplicitALSWrapperModel(\n",
    "    model=AlternatingLeastSquares(\n",
    "        factors=N_FACTORS, \n",
    "        random_state=RANDOM_STATE, \n",
    "        num_threads=NUM_THREADS\n",
    "    )\n",
    ")\n",
    "        \n",
    "\n",
    "lightfm_losses = 'warp'\n",
    "models[f\"LightFM\"] = LightFMWrapperModel(\n",
    "    LightFM(\n",
    "        no_components=NO_COMPONENTS, \n",
    "        loss=lightfm_losses, \n",
    "        random_state=RANDOM_STATE,\n",
    "        learning_rate=LEARNING_RATE,\n",
    "        rho=RHO,\n",
    "        epsilon=EPSILON,\n",
    "    ),\n",
    "    epochs=N_EPOCHS,\n",
    "    num_threads=NUM_THREADS,\n",
    ")"
   ],
   "metadata": {
    "collapsed": false,
    "ExecuteTime": {
     "end_time": "2023-12-06T11:03:59.321119762Z",
     "start_time": "2023-12-06T11:03:59.274704348Z"
    }
   },
   "id": "12057eb3eb2c9ea3"
  },
  {
   "cell_type": "code",
   "execution_count": 63,
   "outputs": [
    {
     "data": {
      "text/plain": "         id value feature\n24   269408     Ж     sex\n27   384532     М     sex\n66   216495     М     sex\n81   515668     М     sex\n136  824452     М     sex",
      "text/html": "<div>\n<style scoped>\n    .dataframe tbody tr th:only-of-type {\n        vertical-align: middle;\n    }\n\n    .dataframe tbody tr th {\n        vertical-align: top;\n    }\n\n    .dataframe thead th {\n        text-align: right;\n    }\n</style>\n<table border=\"1\" class=\"dataframe\">\n  <thead>\n    <tr style=\"text-align: right;\">\n      <th></th>\n      <th>id</th>\n      <th>value</th>\n      <th>feature</th>\n    </tr>\n  </thead>\n  <tbody>\n    <tr>\n      <th>24</th>\n      <td>269408</td>\n      <td>Ж</td>\n      <td>sex</td>\n    </tr>\n    <tr>\n      <th>27</th>\n      <td>384532</td>\n      <td>М</td>\n      <td>sex</td>\n    </tr>\n    <tr>\n      <th>66</th>\n      <td>216495</td>\n      <td>М</td>\n      <td>sex</td>\n    </tr>\n    <tr>\n      <th>81</th>\n      <td>515668</td>\n      <td>М</td>\n      <td>sex</td>\n    </tr>\n    <tr>\n      <th>136</th>\n      <td>824452</td>\n      <td>М</td>\n      <td>sex</td>\n    </tr>\n  </tbody>\n</table>\n</div>"
     },
     "execution_count": 63,
     "metadata": {},
     "output_type": "execute_result"
    }
   ],
   "source": [
    "user_features_frames = []\n",
    "for feature in [\"sex\", \"age\", \"income\"]:\n",
    "    feature_frame = users.reindex(columns=[Columns.User, feature])\n",
    "    feature_frame.columns = [\"id\", \"value\"]\n",
    "    feature_frame[\"feature\"] = feature\n",
    "    user_features_frames.append(feature_frame)\n",
    "user_features = pd.concat(user_features_frames)\n",
    "user_features.head()"
   ],
   "metadata": {
    "collapsed": false,
    "ExecuteTime": {
     "end_time": "2023-12-06T11:03:59.321549174Z",
     "start_time": "2023-12-06T11:03:59.274800127Z"
    }
   },
   "id": "7314cd296c89e9a6"
  },
  {
   "cell_type": "code",
   "execution_count": 64,
   "outputs": [
    {
     "data": {
      "text/plain": "          id       value       feature\n0      10711       драмы         genre\n0      10711  зарубежные         genre\n0      10711   детективы         genre\n0      10711   мелодрамы         genre\n1       2508  зарубежные         genre\n...      ...         ...           ...\n15958   6443      series  content_type\n15959   2367      series  content_type\n15960  10632      series  content_type\n15961   4538      series  content_type\n15962   3206      series  content_type\n\n[49108 rows x 3 columns]",
      "text/html": "<div>\n<style scoped>\n    .dataframe tbody tr th:only-of-type {\n        vertical-align: middle;\n    }\n\n    .dataframe tbody tr th {\n        vertical-align: top;\n    }\n\n    .dataframe thead th {\n        text-align: right;\n    }\n</style>\n<table border=\"1\" class=\"dataframe\">\n  <thead>\n    <tr style=\"text-align: right;\">\n      <th></th>\n      <th>id</th>\n      <th>value</th>\n      <th>feature</th>\n    </tr>\n  </thead>\n  <tbody>\n    <tr>\n      <th>0</th>\n      <td>10711</td>\n      <td>драмы</td>\n      <td>genre</td>\n    </tr>\n    <tr>\n      <th>0</th>\n      <td>10711</td>\n      <td>зарубежные</td>\n      <td>genre</td>\n    </tr>\n    <tr>\n      <th>0</th>\n      <td>10711</td>\n      <td>детективы</td>\n      <td>genre</td>\n    </tr>\n    <tr>\n      <th>0</th>\n      <td>10711</td>\n      <td>мелодрамы</td>\n      <td>genre</td>\n    </tr>\n    <tr>\n      <th>1</th>\n      <td>2508</td>\n      <td>зарубежные</td>\n      <td>genre</td>\n    </tr>\n    <tr>\n      <th>...</th>\n      <td>...</td>\n      <td>...</td>\n      <td>...</td>\n    </tr>\n    <tr>\n      <th>15958</th>\n      <td>6443</td>\n      <td>series</td>\n      <td>content_type</td>\n    </tr>\n    <tr>\n      <th>15959</th>\n      <td>2367</td>\n      <td>series</td>\n      <td>content_type</td>\n    </tr>\n    <tr>\n      <th>15960</th>\n      <td>10632</td>\n      <td>series</td>\n      <td>content_type</td>\n    </tr>\n    <tr>\n      <th>15961</th>\n      <td>4538</td>\n      <td>series</td>\n      <td>content_type</td>\n    </tr>\n    <tr>\n      <th>15962</th>\n      <td>3206</td>\n      <td>series</td>\n      <td>content_type</td>\n    </tr>\n  </tbody>\n</table>\n<p>49108 rows × 3 columns</p>\n</div>"
     },
     "execution_count": 64,
     "metadata": {},
     "output_type": "execute_result"
    }
   ],
   "source": [
    "items[\"genre\"] = items[\"genres\"].str.lower().str.replace(\", \", \",\", regex=False).str.split(\",\")\n",
    "genre_feature = items[[\"item_id\", \"genre\"]].explode(\"genre\")\n",
    "genre_feature.columns = [\"id\", \"value\"]\n",
    "genre_feature[\"feature\"] = \"genre\"\n",
    "genre_feature.head()\n",
    "\n",
    "content_feature = items.reindex(columns=[Columns.Item, \"content_type\"])\n",
    "content_feature.columns = [\"id\", \"value\"]\n",
    "content_feature[\"feature\"] = \"content_type\"\n",
    "\n",
    "item_features = pd.concat((genre_feature, content_feature))\n",
    "item_features"
   ],
   "metadata": {
    "collapsed": false,
    "ExecuteTime": {
     "end_time": "2023-12-06T11:03:59.323765341Z",
     "start_time": "2023-12-06T11:03:59.318957265Z"
    }
   },
   "id": "7b5d9e3f7eb2e273"
  },
  {
   "cell_type": "code",
   "execution_count": 69,
   "outputs": [
    {
     "name": "stderr",
     "output_type": "stream",
     "text": [
      "  0%|          | 0/3 [00:00<?, ?it/s]"
     ]
    },
    {
     "name": "stdout",
     "output_type": "stream",
     "text": [
      "Fitting model popular...\n",
      "Fitting model ALS...\n"
     ]
    },
    {
     "name": "stderr",
     "output_type": "stream",
     "text": [
      "/home/vorkov/Workspace/RecoServiceTemplate/venv/lib/python3.10/site-packages/rectools/dataset/features.py:420: UserWarning: Converting sparse features to dense array may cause MemoryError\n",
      "  warnings.warn(\"Converting sparse features to dense array may cause MemoryError\")\n"
     ]
    },
    {
     "data": {
      "text/plain": "  0%|          | 0/1 [00:00<?, ?it/s]",
      "application/vnd.jupyter.widget-view+json": {
       "version_major": 2,
       "version_minor": 0,
       "model_id": "0c21c3aec71a4d40bd50afc9f2605689"
      }
     },
     "metadata": {},
     "output_type": "display_data"
    },
    {
     "data": {
      "text/plain": "  0%|          | 0/1 [00:00<?, ?it/s]",
      "application/vnd.jupyter.widget-view+json": {
       "version_major": 2,
       "version_minor": 0,
       "model_id": "8cb097cc4e894951a5438d73f591e2d6"
      }
     },
     "metadata": {},
     "output_type": "display_data"
    },
    {
     "name": "stderr",
     "output_type": "stream",
     "text": [
      "  0%|          | 0/3 [00:06<?, ?it/s]\n"
     ]
    },
    {
     "ename": "KeyError",
     "evalue": "'Some indices do not exist'",
     "output_type": "error",
     "traceback": [
      "\u001B[0;31m---------------------------------------------------------------------------\u001B[0m",
      "\u001B[0;31mKeyError\u001B[0m                                  Traceback (most recent call last)",
      "File \u001B[0;32m<timed exec>:39\u001B[0m\n",
      "File \u001B[0;32m~/Workspace/RecoServiceTemplate/venv/lib/python3.10/site-packages/rectools/models/base.py:157\u001B[0m, in \u001B[0;36mModelBase.recommend\u001B[0;34m(self, users, dataset, k, filter_viewed, items_to_recommend, add_rank_col, assume_external_ids, return_external_ids)\u001B[0m\n\u001B[1;32m    155\u001B[0m \u001B[38;5;28;01mif\u001B[39;00m return_external_ids:\n\u001B[1;32m    156\u001B[0m     reco_user_ids \u001B[38;5;241m=\u001B[39m dataset\u001B[38;5;241m.\u001B[39muser_id_map\u001B[38;5;241m.\u001B[39mconvert_to_external(reco_user_ids)\n\u001B[0;32m--> 157\u001B[0m     reco_item_ids \u001B[38;5;241m=\u001B[39m \u001B[43mdataset\u001B[49m\u001B[38;5;241;43m.\u001B[39;49m\u001B[43mitem_id_map\u001B[49m\u001B[38;5;241;43m.\u001B[39;49m\u001B[43mconvert_to_external\u001B[49m\u001B[43m(\u001B[49m\u001B[43mreco_item_ids\u001B[49m\u001B[43m)\u001B[49m\n\u001B[1;32m    159\u001B[0m reco \u001B[38;5;241m=\u001B[39m \u001B[38;5;28mself\u001B[39m\u001B[38;5;241m.\u001B[39m_make_reco_table(reco_user_ids, reco_item_ids, reco_scores, Columns\u001B[38;5;241m.\u001B[39mUser, add_rank_col)\n\u001B[1;32m    160\u001B[0m \u001B[38;5;28;01mreturn\u001B[39;00m reco\n",
      "File \u001B[0;32m~/Workspace/RecoServiceTemplate/venv/lib/python3.10/site-packages/rectools/dataset/identifiers.py:167\u001B[0m, in \u001B[0;36mIdMap.convert_to_external\u001B[0;34m(self, internal, strict)\u001B[0m\n\u001B[1;32m    144\u001B[0m \u001B[38;5;28;01mdef\u001B[39;00m \u001B[38;5;21mconvert_to_external\u001B[39m(\u001B[38;5;28mself\u001B[39m, internal: InternalIds, strict: \u001B[38;5;28mbool\u001B[39m \u001B[38;5;241m=\u001B[39m \u001B[38;5;28;01mTrue\u001B[39;00m) \u001B[38;5;241m-\u001B[39m\u001B[38;5;241m>\u001B[39m np\u001B[38;5;241m.\u001B[39mndarray:\n\u001B[1;32m    145\u001B[0m \u001B[38;5;250m    \u001B[39m\u001B[38;5;124;03m\"\"\"\u001B[39;00m\n\u001B[1;32m    146\u001B[0m \u001B[38;5;124;03m    Convert any sequence of internal ids to array of external ids (map internal -> external).\u001B[39;00m\n\u001B[1;32m    147\u001B[0m \n\u001B[0;32m   (...)\u001B[0m\n\u001B[1;32m    165\u001B[0m \u001B[38;5;124;03m        If some of given internal ids do not exist in mapping and `strict` flag is True.\u001B[39;00m\n\u001B[1;32m    166\u001B[0m \u001B[38;5;124;03m    \"\"\"\u001B[39;00m\n\u001B[0;32m--> 167\u001B[0m     external \u001B[38;5;241m=\u001B[39m \u001B[43mget_from_series_by_index\u001B[49m\u001B[43m(\u001B[49m\u001B[38;5;28;43mself\u001B[39;49m\u001B[38;5;241;43m.\u001B[39;49m\u001B[43mto_external\u001B[49m\u001B[43m,\u001B[49m\u001B[43m \u001B[49m\u001B[43minternal\u001B[49m\u001B[43m,\u001B[49m\u001B[43m \u001B[49m\u001B[43mstrict\u001B[49m\u001B[43m)\u001B[49m\n\u001B[1;32m    168\u001B[0m     \u001B[38;5;28;01mreturn\u001B[39;00m external\n",
      "File \u001B[0;32m~/Workspace/RecoServiceTemplate/venv/lib/python3.10/site-packages/rectools/utils/indexing.py:109\u001B[0m, in \u001B[0;36mget_from_series_by_index\u001B[0;34m(series, ids, strict)\u001B[0m\n\u001B[1;32m    107\u001B[0m \u001B[38;5;28;01mif\u001B[39;00m strict:\n\u001B[1;32m    108\u001B[0m     \u001B[38;5;28;01mif\u001B[39;00m r\u001B[38;5;241m.\u001B[39misna()\u001B[38;5;241m.\u001B[39many():\n\u001B[0;32m--> 109\u001B[0m         \u001B[38;5;28;01mraise\u001B[39;00m \u001B[38;5;167;01mKeyError\u001B[39;00m(\u001B[38;5;124m\"\u001B[39m\u001B[38;5;124mSome indices do not exist\u001B[39m\u001B[38;5;124m\"\u001B[39m)\n\u001B[1;32m    110\u001B[0m \u001B[38;5;28;01melse\u001B[39;00m:\n\u001B[1;32m    111\u001B[0m     r\u001B[38;5;241m.\u001B[39mdropna(inplace\u001B[38;5;241m=\u001B[39m\u001B[38;5;28;01mTrue\u001B[39;00m)\n",
      "\u001B[0;31mKeyError\u001B[0m: 'Some indices do not exist'"
     ]
    }
   ],
   "source": [
    "%%time\n",
    "    \n",
    "cv.get_test_fold_borders(interactions)\n",
    "\n",
    "results = []\n",
    "\n",
    "fold_iterator = cv.split(interactions, collect_fold_stats=True)\n",
    "\n",
    "for train_ids, test_ids, fold_info in tqdm((fold_iterator), total=cv.n_splits):\n",
    "    df_train = interactions.df.iloc[train_ids]\n",
    "    df_test = interactions.df.iloc[test_ids]\n",
    "    test_users = np.unique(df_test[Columns.User])\n",
    "    \n",
    "    catalog = interactions.df[Columns.Item].unique()\n",
    "    \n",
    "    user_features_train = user_features[user_features[\"id\"].isin(df_train[Columns.User])]\n",
    "    item_features_train = item_features[item_features[\"id\"].isin(df_train[Columns.Item])]   \n",
    "    \n",
    "    user_features_test = user_features[user_features[\"id\"].isin(df_test[Columns.User])]\n",
    "    item_features_test = item_features[item_features[\"id\"].isin(df_test[Columns.Item])] \n",
    "\n",
    "    dataset_train = Dataset.construct(\n",
    "        interactions_df=df_train,\n",
    "        user_features_df=user_features_train,\n",
    "        cat_user_features=[\"sex\", \"age\", \"income\"],\n",
    "        item_features_df=item_features_train,\n",
    "        cat_item_features=[\"genre\", \"content_type\"],\n",
    "    )\n",
    "    dataset_test = Dataset.construct(\n",
    "        interactions_df=df_test,\n",
    "        user_features_df=user_features_test,\n",
    "        cat_user_features=[\"sex\", \"age\", \"income\"],\n",
    "        item_features_df=item_features_test,\n",
    "        cat_item_features=[\"genre\", \"content_type\"],\n",
    "    )\n",
    "\n",
    "    for model_name, model in models.items():\n",
    "        print(f\"Fitting model {model_name}...\")\n",
    "    \n",
    "        model.fit(dataset_train)\n",
    "        recos = model.recommend(\n",
    "            users=test_users,\n",
    "            dataset=dataset_test,\n",
    "            k=K_RECOS,\n",
    "            filter_viewed=True,\n",
    "        )\n",
    "        \n",
    "        metric_values = calc_metrics(\n",
    "            metrics,\n",
    "            reco=recos,\n",
    "            interactions=interactions.df,\n",
    "            prev_interactions=interactions.df,\n",
    "            catalog=catalog,\n",
    "        )\n",
    "\n",
    "        res = {\"fold\": fold_info[\"i_split\"], \"model\": model_name}\n",
    "        res.update(metric_values)\n",
    "        results.append(res)\n",
    "results"
   ],
   "metadata": {
    "collapsed": false,
    "ExecuteTime": {
     "end_time": "2023-12-06T11:05:14.465560648Z",
     "start_time": "2023-12-06T11:05:07.814558327Z"
    }
   },
   "id": "f6b2779cbda61cf6"
  },
  {
   "cell_type": "code",
   "execution_count": 66,
   "outputs": [
    {
     "data": {
      "text/plain": "        precision@10     accuracy@10     precision@5     accuracy@5      \\\n                mean std        mean std        mean std       mean std   \nmodel                                                                     \npopular          0.0 NaN         0.0 NaN         0.0 NaN        0.0 NaN   \n\n        precision@1      ... mrr@5     mrr@1     map@10     map@5     map@1  \\\n               mean std  ...  mean std  mean std   mean std  mean std  mean   \nmodel                    ...                                                  \npopular         0.0 NaN  ...   0.0 NaN   0.0 NaN    0.0 NaN   0.0 NaN   0.0   \n\n             \n        std  \nmodel        \npopular NaN  \n\n[1 rows x 30 columns]",
      "text/html": "<div>\n<style scoped>\n    .dataframe tbody tr th:only-of-type {\n        vertical-align: middle;\n    }\n\n    .dataframe tbody tr th {\n        vertical-align: top;\n    }\n\n    .dataframe thead tr th {\n        text-align: left;\n    }\n\n    .dataframe thead tr:last-of-type th {\n        text-align: right;\n    }\n</style>\n<table border=\"1\" class=\"dataframe\">\n  <thead>\n    <tr>\n      <th></th>\n      <th colspan=\"2\" halign=\"left\">precision@10</th>\n      <th colspan=\"2\" halign=\"left\">accuracy@10</th>\n      <th colspan=\"2\" halign=\"left\">precision@5</th>\n      <th colspan=\"2\" halign=\"left\">accuracy@5</th>\n      <th colspan=\"2\" halign=\"left\">precision@1</th>\n      <th>...</th>\n      <th colspan=\"2\" halign=\"left\">mrr@5</th>\n      <th colspan=\"2\" halign=\"left\">mrr@1</th>\n      <th colspan=\"2\" halign=\"left\">map@10</th>\n      <th colspan=\"2\" halign=\"left\">map@5</th>\n      <th colspan=\"2\" halign=\"left\">map@1</th>\n    </tr>\n    <tr>\n      <th></th>\n      <th>mean</th>\n      <th>std</th>\n      <th>mean</th>\n      <th>std</th>\n      <th>mean</th>\n      <th>std</th>\n      <th>mean</th>\n      <th>std</th>\n      <th>mean</th>\n      <th>std</th>\n      <th>...</th>\n      <th>mean</th>\n      <th>std</th>\n      <th>mean</th>\n      <th>std</th>\n      <th>mean</th>\n      <th>std</th>\n      <th>mean</th>\n      <th>std</th>\n      <th>mean</th>\n      <th>std</th>\n    </tr>\n    <tr>\n      <th>model</th>\n      <th></th>\n      <th></th>\n      <th></th>\n      <th></th>\n      <th></th>\n      <th></th>\n      <th></th>\n      <th></th>\n      <th></th>\n      <th></th>\n      <th></th>\n      <th></th>\n      <th></th>\n      <th></th>\n      <th></th>\n      <th></th>\n      <th></th>\n      <th></th>\n      <th></th>\n      <th></th>\n      <th></th>\n    </tr>\n  </thead>\n  <tbody>\n    <tr>\n      <th>popular</th>\n      <td>0.0</td>\n      <td>NaN</td>\n      <td>0.0</td>\n      <td>NaN</td>\n      <td>0.0</td>\n      <td>NaN</td>\n      <td>0.0</td>\n      <td>NaN</td>\n      <td>0.0</td>\n      <td>NaN</td>\n      <td>...</td>\n      <td>0.0</td>\n      <td>NaN</td>\n      <td>0.0</td>\n      <td>NaN</td>\n      <td>0.0</td>\n      <td>NaN</td>\n      <td>0.0</td>\n      <td>NaN</td>\n      <td>0.0</td>\n      <td>NaN</td>\n    </tr>\n  </tbody>\n</table>\n<p>1 rows × 30 columns</p>\n</div>"
     },
     "execution_count": 66,
     "metadata": {},
     "output_type": "execute_result"
    }
   ],
   "source": [
    "pivot_results = pd.DataFrame(results).drop(columns=\"fold\").groupby([\"model\"], sort=False).agg([\"mean\", \"std\"])\n",
    "pivot_results"
   ],
   "metadata": {
    "collapsed": false,
    "ExecuteTime": {
     "end_time": "2023-12-06T11:04:04.083775418Z",
     "start_time": "2023-12-06T11:04:04.042488138Z"
    }
   },
   "id": "7d69b5444342e31"
  },
  {
   "cell_type": "code",
   "execution_count": 66,
   "outputs": [],
   "source": [],
   "metadata": {
    "collapsed": false,
    "ExecuteTime": {
     "end_time": "2023-12-06T11:04:04.083863382Z",
     "start_time": "2023-12-06T11:04:04.083031108Z"
    }
   },
   "id": "af48ce9192cf8f4b"
  }
 ],
 "metadata": {
  "kernelspec": {
   "display_name": "Python 3",
   "language": "python",
   "name": "python3"
  },
  "language_info": {
   "codemirror_mode": {
    "name": "ipython",
    "version": 2
   },
   "file_extension": ".py",
   "mimetype": "text/x-python",
   "name": "python",
   "nbconvert_exporter": "python",
   "pygments_lexer": "ipython2",
   "version": "2.7.6"
  }
 },
 "nbformat": 4,
 "nbformat_minor": 5
}
