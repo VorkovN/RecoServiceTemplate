{
 "cells": [
  {
   "cell_type": "code",
   "execution_count": 59,
   "id": "initial_id",
   "metadata": {
    "collapsed": true,
    "ExecuteTime": {
     "end_time": "2023-12-06T11:03:54.989638938Z",
     "start_time": "2023-12-06T11:03:54.929161764Z"
    }
   },
   "outputs": [],
   "source": [
    "import pickle\n",
    "import numpy as np\n",
    "import pandas as pd\n",
    "from implicit.bpr import BayesianPersonalizedRanking\n",
    "from rectools.dataset import Interactions, Dataset\n",
    "from rectools.model_selection import TimeRangeSplitter\n",
    "from rectools.metrics import MAP, MeanInvUserFreq, calc_metrics, MRR, NDCG\n",
    "\n",
    "from implicit.als import AlternatingLeastSquares\n",
    "\n",
    "from rectools.metrics import Precision, Recall, MAP, calc_metrics\n",
    "from rectools import Columns\n",
    "from rectools.dataset import Dataset\n",
    "from rectools.models import ImplicitALSWrapperModel, LightFMWrapperModel, PopularModel\n",
    "from tqdm import tqdm\n",
    "\n",
    "from lightfm import LightFM\n",
    "\n",
    "import optuna"
   ]
  },
  {
   "cell_type": "code",
   "execution_count": 60,
   "outputs": [
    {
     "data": {
      "text/plain": "         user_id  item_id   datetime  weight  watched_pct\n0         176549     9506 2021-05-11  4250.0         72.0\n1         699317     1659 2021-05-29  8317.0        100.0\n6        1016458      354 2021-08-14  1672.0         25.0\n14          5324     8437 2021-04-18  6598.0         92.0\n18        927973     9617 2021-06-19  8422.0        100.0\n...          ...      ...        ...     ...          ...\n5476213   706423     3384 2021-03-13  5937.0        100.0\n5476223   489587     6945 2021-05-18   229.0          4.0\n5476226   435089    13475 2021-07-06  4624.0         85.0\n5476239   610017     7107 2021-05-10  1133.0         75.0\n5476249   384202    16197 2021-04-19  6203.0        100.0\n\n[1612379 rows x 5 columns]",
      "text/html": "<div>\n<style scoped>\n    .dataframe tbody tr th:only-of-type {\n        vertical-align: middle;\n    }\n\n    .dataframe tbody tr th {\n        vertical-align: top;\n    }\n\n    .dataframe thead th {\n        text-align: right;\n    }\n</style>\n<table border=\"1\" class=\"dataframe\">\n  <thead>\n    <tr style=\"text-align: right;\">\n      <th></th>\n      <th>user_id</th>\n      <th>item_id</th>\n      <th>datetime</th>\n      <th>weight</th>\n      <th>watched_pct</th>\n    </tr>\n  </thead>\n  <tbody>\n    <tr>\n      <th>0</th>\n      <td>176549</td>\n      <td>9506</td>\n      <td>2021-05-11</td>\n      <td>4250.0</td>\n      <td>72.0</td>\n    </tr>\n    <tr>\n      <th>1</th>\n      <td>699317</td>\n      <td>1659</td>\n      <td>2021-05-29</td>\n      <td>8317.0</td>\n      <td>100.0</td>\n    </tr>\n    <tr>\n      <th>6</th>\n      <td>1016458</td>\n      <td>354</td>\n      <td>2021-08-14</td>\n      <td>1672.0</td>\n      <td>25.0</td>\n    </tr>\n    <tr>\n      <th>14</th>\n      <td>5324</td>\n      <td>8437</td>\n      <td>2021-04-18</td>\n      <td>6598.0</td>\n      <td>92.0</td>\n    </tr>\n    <tr>\n      <th>18</th>\n      <td>927973</td>\n      <td>9617</td>\n      <td>2021-06-19</td>\n      <td>8422.0</td>\n      <td>100.0</td>\n    </tr>\n    <tr>\n      <th>...</th>\n      <td>...</td>\n      <td>...</td>\n      <td>...</td>\n      <td>...</td>\n      <td>...</td>\n    </tr>\n    <tr>\n      <th>5476213</th>\n      <td>706423</td>\n      <td>3384</td>\n      <td>2021-03-13</td>\n      <td>5937.0</td>\n      <td>100.0</td>\n    </tr>\n    <tr>\n      <th>5476223</th>\n      <td>489587</td>\n      <td>6945</td>\n      <td>2021-05-18</td>\n      <td>229.0</td>\n      <td>4.0</td>\n    </tr>\n    <tr>\n      <th>5476226</th>\n      <td>435089</td>\n      <td>13475</td>\n      <td>2021-07-06</td>\n      <td>4624.0</td>\n      <td>85.0</td>\n    </tr>\n    <tr>\n      <th>5476239</th>\n      <td>610017</td>\n      <td>7107</td>\n      <td>2021-05-10</td>\n      <td>1133.0</td>\n      <td>75.0</td>\n    </tr>\n    <tr>\n      <th>5476249</th>\n      <td>384202</td>\n      <td>16197</td>\n      <td>2021-04-19</td>\n      <td>6203.0</td>\n      <td>100.0</td>\n    </tr>\n  </tbody>\n</table>\n<p>1612379 rows × 5 columns</p>\n</div>"
     },
     "execution_count": 60,
     "metadata": {},
     "output_type": "execute_result"
    }
   ],
   "source": [
    "interactions_df = pd.read_csv('../artifacts/data_original/interactions.csv')\n",
    "users = pd.read_csv('../artifacts/data_original/users.csv')\n",
    "items = pd.read_csv('../artifacts/data_original/items.csv')\n",
    "\n",
    "interactions_df.rename(columns={'last_watch_dt': Columns.Datetime,\n",
    "                                'total_dur': Columns.Weight}, inplace=True) \n",
    "\n",
    "# Мы хотим учитывать юзеров с 1 или двумя просмотрами, так как этого недостаточно чтобы говорить о пользователях хоть что-нибудь\n",
    "user_ids_all = interactions_df.groupby(Columns.User)[Columns.Item].nunique().reset_index(name='unique_items_count')\n",
    "hot_users = user_ids_all[user_ids_all['unique_items_count'] > 20][Columns.User]\n",
    "interactions_df_hot_users = interactions_df[interactions_df[Columns.User].isin(hot_users)]\n",
    "\n",
    "\n",
    "users = users[users[Columns.User].isin(interactions_df_hot_users[Columns.User])]\n",
    "interactions_df_hot_users = interactions_df_hot_users[interactions_df_hot_users[Columns.User].isin(users[Columns.User])]\n",
    "items = items[items[Columns.Item].isin(interactions_df_hot_users[Columns.Item])]\n",
    "\n",
    "interactions = Interactions(interactions_df_hot_users)   \n",
    "catalog = interactions.df[Columns.Item].unique()\n",
    "\n",
    "interactions.df"
   ],
   "metadata": {
    "collapsed": false,
    "ExecuteTime": {
     "end_time": "2023-12-06T11:03:59.230897025Z",
     "start_time": "2023-12-06T11:03:54.970758902Z"
    }
   },
   "id": "243031044b35d68a"
  },
  {
   "cell_type": "code",
   "execution_count": 50,
   "outputs": [
    {
     "data": {
      "text/plain": "[(Timestamp('2021-07-12 00:00:00', freq='14D'),\n  Timestamp('2021-07-26 00:00:00', freq='14D')),\n (Timestamp('2021-07-26 00:00:00', freq='14D'),\n  Timestamp('2021-08-09 00:00:00', freq='14D')),\n (Timestamp('2021-08-09 00:00:00', freq='14D'),\n  Timestamp('2021-08-23 00:00:00', freq='14D'))]"
     },
     "execution_count": 50,
     "metadata": {},
     "output_type": "execute_result"
    }
   ],
   "source": [
    "N_SPLITS = 3\n",
    "TEST_SIZE = '14D'\n",
    "\n",
    "cv = TimeRangeSplitter(\n",
    "    test_size=TEST_SIZE,\n",
    "    n_splits=N_SPLITS,\n",
    "    filter_already_seen=True,\n",
    "    filter_cold_items=True,\n",
    "    filter_cold_users=False,\n",
    ")\n",
    "cv.get_test_fold_borders(interactions)"
   ],
   "metadata": {
    "collapsed": false,
    "ExecuteTime": {
     "end_time": "2023-12-06T11:21:02.091479156Z",
     "start_time": "2023-12-06T11:21:02.048101865Z"
    }
   },
   "id": "ed60ede1ed59409e"
  },
  {
   "cell_type": "code",
   "execution_count": 62,
   "outputs": [],
   "source": [
    "K_RECOS = 10\n",
    "RANDOM_STATE = 42\n",
    "NUM_THREADS = 8\n",
    "N_FACTORS = 8\n",
    "NO_COMPONENTS = 16\n",
    "N_EPOCHS = 10\n",
    "LEARNING_RATE = 0.012\n",
    "RHO = 0.972\n",
    "EPSILON = 5.6 * 1e-5\n",
    "\n",
    "metrics = {\n",
    "    \"precision@10\": Precision(k=10),\n",
    "    \"accuracy@10\": Recall(k=10),\n",
    "    \"map@10\": MAP(k=10),\n",
    "    \"mrr@10\": MRR(k=10),\n",
    "    \"ndcg@10\": NDCG(k=10),\n",
    "    \"precision@5\": Precision(k=5),\n",
    "    \"accuracy@5\": Recall(k=5),\n",
    "    \"map@5\": MAP(k=5),\n",
    "    \"mrr@5\": MRR(k=5),\n",
    "    \"ndcg@5\": NDCG(k=5),\n",
    "    \"precision@1\": Precision(k=1),\n",
    "    \"accuracy@1\": Recall(k=1),\n",
    "    \"map@1\": MAP(k=1),\n",
    "    \"mrr@1\": MRR(k=1),\n",
    "    \"ndcg@1\": NDCG(k=1),\n",
    "}\n",
    "\n",
    "models = {\n",
    "    \"popular\": PopularModel(),\n",
    "}\n",
    "\n",
    "models[\"ALS\"] = ImplicitALSWrapperModel(\n",
    "    model=AlternatingLeastSquares(\n",
    "        factors=N_FACTORS, \n",
    "        random_state=RANDOM_STATE, \n",
    "        num_threads=NUM_THREADS\n",
    "    )\n",
    ")\n",
    "        \n",
    "\n",
    "lightfm_losses = 'warp'\n",
    "models[f\"LightFM\"] = LightFMWrapperModel(\n",
    "    LightFM(\n",
    "        no_components=NO_COMPONENTS, \n",
    "        loss=lightfm_losses, \n",
    "        random_state=RANDOM_STATE,\n",
    "        learning_rate=LEARNING_RATE,\n",
    "        rho=RHO,\n",
    "        epsilon=EPSILON,\n",
    "    ),\n",
    "    epochs=N_EPOCHS,\n",
    "    num_threads=NUM_THREADS,\n",
    ")"
   ],
   "metadata": {
    "collapsed": false,
    "ExecuteTime": {
     "end_time": "2023-12-06T11:03:59.321119762Z",
     "start_time": "2023-12-06T11:03:59.274704348Z"
    }
   },
   "id": "12057eb3eb2c9ea3"
  },
  {
   "cell_type": "code",
   "execution_count": 63,
   "outputs": [
    {
     "data": {
      "text/plain": "         id value feature\n24   269408     Ж     sex\n27   384532     М     sex\n66   216495     М     sex\n81   515668     М     sex\n136  824452     М     sex",
      "text/html": "<div>\n<style scoped>\n    .dataframe tbody tr th:only-of-type {\n        vertical-align: middle;\n    }\n\n    .dataframe tbody tr th {\n        vertical-align: top;\n    }\n\n    .dataframe thead th {\n        text-align: right;\n    }\n</style>\n<table border=\"1\" class=\"dataframe\">\n  <thead>\n    <tr style=\"text-align: right;\">\n      <th></th>\n      <th>id</th>\n      <th>value</th>\n      <th>feature</th>\n    </tr>\n  </thead>\n  <tbody>\n    <tr>\n      <th>24</th>\n      <td>269408</td>\n      <td>Ж</td>\n      <td>sex</td>\n    </tr>\n    <tr>\n      <th>27</th>\n      <td>384532</td>\n      <td>М</td>\n      <td>sex</td>\n    </tr>\n    <tr>\n      <th>66</th>\n      <td>216495</td>\n      <td>М</td>\n      <td>sex</td>\n    </tr>\n    <tr>\n      <th>81</th>\n      <td>515668</td>\n      <td>М</td>\n      <td>sex</td>\n    </tr>\n    <tr>\n      <th>136</th>\n      <td>824452</td>\n      <td>М</td>\n      <td>sex</td>\n    </tr>\n  </tbody>\n</table>\n</div>"
     },
     "execution_count": 63,
     "metadata": {},
     "output_type": "execute_result"
    }
   ],
   "source": [
    "user_features_frames = []\n",
    "for feature in [\"sex\", \"age\", \"income\"]:\n",
    "    feature_frame = users.reindex(columns=[Columns.User, feature])\n",
    "    feature_frame.columns = [\"id\", \"value\"]\n",
    "    feature_frame[\"feature\"] = feature\n",
    "    user_features_frames.append(feature_frame)\n",
    "user_features = pd.concat(user_features_frames)\n",
    "user_features.head()"
   ],
   "metadata": {
    "collapsed": false,
    "ExecuteTime": {
     "end_time": "2023-12-06T11:03:59.321549174Z",
     "start_time": "2023-12-06T11:03:59.274800127Z"
    }
   },
   "id": "7314cd296c89e9a6"
  },
  {
   "cell_type": "code",
   "execution_count": 64,
   "outputs": [
    {
     "data": {
      "text/plain": "          id       value       feature\n0      10711       драмы         genre\n0      10711  зарубежные         genre\n0      10711   детективы         genre\n0      10711   мелодрамы         genre\n1       2508  зарубежные         genre\n...      ...         ...           ...\n15958   6443      series  content_type\n15959   2367      series  content_type\n15960  10632      series  content_type\n15961   4538      series  content_type\n15962   3206      series  content_type\n\n[49108 rows x 3 columns]",
      "text/html": "<div>\n<style scoped>\n    .dataframe tbody tr th:only-of-type {\n        vertical-align: middle;\n    }\n\n    .dataframe tbody tr th {\n        vertical-align: top;\n    }\n\n    .dataframe thead th {\n        text-align: right;\n    }\n</style>\n<table border=\"1\" class=\"dataframe\">\n  <thead>\n    <tr style=\"text-align: right;\">\n      <th></th>\n      <th>id</th>\n      <th>value</th>\n      <th>feature</th>\n    </tr>\n  </thead>\n  <tbody>\n    <tr>\n      <th>0</th>\n      <td>10711</td>\n      <td>драмы</td>\n      <td>genre</td>\n    </tr>\n    <tr>\n      <th>0</th>\n      <td>10711</td>\n      <td>зарубежные</td>\n      <td>genre</td>\n    </tr>\n    <tr>\n      <th>0</th>\n      <td>10711</td>\n      <td>детективы</td>\n      <td>genre</td>\n    </tr>\n    <tr>\n      <th>0</th>\n      <td>10711</td>\n      <td>мелодрамы</td>\n      <td>genre</td>\n    </tr>\n    <tr>\n      <th>1</th>\n      <td>2508</td>\n      <td>зарубежные</td>\n      <td>genre</td>\n    </tr>\n    <tr>\n      <th>...</th>\n      <td>...</td>\n      <td>...</td>\n      <td>...</td>\n    </tr>\n    <tr>\n      <th>15958</th>\n      <td>6443</td>\n      <td>series</td>\n      <td>content_type</td>\n    </tr>\n    <tr>\n      <th>15959</th>\n      <td>2367</td>\n      <td>series</td>\n      <td>content_type</td>\n    </tr>\n    <tr>\n      <th>15960</th>\n      <td>10632</td>\n      <td>series</td>\n      <td>content_type</td>\n    </tr>\n    <tr>\n      <th>15961</th>\n      <td>4538</td>\n      <td>series</td>\n      <td>content_type</td>\n    </tr>\n    <tr>\n      <th>15962</th>\n      <td>3206</td>\n      <td>series</td>\n      <td>content_type</td>\n    </tr>\n  </tbody>\n</table>\n<p>49108 rows × 3 columns</p>\n</div>"
     },
     "execution_count": 64,
     "metadata": {},
     "output_type": "execute_result"
    }
   ],
   "source": [
    "items[\"genre\"] = items[\"genres\"].str.lower().str.replace(\", \", \",\", regex=False).str.split(\",\")\n",
    "genre_feature = items[[\"item_id\", \"genre\"]].explode(\"genre\")\n",
    "genre_feature.columns = [\"id\", \"value\"]\n",
    "genre_feature[\"feature\"] = \"genre\"\n",
    "genre_feature.head()\n",
    "\n",
    "content_feature = items.reindex(columns=[Columns.Item, \"content_type\"])\n",
    "content_feature.columns = [\"id\", \"value\"]\n",
    "content_feature[\"feature\"] = \"content_type\"\n",
    "\n",
    "item_features = pd.concat((genre_feature, content_feature))\n",
    "item_features"
   ],
   "metadata": {
    "collapsed": false,
    "ExecuteTime": {
     "end_time": "2023-12-06T11:03:59.323765341Z",
     "start_time": "2023-12-06T11:03:59.318957265Z"
    }
   },
   "id": "7b5d9e3f7eb2e273"
  },
  {
   "cell_type": "code",
   "execution_count": 51,
   "outputs": [
    {
     "name": "stderr",
     "output_type": "stream",
     "text": [
      "100%|██████████| 3/3 [01:19<00:00, 26.45s/it]"
     ]
    },
    {
     "name": "stdout",
     "output_type": "stream",
     "text": [
      "CPU times: user 5min 1s, sys: 7min 36s, total: 12min 37s\n",
      "Wall time: 1min 19s\n"
     ]
    },
    {
     "name": "stderr",
     "output_type": "stream",
     "text": [
      "\n"
     ]
    },
    {
     "data": {
      "text/plain": "[{'fold': 0,\n  'model': 'popular',\n  'precision@10': 0.05097663015961841,\n  'accuracy@10': 0.18502893055197495,\n  'precision@5': 0.07866069763103899,\n  'accuracy@5': 0.14684054095521284,\n  'precision@1': 0.093306152903243,\n  'accuracy@1': 0.035101176416706084,\n  'ndcg@10': 0.06267381697912705,\n  'ndcg@5': 0.08357043120331013,\n  'ndcg@1': 0.093306152903243,\n  'mrr@10': 0.1829448511357537,\n  'mrr@5': 0.17444528828132633,\n  'mrr@1': 0.093306152903243,\n  'map@10': 0.08723494645942023,\n  'map@5': 0.079767223364636,\n  'map@1': 0.035101176416706084},\n {'fold': 0,\n  'model': 'ALS',\n  'precision@10': 0.02412929357529246,\n  'accuracy@10': 0.08799291122222186,\n  'precision@5': 0.03281104271591122,\n  'accuracy@5': 0.06079065169688929,\n  'precision@1': 0.037039997868201564,\n  'accuracy@1': 0.0144541009435874,\n  'ndcg@10': 0.027705766650873587,\n  'ndcg@5': 0.03431792481447532,\n  'ndcg@1': 0.037039997868201564,\n  'mrr@10': 0.07813886171268855,\n  'mrr@5': 0.07172458052424475,\n  'mrr@1': 0.037039997868201564,\n  'map@10': 0.036944180524942166,\n  'map@5': 0.032434943337991136,\n  'map@1': 0.0144541009435874},\n {'fold': 0,\n  'model': 'LightFM',\n  'precision@10': 0.05234231353425533,\n  'accuracy@10': 0.1880046918301768,\n  'precision@5': 0.07981719828390227,\n  'accuracy@5': 0.148215897703699,\n  'precision@1': 0.10616356223519066,\n  'accuracy@1': 0.04117184746975954,\n  'ndcg@10': 0.06531688239790776,\n  'ndcg@5': 0.08685156290747692,\n  'ndcg@1': 0.10616356223519066,\n  'mrr@10': 0.19362589623301915,\n  'mrr@5': 0.18462529201197364,\n  'mrr@1': 0.10616356223519066,\n  'map@10': 0.09230977097550003,\n  'map@5': 0.08464134532161285,\n  'map@1': 0.04117184746975954},\n {'fold': 1,\n  'model': 'popular',\n  'precision@10': 0.04527195230057438,\n  'accuracy@10': 0.14999656057986513,\n  'precision@5': 0.07006278157597544,\n  'accuracy@5': 0.12103101053623525,\n  'precision@1': 0.08603626030674325,\n  'accuracy@1': 0.03069523230993735,\n  'ndcg@10': 0.05539627482264564,\n  'ndcg@5': 0.0739568823017504,\n  'ndcg@1': 0.08603626030674325,\n  'mrr@10': 0.16261446877179914,\n  'mrr@5': 0.15558092184887895,\n  'mrr@1': 0.08603626030674325,\n  'map@10': 0.07116050142617825,\n  'map@5': 0.0654015277568391,\n  'map@1': 0.03069523230993735},\n {'fold': 1,\n  'model': 'ALS',\n  'precision@10': 0.02412172582545022,\n  'accuracy@10': 0.08135652626244248,\n  'precision@5': 0.028629370119855734,\n  'accuracy@5': 0.04913280911406262,\n  'precision@1': 0.025306925402858567,\n  'accuracy@1': 0.008475471256782335,\n  'ndcg@10': 0.02525558647002799,\n  'ndcg@5': 0.028192618657942342,\n  'ndcg@1': 0.025306925402858567,\n  'mrr@10': 0.06501167986735511,\n  'mrr@5': 0.057059587851704334,\n  'mrr@1': 0.025306925402858567,\n  'map@10': 0.028487391302096675,\n  'map@5': 0.02296024846344936,\n  'map@1': 0.008475471256782335},\n {'fold': 1,\n  'model': 'LightFM',\n  'precision@10': 0.04830659753002465,\n  'accuracy@10': 0.15729191811032467,\n  'precision@5': 0.07202516120414335,\n  'accuracy@5': 0.12315466826907177,\n  'precision@1': 0.10488287653766287,\n  'accuracy@1': 0.03777532267421786,\n  'ndcg@10': 0.06021775443183877,\n  'ndcg@5': 0.07926384219707226,\n  'ndcg@1': 0.10488287653766287,\n  'mrr@10': 0.18046027293437705,\n  'mrr@5': 0.1720116010313827,\n  'mrr@1': 0.10488287653766287,\n  'map@10': 0.07799246047491241,\n  'map@5': 0.07150254494770295,\n  'map@1': 0.03777532267421786},\n {'fold': 2,\n  'model': 'popular',\n  'precision@10': 0.04338098197638285,\n  'accuracy@10': 0.14106810218475915,\n  'precision@5': 0.06474230601017425,\n  'accuracy@5': 0.10580752611634837,\n  'precision@1': 0.08728678958635454,\n  'accuracy@1': 0.030466712897266653,\n  'ndcg@10': 0.05381236090650477,\n  'ndcg@5': 0.0708909858094438,\n  'ndcg@1': 0.08728678958635454,\n  'mrr@10': 0.16119052094899755,\n  'mrr@5': 0.15311212393250928,\n  'mrr@1': 0.08728678958635454,\n  'map@10': 0.06719737827949099,\n  'map@5': 0.061065314557034935,\n  'map@1': 0.030466712897266653},\n {'fold': 2,\n  'model': 'ALS',\n  'precision@10': 0.024155790345970585,\n  'accuracy@10': 0.07713972537955001,\n  'precision@5': 0.0267108625094952,\n  'accuracy@5': 0.04296485856164365,\n  'precision@1': 0.019059457219805263,\n  'accuracy@1': 0.006192718306980594,\n  'ndcg@10': 0.024208626851956943,\n  'ndcg@5': 0.025379903874414043,\n  'ndcg@1': 0.019059457219805263,\n  'mrr@10': 0.05880438936771372,\n  'mrr@5': 0.05001208480077342,\n  'mrr@1': 0.019059457219805263,\n  'map@10': 0.025161608143663243,\n  'map@5': 0.0190361495852251,\n  'map@1': 0.006192718306980594},\n {'fold': 2,\n  'model': 'LightFM',\n  'precision@10': 0.045738093593904655,\n  'accuracy@10': 0.14368670311053908,\n  'precision@5': 0.0666942890684345,\n  'accuracy@5': 0.10748592909406408,\n  'precision@1': 0.10099440646364201,\n  'accuracy@1': 0.03447199865854074,\n  'ndcg@10': 0.057131742338855755,\n  'ndcg@5': 0.07452727316813983,\n  'ndcg@1': 0.10099440646364201,\n  'mrr@10': 0.1722832856335377,\n  'mrr@5': 0.16344769774954154,\n  'mrr@1': 0.10099440646364201,\n  'map@10': 0.07040705698350481,\n  'map@5': 0.06399598713421491,\n  'map@1': 0.03447199865854074}]"
     },
     "execution_count": 51,
     "metadata": {},
     "output_type": "execute_result"
    }
   ],
   "source": [
    "%%time\n",
    "    \n",
    "cv.get_test_fold_borders(interactions)\n",
    "\n",
    "results = []\n",
    "\n",
    "fold_iterator = cv.split(interactions, collect_fold_stats=True)\n",
    "\n",
    "for train_ids, test_ids, fold_info in tqdm((fold_iterator), total=cv.n_splits):\n",
    "    df_train = interactions.df.iloc[train_ids]\n",
    "    df_test = interactions.df.iloc[test_ids]\n",
    "    test_users = np.unique(df_test[Columns.User])\n",
    "    \n",
    "    catalog = interactions.df[Columns.Item].unique()\n",
    "    \n",
    "    user_features_train = user_features[user_features[\"id\"].isin(df_train[Columns.User])]\n",
    "    item_features_train = item_features[item_features[\"id\"].isin(df_train[Columns.Item])]   \n",
    "\n",
    "    dataset = Dataset.construct(\n",
    "        interactions_df=df_train,\n",
    "        user_features_df=user_features_train,\n",
    "        cat_user_features=[\"sex\", \"age\", \"income\"],\n",
    "        item_features_df=item_features_train,\n",
    "        cat_item_features=[\"genre\", \"content_type\"],\n",
    "    )\n",
    "\n",
    "    for model_name, model in models.items():\n",
    "        print(f\"Fitting model {model_name}...\")\n",
    "    \n",
    "        model.fit(dataset)\n",
    "        recos = model.recommend(\n",
    "            users=test_users,\n",
    "            dataset=dataset,\n",
    "            k=K_RECOS,\n",
    "            filter_viewed=True,\n",
    "        )\n",
    "        \n",
    "        metric_values = calc_metrics(\n",
    "            metrics,\n",
    "            reco=recos,\n",
    "            interactions=interactions.df,\n",
    "            prev_interactions=interactions.df,\n",
    "            catalog=catalog,\n",
    "        )\n",
    "\n",
    "        res = {\"fold\": fold_info[\"i_split\"], \"model\": model_name}\n",
    "        res.update(metric_values)\n",
    "        results.append(res)\n",
    "results"
   ],
   "metadata": {
    "collapsed": false,
    "ExecuteTime": {
     "end_time": "2023-12-06T11:22:31.564090329Z",
     "start_time": "2023-12-06T11:21:12.178348675Z"
    }
   },
   "id": "f6b2779cbda61cf6"
  },
  {
   "cell_type": "code",
   "execution_count": 52,
   "outputs": [
    {
     "data": {
      "text/plain": "        precision@10           accuracy@10           precision@5            \\\n                mean       std        mean       std        mean       std   \nmodel                                                                        \npopular     0.046543  0.003954    0.158698  0.023236    0.071155  0.007023   \nALS         0.024136  0.000018    0.082163  0.005471    0.029384  0.003119   \nLightFM     0.048796  0.003329    0.162994  0.022703    0.072846  0.006600   \n\n        accuracy@5           precision@1            ...     mrr@5            \\\n              mean       std        mean       std  ...      mean       std   \nmodel                                               ...                       \npopular   0.124560  0.020743    0.088876  0.003887  ...  0.161046  0.011669   \nALS       0.050963  0.009053    0.027135  0.009129  ...  0.059599  0.011077   \nLightFM   0.126285  0.020545    0.104014  0.002692  ...  0.173362  0.010653   \n\n            mrr@1              map@10               map@5               map@1  \\\n             mean       std      mean       std      mean       std      mean   \nmodel                                                                           \npopular  0.088876  0.003887  0.075198  0.010611  0.068745  0.009789  0.032088   \nALS      0.027135  0.009129  0.030198  0.006075  0.024810  0.006888  0.009707   \nLightFM  0.104014  0.002692  0.080236  0.011122  0.073380  0.010450  0.037806   \n\n                   \n              std  \nmodel              \npopular  0.002612  \nALS      0.004266  \nLightFM  0.003350  \n\n[3 rows x 30 columns]",
      "text/html": "<div>\n<style scoped>\n    .dataframe tbody tr th:only-of-type {\n        vertical-align: middle;\n    }\n\n    .dataframe tbody tr th {\n        vertical-align: top;\n    }\n\n    .dataframe thead tr th {\n        text-align: left;\n    }\n\n    .dataframe thead tr:last-of-type th {\n        text-align: right;\n    }\n</style>\n<table border=\"1\" class=\"dataframe\">\n  <thead>\n    <tr>\n      <th></th>\n      <th colspan=\"2\" halign=\"left\">precision@10</th>\n      <th colspan=\"2\" halign=\"left\">accuracy@10</th>\n      <th colspan=\"2\" halign=\"left\">precision@5</th>\n      <th colspan=\"2\" halign=\"left\">accuracy@5</th>\n      <th colspan=\"2\" halign=\"left\">precision@1</th>\n      <th>...</th>\n      <th colspan=\"2\" halign=\"left\">mrr@5</th>\n      <th colspan=\"2\" halign=\"left\">mrr@1</th>\n      <th colspan=\"2\" halign=\"left\">map@10</th>\n      <th colspan=\"2\" halign=\"left\">map@5</th>\n      <th colspan=\"2\" halign=\"left\">map@1</th>\n    </tr>\n    <tr>\n      <th></th>\n      <th>mean</th>\n      <th>std</th>\n      <th>mean</th>\n      <th>std</th>\n      <th>mean</th>\n      <th>std</th>\n      <th>mean</th>\n      <th>std</th>\n      <th>mean</th>\n      <th>std</th>\n      <th>...</th>\n      <th>mean</th>\n      <th>std</th>\n      <th>mean</th>\n      <th>std</th>\n      <th>mean</th>\n      <th>std</th>\n      <th>mean</th>\n      <th>std</th>\n      <th>mean</th>\n      <th>std</th>\n    </tr>\n    <tr>\n      <th>model</th>\n      <th></th>\n      <th></th>\n      <th></th>\n      <th></th>\n      <th></th>\n      <th></th>\n      <th></th>\n      <th></th>\n      <th></th>\n      <th></th>\n      <th></th>\n      <th></th>\n      <th></th>\n      <th></th>\n      <th></th>\n      <th></th>\n      <th></th>\n      <th></th>\n      <th></th>\n      <th></th>\n      <th></th>\n    </tr>\n  </thead>\n  <tbody>\n    <tr>\n      <th>popular</th>\n      <td>0.046543</td>\n      <td>0.003954</td>\n      <td>0.158698</td>\n      <td>0.023236</td>\n      <td>0.071155</td>\n      <td>0.007023</td>\n      <td>0.124560</td>\n      <td>0.020743</td>\n      <td>0.088876</td>\n      <td>0.003887</td>\n      <td>...</td>\n      <td>0.161046</td>\n      <td>0.011669</td>\n      <td>0.088876</td>\n      <td>0.003887</td>\n      <td>0.075198</td>\n      <td>0.010611</td>\n      <td>0.068745</td>\n      <td>0.009789</td>\n      <td>0.032088</td>\n      <td>0.002612</td>\n    </tr>\n    <tr>\n      <th>ALS</th>\n      <td>0.024136</td>\n      <td>0.000018</td>\n      <td>0.082163</td>\n      <td>0.005471</td>\n      <td>0.029384</td>\n      <td>0.003119</td>\n      <td>0.050963</td>\n      <td>0.009053</td>\n      <td>0.027135</td>\n      <td>0.009129</td>\n      <td>...</td>\n      <td>0.059599</td>\n      <td>0.011077</td>\n      <td>0.027135</td>\n      <td>0.009129</td>\n      <td>0.030198</td>\n      <td>0.006075</td>\n      <td>0.024810</td>\n      <td>0.006888</td>\n      <td>0.009707</td>\n      <td>0.004266</td>\n    </tr>\n    <tr>\n      <th>LightFM</th>\n      <td>0.048796</td>\n      <td>0.003329</td>\n      <td>0.162994</td>\n      <td>0.022703</td>\n      <td>0.072846</td>\n      <td>0.006600</td>\n      <td>0.126285</td>\n      <td>0.020545</td>\n      <td>0.104014</td>\n      <td>0.002692</td>\n      <td>...</td>\n      <td>0.173362</td>\n      <td>0.010653</td>\n      <td>0.104014</td>\n      <td>0.002692</td>\n      <td>0.080236</td>\n      <td>0.011122</td>\n      <td>0.073380</td>\n      <td>0.010450</td>\n      <td>0.037806</td>\n      <td>0.003350</td>\n    </tr>\n  </tbody>\n</table>\n<p>3 rows × 30 columns</p>\n</div>"
     },
     "execution_count": 52,
     "metadata": {},
     "output_type": "execute_result"
    }
   ],
   "source": [
    "pivot_results = pd.DataFrame(results).drop(columns=\"fold\").groupby([\"model\"], sort=False).agg([\"mean\", \"std\"])\n",
    "pivot_results"
   ],
   "metadata": {
    "collapsed": false,
    "ExecuteTime": {
     "end_time": "2023-12-06T11:22:45.639295263Z",
     "start_time": "2023-12-06T11:22:45.628060194Z"
    }
   },
   "id": "7d69b5444342e31"
  },
  {
   "cell_type": "code",
   "execution_count": 66,
   "outputs": [],
   "source": [],
   "metadata": {
    "collapsed": false,
    "ExecuteTime": {
     "end_time": "2023-12-06T11:04:04.083863382Z",
     "start_time": "2023-12-06T11:04:04.083031108Z"
    }
   },
   "id": "af48ce9192cf8f4b"
  }
 ],
 "metadata": {
  "kernelspec": {
   "display_name": "Python 3",
   "language": "python",
   "name": "python3"
  },
  "language_info": {
   "codemirror_mode": {
    "name": "ipython",
    "version": 2
   },
   "file_extension": ".py",
   "mimetype": "text/x-python",
   "name": "python",
   "nbconvert_exporter": "python",
   "pygments_lexer": "ipython2",
   "version": "2.7.6"
  }
 },
 "nbformat": 4,
 "nbformat_minor": 5
}
