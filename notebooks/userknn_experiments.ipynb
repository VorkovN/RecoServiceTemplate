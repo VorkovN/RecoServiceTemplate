{
 "cells": [
  {
   "cell_type": "code",
   "execution_count": 1,
   "id": "initial_id",
   "metadata": {
    "collapsed": true,
    "ExecuteTime": {
     "end_time": "2023-12-05T13:00:49.991662057Z",
     "start_time": "2023-12-05T13:00:49.505087865Z"
    }
   },
   "outputs": [],
   "source": [
    "import pickle\n",
    "import numpy as np\n",
    "import pandas as pd\n",
    "import requests\n",
    "from tqdm.auto import tqdm\n",
    "\n",
    "from rectools.models import PopularModel\n",
    "from rectools.dataset import Interactions, Dataset\n",
    "from rectools.model_selection import TimeRangeSplitter\n",
    "from rectools import Columns\n",
    "from implicit.nearest_neighbours import CosineRecommender, TFIDFRecommender\n",
    "from rectools.metrics import MAP, MeanInvUserFreq, calc_metrics\n",
    "from service.userknn import UserKnn\n"
   ]
  },
  {
   "cell_type": "code",
   "execution_count": null,
   "outputs": [],
   "source": [
    "import zipfile\n",
    "import os\n",
    "\n",
    "url = 'https://github.com/irsafilo/KION_DATASET/raw/f69775be31fa5779907cf0a92ddedb70037fb5ae/data_original.zip'\n",
    "req = requests.get(url, stream=True)\n",
    "\n",
    "with open('kion_train.zip', \"wb\") as fd:\n",
    "    total_size_in_bytes = int(req.headers.get('Content-Length', 0))\n",
    "    progress_bar = tqdm(desc='Downloading the kion dataset...', \n",
    "                        total=total_size_in_bytes, \n",
    "                        unit='iB', unit_scale=True)\n",
    "    for chunk in req.iter_content(chunk_size=2 ** 20):\n",
    "        progress_bar.update(len(chunk))\n",
    "        fd.write(chunk)\n",
    "\n",
    "zip_file_path = './kion_train.zip'\n",
    "output_directory = '../artifacts'\n",
    "os.makedirs(output_directory, exist_ok=True)\n",
    "desired_files = ['first_reco_result.csv', 'interactions.csv', 'items.csv']\n",
    "\n",
    "with zipfile.ZipFile(zip_file_path, 'r') as zip_ref:\n",
    "    for file_info in zip_ref.infolist():\n",
    "        if file_info.filename in desired_files:\n",
    "            destination_path = os.path.join(output_directory, file_info.filename)\n",
    "            zip_ref.extract(file_info, output_directory)\n"
   ],
   "metadata": {
    "collapsed": false
   },
   "id": "fdcdbd32cea400e2"
  },
  {
   "cell_type": "code",
   "execution_count": null,
   "outputs": [],
   "source": [
    "interactions_df = pd.read_csv('../artifacts/interactions.csv')\n",
    "users = pd.read_csv('../artifacts/users.csv')\n",
    "items = pd.read_csv('../artifacts/items.csv')\n",
    "\n",
    "interactions_df.rename(columns={'last_watch_dt': Columns.Datetime,\n",
    "                                'total_dur': Columns.Weight}, inplace=True) \n",
    "\n",
    "# Мы хотим учитывать юзеров с 1 или двумя просмотрами, так как этого недостаточно чтобы говорить о пользователях хоть что-нибудь\n",
    "user_ids_all = interactions_df.groupby('user_id')['item_id'].nunique().reset_index(name='unique_items_count')\n",
    "hot_users = user_ids_all[user_ids_all['unique_items_count'] > 20]['user_id']\n",
    "interactions_df_hot_users = interactions_df[interactions_df['user_id'].isin(hot_users)]\n",
    "\n",
    "interactions = Interactions(interactions_df_hot_users)   \n",
    "interactions.df"
   ],
   "metadata": {
    "collapsed": false
   },
   "id": "c5c696bc0abc6c59"
  },
  {
   "cell_type": "code",
   "execution_count": null,
   "outputs": [],
   "source": [
    "N_SPLITS = 3\n",
    "TEST_SIZE = '14D'\n",
    "\n",
    "cv = TimeRangeSplitter(\n",
    "    test_size=TEST_SIZE,\n",
    "    n_splits=N_SPLITS,\n",
    "    filter_already_seen=True,\n",
    "    filter_cold_items=True,\n",
    "    filter_cold_users=False,\n",
    ")\n",
    "cv.get_test_fold_borders(interactions)"
   ],
   "metadata": {
    "collapsed": false
   },
   "id": "eb7059f1d881be2"
  },
  {
   "cell_type": "code",
   "execution_count": null,
   "outputs": [],
   "source": [
    "# calculate several classic (precision@k and recall@k) and \"beyond accuracy\" metrics\n",
    "metrics = {\n",
    "    'map@10': MAP(k=10),\n",
    "    'novelty': MeanInvUserFreq(k=10)\n",
    "}\n",
    "\n",
    "# few simple models to compare\n",
    "models = {\n",
    "    'cosine_userknn': CosineRecommender(),\n",
    "    'tfidf_userknn': TFIDFRecommender(), \n",
    "}\n",
    "TFIDFRecommender.recommend"
   ],
   "metadata": {
    "collapsed": false
   },
   "id": "e91b1e564a6d8701"
  },
  {
   "cell_type": "code",
   "execution_count": null,
   "outputs": [],
   "source": [
    "%%time\n",
    "\n",
    "results = []\n",
    "\n",
    "fold_iterator = cv.split(interactions, collect_fold_stats=True)\n",
    "\n",
    "models_wrps = {}\n",
    "for model_name, model in models.items():\n",
    "    models_wrps[model_name] = UserKnn(model=model, N_users=50)\n",
    "\n",
    "for i_fold, (train_ids, test_ids, fold_info) in enumerate(fold_iterator):\n",
    "    print(f\"\\n==================== Fold {i_fold}\")\n",
    "    print(fold_info)\n",
    "\n",
    "    df_train = interactions.df.iloc[train_ids].copy()\n",
    "    df_test = interactions.df.iloc[test_ids][Columns.UserItem].copy()\n",
    "\n",
    "    catalog = interactions.df[Columns.Item].unique()\n",
    "    \n",
    "    for model_name, userknn_model in models_wrps.items():\n",
    "        userknn_model.fit(interactions.df)\n",
    "    \n",
    "        recos = userknn_model.predict(df_test)\n",
    "    \n",
    "        metric_values = calc_metrics(\n",
    "            metrics,\n",
    "            reco=recos,\n",
    "            interactions=df_test,\n",
    "            prev_interactions=interactions.df,\n",
    "            catalog=catalog,\n",
    "        )\n",
    "    \n",
    "        fold = {\"fold\": i_fold, \"model\": model_name}\n",
    "        fold.update(metric_values)\n",
    "        results.append(fold)"
   ],
   "metadata": {
    "collapsed": false
   },
   "id": "b803c369ac723bc"
  },
  {
   "cell_type": "code",
   "execution_count": null,
   "outputs": [],
   "source": [
    "df_metrics = pd.DataFrame(results)\n",
    "df_metrics.groupby('model').mean()[metrics.keys()]"
   ],
   "metadata": {
    "collapsed": false
   },
   "id": "4521d5fed508d21a"
  },
  {
   "cell_type": "code",
   "execution_count": null,
   "outputs": [],
   "source": [
    "for model_name, model_wrp in models_wrps.items():\n",
    "    with open(f\"../artifacts/task3_cropped20_experiment_{model_name}.pkl\", \"wb\") as file:\n",
    "        pickle.dump(model_wrp, file)"
   ],
   "metadata": {
    "collapsed": false
   },
   "id": "8900e4e7f7a69e9f"
  },
  {
   "cell_type": "raw",
   "source": [
    "Проверка на адекватность решения"
   ],
   "metadata": {
    "collapsed": false
   },
   "id": "17b0c71fe322aa1a"
  },
  {
   "cell_type": "code",
   "execution_count": null,
   "outputs": [],
   "source": [
    "with open(\"../artifacts/task3_cropped20_experiment_tfidf_userknn.pkl\", \"rb\") as file:\n",
    "    model_1 = pickle.load(file)\n",
    "\n",
    "\n",
    "user_id_kostyl = pd.DataFrame({'user_id': [774973]})\n",
    "recos = model_1.predict(user_id_kostyl)\n",
    "\n",
    "    \n",
    "metric_values = calc_metrics(\n",
    "    metrics,\n",
    "    reco=recos,\n",
    "    interactions=df_test,\n",
    "    prev_interactions=df_train,\n",
    "    catalog=catalog,\n",
    ")"
   ],
   "metadata": {
    "collapsed": false
   },
   "id": "489ec49ccdc0f5a7"
  },
  {
   "cell_type": "code",
   "execution_count": null,
   "outputs": [],
   "source": [
    "df_metrics = pd.DataFrame(results)\n",
    "df_metrics.groupby('model').mean()[metrics.keys()]"
   ],
   "metadata": {
    "collapsed": false,
    "ExecuteTime": {
     "start_time": "2023-12-05T13:02:49.989520363Z"
    }
   },
   "id": "84c3db052d3070ea"
  },
  {
   "cell_type": "code",
   "execution_count": null,
   "outputs": [],
   "source": [
    "hot_users"
   ],
   "metadata": {
    "collapsed": false,
    "ExecuteTime": {
     "start_time": "2023-12-05T13:02:49.989751675Z"
    }
   },
   "id": "9507ab7da2c2c2fa"
  },
  {
   "cell_type": "code",
   "execution_count": null,
   "outputs": [],
   "source": [],
   "metadata": {
    "collapsed": false,
    "ExecuteTime": {
     "start_time": "2023-12-05T13:02:49.989778294Z"
    }
   },
   "id": "76ba71eec411e5cc"
  }
 ],
 "metadata": {
  "kernelspec": {
   "display_name": "Python 3",
   "language": "python",
   "name": "python3"
  },
  "language_info": {
   "codemirror_mode": {
    "name": "ipython",
    "version": 2
   },
   "file_extension": ".py",
   "mimetype": "text/x-python",
   "name": "python",
   "nbconvert_exporter": "python",
   "pygments_lexer": "ipython2",
   "version": "2.7.6"
  }
 },
 "nbformat": 4,
 "nbformat_minor": 5
}
