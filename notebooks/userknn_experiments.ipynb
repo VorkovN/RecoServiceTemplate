{
 "cells": [
  {
   "cell_type": "code",
   "execution_count": 168,
   "id": "initial_id",
   "metadata": {
    "collapsed": true,
    "ExecuteTime": {
     "end_time": "2023-11-28T04:05:30.021436271Z",
     "start_time": "2023-11-28T04:05:29.979882562Z"
    }
   },
   "outputs": [],
   "source": [
    "import pickle\n",
    "import numpy as np\n",
    "import pandas as pd\n",
    "import requests\n",
    "from tqdm.auto import tqdm\n",
    "\n",
    "from rectools.models import PopularModel\n",
    "from rectools.dataset import Interactions, Dataset\n",
    "from rectools.model_selection import TimeRangeSplitter\n",
    "from rectools import Columns\n",
    "from implicit.nearest_neighbours import CosineRecommender, TFIDFRecommender\n",
    "from rectools.metrics import MAP, MeanInvUserFreq, calc_metrics\n",
    "from service.userknn import UserKnn\n"
   ]
  },
  {
   "cell_type": "code",
   "execution_count": 169,
   "outputs": [],
   "source": [
    "import zipfile\n",
    "import os\n",
    "\n",
    "url = 'https://github.com/irsafilo/KION_DATASET/raw/f69775be31fa5779907cf0a92ddedb70037fb5ae/data_original.zip'\n",
    "req = requests.get(url, stream=True)\n",
    "\n",
    "with open('kion_train.zip', \"wb\") as fd:\n",
    "    total_size_in_bytes = int(req.headers.get('Content-Length', 0))\n",
    "    progress_bar = tqdm(desc='Downloading the kion dataset...', \n",
    "                        total=total_size_in_bytes, \n",
    "                        unit='iB', unit_scale=True)\n",
    "    for chunk in req.iter_content(chunk_size=2 ** 20):\n",
    "        progress_bar.update(len(chunk))\n",
    "        fd.write(chunk)\n",
    "\n",
    "zip_file_path = './kion_train.zip'\n",
    "output_directory = '../artifacts'\n",
    "os.makedirs(output_directory, exist_ok=True)\n",
    "desired_files = ['first_reco_result.csv', 'interactions.csv', 'items.csv']\n",
    "\n",
    "with zipfile.ZipFile(zip_file_path, 'r') as zip_ref:\n",
    "    for file_info in zip_ref.infolist():\n",
    "        if file_info.filename in desired_files:\n",
    "            destination_path = os.path.join(output_directory, file_info.filename)\n",
    "            zip_ref.extract(file_info, output_directory)\n"
   ],
   "metadata": {
    "collapsed": false,
    "ExecuteTime": {
     "end_time": "2023-11-28T04:05:30.021577766Z",
     "start_time": "2023-11-28T04:05:30.021227790Z"
    }
   },
   "id": "cadab6bca09b0094"
  },
  {
   "cell_type": "code",
   "execution_count": 170,
   "outputs": [
    {
     "name": "stderr",
     "output_type": "stream",
     "text": [
      "/home/vorkov/Workspace/RecoServiceTemplate/venv/lib/python3.10/site-packages/rectools/dataset/interactions.py:57: SettingWithCopyWarning: \n",
      "A value is trying to be set on a copy of a slice from a DataFrame.\n",
      "Try using .loc[row_indexer,col_indexer] = value instead\n",
      "\n",
      "See the caveats in the documentation: https://pandas.pydata.org/pandas-docs/stable/user_guide/indexing.html#returning-a-view-versus-a-copy\n",
      "  df[Columns.Weight] = df[Columns.Weight].astype(float)\n",
      "/home/vorkov/Workspace/RecoServiceTemplate/venv/lib/python3.10/site-packages/rectools/dataset/interactions.py:62: SettingWithCopyWarning: \n",
      "A value is trying to be set on a copy of a slice from a DataFrame.\n",
      "Try using .loc[row_indexer,col_indexer] = value instead\n",
      "\n",
      "See the caveats in the documentation: https://pandas.pydata.org/pandas-docs/stable/user_guide/indexing.html#returning-a-view-versus-a-copy\n",
      "  df[Columns.Datetime] = df[Columns.Datetime].astype(\"datetime64[ns]\")\n"
     ]
    },
    {
     "data": {
      "text/plain": "         user_id  item_id   datetime  weight  watched_pct\n0         176549     9506 2021-05-11  4250.0         72.0\n1         699317     1659 2021-05-29  8317.0        100.0\n6        1016458      354 2021-08-14  1672.0         25.0\n14          5324     8437 2021-04-18  6598.0         92.0\n18        927973     9617 2021-06-19  8422.0        100.0\n...          ...      ...        ...     ...          ...\n5476235   977542    13126 2021-07-04  1830.0         26.0\n5476239   610017     7107 2021-05-10  1133.0         75.0\n5476241  1073802     9927 2021-08-07  6425.0         97.0\n5476242   268216     3071 2021-04-21  5752.0         98.0\n5476249   384202    16197 2021-04-19  6203.0        100.0\n\n[1955099 rows x 5 columns]",
      "text/html": "<div>\n<style scoped>\n    .dataframe tbody tr th:only-of-type {\n        vertical-align: middle;\n    }\n\n    .dataframe tbody tr th {\n        vertical-align: top;\n    }\n\n    .dataframe thead th {\n        text-align: right;\n    }\n</style>\n<table border=\"1\" class=\"dataframe\">\n  <thead>\n    <tr style=\"text-align: right;\">\n      <th></th>\n      <th>user_id</th>\n      <th>item_id</th>\n      <th>datetime</th>\n      <th>weight</th>\n      <th>watched_pct</th>\n    </tr>\n  </thead>\n  <tbody>\n    <tr>\n      <th>0</th>\n      <td>176549</td>\n      <td>9506</td>\n      <td>2021-05-11</td>\n      <td>4250.0</td>\n      <td>72.0</td>\n    </tr>\n    <tr>\n      <th>1</th>\n      <td>699317</td>\n      <td>1659</td>\n      <td>2021-05-29</td>\n      <td>8317.0</td>\n      <td>100.0</td>\n    </tr>\n    <tr>\n      <th>6</th>\n      <td>1016458</td>\n      <td>354</td>\n      <td>2021-08-14</td>\n      <td>1672.0</td>\n      <td>25.0</td>\n    </tr>\n    <tr>\n      <th>14</th>\n      <td>5324</td>\n      <td>8437</td>\n      <td>2021-04-18</td>\n      <td>6598.0</td>\n      <td>92.0</td>\n    </tr>\n    <tr>\n      <th>18</th>\n      <td>927973</td>\n      <td>9617</td>\n      <td>2021-06-19</td>\n      <td>8422.0</td>\n      <td>100.0</td>\n    </tr>\n    <tr>\n      <th>...</th>\n      <td>...</td>\n      <td>...</td>\n      <td>...</td>\n      <td>...</td>\n      <td>...</td>\n    </tr>\n    <tr>\n      <th>5476235</th>\n      <td>977542</td>\n      <td>13126</td>\n      <td>2021-07-04</td>\n      <td>1830.0</td>\n      <td>26.0</td>\n    </tr>\n    <tr>\n      <th>5476239</th>\n      <td>610017</td>\n      <td>7107</td>\n      <td>2021-05-10</td>\n      <td>1133.0</td>\n      <td>75.0</td>\n    </tr>\n    <tr>\n      <th>5476241</th>\n      <td>1073802</td>\n      <td>9927</td>\n      <td>2021-08-07</td>\n      <td>6425.0</td>\n      <td>97.0</td>\n    </tr>\n    <tr>\n      <th>5476242</th>\n      <td>268216</td>\n      <td>3071</td>\n      <td>2021-04-21</td>\n      <td>5752.0</td>\n      <td>98.0</td>\n    </tr>\n    <tr>\n      <th>5476249</th>\n      <td>384202</td>\n      <td>16197</td>\n      <td>2021-04-19</td>\n      <td>6203.0</td>\n      <td>100.0</td>\n    </tr>\n  </tbody>\n</table>\n<p>1955099 rows × 5 columns</p>\n</div>"
     },
     "execution_count": 170,
     "metadata": {},
     "output_type": "execute_result"
    }
   ],
   "source": [
    "interactions_df = pd.read_csv('../artifacts/interactions.csv')\n",
    "users = pd.read_csv('../artifacts/users.csv')\n",
    "items = pd.read_csv('../artifacts/items.csv')\n",
    "\n",
    "interactions_df.rename(columns={'last_watch_dt': Columns.Datetime,\n",
    "                                'total_dur': Columns.Weight}, inplace=True) \n",
    "\n",
    "# Мы хотим учитывать юзеров с 1 или двумя просмотрами, так как этого недостаточно чтобы говорить о пользователях хоть что-нибудь\n",
    "user_ids_all = interactions_df.groupby('user_id')['item_id'].nunique().reset_index(name='unique_items_count')\n",
    "hot_users = user_ids_all[user_ids_all['unique_items_count'] > 20]['user_id']\n",
    "interactions_df_hot_users = interactions_df[interactions_df['user_id'].isin(hot_users)]\n",
    "\n",
    "interactions = Interactions(interactions_df_hot_users)   \n",
    "interactions.df"
   ],
   "metadata": {
    "collapsed": false,
    "ExecuteTime": {
     "end_time": "2023-11-28T04:05:34.485101326Z",
     "start_time": "2023-11-28T04:05:30.021332987Z"
    }
   },
   "id": "2362ee2bfefdaa74"
  },
  {
   "cell_type": "code",
   "execution_count": 171,
   "outputs": [
    {
     "data": {
      "text/plain": "[(Timestamp('2021-07-12 00:00:00', freq='14D'),\n  Timestamp('2021-07-26 00:00:00', freq='14D')),\n (Timestamp('2021-07-26 00:00:00', freq='14D'),\n  Timestamp('2021-08-09 00:00:00', freq='14D')),\n (Timestamp('2021-08-09 00:00:00', freq='14D'),\n  Timestamp('2021-08-23 00:00:00', freq='14D'))]"
     },
     "execution_count": 171,
     "metadata": {},
     "output_type": "execute_result"
    }
   ],
   "source": [
    "N_SPLITS = 3\n",
    "TEST_SIZE = '14D'\n",
    "\n",
    "cv = TimeRangeSplitter(\n",
    "    test_size=TEST_SIZE,\n",
    "    n_splits=N_SPLITS,\n",
    "    filter_already_seen=True,\n",
    "    filter_cold_items=True,\n",
    "    filter_cold_users=False,\n",
    ")\n",
    "cv.get_test_fold_borders(interactions)"
   ],
   "metadata": {
    "collapsed": false,
    "ExecuteTime": {
     "end_time": "2023-11-28T04:05:34.506317057Z",
     "start_time": "2023-11-28T04:05:34.488418733Z"
    }
   },
   "id": "5862e1b68b8b3b07"
  },
  {
   "cell_type": "code",
   "execution_count": 172,
   "outputs": [
    {
     "data": {
      "text/plain": "<function implicit.nearest_neighbours.ItemItemRecommender.recommend(self, userid, user_items, N=10, filter_already_liked_items=True, filter_items=None, recalculate_user=False, items=None)>"
     },
     "execution_count": 172,
     "metadata": {},
     "output_type": "execute_result"
    }
   ],
   "source": [
    "# calculate several classic (precision@k and recall@k) and \"beyond accuracy\" metrics\n",
    "metrics = {\n",
    "    'map@10': MAP(k=10),\n",
    "    'novelty': MeanInvUserFreq(k=10)\n",
    "}\n",
    "\n",
    "# few simple models to compare\n",
    "models = {\n",
    "    'cosine_userknn': CosineRecommender(),\n",
    "    'tfidf_userknn': TFIDFRecommender(), \n",
    "}\n",
    "TFIDFRecommender.recommend"
   ],
   "metadata": {
    "collapsed": false,
    "ExecuteTime": {
     "end_time": "2023-11-28T04:05:34.506469043Z",
     "start_time": "2023-11-28T04:05:34.497252433Z"
    }
   },
   "id": "3f6021b620ece1b6"
  },
  {
   "cell_type": "code",
   "execution_count": 173,
   "outputs": [
    {
     "name": "stdout",
     "output_type": "stream",
     "text": [
      "\n",
      "==================== Fold 0\n",
      "{'i_split': 0, 'start': Timestamp('2021-07-12 00:00:00', freq='14D'), 'end': Timestamp('2021-07-26 00:00:00', freq='14D'), 'train': 1200549, 'train_users': 43213, 'train_items': 13689, 'test': 235690, 'test_users': 33311, 'test_items': 6868}\n"
     ]
    },
    {
     "name": "stderr",
     "output_type": "stream",
     "text": [
      "/home/vorkov/Workspace/RecoServiceTemplate/venv/lib/python3.10/site-packages/implicit/utils.py:164: ParameterWarning: Method expects CSR input, and was passed coo_matrix instead. Converting to CSR took 0.11998271942138672 seconds\n",
      "  warnings.warn(\n"
     ]
    },
    {
     "data": {
      "text/plain": "  0%|          | 0/49806 [00:00<?, ?it/s]",
      "application/vnd.jupyter.widget-view+json": {
       "version_major": 2,
       "version_minor": 0,
       "model_id": "3d7d99a14adf4792b27ec63c6a09a9a9"
      }
     },
     "metadata": {},
     "output_type": "display_data"
    },
    {
     "name": "stderr",
     "output_type": "stream",
     "text": [
      "/home/vorkov/Workspace/RecoServiceTemplate/venv/lib/python3.10/site-packages/implicit/utils.py:164: ParameterWarning: Method expects CSR input, and was passed coo_matrix instead. Converting to CSR took 0.06647348403930664 seconds\n",
      "  warnings.warn(\n"
     ]
    },
    {
     "data": {
      "text/plain": "  0%|          | 0/49806 [00:00<?, ?it/s]",
      "application/vnd.jupyter.widget-view+json": {
       "version_major": 2,
       "version_minor": 0,
       "model_id": "ff3a1cb7b3c2476d8d8497de58cf8928"
      }
     },
     "metadata": {},
     "output_type": "display_data"
    },
    {
     "name": "stdout",
     "output_type": "stream",
     "text": [
      "\n",
      "==================== Fold 1\n",
      "{'i_split': 1, 'start': Timestamp('2021-07-26 00:00:00', freq='14D'), 'end': Timestamp('2021-08-09 00:00:00', freq='14D'), 'train': 1442643, 'train_users': 46893, 'train_items': 14066, 'test': 250963, 'test_users': 33689, 'test_items': 7172}\n"
     ]
    },
    {
     "name": "stderr",
     "output_type": "stream",
     "text": [
      "/home/vorkov/Workspace/RecoServiceTemplate/venv/lib/python3.10/site-packages/implicit/utils.py:164: ParameterWarning: Method expects CSR input, and was passed coo_matrix instead. Converting to CSR took 0.06384658813476562 seconds\n",
      "  warnings.warn(\n"
     ]
    },
    {
     "data": {
      "text/plain": "  0%|          | 0/49806 [00:00<?, ?it/s]",
      "application/vnd.jupyter.widget-view+json": {
       "version_major": 2,
       "version_minor": 0,
       "model_id": "2f1bd9087442475284e8362b8e4313ed"
      }
     },
     "metadata": {},
     "output_type": "display_data"
    },
    {
     "name": "stderr",
     "output_type": "stream",
     "text": [
      "/home/vorkov/Workspace/RecoServiceTemplate/venv/lib/python3.10/site-packages/implicit/utils.py:164: ParameterWarning: Method expects CSR input, and was passed coo_matrix instead. Converting to CSR took 0.06438755989074707 seconds\n",
      "  warnings.warn(\n"
     ]
    },
    {
     "data": {
      "text/plain": "  0%|          | 0/49806 [00:00<?, ?it/s]",
      "application/vnd.jupyter.widget-view+json": {
       "version_major": 2,
       "version_minor": 0,
       "model_id": "cd7e375cd9c64c3ea1e447053e10db12"
      }
     },
     "metadata": {},
     "output_type": "display_data"
    },
    {
     "name": "stdout",
     "output_type": "stream",
     "text": [
      "\n",
      "==================== Fold 2\n",
      "{'i_split': 2, 'start': Timestamp('2021-08-09 00:00:00', freq='14D'), 'end': Timestamp('2021-08-23 00:00:00', freq='14D'), 'train': 1705079, 'train_users': 49230, 'train_items': 14416, 'test': 239096, 'test_users': 31833, 'test_items': 7063}\n"
     ]
    },
    {
     "name": "stderr",
     "output_type": "stream",
     "text": [
      "/home/vorkov/Workspace/RecoServiceTemplate/venv/lib/python3.10/site-packages/implicit/utils.py:164: ParameterWarning: Method expects CSR input, and was passed coo_matrix instead. Converting to CSR took 0.06885719299316406 seconds\n",
      "  warnings.warn(\n"
     ]
    },
    {
     "data": {
      "text/plain": "  0%|          | 0/49806 [00:00<?, ?it/s]",
      "application/vnd.jupyter.widget-view+json": {
       "version_major": 2,
       "version_minor": 0,
       "model_id": "fa53a0d62332492887c24efa45940935"
      }
     },
     "metadata": {},
     "output_type": "display_data"
    },
    {
     "name": "stderr",
     "output_type": "stream",
     "text": [
      "/home/vorkov/Workspace/RecoServiceTemplate/venv/lib/python3.10/site-packages/implicit/utils.py:164: ParameterWarning: Method expects CSR input, and was passed coo_matrix instead. Converting to CSR took 0.06576204299926758 seconds\n",
      "  warnings.warn(\n"
     ]
    },
    {
     "data": {
      "text/plain": "  0%|          | 0/49806 [00:00<?, ?it/s]",
      "application/vnd.jupyter.widget-view+json": {
       "version_major": 2,
       "version_minor": 0,
       "model_id": "cb27224b71c74ecba4146abacf771dc8"
      }
     },
     "metadata": {},
     "output_type": "display_data"
    },
    {
     "name": "stdout",
     "output_type": "stream",
     "text": [
      "CPU times: user 14min 20s, sys: 31 s, total: 14min 51s\n",
      "Wall time: 7min 46s\n"
     ]
    }
   ],
   "source": [
    "%%time\n",
    "\n",
    "results = []\n",
    "\n",
    "fold_iterator = cv.split(interactions, collect_fold_stats=True)\n",
    "\n",
    "models_wrps = {}\n",
    "for model_name, model in models.items():\n",
    "    models_wrps[model_name] = UserKnn(model=model, N_users=50)\n",
    "\n",
    "for i_fold, (train_ids, test_ids, fold_info) in enumerate(fold_iterator):\n",
    "    print(f\"\\n==================== Fold {i_fold}\")\n",
    "    print(fold_info)\n",
    "\n",
    "    df_train = interactions.df.iloc[train_ids].copy()\n",
    "    df_test = interactions.df.iloc[test_ids][Columns.UserItem].copy()\n",
    "\n",
    "    catalog = interactions.df[Columns.Item].unique()\n",
    "    \n",
    "    for model_name, userknn_model in models_wrps.items():\n",
    "        userknn_model.fit(interactions.df)\n",
    "    \n",
    "        recos = userknn_model.predict(df_test)\n",
    "    \n",
    "        metric_values = calc_metrics(\n",
    "            metrics,\n",
    "            reco=recos,\n",
    "            interactions=df_test,\n",
    "            prev_interactions=interactions.df,\n",
    "            catalog=catalog,\n",
    "        )\n",
    "    \n",
    "        fold = {\"fold\": i_fold, \"model\": model_name}\n",
    "        fold.update(metric_values)\n",
    "        results.append(fold)"
   ],
   "metadata": {
    "collapsed": false,
    "ExecuteTime": {
     "end_time": "2023-11-28T04:13:20.998565626Z",
     "start_time": "2023-11-28T04:05:34.551185764Z"
    }
   },
   "id": "4583b26b4782aa8"
  },
  {
   "cell_type": "code",
   "execution_count": 174,
   "outputs": [
    {
     "data": {
      "text/plain": "                  map@10   novelty\nmodel                             \ncosine_userknn  0.002763  9.842410\ntfidf_userknn   0.019380  9.250365",
      "text/html": "<div>\n<style scoped>\n    .dataframe tbody tr th:only-of-type {\n        vertical-align: middle;\n    }\n\n    .dataframe tbody tr th {\n        vertical-align: top;\n    }\n\n    .dataframe thead th {\n        text-align: right;\n    }\n</style>\n<table border=\"1\" class=\"dataframe\">\n  <thead>\n    <tr style=\"text-align: right;\">\n      <th></th>\n      <th>map@10</th>\n      <th>novelty</th>\n    </tr>\n    <tr>\n      <th>model</th>\n      <th></th>\n      <th></th>\n    </tr>\n  </thead>\n  <tbody>\n    <tr>\n      <th>cosine_userknn</th>\n      <td>0.002763</td>\n      <td>9.842410</td>\n    </tr>\n    <tr>\n      <th>tfidf_userknn</th>\n      <td>0.019380</td>\n      <td>9.250365</td>\n    </tr>\n  </tbody>\n</table>\n</div>"
     },
     "execution_count": 174,
     "metadata": {},
     "output_type": "execute_result"
    }
   ],
   "source": [
    "df_metrics = pd.DataFrame(results)\n",
    "df_metrics.groupby('model').mean()[metrics.keys()]"
   ],
   "metadata": {
    "collapsed": false,
    "ExecuteTime": {
     "end_time": "2023-11-28T04:13:21.000405952Z",
     "start_time": "2023-11-28T04:13:20.997208545Z"
    }
   },
   "id": "55274ae3d79167a5"
  },
  {
   "cell_type": "code",
   "execution_count": 175,
   "outputs": [],
   "source": [
    "for model_name, model_wrp in models_wrps.items():\n",
    "    with open(f\"../artifacts/task3_cropped20_experiment_{model_name}.pkl\", \"wb\") as file:\n",
    "        pickle.dump(model_wrp, file)"
   ],
   "metadata": {
    "collapsed": false,
    "ExecuteTime": {
     "end_time": "2023-11-28T04:13:21.637153814Z",
     "start_time": "2023-11-28T04:13:21.023160726Z"
    }
   },
   "id": "d3af60af0228f305"
  },
  {
   "cell_type": "raw",
   "source": [
    "Проверка на адекватность решения"
   ],
   "metadata": {
    "collapsed": false
   },
   "id": "5f6e9aa9f90e863e"
  },
  {
   "cell_type": "code",
   "execution_count": 176,
   "outputs": [
    {
     "ename": "KeyError",
     "evalue": "774973",
     "output_type": "error",
     "traceback": [
      "\u001B[0;31m---------------------------------------------------------------------------\u001B[0m",
      "\u001B[0;31mKeyError\u001B[0m                                  Traceback (most recent call last)",
      "Cell \u001B[0;32mIn[176], line 6\u001B[0m\n\u001B[1;32m      2\u001B[0m     model_1 \u001B[38;5;241m=\u001B[39m pickle\u001B[38;5;241m.\u001B[39mload(file)\n\u001B[1;32m      5\u001B[0m user_id_kostyl \u001B[38;5;241m=\u001B[39m pd\u001B[38;5;241m.\u001B[39mDataFrame({\u001B[38;5;124m'\u001B[39m\u001B[38;5;124muser_id\u001B[39m\u001B[38;5;124m'\u001B[39m: [\u001B[38;5;241m774973\u001B[39m]})\n\u001B[0;32m----> 6\u001B[0m recos \u001B[38;5;241m=\u001B[39m \u001B[43mmodel_1\u001B[49m\u001B[38;5;241;43m.\u001B[39;49m\u001B[43mpredict\u001B[49m\u001B[43m(\u001B[49m\u001B[43muser_id_kostyl\u001B[49m\u001B[43m)\u001B[49m\n\u001B[1;32m      9\u001B[0m metric_values \u001B[38;5;241m=\u001B[39m calc_metrics(\n\u001B[1;32m     10\u001B[0m     metrics,\n\u001B[1;32m     11\u001B[0m     reco\u001B[38;5;241m=\u001B[39mrecos,\n\u001B[0;32m   (...)\u001B[0m\n\u001B[1;32m     14\u001B[0m     catalog\u001B[38;5;241m=\u001B[39mcatalog,\n\u001B[1;32m     15\u001B[0m )\n",
      "File \u001B[0;32m~/Workspace/RecoServiceTemplate/service/userknn.py:98\u001B[0m, in \u001B[0;36mUserKnn.predict\u001B[0;34m(self, test, N_recs)\u001B[0m\n\u001B[1;32m     90\u001B[0m mapper \u001B[38;5;241m=\u001B[39m \u001B[38;5;28mself\u001B[39m\u001B[38;5;241m.\u001B[39m_generate_recs_mapper(\n\u001B[1;32m     91\u001B[0m     model\u001B[38;5;241m=\u001B[39m\u001B[38;5;28mself\u001B[39m\u001B[38;5;241m.\u001B[39muser_knn, \n\u001B[1;32m     92\u001B[0m     user_mapping\u001B[38;5;241m=\u001B[39m\u001B[38;5;28mself\u001B[39m\u001B[38;5;241m.\u001B[39musers_mapping,\n\u001B[1;32m     93\u001B[0m     user_inv_mapping\u001B[38;5;241m=\u001B[39m\u001B[38;5;28mself\u001B[39m\u001B[38;5;241m.\u001B[39musers_inv_mapping,\n\u001B[1;32m     94\u001B[0m     N\u001B[38;5;241m=\u001B[39m\u001B[38;5;28mself\u001B[39m\u001B[38;5;241m.\u001B[39mN_users\n\u001B[1;32m     95\u001B[0m )\n\u001B[1;32m     97\u001B[0m recs \u001B[38;5;241m=\u001B[39m pd\u001B[38;5;241m.\u001B[39mDataFrame({\u001B[38;5;124m'\u001B[39m\u001B[38;5;124muser_id\u001B[39m\u001B[38;5;124m'\u001B[39m: test[\u001B[38;5;124m'\u001B[39m\u001B[38;5;124muser_id\u001B[39m\u001B[38;5;124m'\u001B[39m]\u001B[38;5;241m.\u001B[39munique()})\n\u001B[0;32m---> 98\u001B[0m recs[\u001B[38;5;124m'\u001B[39m\u001B[38;5;124msim_user_id\u001B[39m\u001B[38;5;124m'\u001B[39m], recs[\u001B[38;5;124m'\u001B[39m\u001B[38;5;124msim\u001B[39m\u001B[38;5;124m'\u001B[39m] \u001B[38;5;241m=\u001B[39m \u001B[38;5;28mzip\u001B[39m(\u001B[38;5;241m*\u001B[39m\u001B[43mrecs\u001B[49m\u001B[43m[\u001B[49m\u001B[38;5;124;43m'\u001B[39;49m\u001B[38;5;124;43muser_id\u001B[39;49m\u001B[38;5;124;43m'\u001B[39;49m\u001B[43m]\u001B[49m\u001B[38;5;241;43m.\u001B[39;49m\u001B[43mmap\u001B[49m\u001B[43m(\u001B[49m\u001B[43mmapper\u001B[49m\u001B[43m)\u001B[49m)\n\u001B[1;32m     99\u001B[0m recs \u001B[38;5;241m=\u001B[39m recs\u001B[38;5;241m.\u001B[39mset_index(\u001B[38;5;124m'\u001B[39m\u001B[38;5;124muser_id\u001B[39m\u001B[38;5;124m'\u001B[39m)\u001B[38;5;241m.\u001B[39mapply(pd\u001B[38;5;241m.\u001B[39mSeries\u001B[38;5;241m.\u001B[39mexplode)\u001B[38;5;241m.\u001B[39mreset_index()\n\u001B[1;32m    101\u001B[0m recs \u001B[38;5;241m=\u001B[39m recs[\u001B[38;5;241m~\u001B[39m(recs[\u001B[38;5;124m'\u001B[39m\u001B[38;5;124muser_id\u001B[39m\u001B[38;5;124m'\u001B[39m] \u001B[38;5;241m==\u001B[39m recs[\u001B[38;5;124m'\u001B[39m\u001B[38;5;124msim_user_id\u001B[39m\u001B[38;5;124m'\u001B[39m])]\\\n\u001B[1;32m    102\u001B[0m     \u001B[38;5;241m.\u001B[39mmerge(\u001B[38;5;28mself\u001B[39m\u001B[38;5;241m.\u001B[39mwatched, on\u001B[38;5;241m=\u001B[39m[\u001B[38;5;124m'\u001B[39m\u001B[38;5;124msim_user_id\u001B[39m\u001B[38;5;124m'\u001B[39m], how\u001B[38;5;241m=\u001B[39m\u001B[38;5;124m'\u001B[39m\u001B[38;5;124mleft\u001B[39m\u001B[38;5;124m'\u001B[39m)\\\n\u001B[1;32m    103\u001B[0m     \u001B[38;5;241m.\u001B[39mexplode(\u001B[38;5;124m'\u001B[39m\u001B[38;5;124mitem_id\u001B[39m\u001B[38;5;124m'\u001B[39m)\\\n\u001B[1;32m    104\u001B[0m     \u001B[38;5;241m.\u001B[39msort_values([\u001B[38;5;124m'\u001B[39m\u001B[38;5;124muser_id\u001B[39m\u001B[38;5;124m'\u001B[39m, \u001B[38;5;124m'\u001B[39m\u001B[38;5;124msim\u001B[39m\u001B[38;5;124m'\u001B[39m], ascending\u001B[38;5;241m=\u001B[39m\u001B[38;5;28;01mFalse\u001B[39;00m)\\\n\u001B[1;32m    105\u001B[0m     \u001B[38;5;241m.\u001B[39mdrop_duplicates([\u001B[38;5;124m'\u001B[39m\u001B[38;5;124muser_id\u001B[39m\u001B[38;5;124m'\u001B[39m, \u001B[38;5;124m'\u001B[39m\u001B[38;5;124mitem_id\u001B[39m\u001B[38;5;124m'\u001B[39m], keep\u001B[38;5;241m=\u001B[39m\u001B[38;5;124m'\u001B[39m\u001B[38;5;124mfirst\u001B[39m\u001B[38;5;124m'\u001B[39m)\\\n\u001B[1;32m    106\u001B[0m     \u001B[38;5;241m.\u001B[39mmerge(\u001B[38;5;28mself\u001B[39m\u001B[38;5;241m.\u001B[39mitem_idf, left_on\u001B[38;5;241m=\u001B[39m\u001B[38;5;124m'\u001B[39m\u001B[38;5;124mitem_id\u001B[39m\u001B[38;5;124m'\u001B[39m, right_on\u001B[38;5;241m=\u001B[39m\u001B[38;5;124m'\u001B[39m\u001B[38;5;124mindex\u001B[39m\u001B[38;5;124m'\u001B[39m, how\u001B[38;5;241m=\u001B[39m\u001B[38;5;124m'\u001B[39m\u001B[38;5;124mleft\u001B[39m\u001B[38;5;124m'\u001B[39m)\n",
      "File \u001B[0;32m~/Workspace/RecoServiceTemplate/venv/lib/python3.10/site-packages/pandas/core/series.py:4539\u001B[0m, in \u001B[0;36mSeries.map\u001B[0;34m(self, arg, na_action)\u001B[0m\n\u001B[1;32m   4460\u001B[0m \u001B[38;5;28;01mdef\u001B[39;00m \u001B[38;5;21mmap\u001B[39m(\n\u001B[1;32m   4461\u001B[0m     \u001B[38;5;28mself\u001B[39m,\n\u001B[1;32m   4462\u001B[0m     arg: Callable \u001B[38;5;241m|\u001B[39m Mapping \u001B[38;5;241m|\u001B[39m Series,\n\u001B[1;32m   4463\u001B[0m     na_action: Literal[\u001B[38;5;124m\"\u001B[39m\u001B[38;5;124mignore\u001B[39m\u001B[38;5;124m\"\u001B[39m] \u001B[38;5;241m|\u001B[39m \u001B[38;5;28;01mNone\u001B[39;00m \u001B[38;5;241m=\u001B[39m \u001B[38;5;28;01mNone\u001B[39;00m,\n\u001B[1;32m   4464\u001B[0m ) \u001B[38;5;241m-\u001B[39m\u001B[38;5;241m>\u001B[39m Series:\n\u001B[1;32m   4465\u001B[0m \u001B[38;5;250m    \u001B[39m\u001B[38;5;124;03m\"\"\"\u001B[39;00m\n\u001B[1;32m   4466\u001B[0m \u001B[38;5;124;03m    Map values of Series according to an input mapping or function.\u001B[39;00m\n\u001B[1;32m   4467\u001B[0m \n\u001B[0;32m   (...)\u001B[0m\n\u001B[1;32m   4537\u001B[0m \u001B[38;5;124;03m    dtype: object\u001B[39;00m\n\u001B[1;32m   4538\u001B[0m \u001B[38;5;124;03m    \"\"\"\u001B[39;00m\n\u001B[0;32m-> 4539\u001B[0m     new_values \u001B[38;5;241m=\u001B[39m \u001B[38;5;28;43mself\u001B[39;49m\u001B[38;5;241;43m.\u001B[39;49m\u001B[43m_map_values\u001B[49m\u001B[43m(\u001B[49m\u001B[43marg\u001B[49m\u001B[43m,\u001B[49m\u001B[43m \u001B[49m\u001B[43mna_action\u001B[49m\u001B[38;5;241;43m=\u001B[39;49m\u001B[43mna_action\u001B[49m\u001B[43m)\u001B[49m\n\u001B[1;32m   4540\u001B[0m     \u001B[38;5;28;01mreturn\u001B[39;00m \u001B[38;5;28mself\u001B[39m\u001B[38;5;241m.\u001B[39m_constructor(new_values, index\u001B[38;5;241m=\u001B[39m\u001B[38;5;28mself\u001B[39m\u001B[38;5;241m.\u001B[39mindex)\u001B[38;5;241m.\u001B[39m__finalize__(\n\u001B[1;32m   4541\u001B[0m         \u001B[38;5;28mself\u001B[39m, method\u001B[38;5;241m=\u001B[39m\u001B[38;5;124m\"\u001B[39m\u001B[38;5;124mmap\u001B[39m\u001B[38;5;124m\"\u001B[39m\n\u001B[1;32m   4542\u001B[0m     )\n",
      "File \u001B[0;32m~/Workspace/RecoServiceTemplate/venv/lib/python3.10/site-packages/pandas/core/base.py:890\u001B[0m, in \u001B[0;36mIndexOpsMixin._map_values\u001B[0;34m(self, mapper, na_action)\u001B[0m\n\u001B[1;32m    887\u001B[0m         \u001B[38;5;28;01mraise\u001B[39;00m \u001B[38;5;167;01mValueError\u001B[39;00m(msg)\n\u001B[1;32m    889\u001B[0m \u001B[38;5;66;03m# mapper is a function\u001B[39;00m\n\u001B[0;32m--> 890\u001B[0m new_values \u001B[38;5;241m=\u001B[39m \u001B[43mmap_f\u001B[49m\u001B[43m(\u001B[49m\u001B[43mvalues\u001B[49m\u001B[43m,\u001B[49m\u001B[43m \u001B[49m\u001B[43mmapper\u001B[49m\u001B[43m)\u001B[49m\n\u001B[1;32m    892\u001B[0m \u001B[38;5;28;01mreturn\u001B[39;00m new_values\n",
      "File \u001B[0;32m~/Workspace/RecoServiceTemplate/venv/lib/python3.10/site-packages/pandas/_libs/lib.pyx:2924\u001B[0m, in \u001B[0;36mpandas._libs.lib.map_infer\u001B[0;34m()\u001B[0m\n",
      "File \u001B[0;32m~/Workspace/RecoServiceTemplate/service/userknn.py:80\u001B[0m, in \u001B[0;36mUserKnn._generate_recs_mapper.<locals>._recs_mapper\u001B[0;34m(user)\u001B[0m\n\u001B[1;32m     79\u001B[0m \u001B[38;5;28;01mdef\u001B[39;00m \u001B[38;5;21m_recs_mapper\u001B[39m(user):\n\u001B[0;32m---> 80\u001B[0m     user_id \u001B[38;5;241m=\u001B[39m \u001B[38;5;28;43mself\u001B[39;49m\u001B[38;5;241;43m.\u001B[39;49m\u001B[43musers_mapping\u001B[49m\u001B[43m[\u001B[49m\u001B[43muser\u001B[49m\u001B[43m]\u001B[49m\n\u001B[1;32m     81\u001B[0m     users, sim \u001B[38;5;241m=\u001B[39m model\u001B[38;5;241m.\u001B[39msimilar_items(user_id, N\u001B[38;5;241m=\u001B[39mN)\n\u001B[1;32m     82\u001B[0m     \u001B[38;5;28;01mreturn\u001B[39;00m [\u001B[38;5;28mself\u001B[39m\u001B[38;5;241m.\u001B[39musers_inv_mapping[user] \u001B[38;5;28;01mfor\u001B[39;00m user \u001B[38;5;129;01min\u001B[39;00m users], sim\n",
      "\u001B[0;31mKeyError\u001B[0m: 774973"
     ]
    }
   ],
   "source": [
    "with open(\"../artifacts/task3_cropped20_experiment_tfidf_userknn.pkl\", \"rb\") as file:\n",
    "    model_1 = pickle.load(file)\n",
    "\n",
    "\n",
    "user_id_kostyl = pd.DataFrame({'user_id': [774973]})\n",
    "recos = model_1.predict(user_id_kostyl)\n",
    "\n",
    "    \n",
    "metric_values = calc_metrics(\n",
    "    metrics,\n",
    "    reco=recos,\n",
    "    interactions=df_test,\n",
    "    prev_interactions=df_train,\n",
    "    catalog=catalog,\n",
    ")"
   ],
   "metadata": {
    "collapsed": false,
    "ExecuteTime": {
     "end_time": "2023-11-28T04:13:21.858259476Z",
     "start_time": "2023-11-28T04:13:21.644475184Z"
    }
   },
   "id": "bb1b73ac05ce2c8a"
  },
  {
   "cell_type": "code",
   "execution_count": null,
   "outputs": [],
   "source": [
    "df_metrics = pd.DataFrame(results)\n",
    "df_metrics.groupby('model').mean()[metrics.keys()]"
   ],
   "metadata": {
    "collapsed": false,
    "ExecuteTime": {
     "start_time": "2023-11-28T04:13:21.860126492Z"
    }
   },
   "id": "84c3db052d3070ea"
  },
  {
   "cell_type": "code",
   "execution_count": 177,
   "outputs": [
    {
     "data": {
      "text/plain": "2               2\n3               3\n20             21\n56             60\n93            106\n           ...   \n962097    1097470\n962113    1097486\n962133    1097508\n962138    1097513\n962141    1097516\nName: user_id, Length: 49806, dtype: int64"
     },
     "execution_count": 177,
     "metadata": {},
     "output_type": "execute_result"
    }
   ],
   "source": [
    "hot_users"
   ],
   "metadata": {
    "collapsed": false,
    "ExecuteTime": {
     "end_time": "2023-11-28T04:20:34.940286017Z",
     "start_time": "2023-11-28T04:20:34.861786029Z"
    }
   },
   "id": "9507ab7da2c2c2fa"
  },
  {
   "cell_type": "code",
   "execution_count": null,
   "outputs": [],
   "source": [],
   "metadata": {
    "collapsed": false,
    "ExecuteTime": {
     "start_time": "2023-11-28T04:13:21.863947708Z"
    }
   },
   "id": "76ba71eec411e5cc"
  }
 ],
 "metadata": {
  "kernelspec": {
   "display_name": "Python 3",
   "language": "python",
   "name": "python3"
  },
  "language_info": {
   "codemirror_mode": {
    "name": "ipython",
    "version": 2
   },
   "file_extension": ".py",
   "mimetype": "text/x-python",
   "name": "python",
   "nbconvert_exporter": "python",
   "pygments_lexer": "ipython2",
   "version": "2.7.6"
  }
 },
 "nbformat": 4,
 "nbformat_minor": 5
}
