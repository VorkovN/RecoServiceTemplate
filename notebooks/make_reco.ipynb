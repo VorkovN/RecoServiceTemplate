{
 "cells": [
  {
   "cell_type": "code",
   "execution_count": 2,
   "id": "initial_id",
   "metadata": {
    "collapsed": true,
    "ExecuteTime": {
     "end_time": "2023-11-27T07:45:31.792885213Z",
     "start_time": "2023-11-27T07:45:31.563301399Z"
    }
   },
   "outputs": [],
   "source": [
    "from rectools.dataset import Interactions, Dataset\n",
    "from rectools import Columns\n",
    "\n",
    "import pandas as pd\n",
    "import pickle"
   ]
  },
  {
   "cell_type": "code",
   "execution_count": 43,
   "outputs": [
    {
     "name": "stdout",
     "output_type": "stream",
     "text": [
      "Hot users cout: 103211\n"
     ]
    }
   ],
   "source": [
    "interactions = pd.read_csv(\"../artifacts/interactions.csv\")\n",
    "interactions.rename(columns={'last_watch_dt': Columns.Datetime, 'total_dur': Columns.Weight}, inplace=True)\n",
    "dataset = Dataset.construct(interactions)\n",
    "\n",
    "# Выбираем самое популярное\n",
    "items_ids_all = interactions.groupby(Columns.Item)[Columns.User].nunique().reset_index(name='unique_users_count')\n",
    "popular_items = items_ids_all.sort_values(by='unique_users_count', ascending=False).head(10)[Columns.Item]\n",
    "\n",
    "# Запоминаем отсутствующих юзеров\n",
    "cold_users = set(range(1100000)).difference(set(interactions[Columns.User]))\n",
    "\n",
    "# Сохраняем список горячих юзеров\n",
    "user_ids_all = interactions.groupby(Columns.User)[Columns.Item].nunique().reset_index(name='unique_items_count')\n",
    "hot_users = user_ids_all[user_ids_all['unique_items_count'] > 12][Columns.User]\n",
    "print(f\"Hot users cout: {hot_users.shape[0]}\")\n",
    "\n",
    "# Десереализуем холодную модель\n",
    "with open(\"../artifacts/first_experiment_popular.pkl\", \"rb\") as file:\n",
    "    warm_model = pickle.load(file)\n",
    "\n",
    "# Десереализуем горячую модель\n",
    "with open(\"../artifacts/task3_cropped12_experiment_tfidf_userknn.pkl\", \"rb\") as file:\n",
    "    hot_model = pickle.load(file)\n",
    "\n",
    "# df_hot = interactions[interactions[Columns.User].isin(hot_users)][Columns.User]\n",
    "\n",
    "df_hot = pd.DataFrame({Columns.User: interactions[interactions[Columns.User].isin(hot_users)][\"user_id\"]})\n",
    "recos_hot = hot_model.predict(df_hot)\n",
    "df_warm = interactions[~interactions[Columns.User].isin(df_hot[Columns.User])].drop_duplicates(subset=Columns.User)\n",
    "\n",
    "# df_warm = set(df_hot[Columns.User]).difference(set(interactions[Columns.User])\n",
    "recos_warm = warm_model.recommend(\n",
    "    users=df_warm[Columns.User],\n",
    "    dataset=dataset,\n",
    "    k=10,\n",
    "    filter_viewed=True,\n",
    ")\n",
    "recos_cold = popular_items    "
   ],
   "metadata": {
    "collapsed": false,
    "ExecuteTime": {
     "end_time": "2023-11-27T17:24:44.692317383Z",
     "start_time": "2023-11-27T17:21:39.431538453Z"
    }
   },
   "id": "d662c12000d7ae1f"
  },
  {
   "cell_type": "code",
   "execution_count": 23,
   "outputs": [],
   "source": [
    "# df_warm[df_warm[Columns.User] == 774973]"
   ],
   "metadata": {
    "collapsed": false,
    "ExecuteTime": {
     "end_time": "2023-11-27T10:25:01.399546502Z",
     "start_time": "2023-11-27T10:25:01.226898760Z"
    }
   },
   "id": "c025886ddc824d76"
  },
  {
   "cell_type": "code",
   "execution_count": 24,
   "outputs": [
    {
     "data": {
      "text/plain": "         user_id  item_id    datetime  weight  watched_pct\n2         656683     7107  2021-05-09      10          0.0\n3         864613     7638  2021-07-05   14483        100.0\n4         964868     9506  2021-04-30    6725        100.0\n5        1032142     6686  2021-05-13   11286        100.0\n8         648682     1449  2021-06-13   26246         75.0\n...          ...      ...         ...     ...          ...\n5476245   786732     4880  2021-05-12     753          0.0\n5476246   648596    12225  2021-08-13      76          0.0\n5476247   546862     9673  2021-04-13    2308         49.0\n5476248   697262    15297  2021-08-20   18307         63.0\n5476250   319709     4436  2021-08-15    3921         45.0\n\n[2674931 rows x 5 columns]",
      "text/html": "<div>\n<style scoped>\n    .dataframe tbody tr th:only-of-type {\n        vertical-align: middle;\n    }\n\n    .dataframe tbody tr th {\n        vertical-align: top;\n    }\n\n    .dataframe thead th {\n        text-align: right;\n    }\n</style>\n<table border=\"1\" class=\"dataframe\">\n  <thead>\n    <tr style=\"text-align: right;\">\n      <th></th>\n      <th>user_id</th>\n      <th>item_id</th>\n      <th>datetime</th>\n      <th>weight</th>\n      <th>watched_pct</th>\n    </tr>\n  </thead>\n  <tbody>\n    <tr>\n      <th>2</th>\n      <td>656683</td>\n      <td>7107</td>\n      <td>2021-05-09</td>\n      <td>10</td>\n      <td>0.0</td>\n    </tr>\n    <tr>\n      <th>3</th>\n      <td>864613</td>\n      <td>7638</td>\n      <td>2021-07-05</td>\n      <td>14483</td>\n      <td>100.0</td>\n    </tr>\n    <tr>\n      <th>4</th>\n      <td>964868</td>\n      <td>9506</td>\n      <td>2021-04-30</td>\n      <td>6725</td>\n      <td>100.0</td>\n    </tr>\n    <tr>\n      <th>5</th>\n      <td>1032142</td>\n      <td>6686</td>\n      <td>2021-05-13</td>\n      <td>11286</td>\n      <td>100.0</td>\n    </tr>\n    <tr>\n      <th>8</th>\n      <td>648682</td>\n      <td>1449</td>\n      <td>2021-06-13</td>\n      <td>26246</td>\n      <td>75.0</td>\n    </tr>\n    <tr>\n      <th>...</th>\n      <td>...</td>\n      <td>...</td>\n      <td>...</td>\n      <td>...</td>\n      <td>...</td>\n    </tr>\n    <tr>\n      <th>5476245</th>\n      <td>786732</td>\n      <td>4880</td>\n      <td>2021-05-12</td>\n      <td>753</td>\n      <td>0.0</td>\n    </tr>\n    <tr>\n      <th>5476246</th>\n      <td>648596</td>\n      <td>12225</td>\n      <td>2021-08-13</td>\n      <td>76</td>\n      <td>0.0</td>\n    </tr>\n    <tr>\n      <th>5476247</th>\n      <td>546862</td>\n      <td>9673</td>\n      <td>2021-04-13</td>\n      <td>2308</td>\n      <td>49.0</td>\n    </tr>\n    <tr>\n      <th>5476248</th>\n      <td>697262</td>\n      <td>15297</td>\n      <td>2021-08-20</td>\n      <td>18307</td>\n      <td>63.0</td>\n    </tr>\n    <tr>\n      <th>5476250</th>\n      <td>319709</td>\n      <td>4436</td>\n      <td>2021-08-15</td>\n      <td>3921</td>\n      <td>45.0</td>\n    </tr>\n  </tbody>\n</table>\n<p>2674931 rows × 5 columns</p>\n</div>"
     },
     "execution_count": 24,
     "metadata": {},
     "output_type": "execute_result"
    }
   ],
   "source": [
    "df_warm"
   ],
   "metadata": {
    "collapsed": false,
    "ExecuteTime": {
     "end_time": "2023-11-27T10:25:06.757932179Z",
     "start_time": "2023-11-27T10:25:06.717131512Z"
    }
   },
   "id": "416bf4f78f493438"
  },
  {
   "cell_type": "code",
   "execution_count": 29,
   "outputs": [
    {
     "name": "stdout",
     "output_type": "stream",
     "text": [
      "user_id 2421 warm start predict\n",
      "user_id 2421 is warm; recos 2786300     10152\n",
      "2786301      3043\n",
      "2786302      3190\n",
      "2786303     15423\n",
      "2786304      3017\n",
      "2786305      2293\n",
      "2786306      9851\n",
      "2786307     14817\n",
      "2786308       657\n",
      "2786309      1819\n",
      "9077560     10152\n",
      "9077561      3043\n",
      "9077562      3190\n",
      "9077563     15423\n",
      "9077564      3017\n",
      "9077565      2293\n",
      "9077566      9851\n",
      "9077567     14817\n",
      "9077568       657\n",
      "9077569      1819\n",
      "11548220    10152\n",
      "11548221     3043\n",
      "11548222     3190\n",
      "11548223    15423\n",
      "11548224     3017\n",
      "11548225     2293\n",
      "11548226     9851\n",
      "11548227    14817\n",
      "11548228      657\n",
      "11548229     1819\n",
      "12898030    10152\n",
      "12898031     3043\n",
      "12898032     3190\n",
      "12898033    15423\n",
      "12898034     3017\n",
      "12898035     2293\n",
      "12898036     9851\n",
      "12898037    14817\n",
      "12898038      657\n",
      "12898039     1819\n",
      "15368200    10152\n",
      "15368201     3043\n",
      "15368202     3190\n",
      "15368203    15423\n",
      "15368204     3017\n",
      "15368205     2293\n",
      "15368206     9851\n",
      "15368207    14817\n",
      "15368208      657\n",
      "15368209     1819\n",
      "19328210    10152\n",
      "19328211     3043\n",
      "19328212     3190\n",
      "19328213    15423\n",
      "19328214     3017\n",
      "19328215     2293\n",
      "19328216     9851\n",
      "19328217    14817\n",
      "19328218      657\n",
      "19328219     1819\n",
      "Name: item_id, dtype: int64; len60\n"
     ]
    }
   ],
   "source": [
    "user_id = 2421\n",
    "\n",
    "# Горячий\n",
    "if hot_users.isin([user_id]).any():\n",
    "    # return list(range(k_recs))\n",
    "    print(f\"user_id {user_id} hot start predict\")\n",
    "    # user_id_kostyl = pd.DataFrame({Columns.User: [user_id]})\n",
    "    # recos = hot_model.predict(user_id_kostyl)\n",
    "\n",
    "    recos = recos_hot[ recos_hot[Columns.User].isin([user_id])][\"item_id\"]\n",
    "    print(f\"user_id {user_id} is hot; recos {recos}; len{len(recos)}\")\n",
    "\n",
    "# Теплый\n",
    "elif user_id not in cold_users:\n",
    "    # return list(range(k_recs))\n",
    "    print(f\"user_id {user_id} warm start predict\")\n",
    "    # recos = warm_model.recommend(\n",
    "    #     users=[user_id],\n",
    "    #     dataset=dataset,\n",
    "    #     k=k_recs,\n",
    "    #     filter_viewed=True)\n",
    "    recos = recos_warm[recos_warm[Columns.User].isin([user_id])][\"item_id\"]\n",
    "    print(f\"user_id {user_id} is warm; recos {recos}; len{len(recos)}\")\n",
    "\n",
    "# Холодный\n",
    "else:\n",
    "    print(f\"user_id {user_id} cold start predict\")\n",
    "    recos = recos_cold\n",
    "    print(f\"user_id {user_id} is cold; recos {recos}; len{len(recos)}\")\n",
    "    "
   ],
   "metadata": {
    "collapsed": false,
    "ExecuteTime": {
     "end_time": "2023-11-27T16:22:57.063117610Z",
     "start_time": "2023-11-27T16:22:56.686448566Z"
    }
   },
   "id": "c4baecbad7d27887"
  },
  {
   "cell_type": "code",
   "execution_count": 35,
   "outputs": [
    {
     "data": {
      "text/plain": "          user_id  item_id     score  rank\n0          656683    15297  175949.0     1\n1          656683    10152  168500.0     2\n2          656683     3043  108966.0     3\n3          656683     3190  107640.0     4\n4          656683    15423   80649.0     5\n...           ...      ...       ...   ...\n26749305   319709     3017   64809.0    36\n26749306   319709     2293   63183.0    37\n26749307   319709     9851   51416.0    38\n26749308   319709    14817   40663.0    39\n26749309   319709      657   37847.0    40\n\n[26749310 rows x 4 columns]",
      "text/html": "<div>\n<style scoped>\n    .dataframe tbody tr th:only-of-type {\n        vertical-align: middle;\n    }\n\n    .dataframe tbody tr th {\n        vertical-align: top;\n    }\n\n    .dataframe thead th {\n        text-align: right;\n    }\n</style>\n<table border=\"1\" class=\"dataframe\">\n  <thead>\n    <tr style=\"text-align: right;\">\n      <th></th>\n      <th>user_id</th>\n      <th>item_id</th>\n      <th>score</th>\n      <th>rank</th>\n    </tr>\n  </thead>\n  <tbody>\n    <tr>\n      <th>0</th>\n      <td>656683</td>\n      <td>15297</td>\n      <td>175949.0</td>\n      <td>1</td>\n    </tr>\n    <tr>\n      <th>1</th>\n      <td>656683</td>\n      <td>10152</td>\n      <td>168500.0</td>\n      <td>2</td>\n    </tr>\n    <tr>\n      <th>2</th>\n      <td>656683</td>\n      <td>3043</td>\n      <td>108966.0</td>\n      <td>3</td>\n    </tr>\n    <tr>\n      <th>3</th>\n      <td>656683</td>\n      <td>3190</td>\n      <td>107640.0</td>\n      <td>4</td>\n    </tr>\n    <tr>\n      <th>4</th>\n      <td>656683</td>\n      <td>15423</td>\n      <td>80649.0</td>\n      <td>5</td>\n    </tr>\n    <tr>\n      <th>...</th>\n      <td>...</td>\n      <td>...</td>\n      <td>...</td>\n      <td>...</td>\n    </tr>\n    <tr>\n      <th>26749305</th>\n      <td>319709</td>\n      <td>3017</td>\n      <td>64809.0</td>\n      <td>36</td>\n    </tr>\n    <tr>\n      <th>26749306</th>\n      <td>319709</td>\n      <td>2293</td>\n      <td>63183.0</td>\n      <td>37</td>\n    </tr>\n    <tr>\n      <th>26749307</th>\n      <td>319709</td>\n      <td>9851</td>\n      <td>51416.0</td>\n      <td>38</td>\n    </tr>\n    <tr>\n      <th>26749308</th>\n      <td>319709</td>\n      <td>14817</td>\n      <td>40663.0</td>\n      <td>39</td>\n    </tr>\n    <tr>\n      <th>26749309</th>\n      <td>319709</td>\n      <td>657</td>\n      <td>37847.0</td>\n      <td>40</td>\n    </tr>\n  </tbody>\n</table>\n<p>26749310 rows × 4 columns</p>\n</div>"
     },
     "execution_count": 35,
     "metadata": {},
     "output_type": "execute_result"
    }
   ],
   "source": [
    "recos_warm"
   ],
   "metadata": {
    "collapsed": false,
    "ExecuteTime": {
     "end_time": "2023-11-27T16:27:56.771604468Z",
     "start_time": "2023-11-27T16:27:56.750650743Z"
    }
   },
   "id": "15714f5efeef90fa"
  },
  {
   "cell_type": "code",
   "execution_count": 32,
   "outputs": [
    {
     "data": {
      "text/plain": "2786300     10152\n2786301      3043\n2786302      3190\n2786303     15423\n2786304      3017\n2786305      2293\n2786306      9851\n2786307     14817\n2786308       657\n2786309      1819\n9077560     10152\n9077561      3043\n9077562      3190\n9077563     15423\n9077564      3017\n9077565      2293\n9077566      9851\n9077567     14817\n9077568       657\n9077569      1819\n11548220    10152\n11548221     3043\n11548222     3190\n11548223    15423\n11548224     3017\n11548225     2293\n11548226     9851\n11548227    14817\n11548228      657\n11548229     1819\n12898030    10152\n12898031     3043\n12898032     3190\n12898033    15423\n12898034     3017\n12898035     2293\n12898036     9851\n12898037    14817\n12898038      657\n12898039     1819\n15368200    10152\n15368201     3043\n15368202     3190\n15368203    15423\n15368204     3017\n15368205     2293\n15368206     9851\n15368207    14817\n15368208      657\n15368209     1819\n19328210    10152\n19328211     3043\n19328212     3190\n19328213    15423\n19328214     3017\n19328215     2293\n19328216     9851\n19328217    14817\n19328218      657\n19328219     1819\nName: item_id, dtype: int64"
     },
     "execution_count": 32,
     "metadata": {},
     "output_type": "execute_result"
    }
   ],
   "source": [
    "recos"
   ],
   "metadata": {
    "collapsed": false,
    "ExecuteTime": {
     "end_time": "2023-11-27T16:24:31.706073869Z",
     "start_time": "2023-11-27T16:24:31.661439577Z"
    }
   },
   "id": "b9a0af512dd18fd8"
  },
  {
   "cell_type": "code",
   "execution_count": 28,
   "outputs": [
    {
     "data": {
      "text/plain": "          user_id  item_id     score  rank\n0          656683    15297  175949.0     1\n1          656683    10152  168500.0     2\n2          656683     3043  108966.0     3\n3          656683     3190  107640.0     4\n4          656683    15423   80649.0     5\n...           ...      ...       ...   ...\n26749305   319709     3017   64809.0    36\n26749306   319709     2293   63183.0    37\n26749307   319709     9851   51416.0    38\n26749308   319709    14817   40663.0    39\n26749309   319709      657   37847.0    40\n\n[26749310 rows x 4 columns]",
      "text/html": "<div>\n<style scoped>\n    .dataframe tbody tr th:only-of-type {\n        vertical-align: middle;\n    }\n\n    .dataframe tbody tr th {\n        vertical-align: top;\n    }\n\n    .dataframe thead th {\n        text-align: right;\n    }\n</style>\n<table border=\"1\" class=\"dataframe\">\n  <thead>\n    <tr style=\"text-align: right;\">\n      <th></th>\n      <th>user_id</th>\n      <th>item_id</th>\n      <th>score</th>\n      <th>rank</th>\n    </tr>\n  </thead>\n  <tbody>\n    <tr>\n      <th>0</th>\n      <td>656683</td>\n      <td>15297</td>\n      <td>175949.0</td>\n      <td>1</td>\n    </tr>\n    <tr>\n      <th>1</th>\n      <td>656683</td>\n      <td>10152</td>\n      <td>168500.0</td>\n      <td>2</td>\n    </tr>\n    <tr>\n      <th>2</th>\n      <td>656683</td>\n      <td>3043</td>\n      <td>108966.0</td>\n      <td>3</td>\n    </tr>\n    <tr>\n      <th>3</th>\n      <td>656683</td>\n      <td>3190</td>\n      <td>107640.0</td>\n      <td>4</td>\n    </tr>\n    <tr>\n      <th>4</th>\n      <td>656683</td>\n      <td>15423</td>\n      <td>80649.0</td>\n      <td>5</td>\n    </tr>\n    <tr>\n      <th>...</th>\n      <td>...</td>\n      <td>...</td>\n      <td>...</td>\n      <td>...</td>\n    </tr>\n    <tr>\n      <th>26749305</th>\n      <td>319709</td>\n      <td>3017</td>\n      <td>64809.0</td>\n      <td>36</td>\n    </tr>\n    <tr>\n      <th>26749306</th>\n      <td>319709</td>\n      <td>2293</td>\n      <td>63183.0</td>\n      <td>37</td>\n    </tr>\n    <tr>\n      <th>26749307</th>\n      <td>319709</td>\n      <td>9851</td>\n      <td>51416.0</td>\n      <td>38</td>\n    </tr>\n    <tr>\n      <th>26749308</th>\n      <td>319709</td>\n      <td>14817</td>\n      <td>40663.0</td>\n      <td>39</td>\n    </tr>\n    <tr>\n      <th>26749309</th>\n      <td>319709</td>\n      <td>657</td>\n      <td>37847.0</td>\n      <td>40</td>\n    </tr>\n  </tbody>\n</table>\n<p>26749310 rows × 4 columns</p>\n</div>"
     },
     "execution_count": 28,
     "metadata": {},
     "output_type": "execute_result"
    }
   ],
   "source": [
    "recos_warm"
   ],
   "metadata": {
    "collapsed": false,
    "ExecuteTime": {
     "end_time": "2023-11-27T16:22:19.833557754Z",
     "start_time": "2023-11-27T16:22:19.829810643Z"
    }
   },
   "id": "aad2a08a166cf53e"
  },
  {
   "cell_type": "code",
   "execution_count": 42,
   "outputs": [
    {
     "data": {
      "text/plain": "        user_id  item_id    datetime  weight  watched_pct\n569754     2421     9728  2021-08-13    1382         20.0",
      "text/html": "<div>\n<style scoped>\n    .dataframe tbody tr th:only-of-type {\n        vertical-align: middle;\n    }\n\n    .dataframe tbody tr th {\n        vertical-align: top;\n    }\n\n    .dataframe thead th {\n        text-align: right;\n    }\n</style>\n<table border=\"1\" class=\"dataframe\">\n  <thead>\n    <tr style=\"text-align: right;\">\n      <th></th>\n      <th>user_id</th>\n      <th>item_id</th>\n      <th>datetime</th>\n      <th>weight</th>\n      <th>watched_pct</th>\n    </tr>\n  </thead>\n  <tbody>\n    <tr>\n      <th>569754</th>\n      <td>2421</td>\n      <td>9728</td>\n      <td>2021-08-13</td>\n      <td>1382</td>\n      <td>20.0</td>\n    </tr>\n  </tbody>\n</table>\n</div>"
     },
     "execution_count": 42,
     "metadata": {},
     "output_type": "execute_result"
    }
   ],
   "source": [
    "aa = df_warm.drop_duplicates(subset=Columns.User)\n",
    "aa[aa[Columns.User].isin([2421])]"
   ],
   "metadata": {
    "collapsed": false,
    "ExecuteTime": {
     "end_time": "2023-11-27T17:20:50.409653061Z",
     "start_time": "2023-11-27T17:20:50.312548946Z"
    }
   },
   "id": "37124ceda6724d67"
  },
  {
   "cell_type": "code",
   "execution_count": null,
   "outputs": [],
   "source": [
    "users_csv = pd.read_csv(\"../artifacts/users.csv\")\n",
    "users_csv"
   ],
   "metadata": {
    "collapsed": false,
    "ExecuteTime": {
     "start_time": "2023-11-26T21:50:29.237674012Z"
    }
   },
   "id": "f27951b3efcf3a7e"
  },
  {
   "cell_type": "code",
   "execution_count": null,
   "outputs": [],
   "source": [
    "interactions[Columns.User].isin([302]).any()"
   ],
   "metadata": {
    "collapsed": false,
    "ExecuteTime": {
     "start_time": "2023-11-26T21:50:29.237782317Z"
    }
   },
   "id": "2ed3f6c48395656d"
  },
  {
   "cell_type": "code",
   "execution_count": 38,
   "outputs": [
    {
     "data": {
      "text/plain": "0    15297\n1    10152\n2     3043\n3     3190\n4    15423\n5     3017\n6     2293\n7     9851\n8    14817\n9      657\nName: item_id, dtype: int64"
     },
     "execution_count": 38,
     "metadata": {},
     "output_type": "execute_result"
    }
   ],
   "source": [
    "recos_warm.head(10)"
   ],
   "metadata": {
    "collapsed": false,
    "ExecuteTime": {
     "end_time": "2023-11-27T16:31:02.572985720Z",
     "start_time": "2023-11-27T16:31:02.568172658Z"
    }
   },
   "id": "dfcec9773a21abdd"
  },
  {
   "cell_type": "code",
   "execution_count": 70,
   "outputs": [
    {
     "data": {
      "text/plain": "       item_id  unique_users_count\n0            0                  37\n1            1                  23\n2            2                  38\n3            3                  18\n4            4                   6\n...        ...                 ...\n15701    16514                   2\n15702    16515                   1\n15703    16516                  74\n15704    16517                   1\n15705    16518                   5\n\n[15706 rows x 2 columns]",
      "text/html": "<div>\n<style scoped>\n    .dataframe tbody tr th:only-of-type {\n        vertical-align: middle;\n    }\n\n    .dataframe tbody tr th {\n        vertical-align: top;\n    }\n\n    .dataframe thead th {\n        text-align: right;\n    }\n</style>\n<table border=\"1\" class=\"dataframe\">\n  <thead>\n    <tr style=\"text-align: right;\">\n      <th></th>\n      <th>item_id</th>\n      <th>unique_users_count</th>\n    </tr>\n  </thead>\n  <tbody>\n    <tr>\n      <th>0</th>\n      <td>0</td>\n      <td>37</td>\n    </tr>\n    <tr>\n      <th>1</th>\n      <td>1</td>\n      <td>23</td>\n    </tr>\n    <tr>\n      <th>2</th>\n      <td>2</td>\n      <td>38</td>\n    </tr>\n    <tr>\n      <th>3</th>\n      <td>3</td>\n      <td>18</td>\n    </tr>\n    <tr>\n      <th>4</th>\n      <td>4</td>\n      <td>6</td>\n    </tr>\n    <tr>\n      <th>...</th>\n      <td>...</td>\n      <td>...</td>\n    </tr>\n    <tr>\n      <th>15701</th>\n      <td>16514</td>\n      <td>2</td>\n    </tr>\n    <tr>\n      <th>15702</th>\n      <td>16515</td>\n      <td>1</td>\n    </tr>\n    <tr>\n      <th>15703</th>\n      <td>16516</td>\n      <td>74</td>\n    </tr>\n    <tr>\n      <th>15704</th>\n      <td>16517</td>\n      <td>1</td>\n    </tr>\n    <tr>\n      <th>15705</th>\n      <td>16518</td>\n      <td>5</td>\n    </tr>\n  </tbody>\n</table>\n<p>15706 rows × 2 columns</p>\n</div>"
     },
     "execution_count": 70,
     "metadata": {},
     "output_type": "execute_result"
    }
   ],
   "source": [
    "items_ids_all"
   ],
   "metadata": {
    "collapsed": false,
    "ExecuteTime": {
     "end_time": "2023-11-26T19:30:06.672056492Z",
     "start_time": "2023-11-26T19:30:06.667205225Z"
    }
   },
   "id": "91416992b0d82bb"
  },
  {
   "cell_type": "code",
   "execution_count": 74,
   "outputs": [
    {
     "data": {
      "text/plain": "9906     10440\n14534    15297\n9242      9728\n13171    13865\n3941      4151\n         ...  \n214        218\n3511      3697\n10801    11382\n13549    14263\n5206      5469\nName: item_id, Length: 1000, dtype: int64"
     },
     "execution_count": 74,
     "metadata": {},
     "output_type": "execute_result"
    }
   ],
   "source": [
    "top_items_for_highest_users = items_ids_all.sort_values(by='unique_users_count', ascending=False).head(1000)[Columns.Item]\n",
    "top_items_for_highest_users"
   ],
   "metadata": {
    "collapsed": false,
    "ExecuteTime": {
     "end_time": "2023-11-26T19:35:21.982266675Z",
     "start_time": "2023-11-26T19:35:21.939674465Z"
    }
   },
   "id": "b3b89b74c1b4efbe"
  },
  {
   "cell_type": "code",
   "execution_count": 7,
   "outputs": [
    {
     "data": {
      "text/plain": "0          176549\n1          699317\n2          656683\n3          864613\n4          964868\n            ...  \n5476246    648596\n5476247    546862\n5476248    697262\n5476249    384202\n5476250    319709\nName: user_id, Length: 5476251, dtype: int64"
     },
     "execution_count": 7,
     "metadata": {},
     "output_type": "execute_result"
    }
   ],
   "source": [
    "interactions[Columns.User] "
   ],
   "metadata": {
    "collapsed": false,
    "ExecuteTime": {
     "end_time": "2023-11-27T06:58:52.410768973Z",
     "start_time": "2023-11-27T06:58:52.362518957Z"
    }
   },
   "id": "ef2983c6f6b277ab"
  },
  {
   "cell_type": "code",
   "execution_count": 10,
   "outputs": [
    {
     "data": {
      "text/plain": "2               2\n3               3\n5               5\n10             11\n12             13\n           ...   \n962133    1097508\n962138    1097513\n962141    1097516\n962146    1097521\n962165    1097544\nName: user_id, Length: 103211, dtype: int64"
     },
     "execution_count": 10,
     "metadata": {},
     "output_type": "execute_result"
    }
   ],
   "source": [
    "hot_users"
   ],
   "metadata": {
    "collapsed": false,
    "ExecuteTime": {
     "end_time": "2023-11-26T21:53:13.101801281Z",
     "start_time": "2023-11-26T21:53:13.074697540Z"
    }
   },
   "id": "bdd2d0ef0ceaeffd"
  },
  {
   "cell_type": "code",
   "execution_count": 11,
   "outputs": [
    {
     "data": {
      "text/plain": "2686271     7957\n3293190     4785\n3393617    12981\nName: item_id, dtype: int64"
     },
     "execution_count": 11,
     "metadata": {},
     "output_type": "execute_result"
    }
   ],
   "source": [
    "df_test = interactions[interactions[Columns.User].isin([666262])][\"item_id\"]\n",
    "df_test"
   ],
   "metadata": {
    "collapsed": false,
    "ExecuteTime": {
     "end_time": "2023-11-27T07:01:13.191111825Z",
     "start_time": "2023-11-27T07:01:13.153664395Z"
    }
   },
   "id": "b350f56ac00aad04"
  },
  {
   "cell_type": "code",
   "execution_count": null,
   "outputs": [],
   "source": [],
   "metadata": {
    "collapsed": false
   },
   "id": "f394f6f0d44d791f"
  }
 ],
 "metadata": {
  "kernelspec": {
   "display_name": "Python 3",
   "language": "python",
   "name": "python3"
  },
  "language_info": {
   "codemirror_mode": {
    "name": "ipython",
    "version": 2
   },
   "file_extension": ".py",
   "mimetype": "text/x-python",
   "name": "python",
   "nbconvert_exporter": "python",
   "pygments_lexer": "ipython2",
   "version": "2.7.6"
  }
 },
 "nbformat": 4,
 "nbformat_minor": 5
}
