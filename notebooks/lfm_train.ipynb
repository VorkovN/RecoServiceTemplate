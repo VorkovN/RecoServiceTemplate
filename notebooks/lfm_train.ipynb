{
 "cells": [
  {
   "cell_type": "code",
   "execution_count": 34,
   "id": "initial_id",
   "metadata": {
    "collapsed": true,
    "ExecuteTime": {
     "end_time": "2023-12-06T10:43:23.074463478Z",
     "start_time": "2023-12-06T10:43:22.983401529Z"
    }
   },
   "outputs": [],
   "source": [
    "import pickle\n",
    "import numpy as np\n",
    "import pandas as pd\n",
    "from implicit.bpr import BayesianPersonalizedRanking\n",
    "from rectools.dataset import Interactions, Dataset\n",
    "from rectools.model_selection import TimeRangeSplitter\n",
    "from rectools.metrics import MAP, MeanInvUserFreq, calc_metrics, MRR, NDCG\n",
    "\n",
    "from implicit.als import AlternatingLeastSquares\n",
    "\n",
    "from rectools.metrics import Precision, Recall, MAP, calc_metrics\n",
    "from rectools import Columns\n",
    "from rectools.dataset import Dataset\n",
    "from rectools.models import ImplicitALSWrapperModel, LightFMWrapperModel, PopularModel\n",
    "from tqdm import tqdm\n",
    "\n",
    "from lightfm import LightFM\n",
    "\n",
    "import optuna"
   ]
  },
  {
   "cell_type": "code",
   "execution_count": 35,
   "outputs": [
    {
     "data": {
      "text/plain": "         user_id  item_id   datetime   weight  watched_pct\n0         176549     9506 2021-05-11   4250.0         72.0\n1         699317     1659 2021-05-29   8317.0        100.0\n3         864613     7638 2021-07-05  14483.0        100.0\n6        1016458      354 2021-08-14   1672.0         25.0\n7         884009      693 2021-08-04    703.0         14.0\n...          ...      ...        ...      ...          ...\n5476243   497899     9629 2021-05-29     45.0          1.0\n5476244   438585     7829 2021-08-02   6804.0        100.0\n5476245   786732     4880 2021-05-12    753.0          0.0\n5476247   546862     9673 2021-04-13   2308.0         49.0\n5476249   384202    16197 2021-04-19   6203.0        100.0\n\n[3316719 rows x 5 columns]",
      "text/html": "<div>\n<style scoped>\n    .dataframe tbody tr th:only-of-type {\n        vertical-align: middle;\n    }\n\n    .dataframe tbody tr th {\n        vertical-align: top;\n    }\n\n    .dataframe thead th {\n        text-align: right;\n    }\n</style>\n<table border=\"1\" class=\"dataframe\">\n  <thead>\n    <tr style=\"text-align: right;\">\n      <th></th>\n      <th>user_id</th>\n      <th>item_id</th>\n      <th>datetime</th>\n      <th>weight</th>\n      <th>watched_pct</th>\n    </tr>\n  </thead>\n  <tbody>\n    <tr>\n      <th>0</th>\n      <td>176549</td>\n      <td>9506</td>\n      <td>2021-05-11</td>\n      <td>4250.0</td>\n      <td>72.0</td>\n    </tr>\n    <tr>\n      <th>1</th>\n      <td>699317</td>\n      <td>1659</td>\n      <td>2021-05-29</td>\n      <td>8317.0</td>\n      <td>100.0</td>\n    </tr>\n    <tr>\n      <th>3</th>\n      <td>864613</td>\n      <td>7638</td>\n      <td>2021-07-05</td>\n      <td>14483.0</td>\n      <td>100.0</td>\n    </tr>\n    <tr>\n      <th>6</th>\n      <td>1016458</td>\n      <td>354</td>\n      <td>2021-08-14</td>\n      <td>1672.0</td>\n      <td>25.0</td>\n    </tr>\n    <tr>\n      <th>7</th>\n      <td>884009</td>\n      <td>693</td>\n      <td>2021-08-04</td>\n      <td>703.0</td>\n      <td>14.0</td>\n    </tr>\n    <tr>\n      <th>...</th>\n      <td>...</td>\n      <td>...</td>\n      <td>...</td>\n      <td>...</td>\n      <td>...</td>\n    </tr>\n    <tr>\n      <th>5476243</th>\n      <td>497899</td>\n      <td>9629</td>\n      <td>2021-05-29</td>\n      <td>45.0</td>\n      <td>1.0</td>\n    </tr>\n    <tr>\n      <th>5476244</th>\n      <td>438585</td>\n      <td>7829</td>\n      <td>2021-08-02</td>\n      <td>6804.0</td>\n      <td>100.0</td>\n    </tr>\n    <tr>\n      <th>5476245</th>\n      <td>786732</td>\n      <td>4880</td>\n      <td>2021-05-12</td>\n      <td>753.0</td>\n      <td>0.0</td>\n    </tr>\n    <tr>\n      <th>5476247</th>\n      <td>546862</td>\n      <td>9673</td>\n      <td>2021-04-13</td>\n      <td>2308.0</td>\n      <td>49.0</td>\n    </tr>\n    <tr>\n      <th>5476249</th>\n      <td>384202</td>\n      <td>16197</td>\n      <td>2021-04-19</td>\n      <td>6203.0</td>\n      <td>100.0</td>\n    </tr>\n  </tbody>\n</table>\n<p>3316719 rows × 5 columns</p>\n</div>"
     },
     "execution_count": 35,
     "metadata": {},
     "output_type": "execute_result"
    }
   ],
   "source": [
    "interactions_df = pd.read_csv('../artifacts/data_original/interactions.csv')\n",
    "users = pd.read_csv('../artifacts/data_original/users.csv')\n",
    "items = pd.read_csv('../artifacts/data_original/items.csv')\n",
    "\n",
    "interactions_df.rename(columns={'last_watch_dt': Columns.Datetime,\n",
    "                                'total_dur': Columns.Weight}, inplace=True) \n",
    "\n",
    "# Мы хотим учитывать юзеров с 1 или двумя просмотрами, так как этого недостаточно чтобы говорить о пользователях хоть что-нибудь\n",
    "user_ids_all = interactions_df.groupby(Columns.User)[Columns.Item].nunique().reset_index(name='unique_items_count')\n",
    "hot_users = user_ids_all[user_ids_all['unique_items_count'] > 5][Columns.User]\n",
    "interactions_df_hot_users = interactions_df[interactions_df[Columns.User].isin(hot_users)]\n",
    "\n",
    "\n",
    "users = users[users[Columns.User].isin(interactions_df_hot_users[Columns.User])]\n",
    "interactions_df_hot_users = interactions_df_hot_users[interactions_df_hot_users[Columns.User].isin(users[Columns.User])]\n",
    "items = items[items[Columns.Item].isin(interactions_df_hot_users[Columns.Item])]\n",
    "\n",
    "interactions = Interactions(interactions_df_hot_users)   \n",
    "catalog = interactions.df[Columns.Item].unique()\n",
    "\n",
    "interactions.df"
   ],
   "metadata": {
    "collapsed": false,
    "ExecuteTime": {
     "end_time": "2023-12-06T10:43:27.396760136Z",
     "start_time": "2023-12-06T10:43:23.026822750Z"
    }
   },
   "id": "243031044b35d68a"
  },
  {
   "cell_type": "code",
   "execution_count": 36,
   "outputs": [
    {
     "data": {
      "text/plain": "0           176549\n1           699317\n3           864613\n6          1016458\n7           884009\n            ...   \n4189944     503172\n4196639     904576\n4226004     616289\n4228658     624995\n4481301     265537\nName: user_id, Length: 207228, dtype: int64"
     },
     "execution_count": 36,
     "metadata": {},
     "output_type": "execute_result"
    }
   ],
   "source": [
    "interactions_df_hot_users[Columns.User].drop_duplicates()"
   ],
   "metadata": {
    "collapsed": false,
    "ExecuteTime": {
     "end_time": "2023-12-06T10:43:27.473294489Z",
     "start_time": "2023-12-06T10:43:27.398355768Z"
    }
   },
   "id": "2d25c2809a61b019"
  },
  {
   "cell_type": "code",
   "execution_count": 37,
   "outputs": [
    {
     "data": {
      "text/plain": "[(Timestamp('2021-04-05 00:00:00', freq='14D'),\n  Timestamp('2021-04-19 00:00:00', freq='14D')),\n (Timestamp('2021-04-19 00:00:00', freq='14D'),\n  Timestamp('2021-05-03 00:00:00', freq='14D')),\n (Timestamp('2021-05-03 00:00:00', freq='14D'),\n  Timestamp('2021-05-17 00:00:00', freq='14D')),\n (Timestamp('2021-05-17 00:00:00', freq='14D'),\n  Timestamp('2021-05-31 00:00:00', freq='14D')),\n (Timestamp('2021-05-31 00:00:00', freq='14D'),\n  Timestamp('2021-06-14 00:00:00', freq='14D')),\n (Timestamp('2021-06-14 00:00:00', freq='14D'),\n  Timestamp('2021-06-28 00:00:00', freq='14D')),\n (Timestamp('2021-06-28 00:00:00', freq='14D'),\n  Timestamp('2021-07-12 00:00:00', freq='14D')),\n (Timestamp('2021-07-12 00:00:00', freq='14D'),\n  Timestamp('2021-07-26 00:00:00', freq='14D')),\n (Timestamp('2021-07-26 00:00:00', freq='14D'),\n  Timestamp('2021-08-09 00:00:00', freq='14D')),\n (Timestamp('2021-08-09 00:00:00', freq='14D'),\n  Timestamp('2021-08-23 00:00:00', freq='14D'))]"
     },
     "execution_count": 37,
     "metadata": {},
     "output_type": "execute_result"
    }
   ],
   "source": [
    "N_SPLITS = 10\n",
    "TEST_SIZE = '14D'\n",
    "\n",
    "cv = TimeRangeSplitter(\n",
    "    test_size=TEST_SIZE,\n",
    "    n_splits=N_SPLITS,\n",
    "    filter_already_seen=True,\n",
    "    filter_cold_items=True,\n",
    "    filter_cold_users=False,\n",
    ")\n",
    "cv.get_test_fold_borders(interactions)"
   ],
   "metadata": {
    "collapsed": false,
    "ExecuteTime": {
     "end_time": "2023-12-06T10:43:27.473545438Z",
     "start_time": "2023-12-06T10:43:27.445216847Z"
    }
   },
   "id": "ed60ede1ed59409e"
  },
  {
   "cell_type": "code",
   "execution_count": 38,
   "outputs": [],
   "source": [
    "K_RECOS = 10\n",
    "RANDOM_STATE = 42\n",
    "NUM_THREADS = 8\n",
    "N_FACTORS = 8\n",
    "NO_COMPONENTS = 16\n",
    "N_EPOCHS = 10\n",
    "LEARNING_RATE = 0.012\n",
    "RHO = 0.972\n",
    "EPSILON = 5.6 * 1e-5\n",
    "\n",
    "metrics = {\n",
    "    \"precision@10\": Precision(k=10),\n",
    "    \"accuracy@10\": Recall(k=10),\n",
    "    \"map@10\": MAP(k=10),\n",
    "    \"mrr@10\": MRR(k=10),\n",
    "    \"ndcg@10\": NDCG(k=10),\n",
    "    \"precision@5\": Precision(k=5),\n",
    "    \"accuracy@5\": Recall(k=5),\n",
    "    \"map@5\": MAP(k=5),\n",
    "    \"mrr@5\": MRR(k=5),\n",
    "    \"ndcg@5\": NDCG(k=5),\n",
    "    \"precision@1\": Precision(k=1),\n",
    "    \"accuracy@1\": Recall(k=1),\n",
    "    \"map@1\": MAP(k=1),\n",
    "    \"mrr@1\": MRR(k=1),\n",
    "    \"ndcg@1\": NDCG(k=1),\n",
    "}\n",
    "\n",
    "lightfm_losses = 'warp'\n",
    "model = LightFMWrapperModel(\n",
    "    LightFM(\n",
    "        no_components=NO_COMPONENTS, \n",
    "        loss=lightfm_losses, \n",
    "        random_state=RANDOM_STATE,\n",
    "        learning_rate=LEARNING_RATE,\n",
    "        rho=RHO,\n",
    "        epsilon=EPSILON,\n",
    "    ),\n",
    "    epochs=N_EPOCHS,\n",
    "    num_threads=NUM_THREADS,\n",
    ")"
   ],
   "metadata": {
    "collapsed": false,
    "ExecuteTime": {
     "end_time": "2023-12-06T10:43:27.475189251Z",
     "start_time": "2023-12-06T10:43:27.455655209Z"
    }
   },
   "id": "12057eb3eb2c9ea3"
  },
  {
   "cell_type": "code",
   "execution_count": 39,
   "outputs": [
    {
     "data": {
      "text/plain": "       id value feature\n1  962099     М     sex\n3  721985     Ж     sex\n4  704055     Ж     sex\n8  846063     Ж     sex\n9  401219     Ж     sex",
      "text/html": "<div>\n<style scoped>\n    .dataframe tbody tr th:only-of-type {\n        vertical-align: middle;\n    }\n\n    .dataframe tbody tr th {\n        vertical-align: top;\n    }\n\n    .dataframe thead th {\n        text-align: right;\n    }\n</style>\n<table border=\"1\" class=\"dataframe\">\n  <thead>\n    <tr style=\"text-align: right;\">\n      <th></th>\n      <th>id</th>\n      <th>value</th>\n      <th>feature</th>\n    </tr>\n  </thead>\n  <tbody>\n    <tr>\n      <th>1</th>\n      <td>962099</td>\n      <td>М</td>\n      <td>sex</td>\n    </tr>\n    <tr>\n      <th>3</th>\n      <td>721985</td>\n      <td>Ж</td>\n      <td>sex</td>\n    </tr>\n    <tr>\n      <th>4</th>\n      <td>704055</td>\n      <td>Ж</td>\n      <td>sex</td>\n    </tr>\n    <tr>\n      <th>8</th>\n      <td>846063</td>\n      <td>Ж</td>\n      <td>sex</td>\n    </tr>\n    <tr>\n      <th>9</th>\n      <td>401219</td>\n      <td>Ж</td>\n      <td>sex</td>\n    </tr>\n  </tbody>\n</table>\n</div>"
     },
     "execution_count": 39,
     "metadata": {},
     "output_type": "execute_result"
    }
   ],
   "source": [
    "user_features_frames = []\n",
    "for feature in [\"sex\", \"age\", \"income\"]:\n",
    "    feature_frame = users.reindex(columns=[Columns.User, feature])\n",
    "    feature_frame.columns = [\"id\", \"value\"]\n",
    "    feature_frame[\"feature\"] = feature\n",
    "    user_features_frames.append(feature_frame)\n",
    "user_features = pd.concat(user_features_frames)\n",
    "user_features.head()"
   ],
   "metadata": {
    "collapsed": false,
    "ExecuteTime": {
     "end_time": "2023-12-06T10:43:27.526400380Z",
     "start_time": "2023-12-06T10:43:27.458480129Z"
    }
   },
   "id": "7314cd296c89e9a6"
  },
  {
   "cell_type": "code",
   "execution_count": 40,
   "outputs": [],
   "source": [
    "items[\"genre\"] = items[\"genres\"].str.lower().str.replace(\", \", \",\", regex=False).str.split(\",\")\n",
    "genre_feature = items[[\"item_id\", \"genre\"]].explode(\"genre\")\n",
    "genre_feature.columns = [\"id\", \"value\"]\n",
    "genre_feature[\"feature\"] = \"genre\"\n",
    "genre_feature.head()\n",
    "\n",
    "content_feature = items.reindex(columns=[Columns.Item, \"content_type\"])\n",
    "content_feature.columns = [\"id\", \"value\"]\n",
    "content_feature[\"feature\"] = \"content_type\"\n",
    "\n",
    "item_features = pd.concat((genre_feature, content_feature))"
   ],
   "metadata": {
    "collapsed": false,
    "ExecuteTime": {
     "end_time": "2023-12-06T10:43:27.571767698Z",
     "start_time": "2023-12-06T10:43:27.502881961Z"
    }
   },
   "id": "7b5d9e3f7eb2e273"
  },
  {
   "cell_type": "code",
   "execution_count": 40,
   "outputs": [],
   "source": [],
   "metadata": {
    "collapsed": false,
    "ExecuteTime": {
     "end_time": "2023-12-06T10:43:27.571927516Z",
     "start_time": "2023-12-06T10:43:27.546913161Z"
    }
   },
   "id": "1ddd2e54070b610c"
  },
  {
   "cell_type": "code",
   "execution_count": 41,
   "outputs": [
    {
     "name": "stderr",
     "output_type": "stream",
     "text": [
      "100%|██████████| 10/10 [05:11<00:00, 31.18s/it]"
     ]
    },
    {
     "name": "stdout",
     "output_type": "stream",
     "text": [
      "CPU times: user 39min 41s, sys: 15 ms, total: 39min 41s\n",
      "Wall time: 5min 11s\n"
     ]
    },
    {
     "name": "stderr",
     "output_type": "stream",
     "text": [
      "\n"
     ]
    }
   ],
   "source": [
    "%%time\n",
    "    \n",
    "cv.get_test_fold_borders(interactions)\n",
    "\n",
    "results = []\n",
    "\n",
    "fold_iterator = cv.split(interactions, collect_fold_stats=True)\n",
    "\n",
    "for train_ids, test_ids, fold_info in tqdm((fold_iterator), total=cv.n_splits):\n",
    "    df_train = interactions.df.iloc[train_ids]\n",
    "    df_test = interactions.df[Columns.UserItem]\n",
    "    test_users = np.unique(df_test[Columns.User])\n",
    "    \n",
    "    catalog = interactions.df[Columns.Item].unique()\n",
    "    \n",
    "    user_features_train = user_features[user_features[\"id\"].isin(interactions.df[Columns.User])]\n",
    "    item_features_train = item_features[item_features[\"id\"].isin(interactions.df[Columns.Item])]    \n",
    "\n",
    "    dataset = Dataset.construct(\n",
    "        interactions_df=interactions.df,\n",
    "        user_features_df=user_features,\n",
    "        cat_user_features=[\"sex\", \"age\", \"income\"],\n",
    "        item_features_df=item_features,\n",
    "        cat_item_features=[\"genre\", \"content_type\"],\n",
    "    )\n",
    "    \n",
    "    model.fit(dataset)"
   ],
   "metadata": {
    "collapsed": false,
    "ExecuteTime": {
     "end_time": "2023-12-06T10:48:39.320349320Z",
     "start_time": "2023-12-06T10:43:27.547143482Z"
    }
   },
   "id": "f6b2779cbda61cf6"
  },
  {
   "cell_type": "code",
   "execution_count": 42,
   "outputs": [],
   "source": [
    "with open(f\"../artifacts/task4_cropped5_experiment_LFM.pkl\", \"wb\") as file:\n",
    "    pickle.dump(model, file)"
   ],
   "metadata": {
    "collapsed": false,
    "ExecuteTime": {
     "end_time": "2023-12-06T10:48:39.369630067Z",
     "start_time": "2023-12-06T10:48:39.321818765Z"
    }
   },
   "id": "15037519ce87b8e5"
  },
  {
   "cell_type": "code",
   "execution_count": 46,
   "outputs": [
    {
     "data": {
      "text/plain": "   user_id  item_id       score  rank\n0     3721    10440 -135.853378     1\n1     3721    13865 -135.976929     2\n2     3721    15297 -136.082047     3\n3     3721     4151 -136.146973     4\n4     3721     4880 -136.153809     5\n5     3721     3734 -136.399200     6\n6     3721     7829 -136.466263     7\n7     3721     9996 -136.660400     8\n8     3721    12192 -136.680435     9\n9     3721    11237 -136.754456    10",
      "text/html": "<div>\n<style scoped>\n    .dataframe tbody tr th:only-of-type {\n        vertical-align: middle;\n    }\n\n    .dataframe tbody tr th {\n        vertical-align: top;\n    }\n\n    .dataframe thead th {\n        text-align: right;\n    }\n</style>\n<table border=\"1\" class=\"dataframe\">\n  <thead>\n    <tr style=\"text-align: right;\">\n      <th></th>\n      <th>user_id</th>\n      <th>item_id</th>\n      <th>score</th>\n      <th>rank</th>\n    </tr>\n  </thead>\n  <tbody>\n    <tr>\n      <th>0</th>\n      <td>3721</td>\n      <td>10440</td>\n      <td>-135.853378</td>\n      <td>1</td>\n    </tr>\n    <tr>\n      <th>1</th>\n      <td>3721</td>\n      <td>13865</td>\n      <td>-135.976929</td>\n      <td>2</td>\n    </tr>\n    <tr>\n      <th>2</th>\n      <td>3721</td>\n      <td>15297</td>\n      <td>-136.082047</td>\n      <td>3</td>\n    </tr>\n    <tr>\n      <th>3</th>\n      <td>3721</td>\n      <td>4151</td>\n      <td>-136.146973</td>\n      <td>4</td>\n    </tr>\n    <tr>\n      <th>4</th>\n      <td>3721</td>\n      <td>4880</td>\n      <td>-136.153809</td>\n      <td>5</td>\n    </tr>\n    <tr>\n      <th>5</th>\n      <td>3721</td>\n      <td>3734</td>\n      <td>-136.399200</td>\n      <td>6</td>\n    </tr>\n    <tr>\n      <th>6</th>\n      <td>3721</td>\n      <td>7829</td>\n      <td>-136.466263</td>\n      <td>7</td>\n    </tr>\n    <tr>\n      <th>7</th>\n      <td>3721</td>\n      <td>9996</td>\n      <td>-136.660400</td>\n      <td>8</td>\n    </tr>\n    <tr>\n      <th>8</th>\n      <td>3721</td>\n      <td>12192</td>\n      <td>-136.680435</td>\n      <td>9</td>\n    </tr>\n    <tr>\n      <th>9</th>\n      <td>3721</td>\n      <td>11237</td>\n      <td>-136.754456</td>\n      <td>10</td>\n    </tr>\n  </tbody>\n</table>\n</div>"
     },
     "execution_count": 46,
     "metadata": {},
     "output_type": "execute_result"
    }
   ],
   "source": [
    "with open(\"../artifacts/task4_cropped5_experiment_LightFM.pkl\", \"rb\") as file:\n",
    "    model_1 = pickle.load(file)\n",
    "\n",
    "dataset = Dataset.construct(\n",
    "        interactions_df=interactions.df,\n",
    "        user_features_df=user_features,\n",
    "        cat_user_features=[\"sex\", \"age\", \"income\"],\n",
    "        item_features_df=item_features,\n",
    "        cat_item_features=[\"genre\", \"content_type\"],\n",
    ")\n",
    "\n",
    "recos = model.recommend(\n",
    "    users=[3721],\n",
    "    dataset=dataset,\n",
    "    k=K_RECOS,\n",
    "    filter_viewed=True,\n",
    ")\n",
    "    \n",
    "recos"
   ],
   "metadata": {
    "collapsed": false,
    "ExecuteTime": {
     "end_time": "2023-12-06T10:53:42.350011583Z",
     "start_time": "2023-12-06T10:53:41.951637318Z"
    }
   },
   "id": "c381db289204f271"
  },
  {
   "cell_type": "code",
   "execution_count": null,
   "outputs": [],
   "source": [],
   "metadata": {
    "collapsed": false
   },
   "id": "37fe1a58b86c55e3"
  }
 ],
 "metadata": {
  "kernelspec": {
   "display_name": "Python 3",
   "language": "python",
   "name": "python3"
  },
  "language_info": {
   "codemirror_mode": {
    "name": "ipython",
    "version": 2
   },
   "file_extension": ".py",
   "mimetype": "text/x-python",
   "name": "python",
   "nbconvert_exporter": "python",
   "pygments_lexer": "ipython2",
   "version": "2.7.6"
  }
 },
 "nbformat": 4,
 "nbformat_minor": 5
}
