{
 "cells": [
  {
   "cell_type": "code",
   "execution_count": 29,
   "id": "initial_id",
   "metadata": {
    "collapsed": true,
    "ExecuteTime": {
     "end_time": "2023-12-05T16:32:51.671939187Z",
     "start_time": "2023-12-05T16:32:51.569150639Z"
    }
   },
   "outputs": [],
   "source": [
    "import pickle\n",
    "import numpy as np\n",
    "import pandas as pd\n",
    "from implicit.bpr import BayesianPersonalizedRanking\n",
    "from rectools.dataset import Interactions, Dataset\n",
    "from rectools.model_selection import TimeRangeSplitter\n",
    "from rectools.metrics import MAP, MeanInvUserFreq, calc_metrics, MRR, NDCG\n",
    "\n",
    "from implicit.als import AlternatingLeastSquares\n",
    "\n",
    "from rectools.metrics import Precision, Recall, MAP, calc_metrics\n",
    "from rectools import Columns\n",
    "from rectools.dataset import Dataset\n",
    "from rectools.models import ImplicitALSWrapperModel, LightFMWrapperModel, PopularModel\n",
    "from tqdm import tqdm\n",
    "\n",
    "from lightfm import LightFM"
   ]
  },
  {
   "cell_type": "code",
   "execution_count": 30,
   "outputs": [
    {
     "data": {
      "text/plain": "         user_id  item_id   datetime  weight  watched_pct\n0         176549     9506 2021-05-11  4250.0         72.0\n1         699317     1659 2021-05-29  8317.0        100.0\n6        1016458      354 2021-08-14  1672.0         25.0\n14          5324     8437 2021-04-18  6598.0         92.0\n18        927973     9617 2021-06-19  8422.0        100.0\n...          ...      ...        ...     ...          ...\n5476213   706423     3384 2021-03-13  5937.0        100.0\n5476223   489587     6945 2021-05-18   229.0          4.0\n5476226   435089    13475 2021-07-06  4624.0         85.0\n5476239   610017     7107 2021-05-10  1133.0         75.0\n5476249   384202    16197 2021-04-19  6203.0        100.0\n\n[1612379 rows x 5 columns]",
      "text/html": "<div>\n<style scoped>\n    .dataframe tbody tr th:only-of-type {\n        vertical-align: middle;\n    }\n\n    .dataframe tbody tr th {\n        vertical-align: top;\n    }\n\n    .dataframe thead th {\n        text-align: right;\n    }\n</style>\n<table border=\"1\" class=\"dataframe\">\n  <thead>\n    <tr style=\"text-align: right;\">\n      <th></th>\n      <th>user_id</th>\n      <th>item_id</th>\n      <th>datetime</th>\n      <th>weight</th>\n      <th>watched_pct</th>\n    </tr>\n  </thead>\n  <tbody>\n    <tr>\n      <th>0</th>\n      <td>176549</td>\n      <td>9506</td>\n      <td>2021-05-11</td>\n      <td>4250.0</td>\n      <td>72.0</td>\n    </tr>\n    <tr>\n      <th>1</th>\n      <td>699317</td>\n      <td>1659</td>\n      <td>2021-05-29</td>\n      <td>8317.0</td>\n      <td>100.0</td>\n    </tr>\n    <tr>\n      <th>6</th>\n      <td>1016458</td>\n      <td>354</td>\n      <td>2021-08-14</td>\n      <td>1672.0</td>\n      <td>25.0</td>\n    </tr>\n    <tr>\n      <th>14</th>\n      <td>5324</td>\n      <td>8437</td>\n      <td>2021-04-18</td>\n      <td>6598.0</td>\n      <td>92.0</td>\n    </tr>\n    <tr>\n      <th>18</th>\n      <td>927973</td>\n      <td>9617</td>\n      <td>2021-06-19</td>\n      <td>8422.0</td>\n      <td>100.0</td>\n    </tr>\n    <tr>\n      <th>...</th>\n      <td>...</td>\n      <td>...</td>\n      <td>...</td>\n      <td>...</td>\n      <td>...</td>\n    </tr>\n    <tr>\n      <th>5476213</th>\n      <td>706423</td>\n      <td>3384</td>\n      <td>2021-03-13</td>\n      <td>5937.0</td>\n      <td>100.0</td>\n    </tr>\n    <tr>\n      <th>5476223</th>\n      <td>489587</td>\n      <td>6945</td>\n      <td>2021-05-18</td>\n      <td>229.0</td>\n      <td>4.0</td>\n    </tr>\n    <tr>\n      <th>5476226</th>\n      <td>435089</td>\n      <td>13475</td>\n      <td>2021-07-06</td>\n      <td>4624.0</td>\n      <td>85.0</td>\n    </tr>\n    <tr>\n      <th>5476239</th>\n      <td>610017</td>\n      <td>7107</td>\n      <td>2021-05-10</td>\n      <td>1133.0</td>\n      <td>75.0</td>\n    </tr>\n    <tr>\n      <th>5476249</th>\n      <td>384202</td>\n      <td>16197</td>\n      <td>2021-04-19</td>\n      <td>6203.0</td>\n      <td>100.0</td>\n    </tr>\n  </tbody>\n</table>\n<p>1612379 rows × 5 columns</p>\n</div>"
     },
     "execution_count": 30,
     "metadata": {},
     "output_type": "execute_result"
    }
   ],
   "source": [
    "interactions_df = pd.read_csv('../artifacts/data_original/interactions.csv')\n",
    "users = pd.read_csv('../artifacts/data_original/users.csv')\n",
    "items = pd.read_csv('../artifacts/data_original/items.csv')\n",
    "\n",
    "interactions_df.rename(columns={'last_watch_dt': Columns.Datetime,\n",
    "                                'total_dur': Columns.Weight}, inplace=True) \n",
    "\n",
    "# Мы хотим учитывать юзеров с 1 или двумя просмотрами, так как этого недостаточно чтобы говорить о пользователях хоть что-нибудь\n",
    "user_ids_all = interactions_df.groupby(Columns.User)[Columns.Item].nunique().reset_index(name='unique_items_count')\n",
    "hot_users = user_ids_all[user_ids_all['unique_items_count'] > 20][Columns.User]\n",
    "interactions_df_hot_users = interactions_df[interactions_df[Columns.User].isin(hot_users)]\n",
    "\n",
    "\n",
    "users = users[users[Columns.User].isin(interactions_df_hot_users[Columns.User])]\n",
    "interactions_df_hot_users = interactions_df_hot_users[interactions_df_hot_users[Columns.User].isin(users[Columns.User])]\n",
    "items = items[items[Columns.Item].isin(interactions_df_hot_users[Columns.Item])]\n",
    "\n",
    "interactions = Interactions(interactions_df_hot_users)   \n",
    "catalog = interactions.df[Columns.Item].unique()\n",
    "\n",
    "interactions.df"
   ],
   "metadata": {
    "collapsed": false,
    "ExecuteTime": {
     "end_time": "2023-12-05T16:32:55.612540189Z",
     "start_time": "2023-12-05T16:32:51.613088145Z"
    }
   },
   "id": "243031044b35d68a"
  },
  {
   "cell_type": "code",
   "execution_count": 31,
   "outputs": [
    {
     "data": {
      "text/plain": "         user_id  item_id   datetime  weight  watched_pct\n0         176549     9506 2021-05-11  4250.0         72.0\n1         699317     1659 2021-05-29  8317.0        100.0\n6        1016458      354 2021-08-14  1672.0         25.0\n14          5324     8437 2021-04-18  6598.0         92.0\n18        927973     9617 2021-06-19  8422.0        100.0\n...          ...      ...        ...     ...          ...\n5476213   706423     3384 2021-03-13  5937.0        100.0\n5476223   489587     6945 2021-05-18   229.0          4.0\n5476226   435089    13475 2021-07-06  4624.0         85.0\n5476239   610017     7107 2021-05-10  1133.0         75.0\n5476249   384202    16197 2021-04-19  6203.0        100.0\n\n[1612379 rows x 5 columns]",
      "text/html": "<div>\n<style scoped>\n    .dataframe tbody tr th:only-of-type {\n        vertical-align: middle;\n    }\n\n    .dataframe tbody tr th {\n        vertical-align: top;\n    }\n\n    .dataframe thead th {\n        text-align: right;\n    }\n</style>\n<table border=\"1\" class=\"dataframe\">\n  <thead>\n    <tr style=\"text-align: right;\">\n      <th></th>\n      <th>user_id</th>\n      <th>item_id</th>\n      <th>datetime</th>\n      <th>weight</th>\n      <th>watched_pct</th>\n    </tr>\n  </thead>\n  <tbody>\n    <tr>\n      <th>0</th>\n      <td>176549</td>\n      <td>9506</td>\n      <td>2021-05-11</td>\n      <td>4250.0</td>\n      <td>72.0</td>\n    </tr>\n    <tr>\n      <th>1</th>\n      <td>699317</td>\n      <td>1659</td>\n      <td>2021-05-29</td>\n      <td>8317.0</td>\n      <td>100.0</td>\n    </tr>\n    <tr>\n      <th>6</th>\n      <td>1016458</td>\n      <td>354</td>\n      <td>2021-08-14</td>\n      <td>1672.0</td>\n      <td>25.0</td>\n    </tr>\n    <tr>\n      <th>14</th>\n      <td>5324</td>\n      <td>8437</td>\n      <td>2021-04-18</td>\n      <td>6598.0</td>\n      <td>92.0</td>\n    </tr>\n    <tr>\n      <th>18</th>\n      <td>927973</td>\n      <td>9617</td>\n      <td>2021-06-19</td>\n      <td>8422.0</td>\n      <td>100.0</td>\n    </tr>\n    <tr>\n      <th>...</th>\n      <td>...</td>\n      <td>...</td>\n      <td>...</td>\n      <td>...</td>\n      <td>...</td>\n    </tr>\n    <tr>\n      <th>5476213</th>\n      <td>706423</td>\n      <td>3384</td>\n      <td>2021-03-13</td>\n      <td>5937.0</td>\n      <td>100.0</td>\n    </tr>\n    <tr>\n      <th>5476223</th>\n      <td>489587</td>\n      <td>6945</td>\n      <td>2021-05-18</td>\n      <td>229.0</td>\n      <td>4.0</td>\n    </tr>\n    <tr>\n      <th>5476226</th>\n      <td>435089</td>\n      <td>13475</td>\n      <td>2021-07-06</td>\n      <td>4624.0</td>\n      <td>85.0</td>\n    </tr>\n    <tr>\n      <th>5476239</th>\n      <td>610017</td>\n      <td>7107</td>\n      <td>2021-05-10</td>\n      <td>1133.0</td>\n      <td>75.0</td>\n    </tr>\n    <tr>\n      <th>5476249</th>\n      <td>384202</td>\n      <td>16197</td>\n      <td>2021-04-19</td>\n      <td>6203.0</td>\n      <td>100.0</td>\n    </tr>\n  </tbody>\n</table>\n<p>1612379 rows × 5 columns</p>\n</div>"
     },
     "execution_count": 31,
     "metadata": {},
     "output_type": "execute_result"
    }
   ],
   "source": [
    "interactions_df_hot_users"
   ],
   "metadata": {
    "collapsed": false,
    "ExecuteTime": {
     "end_time": "2023-12-05T16:32:55.615730551Z",
     "start_time": "2023-12-05T16:32:55.611563509Z"
    }
   },
   "id": "c632d148ba639864"
  },
  {
   "cell_type": "code",
   "execution_count": 32,
   "outputs": [
    {
     "data": {
      "text/plain": "       item_id content_type                 title      title_orig  \\\n0        10711         film        Поговори с ней  Hable con ella   \n1         2508         film           Голые перцы    Search Party   \n2        10716         film      Тактическая сила  Tactical Force   \n3         7868         film                45 лет        45 Years   \n4        16268         film  Все решает мгновение             NaN   \n...        ...          ...                   ...             ...   \n15958     6443       series         Полярный круг   Arctic Circle   \n15959     2367       series               Надежда             NaN   \n15960    10632       series                Сговор          Hassel   \n15961     4538       series          Среди камней      Darklands    \n15962     3206       series                  Гоша             NaN   \n\n       release_year                                            genres  \\\n0            2002.0           драмы, зарубежные, детективы, мелодрамы   \n1            2014.0                  зарубежные, приключения, комедии   \n2            2011.0  криминал, зарубежные, триллеры, боевики, комедии   \n3            2015.0                      драмы, зарубежные, мелодрамы   \n4            1978.0                драмы, спорт, советские, мелодрамы   \n...             ...                                               ...   \n15958        2018.0                         драмы, триллеры, криминал   \n15959        2020.0                                    драмы, боевики   \n15960        2017.0                         драмы, триллеры, криминал   \n15961        2019.0                            драмы, спорт, криминал   \n15962        2019.0                                           комедии   \n\n                 countries  for_kids  age_rating   studios  \\\n0                  Испания       NaN        16.0       NaN   \n1                      США       NaN        16.0       NaN   \n2                   Канада       NaN        16.0       NaN   \n3           Великобритания       NaN        16.0       NaN   \n4                     СССР       NaN        12.0  Ленфильм   \n...                    ...       ...         ...       ...   \n15958  Финляндия, Германия       NaN        16.0       NaN   \n15959               Россия       0.0        18.0       NaN   \n15960               Россия       0.0        18.0       NaN   \n15961               Россия       0.0        18.0       NaN   \n15962               Россия       0.0        16.0       NaN   \n\n                                   directors  \\\n0                           Педро Альмодовар   \n1                             Скот Армстронг   \n2                           Адам П. Калтраро   \n3                                  Эндрю Хэй   \n4                           Виктор Садовский   \n...                                      ...   \n15958                          Ханну Салонен   \n15959                         Елена Хазанова   \n15960  Эшреф Рейбрук, Амир Камдин, Эрик Эгер   \n15961          Марк О’Коннор, Конор МакМахон   \n15962                         Михаил Миронов   \n\n                                                  actors  \\\n0      Адольфо Фернандес, Ана Фернандес, Дарио Гранди...   \n1      Адам Палли, Брайан Хаски, Дж.Б. Смув, Джейсон ...   \n2      Адриан Холмс, Даррен Шалави, Джерри Вассерман,...   \n3      Александра Риддлстон-Барретт, Джеральдин Джейм...   \n4      Александр Абдулов, Александр Демьяненко, Алекс...   \n...                                                  ...   \n15958  Иина Куустонен, Максимилиан Брюкнер, Пихла Вии...   \n15959  Виктория Исакова, Александр Кузьмин, Алексей М...   \n15960  Ола Рапас, Алиетт Офейм, Уильма Лиден, Шанти Р...   \n15961  Дэйн Уайт О’Хара, Томас Кэйн-Бирн, Джудит Родд...   \n15962                 Мкртыч Арзуманян, Виктория Рунцова   \n\n                                             description  \\\n0      Мелодрама легендарного Педро Альмодовара «Пого...   \n1      Уморительная современная комедия на популярную...   \n2      Профессиональный рестлер Стив Остин («Все или ...   \n3      Шарлотта Рэмплинг, Том Кортни, Джеральдин Джей...   \n4      Расчетливая чаровница из советского кинохита «...   \n...                                                  ...   \n15958  Во время погони за браконьерами по лесу, сотру...   \n15959  Оригинальный киносериал от создателей «Бывших»...   \n15960  Криминальная драма по мотивам романов о шведск...   \n15961  Семнадцатилетний Дэмиен мечтает вырваться за п...   \n15962  Добродушный Гоша не может выйти из дома, чтобы...   \n\n                                                keywords  \n0      Поговори, ней, 2002, Испания, друзья, любовь, ...  \n1      Голые, перцы, 2014, США, друзья, свадьбы, прео...  \n2      Тактическая, сила, 2011, Канада, бандиты, ганг...  \n3      45, лет, 2015, Великобритания, брак, жизнь, лю...  \n4      Все, решает, мгновение, 1978, СССР, сильные, ж...  \n...                                                  ...  \n15958  убийство, вирус, расследование преступления, н...  \n15959                              Надежда, 2020, Россия  \n15960                               Сговор, 2017, Россия  \n15961                        Среди, камней, 2019, Россия  \n15962                                 Гоша, 2019, Россия  \n\n[13823 rows x 14 columns]",
      "text/html": "<div>\n<style scoped>\n    .dataframe tbody tr th:only-of-type {\n        vertical-align: middle;\n    }\n\n    .dataframe tbody tr th {\n        vertical-align: top;\n    }\n\n    .dataframe thead th {\n        text-align: right;\n    }\n</style>\n<table border=\"1\" class=\"dataframe\">\n  <thead>\n    <tr style=\"text-align: right;\">\n      <th></th>\n      <th>item_id</th>\n      <th>content_type</th>\n      <th>title</th>\n      <th>title_orig</th>\n      <th>release_year</th>\n      <th>genres</th>\n      <th>countries</th>\n      <th>for_kids</th>\n      <th>age_rating</th>\n      <th>studios</th>\n      <th>directors</th>\n      <th>actors</th>\n      <th>description</th>\n      <th>keywords</th>\n    </tr>\n  </thead>\n  <tbody>\n    <tr>\n      <th>0</th>\n      <td>10711</td>\n      <td>film</td>\n      <td>Поговори с ней</td>\n      <td>Hable con ella</td>\n      <td>2002.0</td>\n      <td>драмы, зарубежные, детективы, мелодрамы</td>\n      <td>Испания</td>\n      <td>NaN</td>\n      <td>16.0</td>\n      <td>NaN</td>\n      <td>Педро Альмодовар</td>\n      <td>Адольфо Фернандес, Ана Фернандес, Дарио Гранди...</td>\n      <td>Мелодрама легендарного Педро Альмодовара «Пого...</td>\n      <td>Поговори, ней, 2002, Испания, друзья, любовь, ...</td>\n    </tr>\n    <tr>\n      <th>1</th>\n      <td>2508</td>\n      <td>film</td>\n      <td>Голые перцы</td>\n      <td>Search Party</td>\n      <td>2014.0</td>\n      <td>зарубежные, приключения, комедии</td>\n      <td>США</td>\n      <td>NaN</td>\n      <td>16.0</td>\n      <td>NaN</td>\n      <td>Скот Армстронг</td>\n      <td>Адам Палли, Брайан Хаски, Дж.Б. Смув, Джейсон ...</td>\n      <td>Уморительная современная комедия на популярную...</td>\n      <td>Голые, перцы, 2014, США, друзья, свадьбы, прео...</td>\n    </tr>\n    <tr>\n      <th>2</th>\n      <td>10716</td>\n      <td>film</td>\n      <td>Тактическая сила</td>\n      <td>Tactical Force</td>\n      <td>2011.0</td>\n      <td>криминал, зарубежные, триллеры, боевики, комедии</td>\n      <td>Канада</td>\n      <td>NaN</td>\n      <td>16.0</td>\n      <td>NaN</td>\n      <td>Адам П. Калтраро</td>\n      <td>Адриан Холмс, Даррен Шалави, Джерри Вассерман,...</td>\n      <td>Профессиональный рестлер Стив Остин («Все или ...</td>\n      <td>Тактическая, сила, 2011, Канада, бандиты, ганг...</td>\n    </tr>\n    <tr>\n      <th>3</th>\n      <td>7868</td>\n      <td>film</td>\n      <td>45 лет</td>\n      <td>45 Years</td>\n      <td>2015.0</td>\n      <td>драмы, зарубежные, мелодрамы</td>\n      <td>Великобритания</td>\n      <td>NaN</td>\n      <td>16.0</td>\n      <td>NaN</td>\n      <td>Эндрю Хэй</td>\n      <td>Александра Риддлстон-Барретт, Джеральдин Джейм...</td>\n      <td>Шарлотта Рэмплинг, Том Кортни, Джеральдин Джей...</td>\n      <td>45, лет, 2015, Великобритания, брак, жизнь, лю...</td>\n    </tr>\n    <tr>\n      <th>4</th>\n      <td>16268</td>\n      <td>film</td>\n      <td>Все решает мгновение</td>\n      <td>NaN</td>\n      <td>1978.0</td>\n      <td>драмы, спорт, советские, мелодрамы</td>\n      <td>СССР</td>\n      <td>NaN</td>\n      <td>12.0</td>\n      <td>Ленфильм</td>\n      <td>Виктор Садовский</td>\n      <td>Александр Абдулов, Александр Демьяненко, Алекс...</td>\n      <td>Расчетливая чаровница из советского кинохита «...</td>\n      <td>Все, решает, мгновение, 1978, СССР, сильные, ж...</td>\n    </tr>\n    <tr>\n      <th>...</th>\n      <td>...</td>\n      <td>...</td>\n      <td>...</td>\n      <td>...</td>\n      <td>...</td>\n      <td>...</td>\n      <td>...</td>\n      <td>...</td>\n      <td>...</td>\n      <td>...</td>\n      <td>...</td>\n      <td>...</td>\n      <td>...</td>\n      <td>...</td>\n    </tr>\n    <tr>\n      <th>15958</th>\n      <td>6443</td>\n      <td>series</td>\n      <td>Полярный круг</td>\n      <td>Arctic Circle</td>\n      <td>2018.0</td>\n      <td>драмы, триллеры, криминал</td>\n      <td>Финляндия, Германия</td>\n      <td>NaN</td>\n      <td>16.0</td>\n      <td>NaN</td>\n      <td>Ханну Салонен</td>\n      <td>Иина Куустонен, Максимилиан Брюкнер, Пихла Вии...</td>\n      <td>Во время погони за браконьерами по лесу, сотру...</td>\n      <td>убийство, вирус, расследование преступления, н...</td>\n    </tr>\n    <tr>\n      <th>15959</th>\n      <td>2367</td>\n      <td>series</td>\n      <td>Надежда</td>\n      <td>NaN</td>\n      <td>2020.0</td>\n      <td>драмы, боевики</td>\n      <td>Россия</td>\n      <td>0.0</td>\n      <td>18.0</td>\n      <td>NaN</td>\n      <td>Елена Хазанова</td>\n      <td>Виктория Исакова, Александр Кузьмин, Алексей М...</td>\n      <td>Оригинальный киносериал от создателей «Бывших»...</td>\n      <td>Надежда, 2020, Россия</td>\n    </tr>\n    <tr>\n      <th>15960</th>\n      <td>10632</td>\n      <td>series</td>\n      <td>Сговор</td>\n      <td>Hassel</td>\n      <td>2017.0</td>\n      <td>драмы, триллеры, криминал</td>\n      <td>Россия</td>\n      <td>0.0</td>\n      <td>18.0</td>\n      <td>NaN</td>\n      <td>Эшреф Рейбрук, Амир Камдин, Эрик Эгер</td>\n      <td>Ола Рапас, Алиетт Офейм, Уильма Лиден, Шанти Р...</td>\n      <td>Криминальная драма по мотивам романов о шведск...</td>\n      <td>Сговор, 2017, Россия</td>\n    </tr>\n    <tr>\n      <th>15961</th>\n      <td>4538</td>\n      <td>series</td>\n      <td>Среди камней</td>\n      <td>Darklands</td>\n      <td>2019.0</td>\n      <td>драмы, спорт, криминал</td>\n      <td>Россия</td>\n      <td>0.0</td>\n      <td>18.0</td>\n      <td>NaN</td>\n      <td>Марк О’Коннор, Конор МакМахон</td>\n      <td>Дэйн Уайт О’Хара, Томас Кэйн-Бирн, Джудит Родд...</td>\n      <td>Семнадцатилетний Дэмиен мечтает вырваться за п...</td>\n      <td>Среди, камней, 2019, Россия</td>\n    </tr>\n    <tr>\n      <th>15962</th>\n      <td>3206</td>\n      <td>series</td>\n      <td>Гоша</td>\n      <td>NaN</td>\n      <td>2019.0</td>\n      <td>комедии</td>\n      <td>Россия</td>\n      <td>0.0</td>\n      <td>16.0</td>\n      <td>NaN</td>\n      <td>Михаил Миронов</td>\n      <td>Мкртыч Арзуманян, Виктория Рунцова</td>\n      <td>Добродушный Гоша не может выйти из дома, чтобы...</td>\n      <td>Гоша, 2019, Россия</td>\n    </tr>\n  </tbody>\n</table>\n<p>13823 rows × 14 columns</p>\n</div>"
     },
     "execution_count": 32,
     "metadata": {},
     "output_type": "execute_result"
    }
   ],
   "source": [
    "items"
   ],
   "metadata": {
    "collapsed": false,
    "ExecuteTime": {
     "end_time": "2023-12-05T16:32:55.628926279Z",
     "start_time": "2023-12-05T16:32:55.614788061Z"
    }
   },
   "id": "a850ce5877d49e3e"
  },
  {
   "cell_type": "code",
   "execution_count": 33,
   "outputs": [
    {
     "data": {
      "text/plain": "[(Timestamp('2021-08-09 00:00:00', freq='14D'),\n  Timestamp('2021-08-23 00:00:00', freq='14D'))]"
     },
     "execution_count": 33,
     "metadata": {},
     "output_type": "execute_result"
    }
   ],
   "source": [
    "N_SPLITS = 1\n",
    "TEST_SIZE = '14D'\n",
    "\n",
    "cv = TimeRangeSplitter(\n",
    "    test_size=TEST_SIZE,\n",
    "    n_splits=N_SPLITS,\n",
    "    filter_already_seen=True,\n",
    "    filter_cold_items=True,\n",
    "    filter_cold_users=True,\n",
    ")\n",
    "cv.get_test_fold_borders(interactions)"
   ],
   "metadata": {
    "collapsed": false,
    "ExecuteTime": {
     "end_time": "2023-12-05T16:32:55.661358284Z",
     "start_time": "2023-12-05T16:32:55.627428302Z"
    }
   },
   "id": "ed60ede1ed59409e"
  },
  {
   "cell_type": "code",
   "execution_count": 34,
   "outputs": [],
   "source": [
    "K_RECOS = 10\n",
    "RANDOM_STATE = 42\n",
    "NUM_THREADS = 8\n",
    "N_FACTORS = (4,)\n",
    "N_EPOCHS = 1 # Lightfm\n",
    "LEARNING_RATE = 0.001 # Lightfm\n",
    "\n",
    "metrics = {\n",
    "    \"precision@10\": Precision(k=10),\n",
    "    \"accuracy@10\": Recall(k=10),\n",
    "    \"map@10\": MAP(k=10),\n",
    "    \"mrr@10\": MRR(k=10),\n",
    "    \"ndcg@10\": NDCG(k=10),\n",
    "    \"precision@5\": Precision(k=5),\n",
    "    \"accuracy@5\": Recall(k=5),\n",
    "    \"map@5\": MAP(k=5),\n",
    "    \"mrr@5\": MRR(k=5),\n",
    "    \"ndcg@5\": NDCG(k=5),\n",
    "    \"precision@1\": Precision(k=1),\n",
    "    \"accuracy@1\": Recall(k=1),\n",
    "    \"map@1\": MAP(k=1),\n",
    "    \"mrr@1\": MRR(k=1),\n",
    "    \"ndcg@1\": NDCG(k=1),\n",
    "}\n",
    "\n",
    "models = {\n",
    "    # \"popular\": PopularModel(),\n",
    "}\n",
    "\n",
    "implicit_models = {\n",
    "    'ALS': AlternatingLeastSquares,\n",
    "    # 'BPR': BayesianPersonalizedRanking,\n",
    "}\n",
    "for implicit_name, implicit_model in implicit_models.items():\n",
    "    for n_factors in N_FACTORS:\n",
    "        models[f\"{implicit_name}_{n_factors}\"] = ImplicitALSWrapperModel(\n",
    "            model=implicit_model(\n",
    "                factors=n_factors, \n",
    "                random_state=RANDOM_STATE, \n",
    "                num_threads=NUM_THREADS\n",
    "            )\n",
    "        )\n",
    "\n",
    "lightfm_losses = ('logistic', 'bpr', 'warp')\n",
    "\n",
    "for loss in lightfm_losses:\n",
    "    for n_factors in N_FACTORS:\n",
    "        models[f\"LightFM_{loss}_{n_factors}\"] = LightFMWrapperModel(\n",
    "            LightFM(\n",
    "                no_components=n_factors, \n",
    "                loss=loss, \n",
    "                random_state=RANDOM_STATE,\n",
    "            ),\n",
    "            epochs=10,\n",
    "            num_threads=NUM_THREADS,\n",
    "        )"
   ],
   "metadata": {
    "collapsed": false,
    "ExecuteTime": {
     "end_time": "2023-12-05T16:32:55.795677822Z",
     "start_time": "2023-12-05T16:32:55.638177951Z"
    }
   },
   "id": "12057eb3eb2c9ea3"
  },
  {
   "cell_type": "code",
   "execution_count": 35,
   "outputs": [
    {
     "data": {
      "text/plain": "         id value feature\n24   269408     Ж     sex\n27   384532     М     sex\n66   216495     М     sex\n81   515668     М     sex\n136  824452     М     sex",
      "text/html": "<div>\n<style scoped>\n    .dataframe tbody tr th:only-of-type {\n        vertical-align: middle;\n    }\n\n    .dataframe tbody tr th {\n        vertical-align: top;\n    }\n\n    .dataframe thead th {\n        text-align: right;\n    }\n</style>\n<table border=\"1\" class=\"dataframe\">\n  <thead>\n    <tr style=\"text-align: right;\">\n      <th></th>\n      <th>id</th>\n      <th>value</th>\n      <th>feature</th>\n    </tr>\n  </thead>\n  <tbody>\n    <tr>\n      <th>24</th>\n      <td>269408</td>\n      <td>Ж</td>\n      <td>sex</td>\n    </tr>\n    <tr>\n      <th>27</th>\n      <td>384532</td>\n      <td>М</td>\n      <td>sex</td>\n    </tr>\n    <tr>\n      <th>66</th>\n      <td>216495</td>\n      <td>М</td>\n      <td>sex</td>\n    </tr>\n    <tr>\n      <th>81</th>\n      <td>515668</td>\n      <td>М</td>\n      <td>sex</td>\n    </tr>\n    <tr>\n      <th>136</th>\n      <td>824452</td>\n      <td>М</td>\n      <td>sex</td>\n    </tr>\n  </tbody>\n</table>\n</div>"
     },
     "execution_count": 35,
     "metadata": {},
     "output_type": "execute_result"
    }
   ],
   "source": [
    "user_features_frames = []\n",
    "for feature in [\"sex\", \"age\", \"income\"]:\n",
    "    feature_frame = users.reindex(columns=[Columns.User, feature])\n",
    "    feature_frame.columns = [\"id\", \"value\"]\n",
    "    feature_frame[\"feature\"] = feature\n",
    "    user_features_frames.append(feature_frame)\n",
    "user_features = pd.concat(user_features_frames)\n",
    "user_features.head()"
   ],
   "metadata": {
    "collapsed": false,
    "ExecuteTime": {
     "end_time": "2023-12-05T16:32:55.796489404Z",
     "start_time": "2023-12-05T16:32:55.684620453Z"
    }
   },
   "id": "7314cd296c89e9a6"
  },
  {
   "cell_type": "code",
   "execution_count": 36,
   "outputs": [],
   "source": [
    "items[\"genre\"] = items[\"genres\"].str.lower().str.replace(\", \", \",\", regex=False).str.split(\",\")\n",
    "genre_feature = items[[\"item_id\", \"genre\"]].explode(\"genre\")\n",
    "genre_feature.columns = [\"id\", \"value\"]\n",
    "genre_feature[\"feature\"] = \"genre\"\n",
    "genre_feature.head()\n",
    "\n",
    "content_feature = items.reindex(columns=[Columns.Item, \"content_type\"])\n",
    "content_feature.columns = [\"id\", \"value\"]\n",
    "content_feature[\"feature\"] = \"content_type\"\n",
    "\n",
    "item_features = pd.concat((genre_feature, content_feature))"
   ],
   "metadata": {
    "collapsed": false,
    "ExecuteTime": {
     "end_time": "2023-12-05T16:32:55.796754987Z",
     "start_time": "2023-12-05T16:32:55.684941711Z"
    }
   },
   "id": "7b5d9e3f7eb2e273"
  },
  {
   "cell_type": "code",
   "execution_count": 37,
   "outputs": [
    {
     "name": "stderr",
     "output_type": "stream",
     "text": [
      "  0%|          | 0/1 [00:00<?, ?it/s]"
     ]
    },
    {
     "name": "stdout",
     "output_type": "stream",
     "text": [
      "Fitting model popular...\n",
      "Fitting model ALS_4...\n",
      "Fitting model LightFM_logistic_4...\n"
     ]
    },
    {
     "name": "stderr",
     "output_type": "stream",
     "text": [
      "  0%|          | 0/1 [00:13<?, ?it/s]\n"
     ]
    },
    {
     "ename": "ValueError",
     "evalue": "Not all estimated parameters are finite, your model may have diverged. Try decreasing the learning rate or normalising feature values and sample weights",
     "output_type": "error",
     "traceback": [
      "\u001B[0;31m---------------------------------------------------------------------------\u001B[0m",
      "\u001B[0;31mValueError\u001B[0m                                Traceback (most recent call last)",
      "File \u001B[0;32m<timed exec>:30\u001B[0m\n",
      "File \u001B[0;32m~/Workspace/RecoServiceTemplate/venv/lib/python3.10/site-packages/rectools/models/base.py:55\u001B[0m, in \u001B[0;36mModelBase.fit\u001B[0;34m(self, dataset, *args, **kwargs)\u001B[0m\n\u001B[1;32m     42\u001B[0m \u001B[38;5;28;01mdef\u001B[39;00m \u001B[38;5;21mfit\u001B[39m(\u001B[38;5;28mself\u001B[39m: T, dataset: Dataset, \u001B[38;5;241m*\u001B[39margs: tp\u001B[38;5;241m.\u001B[39mAny, \u001B[38;5;241m*\u001B[39m\u001B[38;5;241m*\u001B[39mkwargs: tp\u001B[38;5;241m.\u001B[39mAny) \u001B[38;5;241m-\u001B[39m\u001B[38;5;241m>\u001B[39m T:\n\u001B[1;32m     43\u001B[0m \u001B[38;5;250m    \u001B[39m\u001B[38;5;124;03m\"\"\"\u001B[39;00m\n\u001B[1;32m     44\u001B[0m \u001B[38;5;124;03m    Fit model.\u001B[39;00m\n\u001B[1;32m     45\u001B[0m \n\u001B[0;32m   (...)\u001B[0m\n\u001B[1;32m     53\u001B[0m \u001B[38;5;124;03m    self\u001B[39;00m\n\u001B[1;32m     54\u001B[0m \u001B[38;5;124;03m    \"\"\"\u001B[39;00m\n\u001B[0;32m---> 55\u001B[0m     \u001B[38;5;28;43mself\u001B[39;49m\u001B[38;5;241;43m.\u001B[39;49m\u001B[43m_fit\u001B[49m\u001B[43m(\u001B[49m\u001B[43mdataset\u001B[49m\u001B[43m,\u001B[49m\u001B[43m \u001B[49m\u001B[38;5;241;43m*\u001B[39;49m\u001B[43margs\u001B[49m\u001B[43m,\u001B[49m\u001B[43m \u001B[49m\u001B[38;5;241;43m*\u001B[39;49m\u001B[38;5;241;43m*\u001B[39;49m\u001B[43mkwargs\u001B[49m\u001B[43m)\u001B[49m\n\u001B[1;32m     56\u001B[0m     \u001B[38;5;28mself\u001B[39m\u001B[38;5;241m.\u001B[39mis_fitted \u001B[38;5;241m=\u001B[39m \u001B[38;5;28;01mTrue\u001B[39;00m\n\u001B[1;32m     57\u001B[0m     \u001B[38;5;28;01mreturn\u001B[39;00m \u001B[38;5;28mself\u001B[39m\n",
      "File \u001B[0;32m~/Workspace/RecoServiceTemplate/venv/lib/python3.10/site-packages/rectools/models/lightfm.py:74\u001B[0m, in \u001B[0;36mLightFMWrapperModel._fit\u001B[0;34m(self, dataset)\u001B[0m\n\u001B[1;32m     71\u001B[0m user_features \u001B[38;5;241m=\u001B[39m \u001B[38;5;28mself\u001B[39m\u001B[38;5;241m.\u001B[39m_prepare_features(dataset\u001B[38;5;241m.\u001B[39muser_features)\n\u001B[1;32m     72\u001B[0m item_features \u001B[38;5;241m=\u001B[39m \u001B[38;5;28mself\u001B[39m\u001B[38;5;241m.\u001B[39m_prepare_features(dataset\u001B[38;5;241m.\u001B[39mitem_features)\n\u001B[0;32m---> 74\u001B[0m \u001B[38;5;28;43mself\u001B[39;49m\u001B[38;5;241;43m.\u001B[39;49m\u001B[43mmodel\u001B[49m\u001B[38;5;241;43m.\u001B[39;49m\u001B[43mfit\u001B[49m\u001B[43m(\u001B[49m\n\u001B[1;32m     75\u001B[0m \u001B[43m    \u001B[49m\u001B[43mui_coo\u001B[49m\u001B[43m,\u001B[49m\n\u001B[1;32m     76\u001B[0m \u001B[43m    \u001B[49m\u001B[43muser_features\u001B[49m\u001B[38;5;241;43m=\u001B[39;49m\u001B[43muser_features\u001B[49m\u001B[43m,\u001B[49m\n\u001B[1;32m     77\u001B[0m \u001B[43m    \u001B[49m\u001B[43mitem_features\u001B[49m\u001B[38;5;241;43m=\u001B[39;49m\u001B[43mitem_features\u001B[49m\u001B[43m,\u001B[49m\n\u001B[1;32m     78\u001B[0m \u001B[43m    \u001B[49m\u001B[43msample_weight\u001B[49m\u001B[38;5;241;43m=\u001B[39;49m\u001B[43mui_coo\u001B[49m\u001B[43m,\u001B[49m\n\u001B[1;32m     79\u001B[0m \u001B[43m    \u001B[49m\u001B[43mepochs\u001B[49m\u001B[38;5;241;43m=\u001B[39;49m\u001B[38;5;28;43mself\u001B[39;49m\u001B[38;5;241;43m.\u001B[39;49m\u001B[43mn_epochs\u001B[49m\u001B[43m,\u001B[49m\n\u001B[1;32m     80\u001B[0m \u001B[43m    \u001B[49m\u001B[43mnum_threads\u001B[49m\u001B[38;5;241;43m=\u001B[39;49m\u001B[38;5;28;43mself\u001B[39;49m\u001B[38;5;241;43m.\u001B[39;49m\u001B[43mn_threads\u001B[49m\u001B[43m,\u001B[49m\n\u001B[1;32m     81\u001B[0m \u001B[43m    \u001B[49m\u001B[43mverbose\u001B[49m\u001B[38;5;241;43m=\u001B[39;49m\u001B[38;5;28;43mself\u001B[39;49m\u001B[38;5;241;43m.\u001B[39;49m\u001B[43mverbose\u001B[49m\u001B[43m \u001B[49m\u001B[38;5;241;43m>\u001B[39;49m\u001B[43m \u001B[49m\u001B[38;5;241;43m0\u001B[39;49m\u001B[43m,\u001B[49m\n\u001B[1;32m     82\u001B[0m \u001B[43m\u001B[49m\u001B[43m)\u001B[49m\n",
      "File \u001B[0;32m~/Workspace/RecoServiceTemplate/venv/lib/python3.10/site-packages/lightfm/lightfm.py:550\u001B[0m, in \u001B[0;36mLightFM.fit\u001B[0;34m(self, interactions, user_features, item_features, sample_weight, epochs, num_threads, verbose)\u001B[0m\n\u001B[1;32m    547\u001B[0m \u001B[38;5;66;03m# Discard old results, if any\u001B[39;00m\n\u001B[1;32m    548\u001B[0m \u001B[38;5;28mself\u001B[39m\u001B[38;5;241m.\u001B[39m_reset_state()\n\u001B[0;32m--> 550\u001B[0m \u001B[38;5;28;01mreturn\u001B[39;00m \u001B[38;5;28;43mself\u001B[39;49m\u001B[38;5;241;43m.\u001B[39;49m\u001B[43mfit_partial\u001B[49m\u001B[43m(\u001B[49m\n\u001B[1;32m    551\u001B[0m \u001B[43m    \u001B[49m\u001B[43minteractions\u001B[49m\u001B[43m,\u001B[49m\n\u001B[1;32m    552\u001B[0m \u001B[43m    \u001B[49m\u001B[43muser_features\u001B[49m\u001B[38;5;241;43m=\u001B[39;49m\u001B[43muser_features\u001B[49m\u001B[43m,\u001B[49m\n\u001B[1;32m    553\u001B[0m \u001B[43m    \u001B[49m\u001B[43mitem_features\u001B[49m\u001B[38;5;241;43m=\u001B[39;49m\u001B[43mitem_features\u001B[49m\u001B[43m,\u001B[49m\n\u001B[1;32m    554\u001B[0m \u001B[43m    \u001B[49m\u001B[43msample_weight\u001B[49m\u001B[38;5;241;43m=\u001B[39;49m\u001B[43msample_weight\u001B[49m\u001B[43m,\u001B[49m\n\u001B[1;32m    555\u001B[0m \u001B[43m    \u001B[49m\u001B[43mepochs\u001B[49m\u001B[38;5;241;43m=\u001B[39;49m\u001B[43mepochs\u001B[49m\u001B[43m,\u001B[49m\n\u001B[1;32m    556\u001B[0m \u001B[43m    \u001B[49m\u001B[43mnum_threads\u001B[49m\u001B[38;5;241;43m=\u001B[39;49m\u001B[43mnum_threads\u001B[49m\u001B[43m,\u001B[49m\n\u001B[1;32m    557\u001B[0m \u001B[43m    \u001B[49m\u001B[43mverbose\u001B[49m\u001B[38;5;241;43m=\u001B[39;49m\u001B[43mverbose\u001B[49m\u001B[43m,\u001B[49m\n\u001B[1;32m    558\u001B[0m \u001B[43m\u001B[49m\u001B[43m)\u001B[49m\n",
      "File \u001B[0;32m~/Workspace/RecoServiceTemplate/venv/lib/python3.10/site-packages/lightfm/lightfm.py:664\u001B[0m, in \u001B[0;36mLightFM.fit_partial\u001B[0;34m(self, interactions, user_features, item_features, sample_weight, epochs, num_threads, verbose)\u001B[0m\n\u001B[1;32m    654\u001B[0m \u001B[38;5;28;01mfor\u001B[39;00m _ \u001B[38;5;129;01min\u001B[39;00m \u001B[38;5;28mself\u001B[39m\u001B[38;5;241m.\u001B[39m_progress(epochs, verbose\u001B[38;5;241m=\u001B[39mverbose):\n\u001B[1;32m    655\u001B[0m     \u001B[38;5;28mself\u001B[39m\u001B[38;5;241m.\u001B[39m_run_epoch(\n\u001B[1;32m    656\u001B[0m         item_features,\n\u001B[1;32m    657\u001B[0m         user_features,\n\u001B[0;32m   (...)\u001B[0m\n\u001B[1;32m    661\u001B[0m         \u001B[38;5;28mself\u001B[39m\u001B[38;5;241m.\u001B[39mloss,\n\u001B[1;32m    662\u001B[0m     )\n\u001B[0;32m--> 664\u001B[0m     \u001B[38;5;28;43mself\u001B[39;49m\u001B[38;5;241;43m.\u001B[39;49m\u001B[43m_check_finite\u001B[49m\u001B[43m(\u001B[49m\u001B[43m)\u001B[49m\n\u001B[1;32m    666\u001B[0m \u001B[38;5;28;01mreturn\u001B[39;00m \u001B[38;5;28mself\u001B[39m\n",
      "File \u001B[0;32m~/Workspace/RecoServiceTemplate/venv/lib/python3.10/site-packages/lightfm/lightfm.py:459\u001B[0m, in \u001B[0;36mLightFM._check_finite\u001B[0;34m(self)\u001B[0m\n\u001B[1;32m    449\u001B[0m \u001B[38;5;28;01mfor\u001B[39;00m parameter \u001B[38;5;129;01min\u001B[39;00m (\n\u001B[1;32m    450\u001B[0m     \u001B[38;5;28mself\u001B[39m\u001B[38;5;241m.\u001B[39mitem_embeddings,\n\u001B[1;32m    451\u001B[0m     \u001B[38;5;28mself\u001B[39m\u001B[38;5;241m.\u001B[39mitem_biases,\n\u001B[0;32m   (...)\u001B[0m\n\u001B[1;32m    456\u001B[0m     \u001B[38;5;66;03m# will also be non-finite, and we avoid creating a\u001B[39;00m\n\u001B[1;32m    457\u001B[0m     \u001B[38;5;66;03m# large boolean temporary.\u001B[39;00m\n\u001B[1;32m    458\u001B[0m     \u001B[38;5;28;01mif\u001B[39;00m \u001B[38;5;129;01mnot\u001B[39;00m np\u001B[38;5;241m.\u001B[39misfinite(np\u001B[38;5;241m.\u001B[39msum(parameter)):\n\u001B[0;32m--> 459\u001B[0m         \u001B[38;5;28;01mraise\u001B[39;00m \u001B[38;5;167;01mValueError\u001B[39;00m(\n\u001B[1;32m    460\u001B[0m             \u001B[38;5;124m\"\u001B[39m\u001B[38;5;124mNot all estimated parameters are finite,\u001B[39m\u001B[38;5;124m\"\u001B[39m\n\u001B[1;32m    461\u001B[0m             \u001B[38;5;124m\"\u001B[39m\u001B[38;5;124m your model may have diverged. Try decreasing\u001B[39m\u001B[38;5;124m\"\u001B[39m\n\u001B[1;32m    462\u001B[0m             \u001B[38;5;124m\"\u001B[39m\u001B[38;5;124m the learning rate or normalising feature values\u001B[39m\u001B[38;5;124m\"\u001B[39m\n\u001B[1;32m    463\u001B[0m             \u001B[38;5;124m\"\u001B[39m\u001B[38;5;124m and sample weights\u001B[39m\u001B[38;5;124m\"\u001B[39m\n\u001B[1;32m    464\u001B[0m         )\n",
      "\u001B[0;31mValueError\u001B[0m: Not all estimated parameters are finite, your model may have diverged. Try decreasing the learning rate or normalising feature values and sample weights"
     ]
    }
   ],
   "source": [
    "%%time\n",
    "    \n",
    "cv.get_test_fold_borders(interactions)\n",
    "\n",
    "results = []\n",
    "\n",
    "fold_iterator = cv.split(interactions, collect_fold_stats=True)\n",
    "\n",
    "for train_ids, test_ids, fold_info in tqdm((fold_iterator), total=cv.n_splits):\n",
    "    df_train = interactions.df.iloc[train_ids]\n",
    "    df_test = interactions.df.iloc[test_ids][Columns.UserItem]\n",
    "    test_users = np.unique(df_test[Columns.User])\n",
    "    \n",
    "    catalog = df_train[Columns.Item].unique()\n",
    "    \n",
    "    user_features_train = user_features[user_features[\"id\"].isin(df_train[Columns.User])]\n",
    "    item_features_train = item_features[item_features[\"id\"].isin(df_train[Columns.Item])]    \n",
    "\n",
    "    dataset = Dataset.construct(\n",
    "        interactions_df=df_train,\n",
    "        # user_features_df=user_features_train,\n",
    "        # cat_user_features=[\"sex\", \"age\", \"income\"],\n",
    "        # item_features_df=item_features_train,\n",
    "        # cat_item_features=[\"genre\", \"content_type\"],\n",
    "    )\n",
    "\n",
    "\n",
    "    for model_name, model in models.items():\n",
    "        print(f\"Fitting model {model_name}...\")\n",
    "        model_quality = {'model': model_name}\n",
    "    \n",
    "        model.fit(dataset)\n",
    "        recos = model.recommend(\n",
    "            users=test_users,\n",
    "            dataset=dataset,\n",
    "            k=K_RECOS,\n",
    "            filter_viewed=True,\n",
    "        )\n",
    "        metric_values = calc_metrics(\n",
    "                metrics,\n",
    "                reco=recos,\n",
    "                interactions=df_test,\n",
    "                prev_interactions=interactions.df,\n",
    "                catalog=catalog,\n",
    "            )\n",
    "        model_quality.update(metric_values)\n",
    "        results.append(model_quality)\n",
    "results"
   ],
   "metadata": {
    "collapsed": false,
    "ExecuteTime": {
     "end_time": "2023-12-05T16:33:08.980502996Z",
     "start_time": "2023-12-05T16:32:55.685002405Z"
    }
   },
   "id": "f6b2779cbda61cf6"
  },
  {
   "cell_type": "code",
   "execution_count": 38,
   "outputs": [],
   "source": [
    "df_quality = pd.DataFrame(results).T\n",
    "df_quality.columns = df_quality.iloc[0]\n",
    "df_quality.drop('model', inplace=True)"
   ],
   "metadata": {
    "collapsed": false,
    "ExecuteTime": {
     "end_time": "2023-12-05T16:33:08.981200039Z",
     "start_time": "2023-12-05T16:33:08.958107966Z"
    }
   },
   "id": "7d69b5444342e31"
  },
  {
   "cell_type": "code",
   "execution_count": 39,
   "outputs": [
    {
     "data": {
      "text/plain": "model          popular     ALS_4\nprecision@10  0.039198  0.029481\naccuracy@10   0.075828  0.057439\nprecision@5   0.060346  0.031825\naccuracy@5    0.060579  0.030115\nprecision@1   0.103248  0.014853\naccuracy@1    0.021566  0.002445\nndcg@10       0.051512   0.02767\nndcg@5        0.069512  0.027854\nndcg@1        0.103248  0.014853\nmrr@10        0.159545  0.061522\nmrr@5         0.153651  0.051204\nmrr@1         0.103248  0.014853\nmap@10         0.04097  0.015967\nmap@5          0.03808  0.011237\nmap@1         0.021566  0.002445",
      "text/html": "<div>\n<style scoped>\n    .dataframe tbody tr th:only-of-type {\n        vertical-align: middle;\n    }\n\n    .dataframe tbody tr th {\n        vertical-align: top;\n    }\n\n    .dataframe thead th {\n        text-align: right;\n    }\n</style>\n<table border=\"1\" class=\"dataframe\">\n  <thead>\n    <tr style=\"text-align: right;\">\n      <th>model</th>\n      <th>popular</th>\n      <th>ALS_4</th>\n    </tr>\n  </thead>\n  <tbody>\n    <tr>\n      <th>precision@10</th>\n      <td>0.039198</td>\n      <td>0.029481</td>\n    </tr>\n    <tr>\n      <th>accuracy@10</th>\n      <td>0.075828</td>\n      <td>0.057439</td>\n    </tr>\n    <tr>\n      <th>precision@5</th>\n      <td>0.060346</td>\n      <td>0.031825</td>\n    </tr>\n    <tr>\n      <th>accuracy@5</th>\n      <td>0.060579</td>\n      <td>0.030115</td>\n    </tr>\n    <tr>\n      <th>precision@1</th>\n      <td>0.103248</td>\n      <td>0.014853</td>\n    </tr>\n    <tr>\n      <th>accuracy@1</th>\n      <td>0.021566</td>\n      <td>0.002445</td>\n    </tr>\n    <tr>\n      <th>ndcg@10</th>\n      <td>0.051512</td>\n      <td>0.02767</td>\n    </tr>\n    <tr>\n      <th>ndcg@5</th>\n      <td>0.069512</td>\n      <td>0.027854</td>\n    </tr>\n    <tr>\n      <th>ndcg@1</th>\n      <td>0.103248</td>\n      <td>0.014853</td>\n    </tr>\n    <tr>\n      <th>mrr@10</th>\n      <td>0.159545</td>\n      <td>0.061522</td>\n    </tr>\n    <tr>\n      <th>mrr@5</th>\n      <td>0.153651</td>\n      <td>0.051204</td>\n    </tr>\n    <tr>\n      <th>mrr@1</th>\n      <td>0.103248</td>\n      <td>0.014853</td>\n    </tr>\n    <tr>\n      <th>map@10</th>\n      <td>0.04097</td>\n      <td>0.015967</td>\n    </tr>\n    <tr>\n      <th>map@5</th>\n      <td>0.03808</td>\n      <td>0.011237</td>\n    </tr>\n    <tr>\n      <th>map@1</th>\n      <td>0.021566</td>\n      <td>0.002445</td>\n    </tr>\n  </tbody>\n</table>\n</div>"
     },
     "execution_count": 39,
     "metadata": {},
     "output_type": "execute_result"
    }
   ],
   "source": [
    "df_quality.style.highlight_max(color='lightgreen', axis=1).data"
   ],
   "metadata": {
    "collapsed": false,
    "ExecuteTime": {
     "end_time": "2023-12-05T16:33:08.982647574Z",
     "start_time": "2023-12-05T16:33:08.959903307Z"
    }
   },
   "id": "7d59f9c39b06aaaa"
  },
  {
   "cell_type": "code",
   "execution_count": 40,
   "outputs": [
    {
     "data": {
      "text/plain": "             id         value feature\n24       269408             Ж     sex\n27       384532             М     sex\n66       216495             М     sex\n81       515668             М     sex\n136      824452             М     sex\n...         ...           ...     ...\n840084  1029836  income_40_60  income\n840098   605991  income_20_40  income\n840121   476507  income_40_60  income\n840137   486585  income_20_40  income\n840151   534011  income_20_40  income\n\n[124332 rows x 3 columns]",
      "text/html": "<div>\n<style scoped>\n    .dataframe tbody tr th:only-of-type {\n        vertical-align: middle;\n    }\n\n    .dataframe tbody tr th {\n        vertical-align: top;\n    }\n\n    .dataframe thead th {\n        text-align: right;\n    }\n</style>\n<table border=\"1\" class=\"dataframe\">\n  <thead>\n    <tr style=\"text-align: right;\">\n      <th></th>\n      <th>id</th>\n      <th>value</th>\n      <th>feature</th>\n    </tr>\n  </thead>\n  <tbody>\n    <tr>\n      <th>24</th>\n      <td>269408</td>\n      <td>Ж</td>\n      <td>sex</td>\n    </tr>\n    <tr>\n      <th>27</th>\n      <td>384532</td>\n      <td>М</td>\n      <td>sex</td>\n    </tr>\n    <tr>\n      <th>66</th>\n      <td>216495</td>\n      <td>М</td>\n      <td>sex</td>\n    </tr>\n    <tr>\n      <th>81</th>\n      <td>515668</td>\n      <td>М</td>\n      <td>sex</td>\n    </tr>\n    <tr>\n      <th>136</th>\n      <td>824452</td>\n      <td>М</td>\n      <td>sex</td>\n    </tr>\n    <tr>\n      <th>...</th>\n      <td>...</td>\n      <td>...</td>\n      <td>...</td>\n    </tr>\n    <tr>\n      <th>840084</th>\n      <td>1029836</td>\n      <td>income_40_60</td>\n      <td>income</td>\n    </tr>\n    <tr>\n      <th>840098</th>\n      <td>605991</td>\n      <td>income_20_40</td>\n      <td>income</td>\n    </tr>\n    <tr>\n      <th>840121</th>\n      <td>476507</td>\n      <td>income_40_60</td>\n      <td>income</td>\n    </tr>\n    <tr>\n      <th>840137</th>\n      <td>486585</td>\n      <td>income_20_40</td>\n      <td>income</td>\n    </tr>\n    <tr>\n      <th>840151</th>\n      <td>534011</td>\n      <td>income_20_40</td>\n      <td>income</td>\n    </tr>\n  </tbody>\n</table>\n<p>124332 rows × 3 columns</p>\n</div>"
     },
     "execution_count": 40,
     "metadata": {},
     "output_type": "execute_result"
    }
   ],
   "source": [
    "user_features"
   ],
   "metadata": {
    "collapsed": false,
    "ExecuteTime": {
     "end_time": "2023-12-05T16:33:09.064367070Z",
     "start_time": "2023-12-05T16:33:08.973118275Z"
    }
   },
   "id": "fdd27f2e1fd02a59"
  },
  {
   "cell_type": "code",
   "execution_count": 41,
   "outputs": [
    {
     "data": {
      "text/plain": "          id       value       feature\n0      10711       драмы         genre\n0      10711  зарубежные         genre\n0      10711   детективы         genre\n0      10711   мелодрамы         genre\n1       2508  зарубежные         genre\n...      ...         ...           ...\n15958   6443      series  content_type\n15959   2367      series  content_type\n15960  10632      series  content_type\n15961   4538      series  content_type\n15962   3206      series  content_type\n\n[49108 rows x 3 columns]",
      "text/html": "<div>\n<style scoped>\n    .dataframe tbody tr th:only-of-type {\n        vertical-align: middle;\n    }\n\n    .dataframe tbody tr th {\n        vertical-align: top;\n    }\n\n    .dataframe thead th {\n        text-align: right;\n    }\n</style>\n<table border=\"1\" class=\"dataframe\">\n  <thead>\n    <tr style=\"text-align: right;\">\n      <th></th>\n      <th>id</th>\n      <th>value</th>\n      <th>feature</th>\n    </tr>\n  </thead>\n  <tbody>\n    <tr>\n      <th>0</th>\n      <td>10711</td>\n      <td>драмы</td>\n      <td>genre</td>\n    </tr>\n    <tr>\n      <th>0</th>\n      <td>10711</td>\n      <td>зарубежные</td>\n      <td>genre</td>\n    </tr>\n    <tr>\n      <th>0</th>\n      <td>10711</td>\n      <td>детективы</td>\n      <td>genre</td>\n    </tr>\n    <tr>\n      <th>0</th>\n      <td>10711</td>\n      <td>мелодрамы</td>\n      <td>genre</td>\n    </tr>\n    <tr>\n      <th>1</th>\n      <td>2508</td>\n      <td>зарубежные</td>\n      <td>genre</td>\n    </tr>\n    <tr>\n      <th>...</th>\n      <td>...</td>\n      <td>...</td>\n      <td>...</td>\n    </tr>\n    <tr>\n      <th>15958</th>\n      <td>6443</td>\n      <td>series</td>\n      <td>content_type</td>\n    </tr>\n    <tr>\n      <th>15959</th>\n      <td>2367</td>\n      <td>series</td>\n      <td>content_type</td>\n    </tr>\n    <tr>\n      <th>15960</th>\n      <td>10632</td>\n      <td>series</td>\n      <td>content_type</td>\n    </tr>\n    <tr>\n      <th>15961</th>\n      <td>4538</td>\n      <td>series</td>\n      <td>content_type</td>\n    </tr>\n    <tr>\n      <th>15962</th>\n      <td>3206</td>\n      <td>series</td>\n      <td>content_type</td>\n    </tr>\n  </tbody>\n</table>\n<p>49108 rows × 3 columns</p>\n</div>"
     },
     "execution_count": 41,
     "metadata": {},
     "output_type": "execute_result"
    }
   ],
   "source": [
    "item_features"
   ],
   "metadata": {
    "collapsed": false,
    "ExecuteTime": {
     "end_time": "2023-12-05T16:33:09.064860705Z",
     "start_time": "2023-12-05T16:33:09.024633937Z"
    }
   },
   "id": "80f8127792c1a051"
  },
  {
   "cell_type": "code",
   "execution_count": 42,
   "outputs": [
    {
     "data": {
      "text/plain": "         user_id  item_id   datetime  weight  watched_pct\n0         176549     9506 2021-05-11  4250.0         72.0\n1         699317     1659 2021-05-29  8317.0        100.0\n14          5324     8437 2021-04-18  6598.0         92.0\n18        927973     9617 2021-06-19  8422.0        100.0\n19        215229     7793 2021-08-01   873.0         14.0\n...          ...      ...        ...     ...          ...\n5476213   706423     3384 2021-03-13  5937.0        100.0\n5476223   489587     6945 2021-05-18   229.0          4.0\n5476226   435089    13475 2021-07-06  4624.0         85.0\n5476239   610017     7107 2021-05-10  1133.0         75.0\n5476249   384202    16197 2021-04-19  6203.0        100.0\n\n[1409747 rows x 5 columns]",
      "text/html": "<div>\n<style scoped>\n    .dataframe tbody tr th:only-of-type {\n        vertical-align: middle;\n    }\n\n    .dataframe tbody tr th {\n        vertical-align: top;\n    }\n\n    .dataframe thead th {\n        text-align: right;\n    }\n</style>\n<table border=\"1\" class=\"dataframe\">\n  <thead>\n    <tr style=\"text-align: right;\">\n      <th></th>\n      <th>user_id</th>\n      <th>item_id</th>\n      <th>datetime</th>\n      <th>weight</th>\n      <th>watched_pct</th>\n    </tr>\n  </thead>\n  <tbody>\n    <tr>\n      <th>0</th>\n      <td>176549</td>\n      <td>9506</td>\n      <td>2021-05-11</td>\n      <td>4250.0</td>\n      <td>72.0</td>\n    </tr>\n    <tr>\n      <th>1</th>\n      <td>699317</td>\n      <td>1659</td>\n      <td>2021-05-29</td>\n      <td>8317.0</td>\n      <td>100.0</td>\n    </tr>\n    <tr>\n      <th>14</th>\n      <td>5324</td>\n      <td>8437</td>\n      <td>2021-04-18</td>\n      <td>6598.0</td>\n      <td>92.0</td>\n    </tr>\n    <tr>\n      <th>18</th>\n      <td>927973</td>\n      <td>9617</td>\n      <td>2021-06-19</td>\n      <td>8422.0</td>\n      <td>100.0</td>\n    </tr>\n    <tr>\n      <th>19</th>\n      <td>215229</td>\n      <td>7793</td>\n      <td>2021-08-01</td>\n      <td>873.0</td>\n      <td>14.0</td>\n    </tr>\n    <tr>\n      <th>...</th>\n      <td>...</td>\n      <td>...</td>\n      <td>...</td>\n      <td>...</td>\n      <td>...</td>\n    </tr>\n    <tr>\n      <th>5476213</th>\n      <td>706423</td>\n      <td>3384</td>\n      <td>2021-03-13</td>\n      <td>5937.0</td>\n      <td>100.0</td>\n    </tr>\n    <tr>\n      <th>5476223</th>\n      <td>489587</td>\n      <td>6945</td>\n      <td>2021-05-18</td>\n      <td>229.0</td>\n      <td>4.0</td>\n    </tr>\n    <tr>\n      <th>5476226</th>\n      <td>435089</td>\n      <td>13475</td>\n      <td>2021-07-06</td>\n      <td>4624.0</td>\n      <td>85.0</td>\n    </tr>\n    <tr>\n      <th>5476239</th>\n      <td>610017</td>\n      <td>7107</td>\n      <td>2021-05-10</td>\n      <td>1133.0</td>\n      <td>75.0</td>\n    </tr>\n    <tr>\n      <th>5476249</th>\n      <td>384202</td>\n      <td>16197</td>\n      <td>2021-04-19</td>\n      <td>6203.0</td>\n      <td>100.0</td>\n    </tr>\n  </tbody>\n</table>\n<p>1409747 rows × 5 columns</p>\n</div>"
     },
     "execution_count": 42,
     "metadata": {},
     "output_type": "execute_result"
    }
   ],
   "source": [
    "df_train"
   ],
   "metadata": {
    "collapsed": false,
    "ExecuteTime": {
     "end_time": "2023-12-05T16:33:09.065192477Z",
     "start_time": "2023-12-05T16:33:09.024951751Z"
    }
   },
   "id": "b9b0451e86d61430"
  },
  {
   "cell_type": "code",
   "execution_count": 42,
   "outputs": [],
   "source": [],
   "metadata": {
    "collapsed": false,
    "ExecuteTime": {
     "end_time": "2023-12-05T16:33:09.065299767Z",
     "start_time": "2023-12-05T16:33:09.025190492Z"
    }
   },
   "id": "b347165382223d3c"
  }
 ],
 "metadata": {
  "kernelspec": {
   "display_name": "Python 3",
   "language": "python",
   "name": "python3"
  },
  "language_info": {
   "codemirror_mode": {
    "name": "ipython",
    "version": 2
   },
   "file_extension": ".py",
   "mimetype": "text/x-python",
   "name": "python",
   "nbconvert_exporter": "python",
   "pygments_lexer": "ipython2",
   "version": "2.7.6"
  }
 },
 "nbformat": 4,
 "nbformat_minor": 5
}
